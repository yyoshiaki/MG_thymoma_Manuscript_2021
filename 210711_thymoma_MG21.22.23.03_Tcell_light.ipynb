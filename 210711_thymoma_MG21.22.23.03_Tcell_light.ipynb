{
 "cells": [
  {
   "cell_type": "code",
   "execution_count": 1,
   "id": "d06d8b82",
   "metadata": {},
   "outputs": [],
   "source": [
    "import numpy as np\n",
    "import pandas as pd\n",
    "# import scanpy.api as sc\n",
    "import scanpy as sc\n",
    "import matplotlib.pyplot as plt\n",
    "import seaborn as sns\n",
    "%matplotlib inline\n",
    "\n",
    "import matplotlib as mpl\n",
    "mpl.rcParams['figure.facecolor'] = (1,1,1,1)\n",
    "mpl.rcParams['pdf.fonttype'] = 42\n",
    "mpl.rcParams['ps.fonttype'] = 42"
   ]
  },
  {
   "cell_type": "code",
   "execution_count": 2,
   "id": "a5cb5e50",
   "metadata": {},
   "outputs": [
    {
     "name": "stderr",
     "output_type": "stream",
     "text": [
      "WARNING: If you miss a compact list, please try `print_header`!\n"
     ]
    },
    {
     "name": "stdout",
     "output_type": "stream",
     "text": [
      "-----\n",
      "anndata     0.7.6\n",
      "scanpy      1.7.2\n",
      "sinfo       0.3.1\n",
      "-----\n",
      "PIL                 8.1.2\n",
      "anndata             0.7.6\n",
      "backcall            0.2.0\n",
      "cffi                1.14.5\n",
      "colorama            0.4.4\n",
      "cycler              0.10.0\n",
      "cython_runtime      NA\n",
      "dateutil            2.8.1\n",
      "decorator           4.4.2\n",
      "get_version         2.1\n",
      "google              NA\n",
      "h5py                2.10.0\n",
      "igraph              0.9.1\n",
      "ipykernel           5.3.4\n",
      "ipython_genutils    0.2.0\n",
      "ipywidgets          7.6.3\n",
      "jedi                0.17.2\n",
      "joblib              1.0.1\n",
      "kiwisolver          1.3.1\n",
      "legacy_api_wrap     1.2\n",
      "leidenalg           0.8.4\n",
      "llvmlite            0.34.0\n",
      "matplotlib          3.4.1\n",
      "mpl_toolkits        NA\n",
      "natsort             7.1.1\n",
      "numba               0.51.0\n",
      "numexpr             2.7.3\n",
      "numpy               1.20.2\n",
      "packaging           20.9\n",
      "pandas              1.2.4\n",
      "parso               0.7.0\n",
      "pexpect             4.8.0\n",
      "pickleshare         0.7.5\n",
      "pkg_resources       NA\n",
      "prompt_toolkit      3.0.8\n",
      "psutil              5.8.0\n",
      "ptyprocess          0.6.0\n",
      "pygments            2.7.1\n",
      "pyparsing           2.4.7\n",
      "pytoml              NA\n",
      "pytz                2021.1\n",
      "scanpy              1.7.2\n",
      "scipy               1.6.3\n",
      "seaborn             0.11.1\n",
      "setuptools_scm      NA\n",
      "sinfo               0.3.1\n",
      "six                 1.15.0\n",
      "sklearn             0.24.2\n",
      "statsmodels         0.12.2\n",
      "storemagic          NA\n",
      "tables              3.6.1\n",
      "texttable           1.6.3\n",
      "tornado             6.0.4\n",
      "traitlets           5.0.5\n",
      "typing_extensions   NA\n",
      "wcwidth             0.2.5\n",
      "yaml                5.4.1\n",
      "zipp                NA\n",
      "zmq                 19.0.2\n",
      "zope                NA\n",
      "-----\n",
      "IPython             7.18.1\n",
      "jupyter_client      6.1.7\n",
      "jupyter_core        4.6.3\n",
      "notebook            6.1.6\n",
      "-----\n",
      "Python 3.7.10 | packaged by conda-forge | (default, Feb 19 2021, 16:07:37) [GCC 9.3.0]\n",
      "Linux-5.4.0-74-generic-x86_64-with-debian-bullseye-sid\n",
      "16 logical CPU cores\n",
      "-----\n",
      "Session information updated at 2021-07-11 21:30\n",
      "\n"
     ]
    }
   ],
   "source": [
    "sc.settings.verbosity = 3  # verbosity: errors (0), warnings (1), info (2), hints (3)\n",
    "sc.settings.set_figure_params(dpi=80, color_map='viridis', \n",
    "                              transparent=False, frameon=False, fontsize=20)  # low dpi (dots per inch) yields small inline figures\n",
    "\n",
    "import matplotlib as mpl\n",
    "# 2 lines below solved the facecolor problem.\n",
    "# mpl.rcParams['figure.facecolor'] = 'white'\n",
    "mpl.rcParams['figure.facecolor'] = (1,1,1,1)\n",
    "sc.settings.autosave = True\n",
    "sc.logging.print_versions()\n",
    "\n",
    "version = '210711_merged_thymoma_MG21.22.23.03_Tcell'\n",
    "\n",
    "# file_mat = 'F1314_200323_222536_summary/10425963-2_3DE_genematrix.csv'\n",
    "\n",
    "\n",
    "results_file_Tcell = './scanpy/{}/merge_Tcell.h5ad'.format(version)\n",
    "results_file_CD4Tcell = './scanpy/{}/merge_CD4Tcell.h5ad'.format(version)\n",
    "results_file_Treg = './scanpy/{}/merge_Treg.h5ad'.format(version)\n",
    "results_file_Tcell_minor_cluster = './scanpy/{}/merge_Tcell_minor_cluster.h5ad'.format(version)\n",
    "results_file_cg_Tcell_minor_cluster = './scanpy/{}/merge_cg_Tcell_minor_cluster.h5ad'.format(version)\n",
    "\n",
    "results_file_master = './scanpy/210711_merged_thymoma_MG21.22.23.03/merge.h5ad'\n",
    "results_raw_file_master = './scanpy/210711_merged_thymoma_MG21.22.23.03/merge.raw.h5ad'\n",
    "\n",
    "# for cellphonedb\n",
    "raw_matrix = './scanpy/{}/merge.raw.tsv'.format(version)\n",
    "\n",
    "sc.settings.figdir = './scanpy/{}/graph'.format(version)\n",
    "sc.settings.cachedir = './scanpy/{}/cache'.format(version)\n",
    "%config InlineBackend.figure_format = 'retina' "
   ]
  },
  {
   "cell_type": "code",
   "execution_count": 3,
   "id": "93a37f03",
   "metadata": {},
   "outputs": [],
   "source": [
    "adata_raw = sc.read(results_raw_file_master)\n",
    "adata = sc.read(results_file_master)"
   ]
  },
  {
   "cell_type": "code",
   "execution_count": 4,
   "id": "916c967a",
   "metadata": {},
   "outputs": [
    {
     "name": "stderr",
     "output_type": "stream",
     "text": [
      "WARNING: saving figure to file scanpy/210711_merged_thymoma_MG21.22.23.03_Tcell/graph/umapmajor_cluster_all.pdf\n"
     ]
    },
    {
     "data": {
      "text/plain": [
       "<Figure size 320x320 with 1 Axes>"
      ]
     },
     "metadata": {
      "image/png": {
       "height": 259,
       "width": 325
      }
     },
     "output_type": "display_data"
    }
   ],
   "source": [
    "sc.pl.umap(adata, color='major_cluster', legend_loc='on data', title='', frameon=False, save='major_cluster_all')"
   ]
  },
  {
   "cell_type": "code",
   "execution_count": 5,
   "id": "38b534d7",
   "metadata": {},
   "outputs": [
    {
     "data": {
      "text/plain": [
       "AnnData object with n_obs × n_vars = 65935 × 1506\n",
       "    obs: 'sample', 'sample_type', 'site', 'fraction', 'n_genes', 'individual', 'n_genes_by_counts', 'total_counts', 'total_counts_mt', 'pct_counts_mt', 'n_counts', 'leiden', 'leiden_R', 'major_cluster'\n",
       "    var: 'mt', 'n_cells_by_counts', 'mean_counts', 'pct_dropout_by_counts', 'total_counts', 'mean', 'std'\n",
       "    uns: 'individual_colors', 'leiden', 'leiden_R_colors', 'leiden_colors', 'major_cluster_colors', 'neighbors', 'pca', 'rank_genes_groups', 'sample_colors', 'site_colors', 'umap'\n",
       "    obsm: 'X_pca', 'X_umap'\n",
       "    varm: 'PCs'\n",
       "    obsp: 'connectivities', 'distances'"
      ]
     },
     "execution_count": 5,
     "metadata": {},
     "output_type": "execute_result"
    }
   ],
   "source": [
    "adata"
   ]
  },
  {
   "cell_type": "code",
   "execution_count": 6,
   "id": "f22e14cc",
   "metadata": {},
   "outputs": [],
   "source": [
    "adata_cp = adata_raw[adata[adata.obs['major_cluster'] == 'T cell'].obs.index].copy()\n",
    "\n",
    "# for c in ['score_DEGs', 'score_yellow', 'score_GWAS']:\n",
    "#     adata_cp.obs[c] = adata.obs.loc[adata_cp.obs.index, c]\n",
    "    \n",
    "adata = adata_cp.copy()\n",
    "adata_cp = None"
   ]
  },
  {
   "cell_type": "code",
   "execution_count": 7,
   "id": "07600768",
   "metadata": {},
   "outputs": [
    {
     "name": "stderr",
     "output_type": "stream",
     "text": [
      "normalizing by total count per cell\n",
      "    finished (0:00:09): normalized adata.X and added    'n_counts', counts per cell before normalization (adata.obs)\n"
     ]
    }
   ],
   "source": [
    "sc.pp.normalize_per_cell(adata, counts_per_cell_after=1e4)\n",
    "adata.raw = sc.pp.log1p(adata, copy=True)"
   ]
  },
  {
   "cell_type": "raw",
   "id": "b6a23d78",
   "metadata": {},
   "source": [
    "adata.var['mt'] = adata.var_names.str.startswith('MT-')  # annotate the group of mitochondrial genes as 'mt'\n",
    "sc.pp.calculate_qc_metrics(adata, qc_vars=['mt'], percent_top=None, log1p=False, inplace=True)"
   ]
  },
  {
   "cell_type": "code",
   "execution_count": 8,
   "id": "c01fd051",
   "metadata": {},
   "outputs": [
    {
     "data": {
      "text/plain": [
       "Text(0.5, 1.0, 'Run')"
      ]
     },
     "execution_count": 8,
     "metadata": {},
     "output_type": "execute_result"
    },
    {
     "data": {
      "text/plain": [
       "<Figure size 640x240 with 1 Axes>"
      ]
     },
     "metadata": {
      "image/png": {
       "height": 334,
       "width": 593
      }
     },
     "output_type": "display_data"
    }
   ],
   "source": [
    "plt.figure(figsize=(8,3))\n",
    "pd.Series(adata.obs['sample']).value_counts().plot(kind='bar')\n",
    "plt.grid(None)\n",
    "plt.title('Run')\n",
    "# plt.savefig(str(sc.settings.figdir) + '/run.pdf', bbox_inches='tight')"
   ]
  },
  {
   "cell_type": "code",
   "execution_count": 9,
   "id": "738e0703",
   "metadata": {},
   "outputs": [],
   "source": [
    "# adata = adata[adata.obs['sample'].isin(['MG03_TE', 'MG21_TE', 'MG22_TE'])]"
   ]
  },
  {
   "cell_type": "code",
   "execution_count": 10,
   "id": "3c37ee32",
   "metadata": {},
   "outputs": [
    {
     "name": "stderr",
     "output_type": "stream",
     "text": [
      "extracting highly variable genes\n",
      "    finished (0:00:00)\n",
      "WARNING: saving figure to file scanpy/210711_merged_thymoma_MG21.22.23.03_Tcell/graph/filter_genes_dispersion.pdf\n"
     ]
    },
    {
     "data": {
      "text/plain": [
       "<Figure size 640x320 with 2 Axes>"
      ]
     },
     "metadata": {
      "image/png": {
       "height": 435,
       "width": 620
      }
     },
     "output_type": "display_data"
    },
    {
     "name": "stdout",
     "output_type": "stream",
     "text": [
      "[1249, 36601]\n"
     ]
    }
   ],
   "source": [
    "filter_result = sc.pp.filter_genes_dispersion(\n",
    "    adata.X, min_mean=0.0125, max_mean=2.5, min_disp=0.7)\n",
    "sc.pl.filter_genes_dispersion(filter_result)\n",
    "print([sum([i[0] for i in filter_result]),len(filter_result)])"
   ]
  },
  {
   "cell_type": "code",
   "execution_count": 11,
   "id": "d54352b6",
   "metadata": {},
   "outputs": [
    {
     "name": "stderr",
     "output_type": "stream",
     "text": [
      "/home/yyasumizu/anaconda3/envs/scanpy1.7.2/lib/python3.7/site-packages/scanpy/preprocessing/_simple.py:375: UserWarning: Revieved a view of an AnnData. Making a copy.\n",
      "  view_to_actual(adata)\n",
      "... as `zero_center=True`, sparse input is densified and may lead to large memory consumption\n",
      "computing PCA\n",
      "    with n_comps=50\n",
      "    finished (0:00:05)\n",
      "WARNING: saving figure to file scanpy/210711_merged_thymoma_MG21.22.23.03_Tcell/graph/pca_variance_ratio.pdf\n"
     ]
    },
    {
     "data": {
      "text/plain": [
       "<Figure size 320x320 with 1 Axes>"
      ]
     },
     "metadata": {
      "image/png": {
       "height": 341,
       "width": 309
      }
     },
     "output_type": "display_data"
    }
   ],
   "source": [
    "adata = adata[:, filter_result.gene_subset]\n",
    "sc.pp.log1p(adata)\n",
    "sc.pp.scale(adata, max_value=10)\n",
    "sc.tl.pca(adata)\n",
    "adata.obsm['X_pca'] *= -1  # multiply by -1 to match Seurat\n",
    "sc.pl.pca_variance_ratio(adata, log=True)"
   ]
  },
  {
   "cell_type": "code",
   "execution_count": 12,
   "id": "e94e1bc9",
   "metadata": {},
   "outputs": [
    {
     "name": "stderr",
     "output_type": "stream",
     "text": [
      "computing batch balanced neighbors\n",
      "\tfinished: added to `.uns['neighbors']`\n",
      "\t`.obsp['distances']`, distances for each pair of neighbors\n",
      "\t`.obsp['connectivities']`, weighted adjacency matrix (0:00:05)\n",
      "computing UMAP\n",
      "    finished: added\n",
      "    'X_umap', UMAP coordinates (adata.obsm) (0:00:14)\n"
     ]
    }
   ],
   "source": [
    "sc.external.pp.bbknn(adata, batch_key='sample', n_pcs=40)\n",
    "sc.tl.umap(adata, spread=2)\n",
    "# sc.tl.leiden(adata, resolution=10)"
   ]
  },
  {
   "cell_type": "code",
   "execution_count": 13,
   "id": "4cfceb1c",
   "metadata": {},
   "outputs": [
    {
     "name": "stderr",
     "output_type": "stream",
     "text": [
      "WARNING: saving figure to file scanpy/210711_merged_thymoma_MG21.22.23.03_Tcell/graph/umapqc.pdf\n"
     ]
    },
    {
     "data": {
      "text/plain": [
       "<Figure size 772.8x320 with 4 Axes>"
      ]
     },
     "metadata": {
      "image/png": {
       "height": 285,
       "width": 680
      }
     },
     "output_type": "display_data"
    }
   ],
   "source": [
    "sc.pl.umap(adata, color=['n_counts', 'n_genes'], save='qc')"
   ]
  },
  {
   "cell_type": "code",
   "execution_count": 14,
   "id": "8dbd9882",
   "metadata": {},
   "outputs": [
    {
     "name": "stderr",
     "output_type": "stream",
     "text": [
      "running Leiden clustering\n",
      "    finished: found 34 clusters and added\n",
      "    'leiden', the cluster labels (adata.obs, categorical) (0:00:09)\n"
     ]
    }
   ],
   "source": [
    "sc.tl.leiden(adata, resolution=3)"
   ]
  },
  {
   "cell_type": "code",
   "execution_count": 15,
   "id": "347451e6",
   "metadata": {},
   "outputs": [
    {
     "name": "stderr",
     "output_type": "stream",
     "text": [
      "WARNING: saving figure to file scanpy/210711_merged_thymoma_MG21.22.23.03_Tcell/graph/umapleiden.pdf\n"
     ]
    },
    {
     "data": {
      "text/plain": [
       "<Figure size 320x320 with 1 Axes>"
      ]
     },
     "metadata": {
      "image/png": {
       "height": 259,
       "width": 265
      }
     },
     "output_type": "display_data"
    }
   ],
   "source": [
    "sc.pl.umap(adata, color='leiden', legend_loc='on data', title='', frameon=False, save='leiden.pdf')"
   ]
  },
  {
   "cell_type": "code",
   "execution_count": 16,
   "id": "b4458ad3",
   "metadata": {},
   "outputs": [
    {
     "name": "stderr",
     "output_type": "stream",
     "text": [
      "WARNING: saving figure to file scanpy/210711_merged_thymoma_MG21.22.23.03_Tcell/graph/umap.pdf\n"
     ]
    },
    {
     "data": {
      "text/plain": [
       "<Figure size 8019x2400 with 5 Axes>"
      ]
     },
     "metadata": {
      "image/png": {
       "height": 2045,
       "width": 7176
      }
     },
     "output_type": "display_data"
    }
   ],
   "source": [
    "with plt.rc_context({\"figure.figsize\": (8, 8), \"figure.dpi\": (300)}):\n",
    "    sc.pl.umap(adata, color=['CD4', 'CD8A', 'leiden'], s=20)"
   ]
  },
  {
   "cell_type": "code",
   "execution_count": 17,
   "id": "f52553b6",
   "metadata": {},
   "outputs": [
    {
     "name": "stderr",
     "output_type": "stream",
     "text": [
      "running Leiden clustering\n",
      "    finished: found 43 clusters and added\n",
      "    'leiden_R', the cluster labels (adata.obs, categorical) (0:00:00)\n"
     ]
    }
   ],
   "source": [
    "sc.tl.leiden(adata, resolution=1, restrict_to=('leiden', ['8','13']))"
   ]
  },
  {
   "cell_type": "code",
   "execution_count": 18,
   "id": "5b84089c",
   "metadata": {},
   "outputs": [
    {
     "name": "stderr",
     "output_type": "stream",
     "text": [
      "WARNING: saving figure to file scanpy/210711_merged_thymoma_MG21.22.23.03_Tcell/graph/umapleidenR.pdf\n"
     ]
    },
    {
     "data": {
      "text/plain": [
       "<Figure size 320x320 with 1 Axes>"
      ]
     },
     "metadata": {
      "image/png": {
       "height": 259,
       "width": 280
      }
     },
     "output_type": "display_data"
    }
   ],
   "source": [
    "sc.pl.umap(adata, color='leiden_R', legend_loc='on data', title='', frameon=False, save='leidenR.pdf')"
   ]
  },
  {
   "cell_type": "code",
   "execution_count": 19,
   "id": "9a27e1ce",
   "metadata": {},
   "outputs": [
    {
     "name": "stderr",
     "output_type": "stream",
     "text": [
      "running Leiden clustering\n",
      "    finished: found 48 clusters and added\n",
      "    'leiden_R', the cluster labels (adata.obs, categorical) (0:00:00)\n"
     ]
    }
   ],
   "source": [
    "sc.tl.leiden(adata, resolution=0.6, restrict_to=('leiden_R', ['3']))"
   ]
  },
  {
   "cell_type": "code",
   "execution_count": 20,
   "id": "b8167ab2",
   "metadata": {},
   "outputs": [
    {
     "name": "stderr",
     "output_type": "stream",
     "text": [
      "WARNING: saving figure to file scanpy/210711_merged_thymoma_MG21.22.23.03_Tcell/graph/umapleidenR.large.pdf\n"
     ]
    },
    {
     "data": {
      "text/plain": [
       "<Figure size 1600x1600 with 1 Axes>"
      ]
     },
     "metadata": {
      "image/png": {
       "height": 1232,
       "width": 1264
      }
     },
     "output_type": "display_data"
    }
   ],
   "source": [
    "with plt.rc_context({\"figure.figsize\": (20, 20)}):\n",
    "    sc.pl.umap(adata, color='leiden_R', legend_loc='on data', title='', frameon=False, save='leidenR.large.pdf', s=20)"
   ]
  },
  {
   "cell_type": "code",
   "execution_count": 21,
   "id": "62792d8d",
   "metadata": {},
   "outputs": [
    {
     "name": "stderr",
     "output_type": "stream",
     "text": [
      "Trying to set attribute `.uns` of view, copying.\n",
      "WARNING: The title list is shorter than the number of panels. Using 'color' value instead for some plots.\n",
      "WARNING: saving figure to file scanpy/210711_merged_thymoma_MG21.22.23.03_Tcell/graph/umapleidenR.large.pdf\n"
     ]
    },
    {
     "data": {
      "text/plain": [
       "<Figure size 3384x1600 with 2 Axes>"
      ]
     },
     "metadata": {
      "image/png": {
       "height": 1271,
       "width": 2588
      }
     },
     "output_type": "display_data"
    }
   ],
   "source": [
    "with plt.rc_context({\"figure.figsize\": (20, 20)}):\n",
    "    sc.pl.umap(adata[adata.obs['leiden'].isin(['8', '13'])], color=['site', 'leiden_R'], legend_loc='on data', \n",
    "               title='', frameon=False, save='leidenR.large.pdf', s=20)"
   ]
  },
  {
   "cell_type": "code",
   "execution_count": 22,
   "id": "55642a87",
   "metadata": {},
   "outputs": [
    {
     "data": {
      "text/html": [
       "<div>\n",
       "<style scoped>\n",
       "    .dataframe tbody tr th:only-of-type {\n",
       "        vertical-align: middle;\n",
       "    }\n",
       "\n",
       "    .dataframe tbody tr th {\n",
       "        vertical-align: top;\n",
       "    }\n",
       "\n",
       "    .dataframe thead th {\n",
       "        text-align: right;\n",
       "    }\n",
       "</style>\n",
       "<table border=\"1\" class=\"dataframe\">\n",
       "  <thead>\n",
       "    <tr style=\"text-align: right;\">\n",
       "      <th>site</th>\n",
       "      <th>Periphery</th>\n",
       "      <th>Thymus</th>\n",
       "    </tr>\n",
       "    <tr>\n",
       "      <th>leiden_R</th>\n",
       "      <th></th>\n",
       "      <th></th>\n",
       "    </tr>\n",
       "  </thead>\n",
       "  <tbody>\n",
       "    <tr>\n",
       "      <th>0</th>\n",
       "      <td>1834</td>\n",
       "      <td>34</td>\n",
       "    </tr>\n",
       "    <tr>\n",
       "      <th>1</th>\n",
       "      <td>1317</td>\n",
       "      <td>18</td>\n",
       "    </tr>\n",
       "    <tr>\n",
       "      <th>2</th>\n",
       "      <td>1077</td>\n",
       "      <td>28</td>\n",
       "    </tr>\n",
       "    <tr>\n",
       "      <th>3,0</th>\n",
       "      <td>284</td>\n",
       "      <td>15</td>\n",
       "    </tr>\n",
       "    <tr>\n",
       "      <th>3,1</th>\n",
       "      <td>148</td>\n",
       "      <td>115</td>\n",
       "    </tr>\n",
       "    <tr>\n",
       "      <th>3,2</th>\n",
       "      <td>213</td>\n",
       "      <td>19</td>\n",
       "    </tr>\n",
       "    <tr>\n",
       "      <th>3,3</th>\n",
       "      <td>130</td>\n",
       "      <td>70</td>\n",
       "    </tr>\n",
       "    <tr>\n",
       "      <th>3,4</th>\n",
       "      <td>1</td>\n",
       "      <td>89</td>\n",
       "    </tr>\n",
       "    <tr>\n",
       "      <th>3,5</th>\n",
       "      <td>19</td>\n",
       "      <td>0</td>\n",
       "    </tr>\n",
       "    <tr>\n",
       "      <th>4</th>\n",
       "      <td>1036</td>\n",
       "      <td>50</td>\n",
       "    </tr>\n",
       "    <tr>\n",
       "      <th>5</th>\n",
       "      <td>6</td>\n",
       "      <td>1056</td>\n",
       "    </tr>\n",
       "    <tr>\n",
       "      <th>6</th>\n",
       "      <td>1025</td>\n",
       "      <td>29</td>\n",
       "    </tr>\n",
       "    <tr>\n",
       "      <th>7</th>\n",
       "      <td>1011</td>\n",
       "      <td>19</td>\n",
       "    </tr>\n",
       "    <tr>\n",
       "      <th>8-13,0</th>\n",
       "      <td>426</td>\n",
       "      <td>10</td>\n",
       "    </tr>\n",
       "    <tr>\n",
       "      <th>8-13,1</th>\n",
       "      <td>270</td>\n",
       "      <td>51</td>\n",
       "    </tr>\n",
       "    <tr>\n",
       "      <th>8-13,2</th>\n",
       "      <td>282</td>\n",
       "      <td>4</td>\n",
       "    </tr>\n",
       "    <tr>\n",
       "      <th>8-13,3</th>\n",
       "      <td>26</td>\n",
       "      <td>165</td>\n",
       "    </tr>\n",
       "    <tr>\n",
       "      <th>8-13,4</th>\n",
       "      <td>146</td>\n",
       "      <td>35</td>\n",
       "    </tr>\n",
       "    <tr>\n",
       "      <th>8-13,5</th>\n",
       "      <td>155</td>\n",
       "      <td>1</td>\n",
       "    </tr>\n",
       "    <tr>\n",
       "      <th>8-13,6</th>\n",
       "      <td>140</td>\n",
       "      <td>8</td>\n",
       "    </tr>\n",
       "    <tr>\n",
       "      <th>8-13,7</th>\n",
       "      <td>99</td>\n",
       "      <td>4</td>\n",
       "    </tr>\n",
       "    <tr>\n",
       "      <th>8-13,8</th>\n",
       "      <td>78</td>\n",
       "      <td>2</td>\n",
       "    </tr>\n",
       "    <tr>\n",
       "      <th>8-13,9</th>\n",
       "      <td>11</td>\n",
       "      <td>0</td>\n",
       "    </tr>\n",
       "    <tr>\n",
       "      <th>8-13,10</th>\n",
       "      <td>8</td>\n",
       "      <td>0</td>\n",
       "    </tr>\n",
       "    <tr>\n",
       "      <th>9</th>\n",
       "      <td>779</td>\n",
       "      <td>176</td>\n",
       "    </tr>\n",
       "    <tr>\n",
       "      <th>10</th>\n",
       "      <td>919</td>\n",
       "      <td>29</td>\n",
       "    </tr>\n",
       "    <tr>\n",
       "      <th>11</th>\n",
       "      <td>844</td>\n",
       "      <td>93</td>\n",
       "    </tr>\n",
       "    <tr>\n",
       "      <th>12</th>\n",
       "      <td>0</td>\n",
       "      <td>920</td>\n",
       "    </tr>\n",
       "    <tr>\n",
       "      <th>14</th>\n",
       "      <td>850</td>\n",
       "      <td>11</td>\n",
       "    </tr>\n",
       "    <tr>\n",
       "      <th>15</th>\n",
       "      <td>22</td>\n",
       "      <td>813</td>\n",
       "    </tr>\n",
       "    <tr>\n",
       "      <th>16</th>\n",
       "      <td>291</td>\n",
       "      <td>540</td>\n",
       "    </tr>\n",
       "    <tr>\n",
       "      <th>17</th>\n",
       "      <td>713</td>\n",
       "      <td>118</td>\n",
       "    </tr>\n",
       "    <tr>\n",
       "      <th>18</th>\n",
       "      <td>740</td>\n",
       "      <td>39</td>\n",
       "    </tr>\n",
       "    <tr>\n",
       "      <th>19</th>\n",
       "      <td>97</td>\n",
       "      <td>667</td>\n",
       "    </tr>\n",
       "    <tr>\n",
       "      <th>20</th>\n",
       "      <td>720</td>\n",
       "      <td>16</td>\n",
       "    </tr>\n",
       "    <tr>\n",
       "      <th>21</th>\n",
       "      <td>661</td>\n",
       "      <td>50</td>\n",
       "    </tr>\n",
       "    <tr>\n",
       "      <th>22</th>\n",
       "      <td>595</td>\n",
       "      <td>16</td>\n",
       "    </tr>\n",
       "    <tr>\n",
       "      <th>23</th>\n",
       "      <td>56</td>\n",
       "      <td>551</td>\n",
       "    </tr>\n",
       "    <tr>\n",
       "      <th>24</th>\n",
       "      <td>524</td>\n",
       "      <td>21</td>\n",
       "    </tr>\n",
       "    <tr>\n",
       "      <th>25</th>\n",
       "      <td>434</td>\n",
       "      <td>48</td>\n",
       "    </tr>\n",
       "    <tr>\n",
       "      <th>26</th>\n",
       "      <td>461</td>\n",
       "      <td>6</td>\n",
       "    </tr>\n",
       "    <tr>\n",
       "      <th>27</th>\n",
       "      <td>219</td>\n",
       "      <td>247</td>\n",
       "    </tr>\n",
       "    <tr>\n",
       "      <th>28</th>\n",
       "      <td>383</td>\n",
       "      <td>7</td>\n",
       "    </tr>\n",
       "    <tr>\n",
       "      <th>29</th>\n",
       "      <td>320</td>\n",
       "      <td>8</td>\n",
       "    </tr>\n",
       "    <tr>\n",
       "      <th>30</th>\n",
       "      <td>208</td>\n",
       "      <td>52</td>\n",
       "    </tr>\n",
       "    <tr>\n",
       "      <th>31</th>\n",
       "      <td>1</td>\n",
       "      <td>109</td>\n",
       "    </tr>\n",
       "    <tr>\n",
       "      <th>32</th>\n",
       "      <td>68</td>\n",
       "      <td>13</td>\n",
       "    </tr>\n",
       "    <tr>\n",
       "      <th>33</th>\n",
       "      <td>7</td>\n",
       "      <td>46</td>\n",
       "    </tr>\n",
       "  </tbody>\n",
       "</table>\n",
       "</div>"
      ],
      "text/plain": [
       "site      Periphery  Thymus\n",
       "leiden_R                   \n",
       "0              1834      34\n",
       "1              1317      18\n",
       "2              1077      28\n",
       "3,0             284      15\n",
       "3,1             148     115\n",
       "3,2             213      19\n",
       "3,3             130      70\n",
       "3,4               1      89\n",
       "3,5              19       0\n",
       "4              1036      50\n",
       "5                 6    1056\n",
       "6              1025      29\n",
       "7              1011      19\n",
       "8-13,0          426      10\n",
       "8-13,1          270      51\n",
       "8-13,2          282       4\n",
       "8-13,3           26     165\n",
       "8-13,4          146      35\n",
       "8-13,5          155       1\n",
       "8-13,6          140       8\n",
       "8-13,7           99       4\n",
       "8-13,8           78       2\n",
       "8-13,9           11       0\n",
       "8-13,10           8       0\n",
       "9               779     176\n",
       "10              919      29\n",
       "11              844      93\n",
       "12                0     920\n",
       "14              850      11\n",
       "15               22     813\n",
       "16              291     540\n",
       "17              713     118\n",
       "18              740      39\n",
       "19               97     667\n",
       "20              720      16\n",
       "21              661      50\n",
       "22              595      16\n",
       "23               56     551\n",
       "24              524      21\n",
       "25              434      48\n",
       "26              461       6\n",
       "27              219     247\n",
       "28              383       7\n",
       "29              320       8\n",
       "30              208      52\n",
       "31                1     109\n",
       "32               68      13\n",
       "33                7      46"
      ]
     },
     "execution_count": 22,
     "metadata": {},
     "output_type": "execute_result"
    }
   ],
   "source": [
    "pd.crosstab(adata.obs['site'], adata.obs['leiden_R']).T"
   ]
  },
  {
   "cell_type": "code",
   "execution_count": 23,
   "id": "2deafebb",
   "metadata": {},
   "outputs": [
    {
     "data": {
      "text/plain": [
       "<AxesSubplot:xlabel='leiden_R'>"
      ]
     },
     "execution_count": 23,
     "metadata": {},
     "output_type": "execute_result"
    },
    {
     "data": {
      "text/plain": [
       "<Figure size 1440x240 with 1 Axes>"
      ]
     },
     "metadata": {
      "image/png": {
       "height": 318,
       "width": 1203
      }
     },
     "output_type": "display_data"
    }
   ],
   "source": [
    "pd.crosstab(adata.obs['site'], adata.obs['leiden_R']).T.plot.bar(figsize=(18,3))"
   ]
  },
  {
   "cell_type": "code",
   "execution_count": 24,
   "id": "d866f859",
   "metadata": {},
   "outputs": [
    {
     "name": "stderr",
     "output_type": "stream",
     "text": [
      "WARNING: saving figure to file scanpy/210711_merged_thymoma_MG21.22.23.03_Tcell/graph/umap.pdf\n"
     ]
    },
    {
     "data": {
      "text/plain": [
       "<Figure size 8019x2400 with 5 Axes>"
      ]
     },
     "metadata": {
      "image/png": {
       "height": 2045,
       "width": 7176
      }
     },
     "output_type": "display_data"
    }
   ],
   "source": [
    "with plt.rc_context({\"figure.figsize\": (8, 8), \"figure.dpi\": (300)}):\n",
    "    sc.pl.umap(adata, color=['CD4', 'CD8A', 'leiden'], s=20)"
   ]
  },
  {
   "cell_type": "code",
   "execution_count": 25,
   "id": "17154648",
   "metadata": {},
   "outputs": [
    {
     "name": "stderr",
     "output_type": "stream",
     "text": [
      "WARNING: saving figure to file scanpy/210711_merged_thymoma_MG21.22.23.03_Tcell/graph/umap.pdf\n"
     ]
    },
    {
     "data": {
      "text/plain": [
       "<Figure size 1545.6x640 with 12 Axes>"
      ]
     },
     "metadata": {
      "image/png": {
       "height": 577,
       "width": 1256
      }
     },
     "output_type": "display_data"
    }
   ],
   "source": [
    "list_mait = ['KLRB1', 'SLC4A10', 'IL7R', 'DPP4', 'TRAJ33', 'PDCD1']\n",
    "sc.pl.umap(adata, color=list_mait)"
   ]
  },
  {
   "cell_type": "code",
   "execution_count": 26,
   "id": "2b8f5b62",
   "metadata": {},
   "outputs": [
    {
     "name": "stderr",
     "output_type": "stream",
     "text": [
      "WARNING: saving figure to file scanpy/210711_merged_thymoma_MG21.22.23.03_Tcell/graph/umap.pdf\n"
     ]
    },
    {
     "data": {
      "text/plain": [
       "<Figure size 1159.2x320 with 6 Axes>"
      ]
     },
     "metadata": {
      "image/png": {
       "height": 299,
       "width": 969
      }
     },
     "output_type": "display_data"
    }
   ],
   "source": [
    "list_g = ['SPINK2', 'CSF1', 'CYP26A1']\n",
    "sc.pl.umap(adata, color=list_g)"
   ]
  },
  {
   "cell_type": "code",
   "execution_count": 27,
   "id": "ceea810d",
   "metadata": {},
   "outputs": [
    {
     "name": "stderr",
     "output_type": "stream",
     "text": [
      "WARNING: saving figure to file scanpy/210711_merged_thymoma_MG21.22.23.03_Tcell/graph/umap.pdf\n"
     ]
    },
    {
     "data": {
      "text/plain": [
       "<Figure size 772.8x960 with 12 Axes>"
      ]
     },
     "metadata": {
      "image/png": {
       "height": 855,
       "width": 637
      }
     },
     "output_type": "display_data"
    }
   ],
   "source": [
    "list_g = ['CD8A', 'CCR7', 'CD44', 'SELL', 'CD28', 'FAS']\n",
    "sc.pl.umap(adata, color=list_g, ncols=2)"
   ]
  },
  {
   "cell_type": "code",
   "execution_count": 28,
   "id": "b9f1ca83",
   "metadata": {},
   "outputs": [
    {
     "name": "stderr",
     "output_type": "stream",
     "text": [
      "WARNING: dendrogram data not found (using key=dendrogram_leiden_R). Running `sc.tl.dendrogram` with default parameters. For fine tuning it is recommended to run `sc.tl.dendrogram` independently.\n",
      "    using 'X_pca' with n_pcs = 50\n",
      "Storing dendrogram info using `.uns['dendrogram_leiden_R']`\n",
      "WARNING: saving figure to file scanpy/210711_merged_thymoma_MG21.22.23.03_Tcell/graph/dotplot_.pdf\n"
     ]
    },
    {
     "data": {
      "text/plain": [
       "<Figure size 361.6x1424 with 5 Axes>"
      ]
     },
     "metadata": {
      "image/png": {
       "height": 1157,
       "width": 418
      }
     },
     "output_type": "display_data"
    }
   ],
   "source": [
    "sc.pl.dotplot(adata, list_g, groupby='leiden_R', dendrogram=True)"
   ]
  },
  {
   "cell_type": "code",
   "execution_count": 29,
   "id": "b2feb318",
   "metadata": {},
   "outputs": [
    {
     "data": {
      "text/plain": [
       "<Figure size 1932x640 with 12 Axes>"
      ]
     },
     "metadata": {
      "image/png": {
       "height": 589,
       "width": 1566
      }
     },
     "output_type": "display_data"
    }
   ],
   "source": [
    "# ITGAX : CD11C\n",
    "# CD27 : memory B\n",
    "sc.pl.umap(adata, color=['CD8A', 'NR4A1', 'IKZF2', 'NFKBID', 'BCL2L11', 'sample', 'site'],\n",
    "          save=False, ncols=5)"
   ]
  },
  {
   "cell_type": "code",
   "execution_count": 30,
   "id": "da5c01ba",
   "metadata": {},
   "outputs": [
    {
     "data": {
      "text/plain": [
       "<Figure size 1545.6x320 with 8 Axes>"
      ]
     },
     "metadata": {
      "image/png": {
       "height": 299,
       "width": 1257
      }
     },
     "output_type": "display_data"
    }
   ],
   "source": [
    "# ITGAX : CD11C\n",
    "# CD27 : memory B\n",
    "sc.pl.umap(adata, color=['CD1D', 'KLRB1', 'NKG7', 'SELL'],\n",
    "          save=False, ncols=5)"
   ]
  },
  {
   "cell_type": "code",
   "execution_count": 31,
   "id": "42c7d236",
   "metadata": {},
   "outputs": [
    {
     "name": "stderr",
     "output_type": "stream",
     "text": [
      "WARNING: saving figure to file scanpy/210711_merged_thymoma_MG21.22.23.03_Tcell/graph/dotplot_.pdf\n"
     ]
    },
    {
     "data": {
      "text/plain": [
       "<Figure size 539.2x1424 with 5 Axes>"
      ]
     },
     "metadata": {
      "image/png": {
       "height": 1178,
       "width": 554
      }
     },
     "output_type": "display_data"
    }
   ],
   "source": [
    "sc.pl.dotplot(adata, var_names=['CD3E', 'CD4', 'CD8A', 'CD8B', 'NKG7', 'KLRB1', 'ZBTB16', 'EOMES',\n",
    "                                'GNG4', 'ZNF683', 'TRGC2', 'TRDC'], groupby='leiden_R',\n",
    "             dendrogram=True)"
   ]
  },
  {
   "cell_type": "code",
   "execution_count": 32,
   "id": "f471fb34",
   "metadata": {},
   "outputs": [
    {
     "name": "stderr",
     "output_type": "stream",
     "text": [
      "WARNING: saving figure to file scanpy/210711_merged_thymoma_MG21.22.23.03_Tcell/graph/dotplot_.pdf\n"
     ]
    },
    {
     "data": {
      "text/plain": [
       "<Figure size 687.2x1424 with 5 Axes>"
      ]
     },
     "metadata": {
      "image/png": {
       "height": 1181,
       "width": 668
      }
     },
     "output_type": "display_data"
    }
   ],
   "source": [
    "# CD62L : SELL, CCR7 Tn, Tscm, Tcm\n",
    "# CCR7 Tn, Tscm, Tcm\n",
    "# IL2RB : Tscm, Tcm, Tem, Teff\n",
    "# CD95 : FAS : Tscm, Tcm, Tem, Teff\n",
    "\n",
    "sc.pl.dotplot(adata, var_names=['CD3E', 'CD4', 'CD8A', 'SELL', 'CCR7', 'TCF7', 'IL7R', 'IL2RB',\n",
    "                               'FCGR3A', 'CXCR4', 'PRF1', 'GZMK', 'XCL2', 'HAVCR2', 'CCL5',\n",
    "                               'CXCR6', 'ITGA1'], \n",
    "              groupby='leiden_R', dendrogram=True)"
   ]
  },
  {
   "cell_type": "code",
   "execution_count": 33,
   "id": "ba5f0753",
   "metadata": {},
   "outputs": [],
   "source": [
    "adata.obs['CD4'] = np.array(adata.raw[:,'CD4'].X.todense()).flatten()\n",
    "adata.obs['CD8A'] = np.array(adata.raw[:,'CD8A'].X.todense()).flatten()"
   ]
  },
  {
   "cell_type": "code",
   "execution_count": 34,
   "id": "90a93e61",
   "metadata": {},
   "outputs": [],
   "source": [
    "adata.obs['CD4/CD8'] = 'DN'\n",
    "adata.obs.loc[(adata.obs['CD8A'] > 0.5) & (adata.obs['CD4'] > 0.5), 'CD4/CD8'] = 'DP'\n",
    "adata.obs.loc[(adata.obs['CD8A'] < 0.5) & (adata.obs['CD4'] > 0.5), 'CD4/CD8'] = 'CD4'\n",
    "adata.obs.loc[(adata.obs['CD8A'] > 0.5) & (adata.obs['CD4'] < 0.5), 'CD4/CD8'] = 'CD8'"
   ]
  },
  {
   "cell_type": "code",
   "execution_count": 35,
   "id": "ca0661d0",
   "metadata": {},
   "outputs": [
    {
     "name": "stderr",
     "output_type": "stream",
     "text": [
      "... storing 'CD4/CD8' as categorical\n",
      "WARNING: saving figure to file scanpy/210711_merged_thymoma_MG21.22.23.03_Tcell/graph/umap.pdf\n"
     ]
    },
    {
     "data": {
      "text/plain": [
       "<Figure size 320x320 with 1 Axes>"
      ]
     },
     "metadata": {
      "image/png": {
       "height": 282,
       "width": 353
      }
     },
     "output_type": "display_data"
    }
   ],
   "source": [
    "sc.pl.umap(adata, color=['CD4/CD8'])"
   ]
  },
  {
   "cell_type": "code",
   "execution_count": 36,
   "id": "69f1c23b",
   "metadata": {},
   "outputs": [
    {
     "data": {
      "text/plain": [
       "<AxesSubplot:>"
      ]
     },
     "execution_count": 36,
     "metadata": {},
     "output_type": "execute_result"
    },
    {
     "data": {
      "text/plain": [
       "<Figure size 320x320 with 1 Axes>"
      ]
     },
     "metadata": {
      "image/png": {
       "height": 288,
       "width": 344
      }
     },
     "output_type": "display_data"
    }
   ],
   "source": [
    "adata.obs['CD4'].hist()"
   ]
  },
  {
   "cell_type": "code",
   "execution_count": 37,
   "id": "5a214dc9",
   "metadata": {},
   "outputs": [
    {
     "data": {
      "text/plain": [
       "<AxesSubplot:>"
      ]
     },
     "execution_count": 37,
     "metadata": {},
     "output_type": "execute_result"
    },
    {
     "data": {
      "text/plain": [
       "<Figure size 320x320 with 1 Axes>"
      ]
     },
     "metadata": {
      "image/png": {
       "height": 288,
       "width": 344
      }
     },
     "output_type": "display_data"
    }
   ],
   "source": [
    "adata.obs['CD8A'].hist()"
   ]
  },
  {
   "cell_type": "code",
   "execution_count": null,
   "id": "b83e815c",
   "metadata": {},
   "outputs": [],
   "source": []
  },
  {
   "cell_type": "code",
   "execution_count": 38,
   "id": "efd44ce5",
   "metadata": {},
   "outputs": [
    {
     "data": {
      "text/plain": [
       "<matplotlib.collections.PathCollection at 0x7fd5d8648410>"
      ]
     },
     "execution_count": 38,
     "metadata": {},
     "output_type": "execute_result"
    },
    {
     "data": {
      "text/plain": [
       "<Figure size 320x320 with 1 Axes>"
      ]
     },
     "metadata": {
      "image/png": {
       "height": 288,
       "width": 287
      }
     },
     "output_type": "display_data"
    }
   ],
   "source": [
    "plt.scatter(np.array(adata.raw[:,'CD4'].X.todense()).flatten(), \n",
    "           np.array(adata.raw[:,'CD8A'].X.todense()).flatten())"
   ]
  },
  {
   "cell_type": "code",
   "execution_count": 39,
   "id": "42258d02",
   "metadata": {},
   "outputs": [],
   "source": [
    "adata.obs = adata.obs.drop('CD4', axis=1)\n",
    "adata.obs = adata.obs.drop('CD8A', axis=1)"
   ]
  },
  {
   "cell_type": "code",
   "execution_count": 40,
   "id": "14050df5",
   "metadata": {},
   "outputs": [
    {
     "name": "stderr",
     "output_type": "stream",
     "text": [
      "WARNING: saving figure to file scanpy/210711_merged_thymoma_MG21.22.23.03_Tcell/graph/umappanel.pdf\n"
     ]
    },
    {
     "data": {
      "text/plain": [
       "<Figure size 1932x1920 with 52 Axes>"
      ]
     },
     "metadata": {
      "image/png": {
       "height": 1706,
       "width": 1566
      }
     },
     "output_type": "display_data"
    }
   ],
   "source": [
    "# ITGAX : CD11C\n",
    "# CD27 : memory B\n",
    "sc.pl.umap(adata, color=['CD3E', 'CD4', 'CD8A', 'CCR7', 'IL7R', 'KLRB1', 'ZBTB16', 'CD200R1', 'FOXP3', 'SATB1', \n",
    "                         'EPCAM', 'PECAM1', 'MS4A1', 'CD27', 'BCL6',\n",
    "                         'NKG7', 'TRDC', 'TRGC1', 'TRGC2', 'CD14', 'FCGR3A', 'FCER1A', 'ITGAX', 'HLA-DQB1', 'MKI67', 'sample', 'site'],\n",
    "          save='panel', ncols=5)"
   ]
  },
  {
   "cell_type": "code",
   "execution_count": 41,
   "id": "a9504238",
   "metadata": {},
   "outputs": [
    {
     "name": "stderr",
     "output_type": "stream",
     "text": [
      "WARNING: saving figure to file scanpy/210711_merged_thymoma_MG21.22.23.03_Tcell/graph/umappanel_Treg.pdf\n"
     ]
    },
    {
     "data": {
      "text/plain": [
       "<Figure size 1932x1280 with 32 Axes>"
      ]
     },
     "metadata": {
      "image/png": {
       "height": 1148,
       "width": 1566
      }
     },
     "output_type": "display_data"
    }
   ],
   "source": [
    "# ITGAX : CD11C\n",
    "# CD27 : memory B\n",
    "sc.pl.umap(adata, color=['CD3E', 'CD4', 'CD8A', 'FOXP3', 'CTLA4', 'IL2RA', 'SATB1', 'LEF1',\n",
    "                         'IKZF2', 'IKZF4', 'IL7R', 'GATA3', 'TBX21', 'RUNX3',\n",
    "                         'CXCR5', 'sample', 'site'],\n",
    "          save='panel_Treg', ncols=5)"
   ]
  },
  {
   "cell_type": "code",
   "execution_count": 42,
   "id": "1723f6d1",
   "metadata": {},
   "outputs": [
    {
     "name": "stderr",
     "output_type": "stream",
     "text": [
      "WARNING: saving figure to file scanpy/210711_merged_thymoma_MG21.22.23.03_Tcell/graph/umappanel_memory.pdf\n"
     ]
    },
    {
     "data": {
      "text/plain": [
       "<Figure size 1932x640 with 16 Axes>"
      ]
     },
     "metadata": {
      "image/png": {
       "height": 589,
       "width": 1566
      }
     },
     "output_type": "display_data"
    }
   ],
   "source": [
    "sc.pl.umap(adata, color=['CD3E', 'CD4', 'CD8A', 'CCR7', 'CD28', 'FAS', 'SELL', 'sample', 'site'],\n",
    "          save='panel_memory', ncols=5)"
   ]
  },
  {
   "cell_type": "code",
   "execution_count": 43,
   "id": "a2c03a98",
   "metadata": {},
   "outputs": [
    {
     "name": "stderr",
     "output_type": "stream",
     "text": [
      "ranking genes\n",
      "    finished: added to `.uns['rank_genes_groups']`\n",
      "    'names', sorted np.recarray to be indexed by group ids\n",
      "    'scores', sorted np.recarray to be indexed by group ids\n",
      "    'logfoldchanges', sorted np.recarray to be indexed by group ids\n",
      "    'pvals', sorted np.recarray to be indexed by group ids\n",
      "    'pvals_adj', sorted np.recarray to be indexed by group ids (0:00:12)\n",
      "WARNING: saving figure to file scanpy/210711_merged_thymoma_MG21.22.23.03_Tcell/graph/rank_genes_groups_leiden_R.pdf\n"
     ]
    },
    {
     "data": {
      "text/plain": [
       "<Figure size 1280x3840 with 48 Axes>"
      ]
     },
     "metadata": {
      "image/png": {
       "height": 3013,
       "width": 1076
      }
     },
     "output_type": "display_data"
    }
   ],
   "source": [
    "sc.tl.rank_genes_groups(adata, 'leiden_R', method='t-test_overestim_var')\n",
    "sc.pl.rank_genes_groups(adata, n_genes=25, sharey=False)"
   ]
  },
  {
   "cell_type": "code",
   "execution_count": 44,
   "id": "453d558b",
   "metadata": {},
   "outputs": [
    {
     "data": {
      "text/plain": [
       "<Figure size 1932x2560 with 80 Axes>"
      ]
     },
     "metadata": {
      "image/png": {
       "height": 2247,
       "width": 1565
      }
     },
     "output_type": "display_data"
    }
   ],
   "source": [
    "# ITGAX : CD11C\n",
    "# CD27 : memory B\n",
    "sc.pl.umap(adata, color=list(adata.uns['rank_genes_groups']['names']['8-13,10'])[:40],\n",
    "          save=False, ncols=5)"
   ]
  },
  {
   "cell_type": "code",
   "execution_count": 45,
   "id": "436ffa40",
   "metadata": {},
   "outputs": [
    {
     "name": "stderr",
     "output_type": "stream",
     "text": [
      "WARNING: saving figure to file scanpy/210711_merged_thymoma_MG21.22.23.03_Tcell/graph/dotplot_.pdf\n"
     ]
    },
    {
     "data": {
      "text/plain": [
       "<Figure size 1304x1424 with 4 Axes>"
      ]
     },
     "metadata": {
      "image/png": {
       "height": 1207,
       "width": 1144
      }
     },
     "output_type": "display_data"
    }
   ],
   "source": [
    "sc.pl.dotplot(adata, var_names=list(adata.uns['rank_genes_groups']['names']['8-13,10'])[:40], \n",
    "              groupby='leiden_R')"
   ]
  },
  {
   "cell_type": "code",
   "execution_count": 46,
   "id": "4c6f2667",
   "metadata": {},
   "outputs": [
    {
     "data": {
      "text/plain": [
       "<Figure size 1932x2560 with 80 Axes>"
      ]
     },
     "metadata": {
      "image/png": {
       "height": 2247,
       "width": 1565
      }
     },
     "output_type": "display_data"
    }
   ],
   "source": [
    "# ITGAX : CD11C\n",
    "# CD27 : memory B\n",
    "sc.pl.umap(adata, color=list(adata.uns['rank_genes_groups']['names']['18'])[:40],\n",
    "          save=False, ncols=5)"
   ]
  },
  {
   "cell_type": "code",
   "execution_count": 47,
   "id": "1452f792",
   "metadata": {},
   "outputs": [
    {
     "data": {
      "text/plain": [
       "<Figure size 1932x640 with 12 Axes>"
      ]
     },
     "metadata": {
      "image/png": {
       "height": 577,
       "width": 1566
      }
     },
     "output_type": "display_data"
    }
   ],
   "source": [
    "# ITGAX : CD11C\n",
    "# CD27 : memory B\n",
    "sc.pl.umap(adata, color=['GNLY', 'LYZ', 'CD69', 'CXCR6', 'CD1D', 'ITGA1'],\n",
    "          save=False, ncols=5)"
   ]
  },
  {
   "cell_type": "code",
   "execution_count": 48,
   "id": "e466fc42",
   "metadata": {},
   "outputs": [
    {
     "name": "stderr",
     "output_type": "stream",
     "text": [
      "WARNING: saving figure to file scanpy/210711_merged_thymoma_MG21.22.23.03_Tcell/graph/dotplot_.pdf\n"
     ]
    },
    {
     "data": {
      "text/plain": [
       "<Figure size 416x1032 with 4 Axes>"
      ]
     },
     "metadata": {
      "image/png": {
       "height": 875,
       "width": 406
      }
     },
     "output_type": "display_data"
    }
   ],
   "source": [
    "sc.pl.dotplot(adata, var_names=list(adata.uns['rank_genes_groups']['names']['33'])[:10], groupby='leiden')"
   ]
  },
  {
   "cell_type": "code",
   "execution_count": 49,
   "id": "2786aa4c",
   "metadata": {},
   "outputs": [
    {
     "name": "stderr",
     "output_type": "stream",
     "text": [
      "WARNING: saving figure to file scanpy/210711_merged_thymoma_MG21.22.23.03_Tcell/graph/umap.pdf\n"
     ]
    },
    {
     "data": {
      "text/plain": [
       "<Figure size 772.8x320 with 3 Axes>"
      ]
     },
     "metadata": {
      "image/png": {
       "height": 304,
       "width": 638
      }
     },
     "output_type": "display_data"
    }
   ],
   "source": [
    "sc.pl.umap(adata,color=[\"sample\", \"PTPRC\"])"
   ]
  },
  {
   "cell_type": "code",
   "execution_count": 50,
   "id": "90ef227e",
   "metadata": {},
   "outputs": [
    {
     "data": {
      "text/html": [
       "<div>\n",
       "<style scoped>\n",
       "    .dataframe tbody tr th:only-of-type {\n",
       "        vertical-align: middle;\n",
       "    }\n",
       "\n",
       "    .dataframe tbody tr th {\n",
       "        vertical-align: top;\n",
       "    }\n",
       "\n",
       "    .dataframe thead th {\n",
       "        text-align: right;\n",
       "    }\n",
       "</style>\n",
       "<table border=\"1\" class=\"dataframe\">\n",
       "  <thead>\n",
       "    <tr style=\"text-align: right;\">\n",
       "      <th></th>\n",
       "      <th>cluster</th>\n",
       "    </tr>\n",
       "    <tr>\n",
       "      <th>leiden</th>\n",
       "      <th></th>\n",
       "    </tr>\n",
       "  </thead>\n",
       "  <tbody>\n",
       "    <tr>\n",
       "      <th>0</th>\n",
       "      <td>CD8 Tnaive</td>\n",
       "    </tr>\n",
       "    <tr>\n",
       "      <th>1</th>\n",
       "      <td>CD4 T cell</td>\n",
       "    </tr>\n",
       "    <tr>\n",
       "      <th>2</th>\n",
       "      <td>CD4 T cell</td>\n",
       "    </tr>\n",
       "    <tr>\n",
       "      <th>3,0</th>\n",
       "      <td>aa CD8 T cell (II)</td>\n",
       "    </tr>\n",
       "    <tr>\n",
       "      <th>3,1</th>\n",
       "      <td>aa CD8 T cell (II)</td>\n",
       "    </tr>\n",
       "    <tr>\n",
       "      <th>3,2</th>\n",
       "      <td>aa CD8 T cell (II)</td>\n",
       "    </tr>\n",
       "    <tr>\n",
       "      <th>3,3</th>\n",
       "      <td>aa CD8 T cell (II)</td>\n",
       "    </tr>\n",
       "    <tr>\n",
       "      <th>3,4</th>\n",
       "      <td>NKT cell (thymus)</td>\n",
       "    </tr>\n",
       "    <tr>\n",
       "      <th>3,5</th>\n",
       "      <td>aa CD8 T cell (II)</td>\n",
       "    </tr>\n",
       "    <tr>\n",
       "      <th>4</th>\n",
       "      <td>CD4 T cell</td>\n",
       "    </tr>\n",
       "    <tr>\n",
       "      <th>5</th>\n",
       "      <td>aa CD8 T cell (I)</td>\n",
       "    </tr>\n",
       "    <tr>\n",
       "      <th>6</th>\n",
       "      <td>CD4 T cell</td>\n",
       "    </tr>\n",
       "    <tr>\n",
       "      <th>7</th>\n",
       "      <td>CD4 T cell</td>\n",
       "    </tr>\n",
       "    <tr>\n",
       "      <th>8-13,0</th>\n",
       "      <td>CD8 Temra</td>\n",
       "    </tr>\n",
       "    <tr>\n",
       "      <th>8-13,1</th>\n",
       "      <td>CD8 Tem</td>\n",
       "    </tr>\n",
       "    <tr>\n",
       "      <th>8-13,2</th>\n",
       "      <td>CD4 T cell</td>\n",
       "    </tr>\n",
       "    <tr>\n",
       "      <th>8-13,3</th>\n",
       "      <td>CD8 Trm</td>\n",
       "    </tr>\n",
       "    <tr>\n",
       "      <th>8-13,4</th>\n",
       "      <td>CD8 Tem</td>\n",
       "    </tr>\n",
       "    <tr>\n",
       "      <th>8-13,5</th>\n",
       "      <td>CD4 T cell</td>\n",
       "    </tr>\n",
       "    <tr>\n",
       "      <th>8-13,6</th>\n",
       "      <td>CD8 Temra</td>\n",
       "    </tr>\n",
       "    <tr>\n",
       "      <th>8-13,7</th>\n",
       "      <td>CD4 T cell</td>\n",
       "    </tr>\n",
       "    <tr>\n",
       "      <th>8-13,8</th>\n",
       "      <td>CD4 T cell</td>\n",
       "    </tr>\n",
       "    <tr>\n",
       "      <th>8-13,9</th>\n",
       "      <td>CD4 T cell</td>\n",
       "    </tr>\n",
       "    <tr>\n",
       "      <th>8-13,10</th>\n",
       "      <td>CD8 Temra</td>\n",
       "    </tr>\n",
       "    <tr>\n",
       "      <th>9</th>\n",
       "      <td>CD4 T cell</td>\n",
       "    </tr>\n",
       "    <tr>\n",
       "      <th>10</th>\n",
       "      <td>CD4 T cell</td>\n",
       "    </tr>\n",
       "    <tr>\n",
       "      <th>11</th>\n",
       "      <td>CD8 Tnaive</td>\n",
       "    </tr>\n",
       "    <tr>\n",
       "      <th>12</th>\n",
       "      <td>DP T cell</td>\n",
       "    </tr>\n",
       "    <tr>\n",
       "      <th>14</th>\n",
       "      <td>CD4 T cell</td>\n",
       "    </tr>\n",
       "    <tr>\n",
       "      <th>15</th>\n",
       "      <td>CD4 T cell</td>\n",
       "    </tr>\n",
       "    <tr>\n",
       "      <th>16</th>\n",
       "      <td>gd T cell</td>\n",
       "    </tr>\n",
       "    <tr>\n",
       "      <th>17</th>\n",
       "      <td>CD4 T cell</td>\n",
       "    </tr>\n",
       "    <tr>\n",
       "      <th>18</th>\n",
       "      <td>NKT cell (periphery)</td>\n",
       "    </tr>\n",
       "    <tr>\n",
       "      <th>19</th>\n",
       "      <td>Thymic CD8 T cell</td>\n",
       "    </tr>\n",
       "    <tr>\n",
       "      <th>20</th>\n",
       "      <td>CD4 T cell</td>\n",
       "    </tr>\n",
       "    <tr>\n",
       "      <th>21</th>\n",
       "      <td>NK cell</td>\n",
       "    </tr>\n",
       "    <tr>\n",
       "      <th>22</th>\n",
       "      <td>CD4 T cell</td>\n",
       "    </tr>\n",
       "    <tr>\n",
       "      <th>23</th>\n",
       "      <td>CD4 T cell</td>\n",
       "    </tr>\n",
       "    <tr>\n",
       "      <th>24</th>\n",
       "      <td>CD4 T cell</td>\n",
       "    </tr>\n",
       "    <tr>\n",
       "      <th>25</th>\n",
       "      <td>CD4 T cell</td>\n",
       "    </tr>\n",
       "    <tr>\n",
       "      <th>26</th>\n",
       "      <td>CD4 T cell</td>\n",
       "    </tr>\n",
       "    <tr>\n",
       "      <th>27</th>\n",
       "      <td>CD4 T cell</td>\n",
       "    </tr>\n",
       "    <tr>\n",
       "      <th>28</th>\n",
       "      <td>CD4 T cell</td>\n",
       "    </tr>\n",
       "    <tr>\n",
       "      <th>29</th>\n",
       "      <td>CD8 Tnaive</td>\n",
       "    </tr>\n",
       "    <tr>\n",
       "      <th>30</th>\n",
       "      <td>CD4 T cell</td>\n",
       "    </tr>\n",
       "    <tr>\n",
       "      <th>31</th>\n",
       "      <td>aa CD8 T cell (I)</td>\n",
       "    </tr>\n",
       "    <tr>\n",
       "      <th>32</th>\n",
       "      <td>Doublet</td>\n",
       "    </tr>\n",
       "    <tr>\n",
       "      <th>33</th>\n",
       "      <td>ILC</td>\n",
       "    </tr>\n",
       "  </tbody>\n",
       "</table>\n",
       "</div>"
      ],
      "text/plain": [
       "                      cluster\n",
       "leiden                       \n",
       "0                  CD8 Tnaive\n",
       "1                  CD4 T cell\n",
       "2                  CD4 T cell\n",
       "3,0        aa CD8 T cell (II)\n",
       "3,1        aa CD8 T cell (II)\n",
       "3,2        aa CD8 T cell (II)\n",
       "3,3        aa CD8 T cell (II)\n",
       "3,4         NKT cell (thymus)\n",
       "3,5        aa CD8 T cell (II)\n",
       "4                  CD4 T cell\n",
       "5           aa CD8 T cell (I)\n",
       "6                  CD4 T cell\n",
       "7                  CD4 T cell\n",
       "8-13,0              CD8 Temra\n",
       "8-13,1                CD8 Tem\n",
       "8-13,2             CD4 T cell\n",
       "8-13,3                CD8 Trm\n",
       "8-13,4                CD8 Tem\n",
       "8-13,5             CD4 T cell\n",
       "8-13,6              CD8 Temra\n",
       "8-13,7             CD4 T cell\n",
       "8-13,8             CD4 T cell\n",
       "8-13,9             CD4 T cell\n",
       "8-13,10             CD8 Temra\n",
       "9                  CD4 T cell\n",
       "10                 CD4 T cell\n",
       "11                 CD8 Tnaive\n",
       "12                  DP T cell\n",
       "14                 CD4 T cell\n",
       "15                 CD4 T cell\n",
       "16                  gd T cell\n",
       "17                 CD4 T cell\n",
       "18       NKT cell (periphery)\n",
       "19          Thymic CD8 T cell\n",
       "20                 CD4 T cell\n",
       "21                    NK cell\n",
       "22                 CD4 T cell\n",
       "23                 CD4 T cell\n",
       "24                 CD4 T cell\n",
       "25                 CD4 T cell\n",
       "26                 CD4 T cell\n",
       "27                 CD4 T cell\n",
       "28                 CD4 T cell\n",
       "29                 CD8 Tnaive\n",
       "30                 CD4 T cell\n",
       "31          aa CD8 T cell (I)\n",
       "32                    Doublet\n",
       "33                        ILC"
      ]
     },
     "execution_count": 50,
     "metadata": {},
     "output_type": "execute_result"
    }
   ],
   "source": [
    "df_clusters =  pd.read_csv('210430_clusters/Tcell_clusters.csv', index_col=0)\n",
    "df_clusters.index = df_clusters.index.astype(str)\n",
    "adata.obs['Tcell_cluster'] = [df_clusters.loc[x, 'cluster'] for x in adata.obs['leiden_R']]\n",
    "df_clusters"
   ]
  },
  {
   "cell_type": "code",
   "execution_count": 51,
   "id": "761f9e5f",
   "metadata": {},
   "outputs": [
    {
     "name": "stderr",
     "output_type": "stream",
     "text": [
      "... storing 'Tcell_cluster' as categorical\n",
      "WARNING: saving figure to file scanpy/210711_merged_thymoma_MG21.22.23.03_Tcell/graph/umapTcell_cluster.pdf\n"
     ]
    },
    {
     "data": {
      "text/plain": [
       "<Figure size 400x400 with 1 Axes>"
      ]
     },
     "metadata": {
      "image/png": {
       "height": 319,
       "width": 752
      }
     },
     "output_type": "display_data"
    }
   ],
   "source": [
    "with plt.rc_context({\"figure.figsize\": (5, 5)}):\n",
    "    sc.pl.umap(adata, color='Tcell_cluster', add_outline=True,\n",
    "           title='', frameon=False, save='Tcell_cluster.pdf', s=30)"
   ]
  },
  {
   "cell_type": "code",
   "execution_count": 52,
   "id": "48e19d9f",
   "metadata": {},
   "outputs": [
    {
     "name": "stderr",
     "output_type": "stream",
     "text": [
      "WARNING: saving figure to file scanpy/210711_merged_thymoma_MG21.22.23.03_Tcell/graph/umapTcell_cluster.pdf\n"
     ]
    },
    {
     "data": {
      "text/plain": [
       "<Figure size 1600x1600 with 1 Axes>"
      ]
     },
     "metadata": {
      "image/png": {
       "height": 1232,
       "width": 1264
      }
     },
     "output_type": "display_data"
    }
   ],
   "source": [
    "with plt.rc_context({\"figure.figsize\": (20, 20)}):\n",
    "    sc.pl.umap(adata, color='Tcell_cluster', add_outline=True,\n",
    "           title='', legend_loc='on data', save='Tcell_cluster.pdf', s=30)"
   ]
  },
  {
   "cell_type": "code",
   "execution_count": 53,
   "id": "5428662c",
   "metadata": {},
   "outputs": [
    {
     "name": "stderr",
     "output_type": "stream",
     "text": [
      "WARNING: saving figure to file scanpy/210711_merged_thymoma_MG21.22.23.03_Tcell/graph/umapTcell_cluster_out.pdf\n"
     ]
    },
    {
     "data": {
      "text/plain": [
       "<Figure size 320x320 with 1 Axes>"
      ]
     },
     "metadata": {
      "image/png": {
       "height": 263,
       "width": 690
      }
     },
     "output_type": "display_data"
    }
   ],
   "source": [
    "sc.pl.umap(adata, color='Tcell_cluster', title='', add_outline=True, \n",
    "           frameon=False, save='Tcell_cluster_out.pdf')"
   ]
  },
  {
   "cell_type": "code",
   "execution_count": 54,
   "id": "48ebe536",
   "metadata": {},
   "outputs": [
    {
     "data": {
      "text/plain": [
       "<Figure size 1440x240 with 1 Axes>"
      ]
     },
     "metadata": {
      "image/png": {
       "height": 452,
       "width": 1185
      }
     },
     "output_type": "display_data"
    }
   ],
   "source": [
    "pd.crosstab(adata.obs['site'], adata.obs['Tcell_cluster']).T.plot.bar(figsize=(18,3))\n",
    "plt.yscale('log')"
   ]
  },
  {
   "cell_type": "code",
   "execution_count": 55,
   "id": "88f3f443",
   "metadata": {},
   "outputs": [
    {
     "name": "stderr",
     "output_type": "stream",
     "text": [
      "ranking genes\n",
      "    finished: added to `.uns['rank_genes_groups']`\n",
      "    'names', sorted np.recarray to be indexed by group ids\n",
      "    'scores', sorted np.recarray to be indexed by group ids\n",
      "    'logfoldchanges', sorted np.recarray to be indexed by group ids\n",
      "    'pvals', sorted np.recarray to be indexed by group ids\n",
      "    'pvals_adj', sorted np.recarray to be indexed by group ids (0:00:04)\n",
      "WARNING: saving figure to file scanpy/210711_merged_thymoma_MG21.22.23.03_Tcell/graph/rank_genes_groups_Tcell_cluster.pdf\n"
     ]
    },
    {
     "data": {
      "text/plain": [
       "<Figure size 1280x1280 with 15 Axes>"
      ]
     },
     "metadata": {
      "image/png": {
       "height": 1067,
       "width": 1127
      }
     },
     "output_type": "display_data"
    }
   ],
   "source": [
    "sc.tl.rank_genes_groups(adata, 'Tcell_cluster', method='t-test_overestim_var')\n",
    "sc.pl.rank_genes_groups(adata, n_genes=25, sharey=False)"
   ]
  },
  {
   "cell_type": "code",
   "execution_count": 56,
   "id": "88ca34e2",
   "metadata": {},
   "outputs": [
    {
     "name": "stderr",
     "output_type": "stream",
     "text": [
      "    using 'X_pca' with n_pcs = 50\n",
      "Storing dendrogram info using `.uns['dendrogram_Tcell_cluster']`\n",
      "WARNING: saving figure to file scanpy/210711_merged_thymoma_MG21.22.23.03_Tcell/graph/dotplot_Tcell.pdf\n"
     ]
    },
    {
     "data": {
      "text/plain": [
       "<Figure size 2404x500 with 6 Axes>"
      ]
     },
     "metadata": {
      "image/png": {
       "height": 696,
       "width": 2115
      }
     },
     "output_type": "display_data"
    }
   ],
   "source": [
    "sc.tl.dendrogram(adata, groupby=\"Tcell_cluster\")\n",
    "sc.pl.rank_genes_groups_dotplot(adata, n_genes=5, groupby='Tcell_cluster', save='Tcell.pdf')"
   ]
  },
  {
   "cell_type": "code",
   "execution_count": 58,
   "id": "eec4d06a",
   "metadata": {},
   "outputs": [],
   "source": [
    "adata.write(results_file_Tcell)"
   ]
  },
  {
   "cell_type": "code",
   "execution_count": 59,
   "id": "39e0ca86",
   "metadata": {},
   "outputs": [
    {
     "data": {
      "text/plain": [
       "AnnData object with n_obs × n_vars = 26072 × 1249\n",
       "    obs: 'sample', 'sample_type', 'site', 'fraction', 'n_genes', 'individual', 'n_counts', 'leiden', 'leiden_R', 'CD4/CD8', 'Tcell_cluster'\n",
       "    var: 'mean', 'std'\n",
       "    uns: 'log1p', 'pca', 'neighbors', 'umap', 'leiden', 'leiden_colors', 'leiden_R_colors', 'dendrogram_leiden_R', 'sample_colors', 'site_colors', 'CD4/CD8_colors', 'rank_genes_groups', 'Tcell_cluster_colors', 'dendrogram_Tcell_cluster'\n",
       "    obsm: 'X_pca', 'X_umap'\n",
       "    varm: 'PCs'\n",
       "    obsp: 'distances', 'connectivities'"
      ]
     },
     "execution_count": 59,
     "metadata": {},
     "output_type": "execute_result"
    }
   ],
   "source": [
    "adata"
   ]
  },
  {
   "cell_type": "markdown",
   "id": "50c4944d",
   "metadata": {},
   "source": [
    "## summarize clusters"
   ]
  },
  {
   "cell_type": "code",
   "execution_count": 60,
   "id": "f436e422",
   "metadata": {},
   "outputs": [],
   "source": [
    "adata_tcell = sc.read(results_file_Tcell)\n",
    "adata_cd4tcell = sc.read(results_file_CD4Tcell)\n",
    "# adata_treg = sc.read(results_file_Treg)"
   ]
  },
  {
   "cell_type": "code",
   "execution_count": 61,
   "id": "7fb3228b",
   "metadata": {},
   "outputs": [
    {
     "name": "stderr",
     "output_type": "stream",
     "text": [
      "/home/yyasumizu/anaconda3/envs/scanpy1.7.2/lib/python3.7/site-packages/ipykernel_launcher.py:3: SettingWithCopyWarning: \n",
      "A value is trying to be set on a copy of a slice from a DataFrame.\n",
      "Try using .loc[row_indexer,col_indexer] = value instead\n",
      "\n",
      "See the caveats in the documentation: https://pandas.pydata.org/pandas-docs/stable/user_guide/indexing.html#returning-a-view-versus-a-copy\n",
      "  This is separate from the ipykernel package so we can avoid doing imports until\n"
     ]
    },
    {
     "data": {
      "text/html": [
       "<div>\n",
       "<style scoped>\n",
       "    .dataframe tbody tr th:only-of-type {\n",
       "        vertical-align: middle;\n",
       "    }\n",
       "\n",
       "    .dataframe tbody tr th {\n",
       "        vertical-align: top;\n",
       "    }\n",
       "\n",
       "    .dataframe thead th {\n",
       "        text-align: right;\n",
       "    }\n",
       "</style>\n",
       "<table border=\"1\" class=\"dataframe\">\n",
       "  <thead>\n",
       "    <tr style=\"text-align: right;\">\n",
       "      <th></th>\n",
       "      <th>minor_cluster</th>\n",
       "    </tr>\n",
       "  </thead>\n",
       "  <tbody>\n",
       "    <tr>\n",
       "      <th>AACCATGGTCTCAGAT</th>\n",
       "      <td>CD4 T cell</td>\n",
       "    </tr>\n",
       "    <tr>\n",
       "      <th>AACGTCAGTACATTGC</th>\n",
       "      <td>Thymic CD8 T cell</td>\n",
       "    </tr>\n",
       "    <tr>\n",
       "      <th>AAGAACAAGCGGCTCT</th>\n",
       "      <td>CD4 T cell</td>\n",
       "    </tr>\n",
       "    <tr>\n",
       "      <th>AAGCATCCATGACGTT</th>\n",
       "      <td>CD4 T cell</td>\n",
       "    </tr>\n",
       "    <tr>\n",
       "      <th>AAGCGAGCAGACAAAT</th>\n",
       "      <td>CD4 T cell</td>\n",
       "    </tr>\n",
       "  </tbody>\n",
       "</table>\n",
       "</div>"
      ],
      "text/plain": [
       "                      minor_cluster\n",
       "AACCATGGTCTCAGAT         CD4 T cell\n",
       "AACGTCAGTACATTGC  Thymic CD8 T cell\n",
       "AAGAACAAGCGGCTCT         CD4 T cell\n",
       "AAGCATCCATGACGTT         CD4 T cell\n",
       "AAGCGAGCAGACAAAT         CD4 T cell"
      ]
     },
     "execution_count": 61,
     "metadata": {},
     "output_type": "execute_result"
    }
   ],
   "source": [
    "df_cluster = adata_tcell.obs[['Tcell_cluster']]\n",
    "df_cluster.columns = ['minor_cluster']\n",
    "df_cluster['minor_cluster'] = df_cluster['minor_cluster'].astype(str)\n",
    "df_cluster.head()"
   ]
  },
  {
   "cell_type": "code",
   "execution_count": 62,
   "id": "095f2b80",
   "metadata": {},
   "outputs": [
    {
     "name": "stderr",
     "output_type": "stream",
     "text": [
      "/home/yyasumizu/anaconda3/envs/scanpy1.7.2/lib/python3.7/site-packages/ipykernel_launcher.py:3: SettingWithCopyWarning: \n",
      "A value is trying to be set on a copy of a slice from a DataFrame.\n",
      "Try using .loc[row_indexer,col_indexer] = value instead\n",
      "\n",
      "See the caveats in the documentation: https://pandas.pydata.org/pandas-docs/stable/user_guide/indexing.html#returning-a-view-versus-a-copy\n",
      "  This is separate from the ipykernel package so we can avoid doing imports until\n"
     ]
    },
    {
     "data": {
      "text/html": [
       "<div>\n",
       "<style scoped>\n",
       "    .dataframe tbody tr th:only-of-type {\n",
       "        vertical-align: middle;\n",
       "    }\n",
       "\n",
       "    .dataframe tbody tr th {\n",
       "        vertical-align: top;\n",
       "    }\n",
       "\n",
       "    .dataframe thead th {\n",
       "        text-align: right;\n",
       "    }\n",
       "</style>\n",
       "<table border=\"1\" class=\"dataframe\">\n",
       "  <thead>\n",
       "    <tr style=\"text-align: right;\">\n",
       "      <th></th>\n",
       "      <th>minor_cluster</th>\n",
       "    </tr>\n",
       "  </thead>\n",
       "  <tbody>\n",
       "    <tr>\n",
       "      <th>AACCATGGTCTCAGAT</th>\n",
       "      <td>Naive Treg</td>\n",
       "    </tr>\n",
       "    <tr>\n",
       "      <th>AAGAACAAGCGGCTCT</th>\n",
       "      <td>Thymic CD4 T cell (II)</td>\n",
       "    </tr>\n",
       "    <tr>\n",
       "      <th>AAGCATCCATGACGTT</th>\n",
       "      <td>CD4 Tcm (Th17)</td>\n",
       "    </tr>\n",
       "    <tr>\n",
       "      <th>AAGCGAGCAGACAAAT</th>\n",
       "      <td>CD4 Tnaive</td>\n",
       "    </tr>\n",
       "    <tr>\n",
       "      <th>ACAAGCTAGAGAGGGC</th>\n",
       "      <td>CD4 Tnaive</td>\n",
       "    </tr>\n",
       "  </tbody>\n",
       "</table>\n",
       "</div>"
      ],
      "text/plain": [
       "                           minor_cluster\n",
       "AACCATGGTCTCAGAT              Naive Treg\n",
       "AAGAACAAGCGGCTCT  Thymic CD4 T cell (II)\n",
       "AAGCATCCATGACGTT          CD4 Tcm (Th17)\n",
       "AAGCGAGCAGACAAAT              CD4 Tnaive\n",
       "ACAAGCTAGAGAGGGC              CD4 Tnaive"
      ]
     },
     "execution_count": 62,
     "metadata": {},
     "output_type": "execute_result"
    }
   ],
   "source": [
    "df_cluster_cd4tcell = adata_cd4tcell.obs[['CD4T_cluster']]\n",
    "df_cluster_cd4tcell.columns = ['minor_cluster']\n",
    "df_cluster_cd4tcell['minor_cluster'] = df_cluster_cd4tcell['minor_cluster'].astype(str)\n",
    "df_cluster_cd4tcell.head()"
   ]
  },
  {
   "cell_type": "code",
   "execution_count": 63,
   "id": "8d6b5070",
   "metadata": {},
   "outputs": [
    {
     "name": "stderr",
     "output_type": "stream",
     "text": [
      "/home/yyasumizu/anaconda3/envs/scanpy1.7.2/lib/python3.7/site-packages/pandas/core/indexing.py:1637: SettingWithCopyWarning: \n",
      "A value is trying to be set on a copy of a slice from a DataFrame\n",
      "\n",
      "See the caveats in the documentation: https://pandas.pydata.org/pandas-docs/stable/user_guide/indexing.html#returning-a-view-versus-a-copy\n",
      "  self._setitem_single_block(indexer, value, name)\n",
      "/home/yyasumizu/anaconda3/envs/scanpy1.7.2/lib/python3.7/site-packages/pandas/core/indexing.py:692: SettingWithCopyWarning: \n",
      "A value is trying to be set on a copy of a slice from a DataFrame\n",
      "\n",
      "See the caveats in the documentation: https://pandas.pydata.org/pandas-docs/stable/user_guide/indexing.html#returning-a-view-versus-a-copy\n",
      "  iloc._setitem_with_indexer(indexer, value, self.name)\n"
     ]
    }
   ],
   "source": [
    "df_cluster.loc[df_cluster_cd4tcell.index, 'minor_cluster'] = list(df_cluster_cd4tcell['minor_cluster'])\n",
    "# df_cluster.loc[df_cluster_treg.index, 'minor_cluster'] = list(df_cluster_treg['minor_cluster'])\n",
    "adata_tcell.obs['minor_cluster'] = list(df_cluster['minor_cluster'])"
   ]
  },
  {
   "cell_type": "code",
   "execution_count": 64,
   "id": "719b1b8f",
   "metadata": {},
   "outputs": [
    {
     "name": "stderr",
     "output_type": "stream",
     "text": [
      "... storing 'minor_cluster' as categorical\n",
      "WARNING: saving figure to file scanpy/210711_merged_thymoma_MG21.22.23.03_Tcell/graph/umapminor_cluster.pdf\n"
     ]
    },
    {
     "data": {
      "text/plain": [
       "<Figure size 320x320 with 1 Axes>"
      ]
     },
     "metadata": {
      "image/png": {
       "height": 445,
       "width": 773
      }
     },
     "output_type": "display_data"
    }
   ],
   "source": [
    "sc.pl.umap(adata_tcell, \n",
    "           color=['minor_cluster'], \n",
    "           save='minor_cluster')"
   ]
  },
  {
   "cell_type": "code",
   "execution_count": 65,
   "id": "53a57c0b",
   "metadata": {},
   "outputs": [
    {
     "name": "stderr",
     "output_type": "stream",
     "text": [
      "WARNING: saving figure to file scanpy/210711_merged_thymoma_MG21.22.23.03_Tcell/graph/umapminor_cluster_out.pdf\n"
     ]
    },
    {
     "data": {
      "text/plain": [
       "<Figure size 320x320 with 1 Axes>"
      ]
     },
     "metadata": {
      "image/png": {
       "height": 445,
       "width": 773
      }
     },
     "output_type": "display_data"
    }
   ],
   "source": [
    "sc.pl.umap(adata_tcell, color='minor_cluster', title='', add_outline=True, \n",
    "           frameon=False, save='minor_cluster_out.pdf')"
   ]
  },
  {
   "cell_type": "code",
   "execution_count": 66,
   "id": "bbd46db4",
   "metadata": {},
   "outputs": [
    {
     "name": "stderr",
     "output_type": "stream",
     "text": [
      "WARNING: saving figure to file scanpy/210711_merged_thymoma_MG21.22.23.03_Tcell/graph/umapminor_cluster_middle.pdf\n"
     ]
    },
    {
     "data": {
      "text/plain": [
       "<Figure size 640x640 with 1 Axes>"
      ]
     },
     "metadata": {
      "image/png": {
       "height": 502,
       "width": 1023
      }
     },
     "output_type": "display_data"
    }
   ],
   "source": [
    "with plt.rc_context({\"figure.figsize\": (8, 8)}):\n",
    "    sc.pl.umap(adata_tcell, color='minor_cluster', add_outline=True,\n",
    "           title='', frameon=False, save='minor_cluster_middle.pdf', s=20)"
   ]
  },
  {
   "cell_type": "code",
   "execution_count": 67,
   "id": "f5b27e8b",
   "metadata": {},
   "outputs": [
    {
     "name": "stderr",
     "output_type": "stream",
     "text": [
      "WARNING: saving figure to file scanpy/210711_merged_thymoma_MG21.22.23.03_Tcell/graph/umapminor_cluster_large.pdf\n"
     ]
    },
    {
     "data": {
      "text/plain": [
       "<Figure size 1600x1600 with 1 Axes>"
      ]
     },
     "metadata": {
      "image/png": {
       "height": 1232,
       "width": 1772
      }
     },
     "output_type": "display_data"
    }
   ],
   "source": [
    "with plt.rc_context({\"figure.figsize\": (20, 20)}):\n",
    "    sc.pl.umap(adata_tcell, color='minor_cluster', add_outline=True,\n",
    "           title='', frameon=False, save='minor_cluster_large.pdf', s=100)"
   ]
  },
  {
   "cell_type": "code",
   "execution_count": 68,
   "id": "b7680064",
   "metadata": {},
   "outputs": [
    {
     "name": "stderr",
     "output_type": "stream",
     "text": [
      "WARNING: saving figure to file scanpy/210711_merged_thymoma_MG21.22.23.03_Tcell/graph/umapminor_cluster_ondata.pdf\n"
     ]
    },
    {
     "data": {
      "text/plain": [
       "<Figure size 1600x1600 with 1 Axes>"
      ]
     },
     "metadata": {
      "image/png": {
       "height": 1232,
       "width": 1264
      }
     },
     "output_type": "display_data"
    }
   ],
   "source": [
    "with plt.rc_context({\"figure.figsize\": (20, 20)}):\n",
    "    sc.pl.umap(adata_tcell, color='minor_cluster', add_outline=False,\n",
    "           title='', frameon=False, legend_loc='on data', save='minor_cluster_ondata.pdf', s=100)"
   ]
  },
  {
   "cell_type": "code",
   "execution_count": 69,
   "id": "a600851c",
   "metadata": {},
   "outputs": [
    {
     "name": "stderr",
     "output_type": "stream",
     "text": [
      "ranking genes\n",
      "    finished: added to `.uns['rank_genes_groups']`\n",
      "    'names', sorted np.recarray to be indexed by group ids\n",
      "    'scores', sorted np.recarray to be indexed by group ids\n",
      "    'logfoldchanges', sorted np.recarray to be indexed by group ids\n",
      "    'pvals', sorted np.recarray to be indexed by group ids\n",
      "    'pvals_adj', sorted np.recarray to be indexed by group ids (0:00:36)\n",
      "WARNING: saving figure to file scanpy/210711_merged_thymoma_MG21.22.23.03_Tcell/graph/rank_genes_groups_minor_cluster.pdf\n"
     ]
    },
    {
     "data": {
      "text/plain": [
       "<Figure size 1280x2240 with 27 Axes>"
      ]
     },
     "metadata": {
      "image/png": {
       "height": 1797,
       "width": 1127
      }
     },
     "output_type": "display_data"
    }
   ],
   "source": [
    "sc.tl.rank_genes_groups(adata_tcell, 'minor_cluster', method='t-test_overestim_var')\n",
    "sc.pl.rank_genes_groups(adata_tcell, n_genes=25, sharey=False)"
   ]
  },
  {
   "cell_type": "code",
   "execution_count": 70,
   "id": "a9fa20ab",
   "metadata": {},
   "outputs": [
    {
     "name": "stderr",
     "output_type": "stream",
     "text": [
      "WARNING: dendrogram data not found (using key=dendrogram_minor_cluster). Running `sc.tl.dendrogram` with default parameters. For fine tuning it is recommended to run `sc.tl.dendrogram` independently.\n",
      "    using 'X_pca' with n_pcs = 50\n",
      "Storing dendrogram info using `.uns['dendrogram_minor_cluster']`\n",
      "WARNING: saving figure to file scanpy/210711_merged_thymoma_MG21.22.23.03_Tcell/graph/dotplot_Tcell_minorcluster.pdf\n"
     ]
    },
    {
     "data": {
      "text/plain": [
       "<Figure size 4180x836 with 6 Axes>"
      ]
     },
     "metadata": {
      "image/png": {
       "height": 970,
       "width": 3514
      }
     },
     "output_type": "display_data"
    }
   ],
   "source": [
    "sc.pl.rank_genes_groups_dotplot(adata_tcell, n_genes=5, groupby='minor_cluster', save='Tcell_minorcluster.pdf')"
   ]
  },
  {
   "cell_type": "code",
   "execution_count": 71,
   "id": "37287bc7",
   "metadata": {},
   "outputs": [
    {
     "name": "stdout",
     "output_type": "stream",
     "text": [
      "MT-ND3\n",
      "CD8B\n",
      "MT-CO3\n",
      "MT-CO2\n",
      "MT-ND4\n",
      "LINC02446\n",
      "MT-ATP6\n",
      "SNHG29\n",
      "KLRK1\n",
      "MT-CYB\n",
      "EEF1B2\n",
      "TPT1\n",
      "MT-ND1\n",
      "PRKCQ-AS1\n",
      "PASK\n",
      "NACA\n",
      "MT-CO1\n",
      "CCR7\n",
      "NPM1\n",
      "LINC01871\n",
      "UBA52\n",
      "MT-ND2\n",
      "NOSIP\n",
      "TXNIP\n",
      "S100B\n",
      "TMSB10\n",
      "DSEL\n",
      "LRRN3\n",
      "AIF1\n",
      "CD8A\n",
      "FAU\n",
      "SNHG5\n",
      "PCED1B-AS1\n",
      "EEF1G\n",
      "PRMT2\n"
     ]
    }
   ],
   "source": [
    "print('\\n'.join([x for x in list(adata_tcell.uns['rank_genes_groups']['names']['CD8 Tnaive'])[:100] if not x.startswith('RP')]))"
   ]
  },
  {
   "cell_type": "code",
   "execution_count": 72,
   "id": "de367c8c",
   "metadata": {},
   "outputs": [
    {
     "name": "stderr",
     "output_type": "stream",
     "text": [
      "WARNING: saving figure to file scanpy/210711_merged_thymoma_MG21.22.23.03_Tcell/graph/umap.pdf\n"
     ]
    },
    {
     "data": {
      "text/plain": [
       "<Figure size 1545.6x640 with 12 Axes>"
      ]
     },
     "metadata": {
      "image/png": {
       "height": 577,
       "width": 1256
      }
     },
     "output_type": "display_data"
    }
   ],
   "source": [
    "sc.pl.umap(adata_tcell,\n",
    "       color=[x for x in list(adata_tcell.uns['rank_genes_groups']['names']['CD4 Tnaive'])[:10] if not x.startswith('RP')])"
   ]
  },
  {
   "cell_type": "code",
   "execution_count": 73,
   "id": "846d81fa",
   "metadata": {},
   "outputs": [],
   "source": [
    "df_p = adata_tcell.obs[['minor_cluster', 'site']].copy()\n",
    "df_p['RGS1'] = np.array(adata_tcell.raw[:,'RGS1'].X.todense()).flatten()"
   ]
  },
  {
   "cell_type": "code",
   "execution_count": 74,
   "id": "93e29dc6",
   "metadata": {},
   "outputs": [
    {
     "data": {
      "text/plain": [
       "(array([ 0,  1,  2,  3,  4,  5,  6,  7,  8,  9, 10, 11, 12, 13, 14, 15, 16,\n",
       "        17, 18, 19, 20, 21, 22, 23, 24, 25, 26]),\n",
       " [Text(0, 0, 'Activated Treg'),\n",
       "  Text(1, 0, 'CD4 Tcm (Tfh)'),\n",
       "  Text(2, 0, 'CD4 Tcm (Th0)'),\n",
       "  Text(3, 0, 'CD4 Tcm (Th2)'),\n",
       "  Text(4, 0, 'CD4 Tcm (Th17)'),\n",
       "  Text(5, 0, 'CD4 Tem (Th1)'),\n",
       "  Text(6, 0, 'CD4 Tem (Th1/17)'),\n",
       "  Text(7, 0, 'CD4 Temra (Th1)'),\n",
       "  Text(8, 0, 'CD4 Tnaive'),\n",
       "  Text(9, 0, 'CD8 Tem'),\n",
       "  Text(10, 0, 'CD8 Temra'),\n",
       "  Text(11, 0, 'CD8 Tnaive'),\n",
       "  Text(12, 0, 'CD8 Trm'),\n",
       "  Text(13, 0, 'DP T cell'),\n",
       "  Text(14, 0, 'Doublet'),\n",
       "  Text(15, 0, 'ILC'),\n",
       "  Text(16, 0, 'NK cell'),\n",
       "  Text(17, 0, 'NKT cell (periphery)'),\n",
       "  Text(18, 0, 'NKT cell (thymus)'),\n",
       "  Text(19, 0, 'Naive Treg'),\n",
       "  Text(20, 0, 'T agonist'),\n",
       "  Text(21, 0, 'Thymic CD4 T cell (I)'),\n",
       "  Text(22, 0, 'Thymic CD4 T cell (II)'),\n",
       "  Text(23, 0, 'Thymic CD8 T cell'),\n",
       "  Text(24, 0, 'aa CD8 T cell (I)'),\n",
       "  Text(25, 0, 'aa CD8 T cell (II)'),\n",
       "  Text(26, 0, 'gd T cell')])"
      ]
     },
     "execution_count": 74,
     "metadata": {},
     "output_type": "execute_result"
    },
    {
     "data": {
      "text/plain": [
       "<Figure size 800x320 with 1 Axes>"
      ]
     },
     "metadata": {
      "image/png": {
       "height": 531,
       "width": 706
      }
     },
     "output_type": "display_data"
    }
   ],
   "source": [
    "plt.figure(figsize=(10,4))\n",
    "sns.violinplot(x='minor_cluster', y='RGS1', hue='site', data=df_p, split=True)\n",
    "plt.xticks(rotation=90)"
   ]
  },
  {
   "cell_type": "code",
   "execution_count": 75,
   "id": "1dd40a01",
   "metadata": {},
   "outputs": [
    {
     "name": "stderr",
     "output_type": "stream",
     "text": [
      "WARNING: saving figure to file scanpy/210711_merged_thymoma_MG21.22.23.03_Tcell/graph/violin.pdf\n"
     ]
    },
    {
     "data": {
      "text/plain": [
       "<Figure size 372.24x320 with 1 Axes>"
      ]
     },
     "metadata": {
      "image/png": {
       "height": 314,
       "width": 288
      }
     },
     "output_type": "display_data"
    }
   ],
   "source": [
    "sc.pl.violin(adata_tcell, 'RGS1', groupby='site', )"
   ]
  },
  {
   "cell_type": "code",
   "execution_count": 76,
   "id": "1f69ad20",
   "metadata": {},
   "outputs": [
    {
     "name": "stderr",
     "output_type": "stream",
     "text": [
      "WARNING: saving figure to file scanpy/210711_merged_thymoma_MG21.22.23.03_Tcell/graph/dotplot_Tcell_minorcluster_15.pdf\n"
     ]
    },
    {
     "data": {
      "text/plain": [
       "<Figure size 12172x836 with 6 Axes>"
      ]
     },
     "metadata": {
      "image/png": {
       "height": 970,
       "width": 9747
      }
     },
     "output_type": "display_data"
    }
   ],
   "source": [
    "sc.pl.rank_genes_groups_dotplot(adata_tcell, n_genes=15, groupby='minor_cluster', save='Tcell_minorcluster_15.pdf')"
   ]
  },
  {
   "cell_type": "code",
   "execution_count": 77,
   "id": "ae87e09d",
   "metadata": {},
   "outputs": [
    {
     "name": "stderr",
     "output_type": "stream",
     "text": [
      "ranking genes\n",
      "    finished: added to `.uns['rank_genes_groups']`\n",
      "    'names', sorted np.recarray to be indexed by group ids\n",
      "    'scores', sorted np.recarray to be indexed by group ids\n",
      "    'logfoldchanges', sorted np.recarray to be indexed by group ids\n",
      "    'pvals', sorted np.recarray to be indexed by group ids\n",
      "    'pvals_adj', sorted np.recarray to be indexed by group ids (0:00:00)\n",
      "WARNING: saving figure to file scanpy/210711_merged_thymoma_MG21.22.23.03_Tcell/graph/rank_genes_groups_minor_cluster.pdf\n"
     ]
    },
    {
     "data": {
      "text/plain": [
       "<Figure size 320x320 with 1 Axes>"
      ]
     },
     "metadata": {
      "image/png": {
       "height": 338,
       "width": 423
      }
     },
     "output_type": "display_data"
    }
   ],
   "source": [
    "sc.tl.rank_genes_groups(adata_tcell, 'minor_cluster', method='t-test_overestim_var', reference='aa CD8 T cell (I)', \n",
    "                        groups=['aa CD8 T cell (II)'])\n",
    "sc.pl.rank_genes_groups(adata_tcell, n_genes=25, sharey=False)"
   ]
  },
  {
   "cell_type": "code",
   "execution_count": 78,
   "id": "2dcacba8",
   "metadata": {},
   "outputs": [],
   "source": [
    "adata_tcell.write(results_file_Tcell_minor_cluster)"
   ]
  },
  {
   "cell_type": "code",
   "execution_count": 79,
   "id": "aee4955e",
   "metadata": {},
   "outputs": [
    {
     "name": "stderr",
     "output_type": "stream",
     "text": [
      "normalizing by total count per cell\n",
      "    finished (0:00:05): normalized adata.X and added    'n_counts', counts per cell before normalization (adata.obs)\n"
     ]
    }
   ],
   "source": [
    "adata_raw = sc.read(results_raw_file_master)\n",
    "\n",
    "adata_cg = adata_raw[adata_tcell.obs.index].copy()\n",
    "adata_cg.obs = adata_tcell.obs\n",
    "adata_cg.obsm = adata_tcell.obsm\n",
    "adata_cg.uns = adata_tcell.uns\n",
    "\n",
    "sc.pp.normalize_per_cell(adata_cg, counts_per_cell_after=1e4)\n",
    "sc.pp.log1p(adata_cg)\n",
    "\n",
    "adata_cg.write(results_file_cg_Tcell_minor_cluster)"
   ]
  },
  {
   "cell_type": "markdown",
   "id": "e5b09b57",
   "metadata": {},
   "source": [
    "## Velocyto"
   ]
  },
  {
   "cell_type": "code",
   "execution_count": 254,
   "id": "d96b9e69",
   "metadata": {},
   "outputs": [],
   "source": [
    "import scvelo as scv\n",
    "mpl.rcParams['axes.grid'] = False"
   ]
  },
  {
   "cell_type": "code",
   "execution_count": 255,
   "id": "1ef87696",
   "metadata": {},
   "outputs": [
    {
     "name": "stderr",
     "output_type": "stream",
     "text": [
      "WARNING: Your filename has more than two extensions: ['.210430', '.merged', '.loom'].\n",
      "Only considering the two last: ['.merged', '.loom'].\n",
      "WARNING: Your filename has more than two extensions: ['.210430', '.merged', '.loom'].\n",
      "Only considering the two last: ['.merged', '.loom'].\n",
      "--> This might be very slow. Consider passing `cache=True`, which enables much faster reading from a cache file.\n",
      "Variable names are not unique. To make them unique, call `.var_names_make_unique`.\n"
     ]
    }
   ],
   "source": [
    "adata = sc.read('./data/velocyto.210430.merged.loom')\n",
    "adata.var_names_make_unique()\n",
    "adata.obs.index = [x.split(':')[1][:-1] for x in adata.obs.index]\n",
    "adata.obs_names_make_unique()"
   ]
  },
  {
   "cell_type": "code",
   "execution_count": 256,
   "id": "0474a022",
   "metadata": {},
   "outputs": [
    {
     "data": {
      "text/plain": [
       "AnnData object with n_obs × n_vars = 68442 × 36601\n",
       "    obs: 'Clusters', '_X', '_Y'\n",
       "    var: 'Accession', 'Chromosome', 'End', 'Start', 'Strand'\n",
       "    layers: 'matrix', 'ambiguous', 'spliced', 'unspliced'"
      ]
     },
     "execution_count": 256,
     "metadata": {},
     "output_type": "execute_result"
    }
   ],
   "source": [
    "adata"
   ]
  },
  {
   "cell_type": "code",
   "execution_count": 182,
   "id": "4dae5eea",
   "metadata": {},
   "outputs": [],
   "source": [
    "list_cluster_retain = ['CD4 T agonist', 'Th1', 'Th2', 'Th17', 'Treg', 'naive Th',\n",
    "       'thymic CD4 T cell']"
   ]
  },
  {
   "cell_type": "code",
   "execution_count": 49,
   "id": "a1692f34",
   "metadata": {},
   "outputs": [
    {
     "name": "stderr",
     "output_type": "stream",
     "text": [
      "Trying to set attribute `.obs` of view, copying.\n"
     ]
    }
   ],
   "source": [
    "mdata = sc.read(results_file_abTcell)\n",
    "mdata = mdata[mdata.obs['Tcell_cluster'].isin(list_cluster_retain)]\n",
    "list_overlap_cells = list(set(adata.obs.index) & set(mdata.obs.index))\n",
    "adata = adata[list_overlap_cells,:]\n",
    "mdata = mdata[list_overlap_cells,:]\n",
    "adata.obs['abTcell_cluster'] = mdata.obs['abTcell_cluster']\n",
    "adata.uns['abTcell_cluster_colors'] = mdata.uns['abTcell_cluster_colors']\n",
    "adata.obsm['X_umap'] = mdata.obsm['X_umap']"
   ]
  },
  {
   "cell_type": "code",
   "execution_count": 50,
   "id": "1e43085e",
   "metadata": {},
   "outputs": [
    {
     "data": {
      "text/plain": [
       "<Figure size 1000x200 with 2 Axes>"
      ]
     },
     "metadata": {
      "image/png": {
       "height": 237,
       "width": 707
      }
     },
     "output_type": "display_data"
    }
   ],
   "source": [
    "scv.pl.proportions(adata, groupby=\"abTcell_cluster\")\n",
    "# plt.grid(False)"
   ]
  },
  {
   "cell_type": "code",
   "execution_count": 51,
   "id": "33f8dcf6",
   "metadata": {},
   "outputs": [
    {
     "data": {
      "text/plain": [
       "<Figure size 1000x200 with 1 Axes>"
      ]
     },
     "metadata": {
      "image/png": {
       "height": 197,
       "width": 172
      }
     },
     "output_type": "display_data"
    }
   ],
   "source": [
    "scv.pl.proportions(adata, groupby=\"sample\")\n",
    "# plt.grid(False)"
   ]
  },
  {
   "cell_type": "code",
   "execution_count": 52,
   "id": "54e5c456",
   "metadata": {},
   "outputs": [
    {
     "name": "stdout",
     "output_type": "stream",
     "text": [
      "Filtered out 30531 genes that are detected 20 counts (shared).\n",
      "Normalized count data: X, spliced, unspliced.\n",
      "Exctracted 2000 highly variable genes.\n",
      "Logarithmized X.\n",
      "computing PCA\n",
      "    on highly variable genes\n",
      "    with n_comps=30\n",
      "    finished (0:00:01)\n",
      "computing neighbors\n",
      "    finished (0:00:08) --> added \n",
      "    'distances' and 'connectivities', weighted adjacency matrices (adata.obsp)\n",
      "computing moments based on connectivities\n",
      "    finished (0:00:01) --> added \n",
      "    'Ms' and 'Mu', moments of un/spliced abundances (adata.layers)\n"
     ]
    }
   ],
   "source": [
    "scv.pp.filter_and_normalize(adata, min_shared_counts=20, n_top_genes=2000)\n",
    "scv.pp.moments(adata, n_pcs=30, n_neighbors=30)"
   ]
  },
  {
   "cell_type": "code",
   "execution_count": 53,
   "id": "c714d71a",
   "metadata": {},
   "outputs": [
    {
     "name": "stdout",
     "output_type": "stream",
     "text": [
      "recovering dynamics\n",
      "    finished (0:03:00) --> added \n",
      "    'fit_pars', fitted parameters for splicing dynamics (adata.var)\n"
     ]
    }
   ],
   "source": [
    "scv.tl.recover_dynamics(adata)"
   ]
  },
  {
   "cell_type": "code",
   "execution_count": 54,
   "id": "fce7546b",
   "metadata": {},
   "outputs": [
    {
     "name": "stdout",
     "output_type": "stream",
     "text": [
      "computing velocities\n",
      "    finished (0:00:01) --> added \n",
      "    'velocity', velocity vectors for each individual cell (adata.layers)\n",
      "computing velocity graph\n",
      "    finished (0:00:08) --> added \n",
      "    'velocity_graph', sparse matrix with cosine correlations (adata.uns)\n"
     ]
    }
   ],
   "source": [
    "scv.tl.velocity(adata, mode='deterministic', filter_genes=True)\n",
    "scv.tl.velocity_graph(adata, n_recurse_neighbors=2)"
   ]
  },
  {
   "cell_type": "code",
   "execution_count": 66,
   "id": "11bfdb1f",
   "metadata": {},
   "outputs": [
    {
     "name": "stdout",
     "output_type": "stream",
     "text": [
      "computing velocity embedding\n",
      "    finished (0:00:03) --> added\n",
      "    'velocity_umap', embedded velocity vectors (adata.obsm)\n"
     ]
    }
   ],
   "source": [
    "scv.tl.velocity_embedding(adata, basis='umap', direct_pca_projection=False)\n",
    "# scv.tl.velocity_embedding(adata, basis='draw_graph_fr')"
   ]
  },
  {
   "cell_type": "code",
   "execution_count": 67,
   "id": "96904108",
   "metadata": {},
   "outputs": [
    {
     "data": {
      "text/plain": [
       "<Figure size 800x800 with 1 Axes>"
      ]
     },
     "metadata": {
      "image/png": {
       "height": 642,
       "width": 640
      }
     },
     "output_type": "display_data"
    }
   ],
   "source": [
    "scv.pl.velocity_embedding(adata, basis='umap', color='abTcell_cluster', \n",
    "                          legend_loc='on data', scale=.5, figsize=(10,10))\n",
    "# scv.pl.velocity_embedding(adata, basis='draw_graph_fr', color='louvain', scale=3, legend_loc='on data')"
   ]
  },
  {
   "cell_type": "code",
   "execution_count": 68,
   "id": "b1ea9c63",
   "metadata": {},
   "outputs": [
    {
     "data": {
      "text/plain": [
       "<Figure size 800x800 with 1 Axes>"
      ]
     },
     "metadata": {
      "image/png": {
       "height": 642,
       "width": 640
      }
     },
     "output_type": "display_data"
    }
   ],
   "source": [
    "scv.pl.velocity_embedding_grid(adata, basis='umap', color='abTcell_cluster',\n",
    "                               density=1, scale=.3, figsize=(10,10))\n",
    "# scv.pl.velocity_embedding_grid(adata, basis='draw_graph_fr', color='louvain', density=1, scale=2)"
   ]
  },
  {
   "cell_type": "code",
   "execution_count": 69,
   "id": "bc44d54d",
   "metadata": {},
   "outputs": [
    {
     "data": {
      "text/plain": [
       "<Figure size 320x320 with 1 Axes>"
      ]
     },
     "metadata": {
      "image/png": {
       "height": 277,
       "width": 423
      }
     },
     "output_type": "display_data"
    }
   ],
   "source": [
    "scv.pl.velocity_embedding_stream(adata, basis='umap', color='abTcell_cluster', \n",
    "                                 legend_loc='right mergin')"
   ]
  },
  {
   "cell_type": "code",
   "execution_count": 72,
   "id": "01513f0f",
   "metadata": {},
   "outputs": [
    {
     "name": "stdout",
     "output_type": "stream",
     "text": [
      "running PAGA using priors: ['velocity_pseudotime']\n",
      "    finished (0:00:03) --> added\n",
      "    'paga/connectivities', connectivities adjacency (adata.uns)\n",
      "    'paga/connectivities_tree', connectivities subtree (adata.uns)\n",
      "    'paga/transitions_confidence', velocity transitions (adata.uns)\n",
      "WARNING: Invalid color key. Using grey instead.\n"
     ]
    },
    {
     "data": {
      "text/plain": [
       "<Figure size 320x320 with 1 Axes>"
      ]
     },
     "metadata": {
      "image/png": {
       "height": 277,
       "width": 457
      }
     },
     "output_type": "display_data"
    }
   ],
   "source": [
    "scv.tl.paga(adata, groups='abTcell_cluster')\n",
    "scv.pl.paga(adata, basis='umap', size=50, alpha=.1,\n",
    "            min_edge_width=2, node_size_scale=1.5)"
   ]
  },
  {
   "cell_type": "code",
   "execution_count": 70,
   "id": "10c7d7ce",
   "metadata": {},
   "outputs": [
    {
     "name": "stdout",
     "output_type": "stream",
     "text": [
      "computing terminal states\n",
      "    identified 5 regions of root cells and 2 regions of end points .\n",
      "    finished (0:00:04) --> added\n",
      "    'root_cells', root cells of Markov diffusion process (adata.obs)\n",
      "    'end_points', end points of Markov diffusion process (adata.obs)\n"
     ]
    },
    {
     "data": {
      "text/plain": [
       "<Figure size 640x320 with 4 Axes>"
      ]
     },
     "metadata": {
      "image/png": {
       "height": 287,
       "width": 532
      }
     },
     "output_type": "display_data"
    }
   ],
   "source": [
    "scv.tl.terminal_states(adata)\n",
    "scv.pl.scatter(adata, color=['root_cells', 'end_points'])"
   ]
  },
  {
   "cell_type": "code",
   "execution_count": 60,
   "id": "6f32e0be",
   "metadata": {},
   "outputs": [
    {
     "name": "stdout",
     "output_type": "stream",
     "text": [
      "--> added 'velocity_length' (adata.obs)\n",
      "--> added 'velocity_confidence' (adata.obs)\n",
      "--> added 'velocity_confidence_transition' (adata.obs)\n"
     ]
    },
    {
     "data": {
      "text/plain": [
       "<Figure size 320x320 with 2 Axes>"
      ]
     },
     "metadata": {
      "image/png": {
       "height": 280,
       "width": 298
      }
     },
     "output_type": "display_data"
    }
   ],
   "source": [
    "scv.tl.velocity_confidence(adata)\n",
    "scv.pl.scatter(adata, color='velocity_confidence', perc=[2,98])"
   ]
  },
  {
   "cell_type": "code",
   "execution_count": 61,
   "id": "29b2c305",
   "metadata": {},
   "outputs": [
    {
     "name": "stdout",
     "output_type": "stream",
     "text": [
      "ranking velocity genes\n",
      "    finished (0:00:00) --> added \n",
      "    'rank_velocity_genes', sorted scores by group ids (adata.uns) \n",
      "    'spearmans_score', spearmans correlation scores (adata.var)\n"
     ]
    },
    {
     "data": {
      "text/html": [
       "<div>\n",
       "<style scoped>\n",
       "    .dataframe tbody tr th:only-of-type {\n",
       "        vertical-align: middle;\n",
       "    }\n",
       "\n",
       "    .dataframe tbody tr th {\n",
       "        vertical-align: top;\n",
       "    }\n",
       "\n",
       "    .dataframe thead th {\n",
       "        text-align: right;\n",
       "    }\n",
       "</style>\n",
       "<table border=\"1\" class=\"dataframe\">\n",
       "  <thead>\n",
       "    <tr style=\"text-align: right;\">\n",
       "      <th></th>\n",
       "      <th>CD4 T agonist</th>\n",
       "      <th>Th1</th>\n",
       "      <th>Th2</th>\n",
       "      <th>Th17</th>\n",
       "      <th>Treg</th>\n",
       "      <th>naive Th</th>\n",
       "      <th>thymic CD4 T cell</th>\n",
       "    </tr>\n",
       "  </thead>\n",
       "  <tbody>\n",
       "    <tr>\n",
       "      <th>0</th>\n",
       "      <td>RPS21</td>\n",
       "      <td>SRGN</td>\n",
       "      <td>RPS3A</td>\n",
       "      <td>SRGN</td>\n",
       "      <td>RPS3A</td>\n",
       "      <td>TMSB4X</td>\n",
       "      <td>TOX</td>\n",
       "    </tr>\n",
       "    <tr>\n",
       "      <th>1</th>\n",
       "      <td>ITM2A</td>\n",
       "      <td>C1orf54</td>\n",
       "      <td>SRGN</td>\n",
       "      <td>RPS3A</td>\n",
       "      <td>RPL4</td>\n",
       "      <td>TMSB10</td>\n",
       "      <td>RPS21</td>\n",
       "    </tr>\n",
       "    <tr>\n",
       "      <th>2</th>\n",
       "      <td>CCR9</td>\n",
       "      <td>AL138963.4</td>\n",
       "      <td>RPS7</td>\n",
       "      <td>RPS7</td>\n",
       "      <td>HSP90AA1</td>\n",
       "      <td>ARHGEF1</td>\n",
       "      <td>SATB1</td>\n",
       "    </tr>\n",
       "    <tr>\n",
       "      <th>3</th>\n",
       "      <td>TOX</td>\n",
       "      <td>RPL4</td>\n",
       "      <td>RPL13</td>\n",
       "      <td>RPL30</td>\n",
       "      <td>RPL23</td>\n",
       "      <td>FMNL1</td>\n",
       "      <td>TOX2</td>\n",
       "    </tr>\n",
       "    <tr>\n",
       "      <th>4</th>\n",
       "      <td>CD99</td>\n",
       "      <td>RPS3A</td>\n",
       "      <td>FAU</td>\n",
       "      <td>FAU</td>\n",
       "      <td>FOS</td>\n",
       "      <td>CD74</td>\n",
       "      <td>ITM2A</td>\n",
       "    </tr>\n",
       "  </tbody>\n",
       "</table>\n",
       "</div>"
      ],
      "text/plain": [
       "  CD4 T agonist         Th1    Th2   Th17      Treg naive Th thymic CD4 T cell\n",
       "0         RPS21        SRGN  RPS3A   SRGN     RPS3A   TMSB4X               TOX\n",
       "1         ITM2A     C1orf54   SRGN  RPS3A      RPL4   TMSB10             RPS21\n",
       "2          CCR9  AL138963.4   RPS7   RPS7  HSP90AA1  ARHGEF1             SATB1\n",
       "3           TOX        RPL4  RPL13  RPL30     RPL23    FMNL1              TOX2\n",
       "4          CD99       RPS3A    FAU    FAU       FOS     CD74             ITM2A"
      ]
     },
     "execution_count": 61,
     "metadata": {},
     "output_type": "execute_result"
    }
   ],
   "source": [
    "scv.tl.rank_velocity_genes(adata, groupby='abTcell_cluster', min_corr=.3)\n",
    "\n",
    "df = scv.DataFrame(adata.uns['rank_velocity_genes']['names'])\n",
    "df.head()"
   ]
  },
  {
   "cell_type": "code",
   "execution_count": 62,
   "id": "6da8ccdb",
   "metadata": {},
   "outputs": [
    {
     "data": {
      "text/plain": [
       "<Figure size 1200x2000 with 25 Axes>"
      ]
     },
     "metadata": {
      "image/png": {
       "height": 1585,
       "width": 1009
      }
     },
     "output_type": "display_data"
    }
   ],
   "source": [
    "scv.pl.velocity(adata, var_names=df.head(5)['Treg'],\n",
    "                color='abTcell_cluster', basis='umap', figsize=(10,10))"
   ]
  },
  {
   "cell_type": "code",
   "execution_count": 63,
   "id": "5b7671d7",
   "metadata": {},
   "outputs": [
    {
     "name": "stdout",
     "output_type": "stream",
     "text": [
      "computing latent time using root_cells as prior\n",
      "    finished (0:00:03) --> added \n",
      "    'latent_time', shared time (adata.obs)\n"
     ]
    },
    {
     "data": {
      "text/plain": [
       "<Figure size 320x320 with 2 Axes>"
      ]
     },
     "metadata": {
      "image/png": {
       "height": 287,
       "width": 283
      }
     },
     "output_type": "display_data"
    }
   ],
   "source": [
    "scv.tl.latent_time(adata)\n",
    "scv.pl.scatter(adata, color='latent_time', color_map='gnuplot', size=80)"
   ]
  },
  {
   "cell_type": "code",
   "execution_count": 64,
   "id": "438eae07",
   "metadata": {},
   "outputs": [
    {
     "data": {
      "text/plain": [
       "<Figure size 640x320 with 4 Axes>"
      ]
     },
     "metadata": {
      "image/png": {
       "height": 302,
       "width": 622
      }
     },
     "output_type": "display_data"
    }
   ],
   "source": [
    "top_genes = adata.var['fit_likelihood'].sort_values(ascending=False).index[:300]\n",
    "scv.pl.heatmap(adata, var_names=top_genes, sortby='latent_time', \n",
    "               col_color='abTcell_cluster', \n",
    "               n_convolve=100)"
   ]
  },
  {
   "cell_type": "markdown",
   "id": "5f028e2c",
   "metadata": {},
   "source": [
    "## TCR"
   ]
  },
  {
   "cell_type": "code",
   "execution_count": 3,
   "id": "31d006e0",
   "metadata": {},
   "outputs": [],
   "source": [
    "import scirpy as ir"
   ]
  },
  {
   "cell_type": "code",
   "execution_count": 4,
   "id": "616b8d51",
   "metadata": {},
   "outputs": [],
   "source": [
    "adata = sc.read(results_file_CD4Tcell)\n",
    "adata = adata[adata.obs['sample'].isin(['MG03_PT', 'MG03_TL'])]"
   ]
  },
  {
   "cell_type": "code",
   "execution_count": 5,
   "id": "66e448d0",
   "metadata": {},
   "outputs": [],
   "source": [
    "df_ir = pd.concat([pd.read_csv('data/cellranger/MG03_PT_TCR/filtered_contig_annotations.csv'),\n",
    "pd.read_csv('data/cellranger/MG03_TL_TCR/filtered_contig_annotations.csv')])\n",
    "df_ir['barcode'] = df_ir['barcode'].str.split('-').str.get(0)\n",
    "df_ir.to_csv('data/cellranger/MG03_TCR.csv', index=None)"
   ]
  },
  {
   "cell_type": "code",
   "execution_count": 6,
   "id": "51ca4285",
   "metadata": {},
   "outputs": [],
   "source": [
    "mg03_ir = ir.io.read_10x_vdj('data/cellranger/MG03_TCR.csv')\n",
    "ir.pp.merge_with_ir(adata, mg03_ir)"
   ]
  },
  {
   "cell_type": "code",
   "execution_count": 7,
   "id": "e7bb5abd",
   "metadata": {},
   "outputs": [
    {
     "data": {
      "text/plain": [
       "MG03_PT    9900\n",
       "MG03_TL     404\n",
       "Name: sample, dtype: int64"
      ]
     },
     "execution_count": 7,
     "metadata": {},
     "output_type": "execute_result"
    }
   ],
   "source": [
    "adata[adata.obs['has_ir'] == 'True'].obs['sample'].value_counts()"
   ]
  },
  {
   "cell_type": "code",
   "execution_count": 8,
   "id": "2ff397ca",
   "metadata": {},
   "outputs": [
    {
     "data": {
      "text/html": [
       "<div>\n",
       "<style scoped>\n",
       "    .dataframe tbody tr th:only-of-type {\n",
       "        vertical-align: middle;\n",
       "    }\n",
       "\n",
       "    .dataframe tbody tr th {\n",
       "        vertical-align: top;\n",
       "    }\n",
       "\n",
       "    .dataframe thead th {\n",
       "        text-align: right;\n",
       "    }\n",
       "</style>\n",
       "<table border=\"1\" class=\"dataframe\">\n",
       "  <thead>\n",
       "    <tr style=\"text-align: right;\">\n",
       "      <th></th>\n",
       "      <th>sample</th>\n",
       "      <th>sample_type</th>\n",
       "      <th>site</th>\n",
       "      <th>fraction</th>\n",
       "      <th>n_genes</th>\n",
       "      <th>individual</th>\n",
       "      <th>score_DEGs</th>\n",
       "      <th>score_yellow</th>\n",
       "      <th>score_GWAS</th>\n",
       "      <th>n_counts</th>\n",
       "      <th>...</th>\n",
       "      <th>IR_VDJ_2_sequence_id</th>\n",
       "      <th>IR_VJ_1_v_call</th>\n",
       "      <th>IR_VJ_2_v_call</th>\n",
       "      <th>IR_VDJ_1_v_call</th>\n",
       "      <th>IR_VDJ_2_v_call</th>\n",
       "      <th>IR_VJ_1_v_cigar</th>\n",
       "      <th>IR_VJ_2_v_cigar</th>\n",
       "      <th>IR_VDJ_1_v_cigar</th>\n",
       "      <th>IR_VDJ_2_v_cigar</th>\n",
       "      <th>has_ir</th>\n",
       "    </tr>\n",
       "  </thead>\n",
       "  <tbody>\n",
       "    <tr>\n",
       "      <th>AAACCTGGTCGACTAT</th>\n",
       "      <td>MG03_TL</td>\n",
       "      <td>TL</td>\n",
       "      <td>Thymus</td>\n",
       "      <td>Lymphocytes</td>\n",
       "      <td>1495</td>\n",
       "      <td>MG03_TL</td>\n",
       "      <td>-0.012844</td>\n",
       "      <td>-0.015708</td>\n",
       "      <td>0.028718</td>\n",
       "      <td>2634.0</td>\n",
       "      <td>...</td>\n",
       "      <td>NaN</td>\n",
       "      <td>TRAV8-3</td>\n",
       "      <td>NaN</td>\n",
       "      <td>TRBV6-2</td>\n",
       "      <td>NaN</td>\n",
       "      <td>NaN</td>\n",
       "      <td>NaN</td>\n",
       "      <td>NaN</td>\n",
       "      <td>NaN</td>\n",
       "      <td>True</td>\n",
       "    </tr>\n",
       "    <tr>\n",
       "      <th>AAAGATGGTCTCCACT</th>\n",
       "      <td>MG03_TL</td>\n",
       "      <td>TL</td>\n",
       "      <td>Thymus</td>\n",
       "      <td>Lymphocytes</td>\n",
       "      <td>2070</td>\n",
       "      <td>MG03_TL</td>\n",
       "      <td>-0.021947</td>\n",
       "      <td>-0.021999</td>\n",
       "      <td>-0.068362</td>\n",
       "      <td>4768.0</td>\n",
       "      <td>...</td>\n",
       "      <td>NaN</td>\n",
       "      <td>TRAV25</td>\n",
       "      <td>NaN</td>\n",
       "      <td>TRBV10-2</td>\n",
       "      <td>NaN</td>\n",
       "      <td>NaN</td>\n",
       "      <td>NaN</td>\n",
       "      <td>NaN</td>\n",
       "      <td>NaN</td>\n",
       "      <td>True</td>\n",
       "    </tr>\n",
       "    <tr>\n",
       "      <th>AAAGCAAAGCGTCTAT</th>\n",
       "      <td>MG03_TL</td>\n",
       "      <td>TL</td>\n",
       "      <td>Thymus</td>\n",
       "      <td>Lymphocytes</td>\n",
       "      <td>1555</td>\n",
       "      <td>MG03_TL</td>\n",
       "      <td>-0.021947</td>\n",
       "      <td>-0.021999</td>\n",
       "      <td>0.088329</td>\n",
       "      <td>2987.0</td>\n",
       "      <td>...</td>\n",
       "      <td>NaN</td>\n",
       "      <td>TRAV41</td>\n",
       "      <td>NaN</td>\n",
       "      <td>TRBV9</td>\n",
       "      <td>NaN</td>\n",
       "      <td>NaN</td>\n",
       "      <td>NaN</td>\n",
       "      <td>NaN</td>\n",
       "      <td>NaN</td>\n",
       "      <td>True</td>\n",
       "    </tr>\n",
       "    <tr>\n",
       "      <th>AACACGTAGACATAAC</th>\n",
       "      <td>MG03_TL</td>\n",
       "      <td>TL</td>\n",
       "      <td>Thymus</td>\n",
       "      <td>Lymphocytes</td>\n",
       "      <td>1457</td>\n",
       "      <td>MG03_TL</td>\n",
       "      <td>-0.001561</td>\n",
       "      <td>-0.004398</td>\n",
       "      <td>0.118344</td>\n",
       "      <td>2704.0</td>\n",
       "      <td>...</td>\n",
       "      <td>NaN</td>\n",
       "      <td>TRAV9-2</td>\n",
       "      <td>NaN</td>\n",
       "      <td>TRBV7-8</td>\n",
       "      <td>NaN</td>\n",
       "      <td>NaN</td>\n",
       "      <td>NaN</td>\n",
       "      <td>NaN</td>\n",
       "      <td>NaN</td>\n",
       "      <td>True</td>\n",
       "    </tr>\n",
       "    <tr>\n",
       "      <th>AACACGTCAGACGTAG</th>\n",
       "      <td>MG03_TL</td>\n",
       "      <td>TL</td>\n",
       "      <td>Thymus</td>\n",
       "      <td>Lymphocytes</td>\n",
       "      <td>1553</td>\n",
       "      <td>MG03_TL</td>\n",
       "      <td>-0.006078</td>\n",
       "      <td>-0.007100</td>\n",
       "      <td>0.201709</td>\n",
       "      <td>2750.0</td>\n",
       "      <td>...</td>\n",
       "      <td>NaN</td>\n",
       "      <td>TRAV21</td>\n",
       "      <td>NaN</td>\n",
       "      <td>TRBV9</td>\n",
       "      <td>NaN</td>\n",
       "      <td>NaN</td>\n",
       "      <td>NaN</td>\n",
       "      <td>NaN</td>\n",
       "      <td>NaN</td>\n",
       "      <td>True</td>\n",
       "    </tr>\n",
       "    <tr>\n",
       "      <th>...</th>\n",
       "      <td>...</td>\n",
       "      <td>...</td>\n",
       "      <td>...</td>\n",
       "      <td>...</td>\n",
       "      <td>...</td>\n",
       "      <td>...</td>\n",
       "      <td>...</td>\n",
       "      <td>...</td>\n",
       "      <td>...</td>\n",
       "      <td>...</td>\n",
       "      <td>...</td>\n",
       "      <td>...</td>\n",
       "      <td>...</td>\n",
       "      <td>...</td>\n",
       "      <td>...</td>\n",
       "      <td>...</td>\n",
       "      <td>...</td>\n",
       "      <td>...</td>\n",
       "      <td>...</td>\n",
       "      <td>...</td>\n",
       "      <td>...</td>\n",
       "    </tr>\n",
       "    <tr>\n",
       "      <th>TTTGTCATCCGAAGAG</th>\n",
       "      <td>MG03_PT</td>\n",
       "      <td>PT</td>\n",
       "      <td>Periphery</td>\n",
       "      <td>Stroma</td>\n",
       "      <td>1876</td>\n",
       "      <td>MG03_PT</td>\n",
       "      <td>-0.013117</td>\n",
       "      <td>-0.015981</td>\n",
       "      <td>0.114369</td>\n",
       "      <td>5211.0</td>\n",
       "      <td>...</td>\n",
       "      <td>NaN</td>\n",
       "      <td>TRAV21</td>\n",
       "      <td>NaN</td>\n",
       "      <td>TRBV20-1</td>\n",
       "      <td>NaN</td>\n",
       "      <td>NaN</td>\n",
       "      <td>NaN</td>\n",
       "      <td>NaN</td>\n",
       "      <td>NaN</td>\n",
       "      <td>True</td>\n",
       "    </tr>\n",
       "    <tr>\n",
       "      <th>TTTGTCATCCTAAGTG</th>\n",
       "      <td>MG03_PT</td>\n",
       "      <td>PT</td>\n",
       "      <td>Periphery</td>\n",
       "      <td>Stroma</td>\n",
       "      <td>4154</td>\n",
       "      <td>MG03_PT</td>\n",
       "      <td>-0.044635</td>\n",
       "      <td>-0.047574</td>\n",
       "      <td>0.174934</td>\n",
       "      <td>14176.0</td>\n",
       "      <td>...</td>\n",
       "      <td>NaN</td>\n",
       "      <td>NaN</td>\n",
       "      <td>NaN</td>\n",
       "      <td>NaN</td>\n",
       "      <td>NaN</td>\n",
       "      <td>NaN</td>\n",
       "      <td>NaN</td>\n",
       "      <td>NaN</td>\n",
       "      <td>NaN</td>\n",
       "      <td>None</td>\n",
       "    </tr>\n",
       "    <tr>\n",
       "      <th>TTTGTCATCTCAAACG</th>\n",
       "      <td>MG03_PT</td>\n",
       "      <td>PT</td>\n",
       "      <td>Periphery</td>\n",
       "      <td>Stroma</td>\n",
       "      <td>2841</td>\n",
       "      <td>MG03_PT</td>\n",
       "      <td>-0.027689</td>\n",
       "      <td>-0.027755</td>\n",
       "      <td>0.155677</td>\n",
       "      <td>9485.0</td>\n",
       "      <td>...</td>\n",
       "      <td>NaN</td>\n",
       "      <td>TRAV4</td>\n",
       "      <td>TRAV29/DV5</td>\n",
       "      <td>TRBV11-1</td>\n",
       "      <td>TRBV10-2</td>\n",
       "      <td>NaN</td>\n",
       "      <td>NaN</td>\n",
       "      <td>NaN</td>\n",
       "      <td>NaN</td>\n",
       "      <td>True</td>\n",
       "    </tr>\n",
       "    <tr>\n",
       "      <th>TTTGTCATCTGGGCCA</th>\n",
       "      <td>MG03_PT</td>\n",
       "      <td>PT</td>\n",
       "      <td>Periphery</td>\n",
       "      <td>Stroma</td>\n",
       "      <td>2121</td>\n",
       "      <td>MG03_PT</td>\n",
       "      <td>-0.018526</td>\n",
       "      <td>-0.018570</td>\n",
       "      <td>0.138510</td>\n",
       "      <td>5629.0</td>\n",
       "      <td>...</td>\n",
       "      <td>NaN</td>\n",
       "      <td>TRAV23/DV6</td>\n",
       "      <td>NaN</td>\n",
       "      <td>TRBV6-1</td>\n",
       "      <td>NaN</td>\n",
       "      <td>NaN</td>\n",
       "      <td>NaN</td>\n",
       "      <td>NaN</td>\n",
       "      <td>NaN</td>\n",
       "      <td>True</td>\n",
       "    </tr>\n",
       "    <tr>\n",
       "      <th>TTTGTCATCTGTTTGT</th>\n",
       "      <td>MG03_PT</td>\n",
       "      <td>PT</td>\n",
       "      <td>Periphery</td>\n",
       "      <td>Stroma</td>\n",
       "      <td>2406</td>\n",
       "      <td>MG03_PT</td>\n",
       "      <td>-0.012364</td>\n",
       "      <td>-0.018710</td>\n",
       "      <td>0.108364</td>\n",
       "      <td>5587.0</td>\n",
       "      <td>...</td>\n",
       "      <td>NaN</td>\n",
       "      <td>TRAV17</td>\n",
       "      <td>NaN</td>\n",
       "      <td>TRBV2</td>\n",
       "      <td>NaN</td>\n",
       "      <td>NaN</td>\n",
       "      <td>NaN</td>\n",
       "      <td>NaN</td>\n",
       "      <td>NaN</td>\n",
       "      <td>True</td>\n",
       "    </tr>\n",
       "  </tbody>\n",
       "</table>\n",
       "<p>10897 rows × 94 columns</p>\n",
       "</div>"
      ],
      "text/plain": [
       "                   sample sample_type       site     fraction  n_genes  \\\n",
       "AAACCTGGTCGACTAT  MG03_TL          TL     Thymus  Lymphocytes     1495   \n",
       "AAAGATGGTCTCCACT  MG03_TL          TL     Thymus  Lymphocytes     2070   \n",
       "AAAGCAAAGCGTCTAT  MG03_TL          TL     Thymus  Lymphocytes     1555   \n",
       "AACACGTAGACATAAC  MG03_TL          TL     Thymus  Lymphocytes     1457   \n",
       "AACACGTCAGACGTAG  MG03_TL          TL     Thymus  Lymphocytes     1553   \n",
       "...                   ...         ...        ...          ...      ...   \n",
       "TTTGTCATCCGAAGAG  MG03_PT          PT  Periphery       Stroma     1876   \n",
       "TTTGTCATCCTAAGTG  MG03_PT          PT  Periphery       Stroma     4154   \n",
       "TTTGTCATCTCAAACG  MG03_PT          PT  Periphery       Stroma     2841   \n",
       "TTTGTCATCTGGGCCA  MG03_PT          PT  Periphery       Stroma     2121   \n",
       "TTTGTCATCTGTTTGT  MG03_PT          PT  Periphery       Stroma     2406   \n",
       "\n",
       "                 individual  score_DEGs  score_yellow  score_GWAS  n_counts  \\\n",
       "AAACCTGGTCGACTAT    MG03_TL   -0.012844     -0.015708    0.028718    2634.0   \n",
       "AAAGATGGTCTCCACT    MG03_TL   -0.021947     -0.021999   -0.068362    4768.0   \n",
       "AAAGCAAAGCGTCTAT    MG03_TL   -0.021947     -0.021999    0.088329    2987.0   \n",
       "AACACGTAGACATAAC    MG03_TL   -0.001561     -0.004398    0.118344    2704.0   \n",
       "AACACGTCAGACGTAG    MG03_TL   -0.006078     -0.007100    0.201709    2750.0   \n",
       "...                     ...         ...           ...         ...       ...   \n",
       "TTTGTCATCCGAAGAG    MG03_PT   -0.013117     -0.015981    0.114369    5211.0   \n",
       "TTTGTCATCCTAAGTG    MG03_PT   -0.044635     -0.047574    0.174934   14176.0   \n",
       "TTTGTCATCTCAAACG    MG03_PT   -0.027689     -0.027755    0.155677    9485.0   \n",
       "TTTGTCATCTGGGCCA    MG03_PT   -0.018526     -0.018570    0.138510    5629.0   \n",
       "TTTGTCATCTGTTTGT    MG03_PT   -0.012364     -0.018710    0.108364    5587.0   \n",
       "\n",
       "                  ...  IR_VDJ_2_sequence_id  IR_VJ_1_v_call  IR_VJ_2_v_call  \\\n",
       "AAACCTGGTCGACTAT  ...                   NaN         TRAV8-3             NaN   \n",
       "AAAGATGGTCTCCACT  ...                   NaN          TRAV25             NaN   \n",
       "AAAGCAAAGCGTCTAT  ...                   NaN          TRAV41             NaN   \n",
       "AACACGTAGACATAAC  ...                   NaN         TRAV9-2             NaN   \n",
       "AACACGTCAGACGTAG  ...                   NaN          TRAV21             NaN   \n",
       "...               ...                   ...             ...             ...   \n",
       "TTTGTCATCCGAAGAG  ...                   NaN          TRAV21             NaN   \n",
       "TTTGTCATCCTAAGTG  ...                   NaN             NaN             NaN   \n",
       "TTTGTCATCTCAAACG  ...                   NaN           TRAV4      TRAV29/DV5   \n",
       "TTTGTCATCTGGGCCA  ...                   NaN      TRAV23/DV6             NaN   \n",
       "TTTGTCATCTGTTTGT  ...                   NaN          TRAV17             NaN   \n",
       "\n",
       "                  IR_VDJ_1_v_call IR_VDJ_2_v_call IR_VJ_1_v_cigar  \\\n",
       "AAACCTGGTCGACTAT          TRBV6-2             NaN             NaN   \n",
       "AAAGATGGTCTCCACT         TRBV10-2             NaN             NaN   \n",
       "AAAGCAAAGCGTCTAT            TRBV9             NaN             NaN   \n",
       "AACACGTAGACATAAC          TRBV7-8             NaN             NaN   \n",
       "AACACGTCAGACGTAG            TRBV9             NaN             NaN   \n",
       "...                           ...             ...             ...   \n",
       "TTTGTCATCCGAAGAG         TRBV20-1             NaN             NaN   \n",
       "TTTGTCATCCTAAGTG              NaN             NaN             NaN   \n",
       "TTTGTCATCTCAAACG         TRBV11-1        TRBV10-2             NaN   \n",
       "TTTGTCATCTGGGCCA          TRBV6-1             NaN             NaN   \n",
       "TTTGTCATCTGTTTGT            TRBV2             NaN             NaN   \n",
       "\n",
       "                 IR_VJ_2_v_cigar IR_VDJ_1_v_cigar IR_VDJ_2_v_cigar has_ir  \n",
       "AAACCTGGTCGACTAT             NaN              NaN              NaN   True  \n",
       "AAAGATGGTCTCCACT             NaN              NaN              NaN   True  \n",
       "AAAGCAAAGCGTCTAT             NaN              NaN              NaN   True  \n",
       "AACACGTAGACATAAC             NaN              NaN              NaN   True  \n",
       "AACACGTCAGACGTAG             NaN              NaN              NaN   True  \n",
       "...                          ...              ...              ...    ...  \n",
       "TTTGTCATCCGAAGAG             NaN              NaN              NaN   True  \n",
       "TTTGTCATCCTAAGTG             NaN              NaN              NaN   None  \n",
       "TTTGTCATCTCAAACG             NaN              NaN              NaN   True  \n",
       "TTTGTCATCTGGGCCA             NaN              NaN              NaN   True  \n",
       "TTTGTCATCTGTTTGT             NaN              NaN              NaN   True  \n",
       "\n",
       "[10897 rows x 94 columns]"
      ]
     },
     "execution_count": 8,
     "metadata": {},
     "output_type": "execute_result"
    }
   ],
   "source": [
    "adata.obs"
   ]
  },
  {
   "cell_type": "code",
   "execution_count": 9,
   "id": "5f0a72ee",
   "metadata": {},
   "outputs": [
    {
     "data": {
      "text/plain": [
       "CD4 Tnaive                4571\n",
       "CD4 Tem (Th1/17)          1546\n",
       "CD4 Tcm (Tfh)              763\n",
       "CD4 Tcm (Th17)             651\n",
       "CD4 Tcm (Th0)              644\n",
       "Naive Treg                 440\n",
       "CD4 Temra (Th1)            313\n",
       "T agonist                  273\n",
       "CD4 Tcm (Th2)              258\n",
       "Thymic CD4 T cell (II)     239\n",
       "Activated Treg             209\n",
       "Thymic CD4 T cell (I)      179\n",
       "CD4 Tem (Th1)              165\n",
       "CD8 Tnaive                  53\n",
       "Name: CD4T_cluster, dtype: int64"
      ]
     },
     "execution_count": 9,
     "metadata": {},
     "output_type": "execute_result"
    }
   ],
   "source": [
    "adata[adata.obs['has_ir'] == 'True'].obs['CD4T_cluster'].value_counts()"
   ]
  },
  {
   "cell_type": "code",
   "execution_count": 10,
   "id": "b60710dc",
   "metadata": {},
   "outputs": [],
   "source": [
    "ir.tl.chain_qc(adata)"
   ]
  },
  {
   "cell_type": "code",
   "execution_count": 11,
   "id": "7d78f3a3",
   "metadata": {},
   "outputs": [
    {
     "name": "stderr",
     "output_type": "stream",
     "text": [
      "... storing 'receptor_type' as categorical\n",
      "... storing 'receptor_subtype' as categorical\n",
      "... storing 'chain_pairing' as categorical\n"
     ]
    },
    {
     "data": {
      "text/plain": [
       "<Figure size 412.8x309.6 with 1 Axes>"
      ]
     },
     "metadata": {
      "image/png": {
       "height": 285,
       "width": 549
      }
     },
     "output_type": "display_data"
    }
   ],
   "source": [
    "ax = ir.pl.group_abundance(adata, groupby=\"receptor_subtype\", target_col=\"sample\")"
   ]
  },
  {
   "cell_type": "code",
   "execution_count": 12,
   "id": "3dce3c11",
   "metadata": {},
   "outputs": [
    {
     "name": "stderr",
     "output_type": "stream",
     "text": [
      "Computing sequence x sequence distance matrix for VJ sequences.\n"
     ]
    },
    {
     "data": {
      "application/vnd.jupyter.widget-view+json": {
       "model_id": "fe00e54183f649a897e9125abc924784",
       "version_major": 2,
       "version_minor": 0
      },
      "text/plain": [
       "  0%|          | 0/18721 [00:00<?, ?it/s]"
      ]
     },
     "metadata": {},
     "output_type": "display_data"
    },
    {
     "name": "stderr",
     "output_type": "stream",
     "text": [
      "Computing sequence x sequence distance matrix for VDJ sequences.\n"
     ]
    },
    {
     "data": {
      "application/vnd.jupyter.widget-view+json": {
       "model_id": "46833312149440b69097c444da62a486",
       "version_major": 2,
       "version_minor": 0
      },
      "text/plain": [
       "  0%|          | 0/18721 [00:00<?, ?it/s]"
      ]
     },
     "metadata": {},
     "output_type": "display_data"
    }
   ],
   "source": [
    "ir.pp.ir_dist(\n",
    "    adata,\n",
    "    metric=\"alignment\",\n",
    "    sequence=\"aa\",\n",
    "    cutoff=15,\n",
    ")"
   ]
  },
  {
   "cell_type": "code",
   "execution_count": 13,
   "id": "3bdea72c",
   "metadata": {},
   "outputs": [
    {
     "name": "stderr",
     "output_type": "stream",
     "text": [
      "Initializing lookup tables. \n",
      "--> Done initializing lookup tables. (0:00:01)\n",
      "Computing clonotype x clonotype distances.\n",
      "NB: Computation happens in chunks. The progressbar only advances when a chunk has finished. \n"
     ]
    },
    {
     "data": {
      "application/vnd.jupyter.widget-view+json": {
       "model_id": "1f20388d2f1e42329e2f7c3d18296925",
       "version_major": 2,
       "version_minor": 0
      },
      "text/plain": [
       "  0%|          | 0/9423 [00:00<?, ?it/s]"
      ]
     },
     "metadata": {},
     "output_type": "display_data"
    },
    {
     "name": "stderr",
     "output_type": "stream",
     "text": [
      "--> Done computing clonotype x clonotype distances.  (0:00:13)\n",
      "Stored clonal assignments in `adata.obs[\"cc_aa_alignment\"]`.\n"
     ]
    }
   ],
   "source": [
    "ir.tl.define_clonotype_clusters(\n",
    "    adata, sequence=\"aa\", metric=\"alignment\", receptor_arms=\"all\", dual_ir=\"any\"\n",
    ")"
   ]
  },
  {
   "cell_type": "code",
   "execution_count": 14,
   "id": "4b5f40d4",
   "metadata": {},
   "outputs": [],
   "source": [
    "ir.tl.clonotype_network(adata, min_cells=3, sequence=\"aa\", metric=\"alignment\")"
   ]
  },
  {
   "cell_type": "code",
   "execution_count": 15,
   "id": "28b62c0e",
   "metadata": {},
   "outputs": [
    {
     "name": "stderr",
     "output_type": "stream",
     "text": [
      "... storing 'cc_aa_alignment' as categorical\n"
     ]
    },
    {
     "data": {
      "text/plain": [
       "<AxesSubplot:>"
      ]
     },
     "execution_count": 15,
     "metadata": {},
     "output_type": "execute_result"
    },
    {
     "data": {
      "text/plain": [
       "<Figure size 760x560 with 4 Axes>"
      ]
     },
     "metadata": {
      "image/png": {
       "height": 508,
       "width": 803
      }
     },
     "output_type": "display_data"
    }
   ],
   "source": [
    "ir.pl.clonotype_network(\n",
    "    adata, color=\"CD4T_cluster\", label_fontsize=9, panel_size=(7, 7), base_size=20\n",
    ")"
   ]
  },
  {
   "cell_type": "code",
   "execution_count": 16,
   "id": "eae8b173",
   "metadata": {},
   "outputs": [
    {
     "data": {
      "text/plain": [
       "AnnData object with n_obs × n_vars = 10897 × 1053\n",
       "    obs: 'sample', 'sample_type', 'site', 'fraction', 'n_genes', 'individual', 'score_DEGs', 'score_yellow', 'score_GWAS', 'n_counts', 'n_genes_by_counts', 'total_counts', 'total_counts_mt', 'pct_counts_mt', 'leiden', 'leiden_R', 'CD4T_cluster', 'multi_chain', 'extra_chains', 'is_cell', 'high_confidence', 'IR_VJ_1_c_call', 'IR_VJ_2_c_call', 'IR_VDJ_1_c_call', 'IR_VDJ_2_c_call', 'IR_VJ_1_consensus_count', 'IR_VJ_2_consensus_count', 'IR_VDJ_1_consensus_count', 'IR_VDJ_2_consensus_count', 'IR_VJ_1_d_call', 'IR_VJ_2_d_call', 'IR_VDJ_1_d_call', 'IR_VDJ_2_d_call', 'IR_VJ_1_d_cigar', 'IR_VJ_2_d_cigar', 'IR_VDJ_1_d_cigar', 'IR_VDJ_2_d_cigar', 'IR_VJ_1_duplicate_count', 'IR_VJ_2_duplicate_count', 'IR_VDJ_1_duplicate_count', 'IR_VDJ_2_duplicate_count', 'IR_VJ_1_germline_alignment', 'IR_VJ_2_germline_alignment', 'IR_VDJ_1_germline_alignment', 'IR_VDJ_2_germline_alignment', 'IR_VJ_1_j_call', 'IR_VJ_2_j_call', 'IR_VDJ_1_j_call', 'IR_VDJ_2_j_call', 'IR_VJ_1_j_cigar', 'IR_VJ_2_j_cigar', 'IR_VDJ_1_j_cigar', 'IR_VDJ_2_j_cigar', 'IR_VJ_1_junction', 'IR_VJ_2_junction', 'IR_VDJ_1_junction', 'IR_VDJ_2_junction', 'IR_VJ_1_junction_aa', 'IR_VJ_2_junction_aa', 'IR_VDJ_1_junction_aa', 'IR_VDJ_2_junction_aa', 'IR_VJ_1_locus', 'IR_VJ_2_locus', 'IR_VDJ_1_locus', 'IR_VDJ_2_locus', 'IR_VJ_1_productive', 'IR_VJ_2_productive', 'IR_VDJ_1_productive', 'IR_VDJ_2_productive', 'IR_VJ_1_rev_comp', 'IR_VJ_2_rev_comp', 'IR_VDJ_1_rev_comp', 'IR_VDJ_2_rev_comp', 'IR_VJ_1_sequence', 'IR_VJ_2_sequence', 'IR_VDJ_1_sequence', 'IR_VDJ_2_sequence', 'IR_VJ_1_sequence_alignment', 'IR_VJ_2_sequence_alignment', 'IR_VDJ_1_sequence_alignment', 'IR_VDJ_2_sequence_alignment', 'IR_VJ_1_sequence_id', 'IR_VJ_2_sequence_id', 'IR_VDJ_1_sequence_id', 'IR_VDJ_2_sequence_id', 'IR_VJ_1_v_call', 'IR_VJ_2_v_call', 'IR_VDJ_1_v_call', 'IR_VDJ_2_v_call', 'IR_VJ_1_v_cigar', 'IR_VJ_2_v_cigar', 'IR_VDJ_1_v_cigar', 'IR_VDJ_2_v_cigar', 'has_ir', 'receptor_type', 'receptor_subtype', 'chain_pairing', 'cc_aa_alignment', 'cc_aa_alignment_size'\n",
       "    var: 'mt', 'n_cells_by_counts', 'mean_counts', 'pct_dropout_by_counts', 'total_counts', 'mean', 'std'\n",
       "    uns: 'CD4T_cluster_colors', 'CD4T_cluster_sizes', 'dendrogram_CD4T_cluster', 'dendrogram_leiden', 'dendrogram_leiden_R', 'leiden', 'leiden_R_colors', 'leiden_R_sizes', 'leiden_colors', 'neighbors', 'paga', 'pca', 'rank_genes_groups', 'sample_colors', 'site_colors', 'umap', 'ir_dist_aa_alignment', 'cc_aa_alignment', 'clonotype_network'\n",
       "    obsm: 'X_pca', 'X_umap', 'X_clonotype_network'\n",
       "    varm: 'PCs'\n",
       "    obsp: 'connectivities', 'distances'"
      ]
     },
     "execution_count": 16,
     "metadata": {},
     "output_type": "execute_result"
    }
   ],
   "source": [
    "adata"
   ]
  },
  {
   "cell_type": "code",
   "execution_count": 17,
   "id": "53416dec",
   "metadata": {},
   "outputs": [
    {
     "name": "stderr",
     "output_type": "stream",
     "text": [
      "ir_dist for sequence='nt' and metric='identity' not found. Computing with default parameters.\n",
      "Computing sequence x sequence distance matrix for VJ sequences.\n",
      "Computing sequence x sequence distance matrix for VDJ sequences.\n",
      "Initializing lookup tables. \n",
      "--> Done initializing lookup tables. (0:00:01)\n",
      "Computing clonotype x clonotype distances.\n",
      "NB: Computation happens in chunks. The progressbar only advances when a chunk has finished. \n"
     ]
    },
    {
     "data": {
      "application/vnd.jupyter.widget-view+json": {
       "model_id": "714bf69540264097922547109d0ff025",
       "version_major": 2,
       "version_minor": 0
      },
      "text/plain": [
       "  0%|          | 0/9425 [00:00<?, ?it/s]"
      ]
     },
     "metadata": {},
     "output_type": "display_data"
    },
    {
     "name": "stderr",
     "output_type": "stream",
     "text": [
      "--> Done computing clonotype x clonotype distances.  (0:00:08)\n",
      "Stored clonal assignments in `adata.obs[\"clone_id\"]`.\n"
     ]
    }
   ],
   "source": [
    "ir.tl.define_clonotypes(adata)"
   ]
  },
  {
   "cell_type": "code",
   "execution_count": 18,
   "id": "11638be7",
   "metadata": {},
   "outputs": [
    {
     "name": "stderr",
     "output_type": "stream",
     "text": [
      "... storing 'clone_id' as categorical\n",
      "... storing 'clonal_expansion' as categorical\n",
      "WARNING: saving figure to file scanpy/210430_merged_thymoma_MG21.22.23.03_Tcell/graph/umapclonal_expansion.pdf\n"
     ]
    },
    {
     "data": {
      "text/plain": [
       "<Figure size 320x320 with 1 Axes>"
      ]
     },
     "metadata": {
      "image/png": {
       "height": 282,
       "width": 364
      }
     },
     "output_type": "display_data"
    }
   ],
   "source": [
    "ir.tl.clonal_expansion(adata)\n",
    "sc.pl.umap(adata, color=[\"clonal_expansion\"], save='clonal_expansion')"
   ]
  },
  {
   "cell_type": "code",
   "execution_count": null,
   "id": "89f9a53e",
   "metadata": {},
   "outputs": [],
   "source": []
  },
  {
   "cell_type": "code",
   "execution_count": 19,
   "id": "878c94f8",
   "metadata": {},
   "outputs": [
    {
     "data": {
      "text/plain": [
       "<Figure size 720x360 with 1 Axes>"
      ]
     },
     "metadata": {
      "image/png": {
       "height": 313,
       "width": 680
      }
     },
     "output_type": "display_data"
    }
   ],
   "source": [
    "ir.pl.clonal_expansion(adata, \"CD4T_cluster\",figsize=(6,3))\n",
    "plt.savefig(str(sc.settings.figdir) + '/clonotypesize.pdf', bbox_inches='tight')"
   ]
  },
  {
   "cell_type": "code",
   "execution_count": 20,
   "id": "caff515f",
   "metadata": {},
   "outputs": [
    {
     "data": {
      "text/plain": [
       "Index(['sample', 'sample_type', 'site', 'fraction', 'n_genes', 'individual',\n",
       "       'score_DEGs', 'score_yellow', 'score_GWAS', 'n_counts',\n",
       "       ...\n",
       "       'IR_VDJ_2_v_cigar', 'has_ir', 'receptor_type', 'receptor_subtype',\n",
       "       'chain_pairing', 'cc_aa_alignment', 'cc_aa_alignment_size', 'clone_id',\n",
       "       'clone_id_size', 'clonal_expansion'],\n",
       "      dtype='object', length=102)"
      ]
     },
     "execution_count": 20,
     "metadata": {},
     "output_type": "execute_result"
    }
   ],
   "source": [
    "adata.obs.columns"
   ]
  },
  {
   "cell_type": "code",
   "execution_count": 21,
   "id": "e2459fe7",
   "metadata": {},
   "outputs": [
    {
     "data": {
      "text/plain": [
       "AAACCTGGTCGACTAT        single pair\n",
       "AAAGATGGTCTCCACT        single pair\n",
       "AAAGCAAAGCGTCTAT        single pair\n",
       "AACACGTAGACATAAC        single pair\n",
       "AACACGTCAGACGTAG        single pair\n",
       "                         ...       \n",
       "TTTGTCATCCGAAGAG        single pair\n",
       "TTTGTCATCCTAAGTG              no IR\n",
       "TTTGTCATCTCAAACG    two full chains\n",
       "TTTGTCATCTGGGCCA        single pair\n",
       "TTTGTCATCTGTTTGT        single pair\n",
       "Name: chain_pairing, Length: 10897, dtype: category\n",
       "Categories (7, object): ['extra VDJ', 'extra VJ', 'no IR', 'orphan VDJ', 'orphan VJ', 'single pair', 'two full chains']"
      ]
     },
     "execution_count": 21,
     "metadata": {},
     "output_type": "execute_result"
    }
   ],
   "source": [
    "adata.obs['chain_pairing']"
   ]
  },
  {
   "cell_type": "code",
   "execution_count": 22,
   "id": "f3b5e59e",
   "metadata": {},
   "outputs": [
    {
     "data": {
      "text/plain": [
       "CD4 Tnaive                4787\n",
       "CD4 Tem (Th1/17)          1632\n",
       "CD4 Tcm (Tfh)              801\n",
       "CD4 Tcm (Th17)             687\n",
       "CD4 Tcm (Th0)              677\n",
       "Naive Treg                 469\n",
       "CD4 Temra (Th1)            369\n",
       "T agonist                  281\n",
       "CD4 Tcm (Th2)              277\n",
       "Thymic CD4 T cell (II)     249\n",
       "Activated Treg             233\n",
       "CD4 Tem (Th1)              198\n",
       "Thymic CD4 T cell (I)      181\n",
       "CD8 Tnaive                  56\n",
       "Name: CD4T_cluster, dtype: int64"
      ]
     },
     "execution_count": 22,
     "metadata": {},
     "output_type": "execute_result"
    }
   ],
   "source": [
    "adata.obs['CD4T_cluster'].value_counts()"
   ]
  },
  {
   "cell_type": "code",
   "execution_count": 23,
   "id": "ef7d721b",
   "metadata": {},
   "outputs": [],
   "source": [
    "adata = adata[~adata.obs['clone_id'].isna()]"
   ]
  },
  {
   "cell_type": "code",
   "execution_count": 24,
   "id": "5f830caf",
   "metadata": {},
   "outputs": [
    {
     "name": "stderr",
     "output_type": "stream",
     "text": [
      "Trying to set attribute `.uns` of view, copying.\n"
     ]
    },
    {
     "data": {
      "text/plain": [
       "<Figure size 800x800 with 4 Axes>"
      ]
     },
     "metadata": {
      "image/png": {
       "height": 774,
       "width": 774
      }
     },
     "output_type": "display_data"
    }
   ],
   "source": [
    "ir.tl.repertoire_overlap(adata, \"CD4T_cluster\", inplace=True)\n",
    "ir.pl.repertoire_overlap(adata, \"CD4T_cluster\")\n",
    "plt.savefig(str(sc.settings.figdir) + '/clonotypesize.pdf', bbox_inches='tight')"
   ]
  },
  {
   "cell_type": "code",
   "execution_count": 25,
   "id": "9c3ca991",
   "metadata": {},
   "outputs": [
    {
     "name": "stderr",
     "output_type": "stream",
     "text": [
      "... storing 'sample_cluster' as categorical\n"
     ]
    },
    {
     "data": {
      "text/plain": [
       "<seaborn.matrix.ClusterGrid at 0x7f5e98839750>"
      ]
     },
     "execution_count": 25,
     "metadata": {},
     "output_type": "execute_result"
    },
    {
     "data": {
      "text/plain": [
       "<Figure size 800x800 with 5 Axes>"
      ]
     },
     "metadata": {
      "image/png": {
       "height": 904,
       "width": 774
      }
     },
     "output_type": "display_data"
    }
   ],
   "source": [
    "adata.obs['sample_cluster'] = adata.obs['sample'].astype(str) + ' ' + adata.obs['CD4T_cluster'].astype(str)\n",
    "ir.tl.repertoire_overlap(adata, \"sample_cluster\", inplace=True)\n",
    "ir.pl.repertoire_overlap(adata, \"sample_cluster\", heatmap_cats=['site', 'CD4T_cluster'])"
   ]
  },
  {
   "cell_type": "code",
   "execution_count": 33,
   "id": "0ce3248f",
   "metadata": {},
   "outputs": [
    {
     "name": "stderr",
     "output_type": "stream",
     "text": [
      "... storing 'site_cluster' as categorical\n",
      "WARNING: saving figure to file scanpy/210430_merged_thymoma_MG21.22.23.03_Tcell/graph/umap.pdf\n"
     ]
    },
    {
     "data": {
      "text/plain": [
       "<Figure size 320x320 with 1 Axes>"
      ]
     },
     "metadata": {
      "image/png": {
       "height": 415,
       "width": 1009
      }
     },
     "output_type": "display_data"
    }
   ],
   "source": [
    "from scipy.spatial import distance as sc_distance\n",
    "import networkx as nx\n",
    "\n",
    "adata.obs['site_cluster'] = adata.obs['site'].astype(str) + ' ' + adata.obs['CD4T_cluster'].astype(str)\n",
    "sc.pl.umap(adata, color=['site_cluster'])\n",
    "a = adata.copy()\n",
    "\n",
    "df, dst, lk = ir.tl.repertoire_overlap(a, \"site_cluster\", inplace=False)"
   ]
  },
  {
   "cell_type": "code",
   "execution_count": 34,
   "id": "eeec2bd8",
   "metadata": {},
   "outputs": [],
   "source": [
    "distM = sc_distance.squareform(dst)\n",
    "np.fill_diagonal(distM, 1)\n",
    "scaling_factor = distM.min()\n",
    "np.fill_diagonal(distM, scaling_factor)\n",
    "distM = pd.DataFrame(distM, index=a.obs['site_cluster'].cat.categories, \n",
    "                     columns=a.obs['site_cluster'].cat.categories)"
   ]
  },
  {
   "cell_type": "code",
   "execution_count": 36,
   "id": "2803d7aa",
   "metadata": {},
   "outputs": [],
   "source": [
    "tidy_dist = (1-distM).melt(ignore_index=False)\n",
    "tidy_dist_auto = tidy_dist[tidy_dist.index == tidy_dist.variable]\n",
    "tidy_dist = tidy_dist.loc[[x for x in tidy_dist.index if 'Thymus' in x]]\n",
    "tidy_dist = tidy_dist.loc[['Periphery' in x for x in tidy_dist.variable]]\n"
   ]
  },
  {
   "cell_type": "code",
   "execution_count": 40,
   "id": "8504765c",
   "metadata": {},
   "outputs": [
    {
     "data": {
      "text/plain": [
       "<Figure size 320x320 with 1 Axes>"
      ]
     },
     "metadata": {
      "image/png": {
       "height": 288,
       "width": 311
      }
     },
     "output_type": "display_data"
    }
   ],
   "source": [
    "tidy_dist['value'].hist(bins=20)\n",
    "plt.yscale('log')"
   ]
  },
  {
   "cell_type": "code",
   "execution_count": 41,
   "id": "05eef04c",
   "metadata": {},
   "outputs": [],
   "source": [
    "tidy_dist = tidy_dist.loc[tidy_dist['value'] > 0]"
   ]
  },
  {
   "cell_type": "code",
   "execution_count": 42,
   "id": "defea630",
   "metadata": {},
   "outputs": [
    {
     "data": {
      "text/html": [
       "<div>\n",
       "<style scoped>\n",
       "    .dataframe tbody tr th:only-of-type {\n",
       "        vertical-align: middle;\n",
       "    }\n",
       "\n",
       "    .dataframe tbody tr th {\n",
       "        vertical-align: top;\n",
       "    }\n",
       "\n",
       "    .dataframe thead th {\n",
       "        text-align: right;\n",
       "    }\n",
       "</style>\n",
       "<table border=\"1\" class=\"dataframe\">\n",
       "  <thead>\n",
       "    <tr style=\"text-align: right;\">\n",
       "      <th></th>\n",
       "      <th>source</th>\n",
       "      <th>target</th>\n",
       "      <th>weight</th>\n",
       "    </tr>\n",
       "  </thead>\n",
       "  <tbody>\n",
       "    <tr>\n",
       "      <th>0</th>\n",
       "      <td>Thymus Activated Treg</td>\n",
       "      <td>Periphery Naive Treg</td>\n",
       "      <td>0.002299</td>\n",
       "    </tr>\n",
       "    <tr>\n",
       "      <th>1</th>\n",
       "      <td>Thymus CD4 Tcm (Th17)</td>\n",
       "      <td>Periphery CD4 Tcm (Th17)</td>\n",
       "      <td>0.001613</td>\n",
       "    </tr>\n",
       "    <tr>\n",
       "      <th>2</th>\n",
       "      <td>Thymus Naive Treg</td>\n",
       "      <td>Periphery Activated Treg</td>\n",
       "      <td>0.005051</td>\n",
       "    </tr>\n",
       "    <tr>\n",
       "      <th>3</th>\n",
       "      <td>Thymus Thymic CD4 T cell (I)</td>\n",
       "      <td>Periphery CD4 Tem (Th1/17)</td>\n",
       "      <td>0.000776</td>\n",
       "    </tr>\n",
       "    <tr>\n",
       "      <th>4</th>\n",
       "      <td>Thymus Activated Treg</td>\n",
       "      <td>Periphery Naive Treg</td>\n",
       "      <td>0.002299</td>\n",
       "    </tr>\n",
       "    <tr>\n",
       "      <th>...</th>\n",
       "      <td>...</td>\n",
       "      <td>...</td>\n",
       "      <td>...</td>\n",
       "    </tr>\n",
       "    <tr>\n",
       "      <th>95</th>\n",
       "      <td>Thymus Thymic CD4 T cell (I)</td>\n",
       "      <td>Periphery CD4 Tem (Th1/17)</td>\n",
       "      <td>0.000776</td>\n",
       "    </tr>\n",
       "    <tr>\n",
       "      <th>96</th>\n",
       "      <td>Thymus Activated Treg</td>\n",
       "      <td>Periphery Naive Treg</td>\n",
       "      <td>0.002299</td>\n",
       "    </tr>\n",
       "    <tr>\n",
       "      <th>97</th>\n",
       "      <td>Thymus CD4 Tcm (Th17)</td>\n",
       "      <td>Periphery CD4 Tcm (Th17)</td>\n",
       "      <td>0.001613</td>\n",
       "    </tr>\n",
       "    <tr>\n",
       "      <th>98</th>\n",
       "      <td>Thymus Naive Treg</td>\n",
       "      <td>Periphery Activated Treg</td>\n",
       "      <td>0.005051</td>\n",
       "    </tr>\n",
       "    <tr>\n",
       "      <th>99</th>\n",
       "      <td>Thymus Thymic CD4 T cell (I)</td>\n",
       "      <td>Periphery CD4 Tem (Th1/17)</td>\n",
       "      <td>0.000776</td>\n",
       "    </tr>\n",
       "  </tbody>\n",
       "</table>\n",
       "<p>100 rows × 3 columns</p>\n",
       "</div>"
      ],
      "text/plain": [
       "                          source                      target    weight\n",
       "0          Thymus Activated Treg        Periphery Naive Treg  0.002299\n",
       "1          Thymus CD4 Tcm (Th17)    Periphery CD4 Tcm (Th17)  0.001613\n",
       "2              Thymus Naive Treg    Periphery Activated Treg  0.005051\n",
       "3   Thymus Thymic CD4 T cell (I)  Periphery CD4 Tem (Th1/17)  0.000776\n",
       "4          Thymus Activated Treg        Periphery Naive Treg  0.002299\n",
       "..                           ...                         ...       ...\n",
       "95  Thymus Thymic CD4 T cell (I)  Periphery CD4 Tem (Th1/17)  0.000776\n",
       "96         Thymus Activated Treg        Periphery Naive Treg  0.002299\n",
       "97         Thymus CD4 Tcm (Th17)    Periphery CD4 Tcm (Th17)  0.001613\n",
       "98             Thymus Naive Treg    Periphery Activated Treg  0.005051\n",
       "99  Thymus Thymic CD4 T cell (I)  Periphery CD4 Tem (Th1/17)  0.000776\n",
       "\n",
       "[100 rows x 3 columns]"
      ]
     },
     "execution_count": 42,
     "metadata": {},
     "output_type": "execute_result"
    }
   ],
   "source": [
    "tidy_dist.columns = ['target', 'weight']\n",
    "tidy_dist['source'] = tidy_dist.index\n",
    "tidy_dist = tidy_dist.reset_index(drop=True)\n",
    "tidy_dist = tidy_dist[['source', 'target', 'weight']]\n",
    "tidy_dist"
   ]
  },
  {
   "cell_type": "code",
   "execution_count": 67,
   "id": "8b1bff7c",
   "metadata": {},
   "outputs": [
    {
     "data": {
      "text/html": [
       "<div>\n",
       "<style scoped>\n",
       "    .dataframe tbody tr th:only-of-type {\n",
       "        vertical-align: middle;\n",
       "    }\n",
       "\n",
       "    .dataframe tbody tr th {\n",
       "        vertical-align: top;\n",
       "    }\n",
       "\n",
       "    .dataframe thead th {\n",
       "        text-align: right;\n",
       "    }\n",
       "</style>\n",
       "<table border=\"1\" class=\"dataframe\">\n",
       "  <thead>\n",
       "    <tr style=\"text-align: right;\">\n",
       "      <th></th>\n",
       "      <th>source</th>\n",
       "      <th>target</th>\n",
       "      <th>weight</th>\n",
       "    </tr>\n",
       "  </thead>\n",
       "  <tbody>\n",
       "    <tr>\n",
       "      <th>0</th>\n",
       "      <td>Thymus Activated Treg</td>\n",
       "      <td>Periphery Naive Treg</td>\n",
       "      <td>0.002299</td>\n",
       "    </tr>\n",
       "    <tr>\n",
       "      <th>1</th>\n",
       "      <td>Thymus CD4 Tcm (Th17)</td>\n",
       "      <td>Periphery CD4 Tcm (Th17)</td>\n",
       "      <td>0.001613</td>\n",
       "    </tr>\n",
       "    <tr>\n",
       "      <th>2</th>\n",
       "      <td>Thymus Naive Treg</td>\n",
       "      <td>Periphery Activated Treg</td>\n",
       "      <td>0.005051</td>\n",
       "    </tr>\n",
       "    <tr>\n",
       "      <th>3</th>\n",
       "      <td>Thymus Thymic CD4 T cell (I)</td>\n",
       "      <td>Periphery CD4 Tem (Th1/17)</td>\n",
       "      <td>0.000776</td>\n",
       "    </tr>\n",
       "    <tr>\n",
       "      <th>4</th>\n",
       "      <td>Thymus Activated Treg</td>\n",
       "      <td>Periphery Naive Treg</td>\n",
       "      <td>0.002299</td>\n",
       "    </tr>\n",
       "    <tr>\n",
       "      <th>...</th>\n",
       "      <td>...</td>\n",
       "      <td>...</td>\n",
       "      <td>...</td>\n",
       "    </tr>\n",
       "    <tr>\n",
       "      <th>95</th>\n",
       "      <td>Thymus Thymic CD4 T cell (I)</td>\n",
       "      <td>Periphery CD4 Tem (Th1/17)</td>\n",
       "      <td>0.000776</td>\n",
       "    </tr>\n",
       "    <tr>\n",
       "      <th>96</th>\n",
       "      <td>Thymus Activated Treg</td>\n",
       "      <td>Periphery Naive Treg</td>\n",
       "      <td>0.002299</td>\n",
       "    </tr>\n",
       "    <tr>\n",
       "      <th>97</th>\n",
       "      <td>Thymus CD4 Tcm (Th17)</td>\n",
       "      <td>Periphery CD4 Tcm (Th17)</td>\n",
       "      <td>0.001613</td>\n",
       "    </tr>\n",
       "    <tr>\n",
       "      <th>98</th>\n",
       "      <td>Thymus Naive Treg</td>\n",
       "      <td>Periphery Activated Treg</td>\n",
       "      <td>0.005051</td>\n",
       "    </tr>\n",
       "    <tr>\n",
       "      <th>99</th>\n",
       "      <td>Thymus Thymic CD4 T cell (I)</td>\n",
       "      <td>Periphery CD4 Tem (Th1/17)</td>\n",
       "      <td>0.000776</td>\n",
       "    </tr>\n",
       "  </tbody>\n",
       "</table>\n",
       "<p>100 rows × 3 columns</p>\n",
       "</div>"
      ],
      "text/plain": [
       "                          source                      target    weight\n",
       "0          Thymus Activated Treg        Periphery Naive Treg  0.002299\n",
       "1          Thymus CD4 Tcm (Th17)    Periphery CD4 Tcm (Th17)  0.001613\n",
       "2              Thymus Naive Treg    Periphery Activated Treg  0.005051\n",
       "3   Thymus Thymic CD4 T cell (I)  Periphery CD4 Tem (Th1/17)  0.000776\n",
       "4          Thymus Activated Treg        Periphery Naive Treg  0.002299\n",
       "..                           ...                         ...       ...\n",
       "95  Thymus Thymic CD4 T cell (I)  Periphery CD4 Tem (Th1/17)  0.000776\n",
       "96         Thymus Activated Treg        Periphery Naive Treg  0.002299\n",
       "97         Thymus CD4 Tcm (Th17)    Periphery CD4 Tcm (Th17)  0.001613\n",
       "98             Thymus Naive Treg    Periphery Activated Treg  0.005051\n",
       "99  Thymus Thymic CD4 T cell (I)  Periphery CD4 Tem (Th1/17)  0.000776\n",
       "\n",
       "[100 rows x 3 columns]"
      ]
     },
     "execution_count": 67,
     "metadata": {},
     "output_type": "execute_result"
    }
   ],
   "source": [
    "tidy_dist"
   ]
  },
  {
   "cell_type": "code",
   "execution_count": 65,
   "id": "553b79f8",
   "metadata": {},
   "outputs": [],
   "source": [
    "G = nx.from_pandas_edgelist(tidy_dist, edge_attr=True)\n",
    "\n",
    "n_label = a.obs['site_cluster'].cat.categories.shape[0]\n",
    "pos_nodes = {x: (int(2*i/n_label),int(i%(n_label/2))) \n",
    "       for i,x in enumerate(a.obs['site_cluster'].cat.categories)}\n",
    "pos_label = {x: ((int(2*i/n_label)-0.5)*2+0.5,int(i%(n_label/2))) \n",
    "       for i,x in enumerate(a.obs['site_cluster'].cat.categories)}\n",
    "\n",
    "c_nodes = [a.uns['CD4T_cluster_colors'][list(a.obs['CD4T_cluster'].cat.categories).index(\n",
    "    x.replace('Thymus ', \"\").replace('Periphery ', \"\"))]\n",
    " for x in G.nodes()] \n",
    "\n",
    "edge_colors = [c['weight'] for u, v, c in G.edges(data=True)]"
   ]
  },
  {
   "cell_type": "code",
   "execution_count": 66,
   "id": "b8fe8150",
   "metadata": {},
   "outputs": [
    {
     "data": {
      "text/plain": [
       "(-1.0, 2.0)"
      ]
     },
     "execution_count": 66,
     "metadata": {},
     "output_type": "execute_result"
    },
    {
     "data": {
      "text/plain": [
       "<Figure size 560x560 with 1 Axes>"
      ]
     },
     "metadata": {
      "image/png": {
       "height": 441,
       "width": 452
      }
     },
     "output_type": "display_data"
    }
   ],
   "source": [
    "plt.figure(figsize=(7,7))\n",
    "nodes = nx.draw_networkx_nodes(G, pos_nodes, node_color=c_nodes)\n",
    "nx.draw_networkx_labels(G, pos_label)\n",
    "edges = nx.draw_networkx_edges(\n",
    "    G,\n",
    "    pos_nodes,\n",
    "    arrowstyle=\"->\",\n",
    "    arrowsize=10,\n",
    "    edge_color=edge_colors,\n",
    "    edge_cmap=plt.cm.Greys,\n",
    "    width=2,\n",
    ")\n",
    "plt.axis(\"off\")\n",
    "plt.xlim(-1,2)"
   ]
  },
  {
   "cell_type": "code",
   "execution_count": 69,
   "id": "807b36e5",
   "metadata": {},
   "outputs": [],
   "source": [
    "nx.write_gml(G, str(sc.settings.figdir) + '/../TCR_cluster.gml')"
   ]
  },
  {
   "cell_type": "code",
   "execution_count": 70,
   "id": "6c6ddd69",
   "metadata": {},
   "outputs": [
    {
     "data": {
      "text/plain": [
       "['#1f77b4',\n",
       " '#ffbb78',\n",
       " '#aa40fc',\n",
       " '#aa40fc',\n",
       " '#ffbb78',\n",
       " '#1f77b4',\n",
       " '#ff9896',\n",
       " '#e377c2']"
      ]
     },
     "execution_count": 70,
     "metadata": {},
     "output_type": "execute_result"
    }
   ],
   "source": [
    "c_nodes"
   ]
  },
  {
   "cell_type": "code",
   "execution_count": null,
   "id": "38ee984d",
   "metadata": {},
   "outputs": [],
   "source": []
  },
  {
   "cell_type": "code",
   "execution_count": null,
   "id": "da351ed9",
   "metadata": {},
   "outputs": [],
   "source": []
  },
  {
   "cell_type": "code",
   "execution_count": null,
   "id": "595fcfaa",
   "metadata": {},
   "outputs": [],
   "source": []
  },
  {
   "cell_type": "code",
   "execution_count": 64,
   "id": "f0c69ec4",
   "metadata": {},
   "outputs": [
    {
     "data": {
      "text/plain": [
       "[3.004597701149425, 3.0032258064516126, 3.0101010101010104, 3.001552795031056]"
      ]
     },
     "execution_count": 64,
     "metadata": {},
     "output_type": "execute_result"
    }
   ],
   "source": [
    "edge_colors"
   ]
  },
  {
   "cell_type": "code",
   "execution_count": null,
   "id": "04996a27",
   "metadata": {},
   "outputs": [],
   "source": []
  },
  {
   "cell_type": "code",
   "execution_count": 148,
   "id": "3023e31d",
   "metadata": {},
   "outputs": [
    {
     "data": {
      "text/plain": [
       "CD4 Tnaive                43\n",
       "CD4 Tem (Th1/17)          15\n",
       "CD4 Tcm (Th17)             7\n",
       "CD4 Tcm (Tfh)              5\n",
       "CD4 Tcm (Th0)              5\n",
       "Naive Treg                 5\n",
       "Thymic CD4 T cell (I)      5\n",
       "CD4 Tcm (Th2)              4\n",
       "T agonist                  2\n",
       "Activated Treg             1\n",
       "CD8 Tnaive                 1\n",
       "Thymic CD4 T cell (II)     1\n",
       "Name: CD4T_cluster, dtype: int64"
      ]
     },
     "execution_count": 148,
     "metadata": {},
     "output_type": "execute_result"
    }
   ],
   "source": [
    "adata[adata.obs['IR_VJ_1_j_call']=='TRAJ24'].obs['CD4T_cluster'].value_counts()"
   ]
  },
  {
   "cell_type": "code",
   "execution_count": 151,
   "id": "990d2390",
   "metadata": {},
   "outputs": [
    {
     "data": {
      "text/plain": [
       "GGGAATGGTGCAGTAG    CD4 Tem (Th1/17)\n",
       "TGTGGTAAGGGCACTA          CD4 Tnaive\n",
       "Name: CD4T_cluster, dtype: category\n",
       "Categories (2, object): ['CD4 Tem (Th1/17)', 'CD4 Tnaive']"
      ]
     },
     "execution_count": 151,
     "metadata": {},
     "output_type": "execute_result"
    }
   ],
   "source": [
    "adata[(adata.obs['IR_VJ_1_j_call']=='TRAJ24') & (adata.obs['IR_VJ_1_v_call']=='TRAV13-2')].obs['CD4T_cluster']"
   ]
  },
  {
   "cell_type": "code",
   "execution_count": 150,
   "id": "56d3fedb",
   "metadata": {},
   "outputs": [
    {
     "name": "stderr",
     "output_type": "stream",
     "text": [
      "WARNING: saving figure to file scanpy/210430_merged_thymoma_MG21.22.23.03_Tcell/graph/umap.pdf\n"
     ]
    },
    {
     "data": {
      "text/plain": [
       "<Figure size 320x320 with 1 Axes>"
      ]
     },
     "metadata": {
      "image/png": {
       "height": 259,
       "width": 265
      }
     },
     "output_type": "display_data"
    }
   ],
   "source": [
    "sc.pl.umap(adata[adata.obs['IR_VJ_1_j_call']=='TRAJ24'])"
   ]
  },
  {
   "cell_type": "code",
   "execution_count": null,
   "id": "6e72f39d",
   "metadata": {},
   "outputs": [],
   "source": []
  }
 ],
 "metadata": {
  "kernelspec": {
   "display_name": "scanpy1.7.2",
   "language": "python",
   "name": "scanpy1.7.2"
  },
  "language_info": {
   "codemirror_mode": {
    "name": "ipython",
    "version": 3
   },
   "file_extension": ".py",
   "mimetype": "text/x-python",
   "name": "python",
   "nbconvert_exporter": "python",
   "pygments_lexer": "ipython3",
   "version": "3.7.10"
  }
 },
 "nbformat": 4,
 "nbformat_minor": 5
}
