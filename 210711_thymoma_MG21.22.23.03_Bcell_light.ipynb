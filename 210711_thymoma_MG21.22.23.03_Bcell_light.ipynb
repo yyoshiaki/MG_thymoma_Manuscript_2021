{
 "cells": [
  {
   "cell_type": "code",
   "execution_count": 1,
   "id": "213ba8a1",
   "metadata": {},
   "outputs": [],
   "source": [
    "import numpy as np\n",
    "import pandas as pd\n",
    "# import scanpy.api as sc\n",
    "import scanpy as sc\n",
    "import matplotlib.pyplot as plt\n",
    "import seaborn as sns\n",
    "%matplotlib inline\n",
    "\n",
    "import matplotlib as mpl\n",
    "mpl.rcParams['figure.facecolor'] = (1,1,1,1)\n",
    "mpl.rcParams['pdf.fonttype'] = 42\n",
    "mpl.rcParams['ps.fonttype'] = 42"
   ]
  },
  {
   "cell_type": "code",
   "execution_count": 2,
   "id": "3ce415e8",
   "metadata": {},
   "outputs": [
    {
     "name": "stderr",
     "output_type": "stream",
     "text": [
      "WARNING: If you miss a compact list, please try `print_header`!\n"
     ]
    },
    {
     "name": "stdout",
     "output_type": "stream",
     "text": [
      "-----\n",
      "anndata     0.7.6\n",
      "scanpy      1.7.2\n",
      "sinfo       0.3.1\n",
      "-----\n",
      "PIL                 8.1.2\n",
      "anndata             0.7.6\n",
      "backcall            0.2.0\n",
      "cffi                1.14.5\n",
      "colorama            0.4.4\n",
      "cycler              0.10.0\n",
      "cython_runtime      NA\n",
      "dateutil            2.8.1\n",
      "decorator           4.4.2\n",
      "get_version         2.1\n",
      "google              NA\n",
      "h5py                2.10.0\n",
      "igraph              0.9.1\n",
      "ipykernel           5.3.4\n",
      "ipython_genutils    0.2.0\n",
      "ipywidgets          7.6.3\n",
      "jedi                0.17.2\n",
      "joblib              1.0.1\n",
      "kiwisolver          1.3.1\n",
      "legacy_api_wrap     1.2\n",
      "leidenalg           0.8.4\n",
      "llvmlite            0.34.0\n",
      "matplotlib          3.4.1\n",
      "mpl_toolkits        NA\n",
      "natsort             7.1.1\n",
      "numba               0.51.0\n",
      "numexpr             2.7.3\n",
      "numpy               1.20.2\n",
      "packaging           20.9\n",
      "pandas              1.2.4\n",
      "parso               0.7.0\n",
      "pexpect             4.8.0\n",
      "pickleshare         0.7.5\n",
      "pkg_resources       NA\n",
      "prompt_toolkit      3.0.8\n",
      "psutil              5.8.0\n",
      "ptyprocess          0.6.0\n",
      "pygments            2.7.1\n",
      "pyparsing           2.4.7\n",
      "pytoml              NA\n",
      "pytz                2021.1\n",
      "scanpy              1.7.2\n",
      "scipy               1.6.3\n",
      "seaborn             0.11.1\n",
      "setuptools_scm      NA\n",
      "sinfo               0.3.1\n",
      "six                 1.15.0\n",
      "sklearn             0.24.2\n",
      "statsmodels         0.12.2\n",
      "storemagic          NA\n",
      "tables              3.6.1\n",
      "texttable           1.6.3\n",
      "tornado             6.0.4\n",
      "traitlets           5.0.5\n",
      "typing_extensions   NA\n",
      "wcwidth             0.2.5\n",
      "yaml                5.4.1\n",
      "zipp                NA\n",
      "zmq                 19.0.2\n",
      "zope                NA\n",
      "-----\n",
      "IPython             7.18.1\n",
      "jupyter_client      6.1.7\n",
      "jupyter_core        4.6.3\n",
      "notebook            6.1.6\n",
      "-----\n",
      "Python 3.7.10 | packaged by conda-forge | (default, Feb 19 2021, 16:07:37) [GCC 9.3.0]\n",
      "Linux-5.4.0-74-generic-x86_64-with-debian-bullseye-sid\n",
      "16 logical CPU cores\n",
      "-----\n",
      "Session information updated at 2021-07-13 23:36\n",
      "\n"
     ]
    }
   ],
   "source": [
    "sc.settings.verbosity = 3  # verbosity: errors (0), warnings (1), info (2), hints (3)\n",
    "sc.settings.set_figure_params(dpi=80, color_map='viridis', transparent=False, frameon=False, \n",
    "                             fontsize=20)  # low dpi (dots per inch) yields small inline figures\n",
    "\n",
    "import matplotlib as mpl\n",
    "# 2 lines below solved the facecolor problem.\n",
    "# mpl.rcParams['figure.facecolor'] = 'white'\n",
    "mpl.rcParams['figure.facecolor'] = (1,1,1,1)\n",
    "sc.settings.autosave = True\n",
    "sc.logging.print_versions()\n",
    "\n",
    "version = '210711_merged_thymoma_MG21.22.23.03_Bcell'\n",
    "\n",
    "# file_mat = 'F1314_200323_222536_summary/10425963-2_3DE_genematrix.csv'\n",
    "\n",
    "results_file_Bcell_all = './scanpy/{}/merge_Bcell_all.h5ad'.format(version)\n",
    "results_file_Bcell = './scanpy/{}/merge_Bcell.h5ad'.format(version)\n",
    "# results_file_acell = './scanpy/{}/merge_abTcell.h5ad'.format(version)\n",
    "results_file_Bcell_minor_cluster = './scanpy/{}/merge_Bcell_minor_cluster.h5ad'.format(version)\n",
    "results_file_cg_Bcell_minor_cluster = './scanpy/{}/merge_cg_Bcell_minor_cluster.h5ad'.format(version)\n",
    "\n",
    "results_file_master = './scanpy/210711_merged_thymoma_MG21.22.23.03/merge.h5ad'\n",
    "results_raw_file_master = './scanpy/210711_merged_thymoma_MG21.22.23.03/merge.raw.h5ad'\n",
    "\n",
    "# for cellphonedb\n",
    "raw_matrix = './scanpy/{}/merge.raw.tsv'.format(version)\n",
    "\n",
    "sc.settings.figdir = './scanpy/{}/graph'.format(version)\n",
    "sc.settings.cachedir = './scanpy/{}/cache'.format(version)\n",
    "# %config InlineBackend.figure_format = 'retina'"
   ]
  },
  {
   "cell_type": "code",
   "execution_count": 3,
   "id": "66927546",
   "metadata": {},
   "outputs": [],
   "source": [
    "adata_raw = sc.read(results_raw_file_master)\n",
    "adata = sc.read(results_file_master)"
   ]
  },
  {
   "cell_type": "code",
   "execution_count": 4,
   "id": "ba2f48f8",
   "metadata": {},
   "outputs": [
    {
     "name": "stderr",
     "output_type": "stream",
     "text": [
      "WARNING: saving figure to file scanpy/210711_merged_thymoma_MG21.22.23.03_Bcell/graph/umapmajor_cluster_all.pdf\n"
     ]
    },
    {
     "data": {
      "text/plain": [
       "<Figure size 320x320 with 1 Axes>"
      ]
     },
     "metadata": {},
     "output_type": "display_data"
    }
   ],
   "source": [
    "sc.pl.umap(adata, color='major_cluster', legend_loc='on data', title='', frameon=False, save='major_cluster_all')"
   ]
  },
  {
   "cell_type": "code",
   "execution_count": 5,
   "id": "40db7cd9",
   "metadata": {},
   "outputs": [],
   "source": [
    "adata_cp = adata_raw[adata[adata.obs['major_cluster'] == 'B cell'].obs.index].copy()\n",
    "    \n",
    "adata = adata_cp.copy()\n",
    "adata_cp = None"
   ]
  },
  {
   "cell_type": "code",
   "execution_count": 6,
   "id": "22fd206c",
   "metadata": {},
   "outputs": [
    {
     "name": "stderr",
     "output_type": "stream",
     "text": [
      "normalizing by total count per cell\n",
      "    finished (0:00:02): normalized adata.X and added    'n_counts', counts per cell before normalization (adata.obs)\n"
     ]
    }
   ],
   "source": [
    "sc.pp.normalize_per_cell(adata, counts_per_cell_after=1e4)\n",
    "adata.raw = sc.pp.log1p(adata, copy=True)"
   ]
  },
  {
   "cell_type": "code",
   "execution_count": 7,
   "id": "88145bab",
   "metadata": {},
   "outputs": [],
   "source": [
    "adata.var['mt'] = adata.var_names.str.startswith('MT-')  # annotate the group of mitochondrial genes as 'mt'\n",
    "sc.pp.calculate_qc_metrics(adata, qc_vars=['mt'], percent_top=None, log1p=False, inplace=True)"
   ]
  },
  {
   "cell_type": "code",
   "execution_count": 8,
   "id": "e818bd7e",
   "metadata": {},
   "outputs": [
    {
     "data": {
      "text/plain": [
       "Text(0.5, 1.0, 'Run')"
      ]
     },
     "execution_count": 8,
     "metadata": {},
     "output_type": "execute_result"
    },
    {
     "data": {
      "text/plain": [
       "<Figure size 640x240 with 1 Axes>"
      ]
     },
     "metadata": {},
     "output_type": "display_data"
    }
   ],
   "source": [
    "plt.figure(figsize=(8,3))\n",
    "pd.Series(adata.obs['sample']).value_counts().plot(kind='bar')\n",
    "plt.grid(None)\n",
    "plt.title('Run')\n",
    "# plt.savefig(str(sc.settings.figdir) + '/run.pdf', bbox_inches='tight')"
   ]
  },
  {
   "cell_type": "code",
   "execution_count": 9,
   "id": "34a0fbba",
   "metadata": {},
   "outputs": [],
   "source": [
    "# adata = adata[adata.obs['sample'].isin(['MG03_TE', 'MG21_TE', 'MG22_TE'])]"
   ]
  },
  {
   "cell_type": "code",
   "execution_count": 10,
   "id": "8655534f",
   "metadata": {},
   "outputs": [
    {
     "name": "stderr",
     "output_type": "stream",
     "text": [
      "extracting highly variable genes\n",
      "    finished (0:00:00)\n",
      "WARNING: saving figure to file scanpy/210711_merged_thymoma_MG21.22.23.03_Bcell/graph/filter_genes_dispersion.pdf\n"
     ]
    },
    {
     "data": {
      "text/plain": [
       "<Figure size 640x320 with 2 Axes>"
      ]
     },
     "metadata": {},
     "output_type": "display_data"
    },
    {
     "name": "stdout",
     "output_type": "stream",
     "text": [
      "[876, 36265]\n"
     ]
    }
   ],
   "source": [
    "adata = adata[:,(~ adata.var.index.str.startswith('IGKV')) & \n",
    "              (~ adata.var.index.str.startswith('IGLV')) &\n",
    "             (~ adata.var.index.str.startswith('IGHV')) &\n",
    "             (~ adata.var.index.str.startswith('IGLC'))]\n",
    "\n",
    "filter_result = sc.pp.filter_genes_dispersion(\n",
    "    adata.X, min_mean=0.0125, max_mean=2.5, min_disp=0.7)\n",
    "sc.pl.filter_genes_dispersion(filter_result)\n",
    "print([sum([i[0] for i in filter_result]),len(filter_result)])"
   ]
  },
  {
   "cell_type": "code",
   "execution_count": 11,
   "id": "ac335e84",
   "metadata": {},
   "outputs": [
    {
     "name": "stderr",
     "output_type": "stream",
     "text": [
      "/home/yyasumizu/anaconda3/envs/scanpy1.7.2/lib/python3.7/site-packages/scanpy/preprocessing/_simple.py:375: UserWarning: Revieved a view of an AnnData. Making a copy.\n",
      "  view_to_actual(adata)\n",
      "... as `zero_center=True`, sparse input is densified and may lead to large memory consumption\n",
      "computing PCA\n",
      "    with n_comps=50\n",
      "    finished (0:00:02)\n",
      "WARNING: saving figure to file scanpy/210711_merged_thymoma_MG21.22.23.03_Bcell/graph/pca_variance_ratio.pdf\n"
     ]
    },
    {
     "data": {
      "text/plain": [
       "<Figure size 320x320 with 1 Axes>"
      ]
     },
     "metadata": {},
     "output_type": "display_data"
    }
   ],
   "source": [
    "adata = adata[:, filter_result.gene_subset]\n",
    "\n",
    "sc.pp.log1p(adata)\n",
    "sc.pp.scale(adata, max_value=10)\n",
    "sc.tl.pca(adata)\n",
    "adata.obsm['X_pca'] *= -1  # multiply by -1 to match Seurat\n",
    "sc.pl.pca_variance_ratio(adata, log=True)"
   ]
  },
  {
   "cell_type": "code",
   "execution_count": 12,
   "id": "d12aad60",
   "metadata": {},
   "outputs": [
    {
     "name": "stderr",
     "output_type": "stream",
     "text": [
      "computing batch balanced neighbors\n",
      "\tfinished: added to `.uns['neighbors']`\n",
      "\t`.obsp['distances']`, distances for each pair of neighbors\n",
      "\t`.obsp['connectivities']`, weighted adjacency matrix (0:00:03)\n",
      "computing UMAP\n",
      "    finished: added\n",
      "    'X_umap', UMAP coordinates (adata.obsm) (0:00:14)\n"
     ]
    }
   ],
   "source": [
    "sc.external.pp.bbknn(adata, batch_key='sample')\n",
    "sc.tl.umap(adata, spread=2)\n",
    "# sc.tl.leiden(adata, resolution=1)"
   ]
  },
  {
   "cell_type": "code",
   "execution_count": 13,
   "id": "72184ad5",
   "metadata": {},
   "outputs": [
    {
     "name": "stderr",
     "output_type": "stream",
     "text": [
      "WARNING: saving figure to file scanpy/210711_merged_thymoma_MG21.22.23.03_Bcell/graph/umapqc.pdf\n"
     ]
    },
    {
     "data": {
      "text/plain": [
       "<Figure size 1159.2x320 with 6 Axes>"
      ]
     },
     "metadata": {},
     "output_type": "display_data"
    }
   ],
   "source": [
    "sc.pl.umap(adata, color=['n_counts', 'n_genes', 'pct_counts_mt'], save='qc')"
   ]
  },
  {
   "cell_type": "code",
   "execution_count": 14,
   "id": "cea92afa",
   "metadata": {},
   "outputs": [
    {
     "name": "stderr",
     "output_type": "stream",
     "text": [
      "running Leiden clustering\n",
      "    finished: found 96 clusters and added\n",
      "    'leiden', the cluster labels (adata.obs, categorical) (0:00:02)\n"
     ]
    }
   ],
   "source": [
    "sc.tl.leiden(adata, resolution=4)"
   ]
  },
  {
   "cell_type": "code",
   "execution_count": 15,
   "id": "489b691b",
   "metadata": {},
   "outputs": [
    {
     "data": {
      "text/plain": [
       "<Figure size 320x320 with 1 Axes>"
      ]
     },
     "metadata": {},
     "output_type": "display_data"
    }
   ],
   "source": [
    "sc.pl.umap(adata, color='leiden', legend_loc='on data', title='', frameon=False, save=False)"
   ]
  },
  {
   "cell_type": "code",
   "execution_count": 16,
   "id": "e84cc923",
   "metadata": {},
   "outputs": [
    {
     "name": "stderr",
     "output_type": "stream",
     "text": [
      "WARNING: saving figure to file scanpy/210711_merged_thymoma_MG21.22.23.03_Bcell/graph/dotplot_.pdf\n"
     ]
    },
    {
     "data": {
      "text/plain": [
       "<Figure size 2961.6x528 with 4 Axes>"
      ]
     },
     "metadata": {},
     "output_type": "display_data"
    }
   ],
   "source": [
    "sc.pl.dotplot(adata, var_names=['CD19', 'MS4A1', 'CD3E', 'CD4', 'CD8A', 'EPCAM', 'PECAM1', \n",
    "                         'IGHD', 'IGHM', 'IGHA1', 'IGHA2', 'IGHG1',\n",
    "                         'IGHG2', 'IGHG3', 'IGHG4', 'IGHE'], groupby='leiden', swap_axes=True)"
   ]
  },
  {
   "cell_type": "code",
   "execution_count": 17,
   "id": "a8d9777d",
   "metadata": {},
   "outputs": [
    {
     "name": "stderr",
     "output_type": "stream",
     "text": [
      "running Leiden clustering\n",
      "    finished: found 102 clusters and added\n",
      "    'leiden_R', the cluster labels (adata.obs, categorical) (0:00:00)\n"
     ]
    }
   ],
   "source": [
    "sc.tl.leiden(adata, resolution=0.7, restrict_to=('leiden',['28']), )"
   ]
  },
  {
   "cell_type": "code",
   "execution_count": 18,
   "id": "b190da7a",
   "metadata": {},
   "outputs": [
    {
     "data": {
      "text/plain": [
       "<Figure size 320x320 with 1 Axes>"
      ]
     },
     "metadata": {},
     "output_type": "display_data"
    }
   ],
   "source": [
    "sc.pl.umap(adata, color='leiden_R', legend_loc='on data', title='', frameon=False, save=False)"
   ]
  },
  {
   "cell_type": "code",
   "execution_count": 19,
   "id": "fa35a73f",
   "metadata": {},
   "outputs": [
    {
     "name": "stderr",
     "output_type": "stream",
     "text": [
      "WARNING: saving figure to file scanpy/210711_merged_thymoma_MG21.22.23.03_Bcell/graph/dotplot_.pdf\n"
     ]
    },
    {
     "data": {
      "text/plain": [
       "<Figure size 3139.2x556 with 4 Axes>"
      ]
     },
     "metadata": {},
     "output_type": "display_data"
    }
   ],
   "source": [
    "# SDC1 : CD138\n",
    "sc.pl.dotplot(adata, var_names=['CD19', 'MS4A1', 'CD3E', 'CD4', 'CD8A', 'SDC1', 'EPCAM', 'PECAM1', \n",
    "                         'IGHD', 'IGHM', 'IGHA1', 'IGHA2', 'IGHG1',\n",
    "                         'IGHG2', 'IGHG3', 'IGHG4', 'IGHE'], groupby='leiden_R', swap_axes=True)"
   ]
  },
  {
   "cell_type": "code",
   "execution_count": 20,
   "id": "6885d47f",
   "metadata": {},
   "outputs": [
    {
     "name": "stderr",
     "output_type": "stream",
     "text": [
      "WARNING: saving figure to file scanpy/210711_merged_thymoma_MG21.22.23.03_Bcell/graph/umappanel.pdf\n"
     ]
    },
    {
     "data": {
      "text/plain": [
       "<Figure size 1932x1600 with 44 Axes>"
      ]
     },
     "metadata": {},
     "output_type": "display_data"
    }
   ],
   "source": [
    "# ITGAX : CD11C\n",
    "# CD27 : memory B\n",
    "sc.pl.umap(adata, color=['CD3E', 'CD4', 'CD8A', 'FOXP3', 'CTLA4', 'IL2RA', 'SATB1', 'EPCAM', 'PECAM1',\n",
    "                         'MS4A1', 'CD27', 'BCL6', 'SCD',\n",
    "                         'NKG7', 'TRDC', 'TRGC1', 'TRGC2', 'FCER1A', 'ITGAX', 'HLA-DQB1', 'MKI67', 'sample', 'site'],\n",
    "          save='panel', ncols=5)"
   ]
  },
  {
   "cell_type": "code",
   "execution_count": 21,
   "id": "50a10217",
   "metadata": {},
   "outputs": [
    {
     "name": "stderr",
     "output_type": "stream",
     "text": [
      "WARNING: saving figure to file scanpy/210711_merged_thymoma_MG21.22.23.03_Bcell/graph/umappanel_bcell.pdf\n"
     ]
    },
    {
     "data": {
      "text/plain": [
       "<Figure size 1545.6x2240 with 51 Axes>"
      ]
     },
     "metadata": {},
     "output_type": "display_data"
    }
   ],
   "source": [
    "sc.pl.umap(adata, color=['CD19', 'MS4A1', 'CD3E', 'CST3', 'BCL6', 'PAX5', 'CXCR5', 'TCL1A', \n",
    "                         'CD27', 'CD38', 'SDC1', 'PRDM1',\n",
    "                         'IRF4', 'CXCR4', 'CD24', 'CR2', \n",
    "                         'IGHD', 'IGHM', 'IGHA1', 'IGHA2', 'IGHG1',\n",
    "                         'IGHG2', 'IGHG3', 'IGHG4', 'IGHE', 'sample'],\n",
    "          save='panel_bcell.pdf', ncols=4)"
   ]
  },
  {
   "cell_type": "code",
   "execution_count": 22,
   "id": "730928da",
   "metadata": {},
   "outputs": [
    {
     "name": "stderr",
     "output_type": "stream",
     "text": [
      "WARNING: saving figure to file scanpy/210711_merged_thymoma_MG21.22.23.03_Bcell/graph/dotplot_thymus.pdf\n"
     ]
    },
    {
     "data": {
      "text/plain": [
       "<Figure size 1896x780 with 4 Axes>"
      ]
     },
     "metadata": {},
     "output_type": "display_data"
    }
   ],
   "source": [
    "sc.pl.dotplot(adata[adata.obs['site']=='Thymus'], var_names=['CD19', 'MS4A1', 'CD3E', 'CST3', 'BCL6', 'PAX5', 'CXCR5', 'TCL1A', \n",
    "                         'CD27', 'CD38', 'SDC1', 'PRDM1',\n",
    "                         'IRF4', 'CXCR4', 'CD24', 'CR2', \n",
    "                         'IGHD', 'IGHM', 'IGHA1', 'IGHA2', 'IGHG1',\n",
    "                         'IGHG2', 'IGHG3', 'IGHG4', 'IGHE'], groupby='leiden', swap_axes=True,\n",
    "             save='thymus')"
   ]
  },
  {
   "cell_type": "code",
   "execution_count": 23,
   "id": "d99662cc",
   "metadata": {},
   "outputs": [
    {
     "name": "stderr",
     "output_type": "stream",
     "text": [
      "WARNING: saving figure to file scanpy/210711_merged_thymoma_MG21.22.23.03_Bcell/graph/umappanel_bcell.pdf\n"
     ]
    },
    {
     "data": {
      "text/plain": [
       "<Figure size 1545.6x2240 with 51 Axes>"
      ]
     },
     "metadata": {},
     "output_type": "display_data"
    }
   ],
   "source": [
    "sc.pl.umap(adata[adata.obs['site']=='Thymus'], color=['CD19', 'MS4A1', 'CD3E', 'CST3', 'BCL6', 'PAX5', 'CXCR5', 'TCL1A', \n",
    "                         'CD27', 'CD38', 'SDC1', 'PRDM1',\n",
    "                         'IRF4', 'CXCR4', 'CD24', 'CR2', \n",
    "                         'IGHD', 'IGHM', 'IGHA1', 'IGHA2', 'IGHG1',\n",
    "                         'IGHG2', 'IGHG3', 'IGHG4', 'IGHE', 'sample'],\n",
    "          save='panel_bcell.pdf', ncols=4)"
   ]
  },
  {
   "cell_type": "code",
   "execution_count": 24,
   "id": "3fadcae0",
   "metadata": {},
   "outputs": [
    {
     "name": "stderr",
     "output_type": "stream",
     "text": [
      "WARNING: saving figure to file scanpy/210711_merged_thymoma_MG21.22.23.03_Bcell/graph/umapthymus_leiden.pdf\n"
     ]
    },
    {
     "data": {
      "text/plain": [
       "<Figure size 320x320 with 1 Axes>"
      ]
     },
     "metadata": {},
     "output_type": "display_data"
    }
   ],
   "source": [
    "sc.pl.umap(adata[adata.obs['site']=='Thymus'], color=['leiden_R'],\n",
    "          save='thymus_leiden.pdf', ncols=4)"
   ]
  },
  {
   "cell_type": "code",
   "execution_count": 25,
   "id": "b2f5494f",
   "metadata": {},
   "outputs": [
    {
     "name": "stderr",
     "output_type": "stream",
     "text": [
      "WARNING: saving figure to file scanpy/210711_merged_thymoma_MG21.22.23.03_Bcell/graph/umapthymus_leiden.pdf\n"
     ]
    },
    {
     "data": {
      "text/plain": [
       "<Figure size 320x320 with 1 Axes>"
      ]
     },
     "metadata": {},
     "output_type": "display_data"
    }
   ],
   "source": [
    "sc.pl.umap(adata[adata.obs['site']=='Periphery'], color=['leiden_R'],\n",
    "          save='thymus_leiden.pdf', ncols=4)"
   ]
  },
  {
   "cell_type": "code",
   "execution_count": 26,
   "id": "2cbf3e12",
   "metadata": {},
   "outputs": [
    {
     "name": "stderr",
     "output_type": "stream",
     "text": [
      "ranking genes\n",
      "    finished: added to `.uns['rank_genes_groups']`\n",
      "    'names', sorted np.recarray to be indexed by group ids\n",
      "    'scores', sorted np.recarray to be indexed by group ids\n",
      "    'logfoldchanges', sorted np.recarray to be indexed by group ids\n",
      "    'pvals', sorted np.recarray to be indexed by group ids\n",
      "    'pvals_adj', sorted np.recarray to be indexed by group ids (0:00:53)\n",
      "WARNING: saving figure to file scanpy/210711_merged_thymoma_MG21.22.23.03_Bcell/graph/rank_genes_groups_leiden_R.pdf\n"
     ]
    },
    {
     "data": {
      "text/plain": [
       "<Figure size 1280x8320 with 102 Axes>"
      ]
     },
     "metadata": {},
     "output_type": "display_data"
    }
   ],
   "source": [
    "sc.tl.rank_genes_groups(adata, 'leiden_R', method='t-test_overestim_var')\n",
    "sc.pl.rank_genes_groups(adata, n_genes=25, sharey=False)"
   ]
  },
  {
   "cell_type": "code",
   "execution_count": 27,
   "id": "ad00fca1",
   "metadata": {},
   "outputs": [
    {
     "name": "stdout",
     "output_type": "stream",
     "text": [
      "TCL1A\n",
      "FCER2\n",
      "ACTB\n",
      "HLA-DRB5\n",
      "VPREB3\n",
      "CHI3L2\n",
      "CD72\n",
      "NCF1\n",
      "RPL18A\n",
      "MARCKSL1\n"
     ]
    }
   ],
   "source": [
    "print('\\n'.join(list(adata.uns['rank_genes_groups']['names']['7'])[:10]))"
   ]
  },
  {
   "cell_type": "code",
   "execution_count": 28,
   "id": "9d345141",
   "metadata": {},
   "outputs": [
    {
     "data": {
      "text/plain": [
       "<AxesSubplot:xlabel='leiden', ylabel='site'>"
      ]
     },
     "execution_count": 28,
     "metadata": {},
     "output_type": "execute_result"
    },
    {
     "data": {
      "text/plain": [
       "<Figure size 800x240 with 2 Axes>"
      ]
     },
     "metadata": {},
     "output_type": "display_data"
    }
   ],
   "source": [
    "plt.figure(figsize=(10,3))\n",
    "sns.heatmap(pd.crosstab(adata.obs['site'], adata.obs['leiden']), cmap='viridis')"
   ]
  },
  {
   "cell_type": "code",
   "execution_count": 29,
   "id": "ff0959cc",
   "metadata": {},
   "outputs": [
    {
     "data": {
      "text/plain": [
       "<AxesSubplot:xlabel='leiden', ylabel='site'>"
      ]
     },
     "execution_count": 29,
     "metadata": {},
     "output_type": "execute_result"
    },
    {
     "data": {
      "text/plain": [
       "<Figure size 800x240 with 2 Axes>"
      ]
     },
     "metadata": {},
     "output_type": "display_data"
    }
   ],
   "source": [
    "df_cross = pd.crosstab(adata.obs['site'], adata.obs['leiden'])\n",
    "df_cross = (df_cross.T / df_cross.sum(axis=1)).T\n",
    "\n",
    "plt.figure(figsize=(10,3))\n",
    "sns.heatmap(df_cross, cmap='viridis')"
   ]
  },
  {
   "cell_type": "raw",
   "id": "76f758ea",
   "metadata": {},
   "source": [
    "df_clusters =  pd.read_csv('210407_clusters/Bcell_all_clusters.csv', index_col=0)\n",
    "df_clusters.index = df_clusters.index.astype(str)\n",
    "adata.obs['Bcell_all_cluster'] = [df_clusters.loc[x, 'cluster'] for x in adata.obs['leiden']]\n",
    "df_clusters"
   ]
  },
  {
   "cell_type": "code",
   "execution_count": 30,
   "id": "2dd06de0",
   "metadata": {},
   "outputs": [
    {
     "data": {
      "text/html": [
       "<div>\n",
       "<style scoped>\n",
       "    .dataframe tbody tr th:only-of-type {\n",
       "        vertical-align: middle;\n",
       "    }\n",
       "\n",
       "    .dataframe tbody tr th {\n",
       "        vertical-align: top;\n",
       "    }\n",
       "\n",
       "    .dataframe thead th {\n",
       "        text-align: right;\n",
       "    }\n",
       "</style>\n",
       "<table border=\"1\" class=\"dataframe\">\n",
       "  <thead>\n",
       "    <tr style=\"text-align: right;\">\n",
       "      <th></th>\n",
       "      <th>cluster</th>\n",
       "    </tr>\n",
       "    <tr>\n",
       "      <th>leiden_R</th>\n",
       "      <th></th>\n",
       "    </tr>\n",
       "  </thead>\n",
       "  <tbody>\n",
       "    <tr>\n",
       "      <th>0</th>\n",
       "      <td>B cell</td>\n",
       "    </tr>\n",
       "    <tr>\n",
       "      <th>1</th>\n",
       "      <td>B cell</td>\n",
       "    </tr>\n",
       "    <tr>\n",
       "      <th>2</th>\n",
       "      <td>B cell</td>\n",
       "    </tr>\n",
       "    <tr>\n",
       "      <th>3</th>\n",
       "      <td>B cell</td>\n",
       "    </tr>\n",
       "    <tr>\n",
       "      <th>4</th>\n",
       "      <td>B cell</td>\n",
       "    </tr>\n",
       "    <tr>\n",
       "      <th>...</th>\n",
       "      <td>...</td>\n",
       "    </tr>\n",
       "    <tr>\n",
       "      <th>91</th>\n",
       "      <td>B cell</td>\n",
       "    </tr>\n",
       "    <tr>\n",
       "      <th>92</th>\n",
       "      <td>B cell</td>\n",
       "    </tr>\n",
       "    <tr>\n",
       "      <th>93</th>\n",
       "      <td>B cell</td>\n",
       "    </tr>\n",
       "    <tr>\n",
       "      <th>94</th>\n",
       "      <td>B cell</td>\n",
       "    </tr>\n",
       "    <tr>\n",
       "      <th>95</th>\n",
       "      <td>B cell</td>\n",
       "    </tr>\n",
       "  </tbody>\n",
       "</table>\n",
       "<p>102 rows × 1 columns</p>\n",
       "</div>"
      ],
      "text/plain": [
       "         cluster\n",
       "leiden_R        \n",
       "0         B cell\n",
       "1         B cell\n",
       "2         B cell\n",
       "3         B cell\n",
       "4         B cell\n",
       "...          ...\n",
       "91        B cell\n",
       "92        B cell\n",
       "93        B cell\n",
       "94        B cell\n",
       "95        B cell\n",
       "\n",
       "[102 rows x 1 columns]"
      ]
     },
     "execution_count": 30,
     "metadata": {},
     "output_type": "execute_result"
    }
   ],
   "source": [
    "c = list(adata.obs['leiden_R'].cat.categories)\n",
    "df_clusters = pd.DataFrame(c, columns = ['cluster'])\n",
    "df_clusters.index = df_clusters['cluster'].copy()\n",
    "df_clusters.index.name = 'leiden_R'\n",
    "df_clusters['cluster'] = 'B cell'\n",
    "df_clusters.index = df_clusters.index.astype(str)\n",
    "df_clusters.loc[['13', '28,3'], 'cluster'] = 'Doublet'\n",
    "df_clusters"
   ]
  },
  {
   "cell_type": "code",
   "execution_count": 31,
   "id": "6bf38170",
   "metadata": {},
   "outputs": [],
   "source": [
    "adata.obs['Bcell_all_cluster'] = [df_clusters.loc[x, 'cluster'] for x in adata.obs['leiden_R']]"
   ]
  },
  {
   "cell_type": "code",
   "execution_count": 32,
   "id": "ef4fd617",
   "metadata": {},
   "outputs": [
    {
     "name": "stderr",
     "output_type": "stream",
     "text": [
      "... storing 'Bcell_all_cluster' as categorical\n",
      "WARNING: saving figure to file scanpy/210711_merged_thymoma_MG21.22.23.03_Bcell/graph/umapBcell_all_cluster.pdf\n"
     ]
    },
    {
     "data": {
      "text/plain": [
       "<Figure size 400x400 with 1 Axes>"
      ]
     },
     "metadata": {},
     "output_type": "display_data"
    }
   ],
   "source": [
    "with plt.rc_context({\"figure.figsize\": (5,5)}):\n",
    "    sc.pl.umap(adata, color='Bcell_all_cluster', add_outline=True,\n",
    "           title='', frameon=False, save='Bcell_all_cluster.pdf', s=30)"
   ]
  },
  {
   "cell_type": "code",
   "execution_count": 33,
   "id": "31ad027f",
   "metadata": {},
   "outputs": [
    {
     "name": "stderr",
     "output_type": "stream",
     "text": [
      "WARNING: saving figure to file scanpy/210711_merged_thymoma_MG21.22.23.03_Bcell/graph/umapBcell_all_cluster_out.pdf\n"
     ]
    },
    {
     "data": {
      "text/plain": [
       "<Figure size 320x320 with 1 Axes>"
      ]
     },
     "metadata": {},
     "output_type": "display_data"
    }
   ],
   "source": [
    "sc.pl.umap(adata, color='Bcell_all_cluster', title='', add_outline=True, \n",
    "           frameon=False, save='Bcell_all_cluster_out.pdf')"
   ]
  },
  {
   "cell_type": "code",
   "execution_count": 35,
   "id": "677d646b",
   "metadata": {},
   "outputs": [],
   "source": [
    "adata.write(results_file_Bcell_all)"
   ]
  },
  {
   "cell_type": "markdown",
   "id": "b7181497",
   "metadata": {},
   "source": [
    "## select singlet B cells"
   ]
  },
  {
   "cell_type": "code",
   "execution_count": 36,
   "id": "55316e13",
   "metadata": {},
   "outputs": [],
   "source": [
    "adata = sc.read(results_file_Bcell_all)"
   ]
  },
  {
   "cell_type": "code",
   "execution_count": 37,
   "id": "38b7ee6d",
   "metadata": {},
   "outputs": [
    {
     "name": "stderr",
     "output_type": "stream",
     "text": [
      "normalizing by total count per cell\n",
      "Trying to set attribute `.obs` of view, copying.\n",
      "    finished (0:00:03): normalized adata.X and added    'n_counts', counts per cell before normalization (adata.obs)\n"
     ]
    }
   ],
   "source": [
    "adata_raw = sc.read(results_raw_file_master)\n",
    "\n",
    "adata_cp = adata_raw[adata[adata.obs['Bcell_all_cluster']=='B cell'].obs.index].copy()\n",
    "    \n",
    "adata = adata_cp.copy()\n",
    "adata_cp = None\n",
    "\n",
    "adata = adata[adata.obs['sample'] != \"MG03_PT\"]\n",
    "\n",
    "sc.pp.normalize_per_cell(adata, counts_per_cell_after=1e4)\n",
    "adata.raw = sc.pp.log1p(adata, copy=True)"
   ]
  },
  {
   "cell_type": "code",
   "execution_count": 38,
   "id": "0b6326fb",
   "metadata": {},
   "outputs": [
    {
     "data": {
      "text/plain": [
       "AAAGGTATCCTGCTAC    MG21_TE\n",
       "AAATGGAAGCGACAGT    MG21_TE\n",
       "AACAAGACAACTGCTA    MG21_TE\n",
       "AACCTGACAGGACTTT    MG21_TE\n",
       "AACCTGAGTGAGACCA    MG21_TE\n",
       "                     ...   \n",
       "TTAGGGTTCGAAGAAT    MG23_TE\n",
       "TTGCCTGAGGAAGTCC    MG23_TE\n",
       "TTGTGTTTCGGAATTC    MG23_TE\n",
       "TTGTTCACAGCTTTGA    MG23_TE\n",
       "TTGTTGTCAAAGCTCT    MG23_TE\n",
       "Name: sample, Length: 9770, dtype: category\n",
       "Categories (8, object): ['MG03_PB', 'MG03_TE', 'MG03_TL', 'MG21_TE', 'MG21_TL', 'MG22_PL', 'MG22_TE', 'MG23_TE']"
      ]
     },
     "execution_count": 38,
     "metadata": {},
     "output_type": "execute_result"
    }
   ],
   "source": [
    "adata.obs['sample']"
   ]
  },
  {
   "cell_type": "code",
   "execution_count": 39,
   "id": "ae15aece",
   "metadata": {},
   "outputs": [],
   "source": [
    "adata.var['mt'] = adata.var_names.str.startswith('MT-')  # annotate the group of mitochondrial genes as 'mt'\n",
    "sc.pp.calculate_qc_metrics(adata, qc_vars=['mt'], percent_top=None, log1p=False, inplace=True)"
   ]
  },
  {
   "cell_type": "code",
   "execution_count": 40,
   "id": "865bb058",
   "metadata": {},
   "outputs": [
    {
     "name": "stderr",
     "output_type": "stream",
     "text": [
      "extracting highly variable genes\n",
      "    finished (0:00:00)\n",
      "WARNING: saving figure to file scanpy/210711_merged_thymoma_MG21.22.23.03_Bcell/graph/filter_genes_dispersion.pdf\n"
     ]
    },
    {
     "data": {
      "text/plain": [
       "<Figure size 640x320 with 2 Axes>"
      ]
     },
     "metadata": {},
     "output_type": "display_data"
    },
    {
     "name": "stdout",
     "output_type": "stream",
     "text": [
      "[823, 36265]\n"
     ]
    }
   ],
   "source": [
    "adata = adata[:,(~ adata.var.index.str.startswith('IGKV')) & \n",
    "              (~ adata.var.index.str.startswith('IGLV')) &\n",
    "             (~ adata.var.index.str.startswith('IGHV')) &\n",
    "             (~ adata.var.index.str.startswith('IGLC'))]\n",
    "\n",
    "filter_result = sc.pp.filter_genes_dispersion(\n",
    "    adata.X, min_mean=0.0125, max_mean=2.5, min_disp=0.7)\n",
    "sc.pl.filter_genes_dispersion(filter_result)\n",
    "print([sum([i[0] for i in filter_result]),len(filter_result)])"
   ]
  },
  {
   "cell_type": "code",
   "execution_count": 41,
   "id": "60deab68",
   "metadata": {},
   "outputs": [
    {
     "name": "stderr",
     "output_type": "stream",
     "text": [
      "/home/yyasumizu/anaconda3/envs/scanpy1.7.2/lib/python3.7/site-packages/scanpy/preprocessing/_simple.py:375: UserWarning: Revieved a view of an AnnData. Making a copy.\n",
      "  view_to_actual(adata)\n",
      "... as `zero_center=True`, sparse input is densified and may lead to large memory consumption\n",
      "computing PCA\n",
      "    with n_comps=50\n",
      "    finished (0:00:00)\n",
      "WARNING: saving figure to file scanpy/210711_merged_thymoma_MG21.22.23.03_Bcell/graph/pca_variance_ratio.pdf\n"
     ]
    },
    {
     "data": {
      "text/plain": [
       "<Figure size 320x320 with 1 Axes>"
      ]
     },
     "metadata": {},
     "output_type": "display_data"
    }
   ],
   "source": [
    "adata = adata[:, filter_result.gene_subset]\n",
    "\n",
    "sc.pp.log1p(adata)\n",
    "sc.pp.scale(adata, max_value=10)\n",
    "sc.tl.pca(adata)\n",
    "adata.obsm['X_pca'] *= -1  # multiply by -1 to match Seurat\n",
    "sc.pl.pca_variance_ratio(adata, log=True)"
   ]
  },
  {
   "cell_type": "code",
   "execution_count": 42,
   "id": "7776fa94",
   "metadata": {},
   "outputs": [
    {
     "name": "stderr",
     "output_type": "stream",
     "text": [
      "computing batch balanced neighbors\n",
      "\tfinished: added to `.uns['neighbors']`\n",
      "\t`.obsp['distances']`, distances for each pair of neighbors\n",
      "\t`.obsp['connectivities']`, weighted adjacency matrix (0:00:01)\n",
      "computing UMAP\n",
      "    finished: added\n",
      "    'X_umap', UMAP coordinates (adata.obsm) (0:00:13)\n"
     ]
    }
   ],
   "source": [
    "sc.external.pp.bbknn(adata, batch_key='sample', n_pcs=50)\n",
    "sc.tl.umap(adata, spread=1)\n",
    "# sc.tl.leiden(adata, resolution=1)"
   ]
  },
  {
   "cell_type": "code",
   "execution_count": 43,
   "id": "278d9ac1",
   "metadata": {},
   "outputs": [
    {
     "name": "stderr",
     "output_type": "stream",
     "text": [
      "WARNING: saving figure to file scanpy/210711_merged_thymoma_MG21.22.23.03_Bcell/graph/umapqc.pdf\n"
     ]
    },
    {
     "data": {
      "text/plain": [
       "<Figure size 1159.2x320 with 6 Axes>"
      ]
     },
     "metadata": {},
     "output_type": "display_data"
    }
   ],
   "source": [
    "sc.pl.umap(adata, color=['n_counts', 'n_genes', 'pct_counts_mt'], save='qc')"
   ]
  },
  {
   "cell_type": "code",
   "execution_count": 44,
   "id": "4ca4cb1b",
   "metadata": {},
   "outputs": [
    {
     "name": "stderr",
     "output_type": "stream",
     "text": [
      "running Leiden clustering\n",
      "    finished: found 17 clusters and added\n",
      "    'leiden', the cluster labels (adata.obs, categorical) (0:00:02)\n"
     ]
    }
   ],
   "source": [
    "sc.tl.leiden(adata, resolution=1.4)"
   ]
  },
  {
   "cell_type": "code",
   "execution_count": 45,
   "id": "a02deb42",
   "metadata": {},
   "outputs": [
    {
     "name": "stderr",
     "output_type": "stream",
     "text": [
      "WARNING: saving figure to file scanpy/210711_merged_thymoma_MG21.22.23.03_Bcell/graph/umapBcell_leiden.pdf\n"
     ]
    },
    {
     "data": {
      "text/plain": [
       "<Figure size 320x320 with 1 Axes>"
      ]
     },
     "metadata": {},
     "output_type": "display_data"
    }
   ],
   "source": [
    "sc.pl.umap(adata, color='leiden', legend_loc='on data', title='', \n",
    "           frameon=False, save='Bcell_leiden.pdf')"
   ]
  },
  {
   "cell_type": "code",
   "execution_count": 46,
   "id": "20515f8a",
   "metadata": {},
   "outputs": [
    {
     "name": "stderr",
     "output_type": "stream",
     "text": [
      "WARNING: saving figure to file scanpy/210711_merged_thymoma_MG21.22.23.03_Bcell/graph/umapthymus_leiden.pdf\n"
     ]
    },
    {
     "data": {
      "text/plain": [
       "<Figure size 320x320 with 1 Axes>"
      ]
     },
     "metadata": {},
     "output_type": "display_data"
    }
   ],
   "source": [
    "sc.pl.umap(adata[adata.obs['site']=='Thymus'], color=['leiden'],\n",
    "          save='thymus_leiden.pdf', ncols=4)"
   ]
  },
  {
   "cell_type": "code",
   "execution_count": 47,
   "id": "20c23601",
   "metadata": {},
   "outputs": [
    {
     "name": "stderr",
     "output_type": "stream",
     "text": [
      "WARNING: saving figure to file scanpy/210711_merged_thymoma_MG21.22.23.03_Bcell/graph/umapthymus_leiden.pdf\n"
     ]
    },
    {
     "data": {
      "text/plain": [
       "<Figure size 320x320 with 1 Axes>"
      ]
     },
     "metadata": {},
     "output_type": "display_data"
    }
   ],
   "source": [
    "sc.pl.umap(adata[adata.obs['site']=='Periphery'], color=['leiden'],\n",
    "          save='thymus_leiden.pdf', ncols=4)"
   ]
  },
  {
   "cell_type": "code",
   "execution_count": 48,
   "id": "f4b1a7be",
   "metadata": {},
   "outputs": [
    {
     "name": "stderr",
     "output_type": "stream",
     "text": [
      "running Leiden clustering\n",
      "    finished: found 21 clusters and added\n",
      "    'leiden_R', the cluster labels (adata.obs, categorical) (0:00:00)\n"
     ]
    }
   ],
   "source": [
    "sc.tl.leiden(adata, resolution=0.6, restrict_to=('leiden', ['0']))"
   ]
  },
  {
   "cell_type": "code",
   "execution_count": 49,
   "id": "75ed21c1",
   "metadata": {},
   "outputs": [
    {
     "name": "stderr",
     "output_type": "stream",
     "text": [
      "Trying to set attribute `.uns` of view, copying.\n",
      "WARNING: saving figure to file scanpy/210711_merged_thymoma_MG21.22.23.03_Bcell/graph/umapthymus_leiden.pdf\n"
     ]
    },
    {
     "data": {
      "text/plain": [
       "<Figure size 772.8x320 with 2 Axes>"
      ]
     },
     "metadata": {},
     "output_type": "display_data"
    }
   ],
   "source": [
    "sc.pl.umap(adata[adata.obs['leiden']=='0'], color=['site', 'leiden_R'],\n",
    "          save='thymus_leiden.pdf', ncols=4, size=20)"
   ]
  },
  {
   "cell_type": "code",
   "execution_count": 50,
   "id": "52e15bac",
   "metadata": {},
   "outputs": [
    {
     "data": {
      "text/plain": [
       "<AxesSubplot:xlabel='leiden_R', ylabel='site'>"
      ]
     },
     "execution_count": 50,
     "metadata": {},
     "output_type": "execute_result"
    },
    {
     "data": {
      "text/plain": [
       "<Figure size 800x240 with 2 Axes>"
      ]
     },
     "metadata": {},
     "output_type": "display_data"
    }
   ],
   "source": [
    "df_cross = pd.crosstab(adata.obs['site'], adata.obs['leiden_R'])\n",
    "df_cross = (df_cross.T / df_cross.sum(axis=1)).T\n",
    "\n",
    "plt.figure(figsize=(10,3))\n",
    "sns.heatmap(df_cross, cmap='viridis')"
   ]
  },
  {
   "cell_type": "code",
   "execution_count": 51,
   "id": "b100230c",
   "metadata": {},
   "outputs": [
    {
     "data": {
      "text/html": [
       "<div>\n",
       "<style scoped>\n",
       "    .dataframe tbody tr th:only-of-type {\n",
       "        vertical-align: middle;\n",
       "    }\n",
       "\n",
       "    .dataframe tbody tr th {\n",
       "        vertical-align: top;\n",
       "    }\n",
       "\n",
       "    .dataframe thead th {\n",
       "        text-align: right;\n",
       "    }\n",
       "</style>\n",
       "<table border=\"1\" class=\"dataframe\">\n",
       "  <thead>\n",
       "    <tr style=\"text-align: right;\">\n",
       "      <th>leiden</th>\n",
       "      <th>0</th>\n",
       "      <th>1</th>\n",
       "      <th>2</th>\n",
       "      <th>3</th>\n",
       "      <th>4</th>\n",
       "      <th>5</th>\n",
       "      <th>6</th>\n",
       "      <th>7</th>\n",
       "      <th>8</th>\n",
       "      <th>9</th>\n",
       "      <th>10</th>\n",
       "      <th>11</th>\n",
       "      <th>12</th>\n",
       "      <th>13</th>\n",
       "      <th>14</th>\n",
       "      <th>15</th>\n",
       "      <th>16</th>\n",
       "    </tr>\n",
       "    <tr>\n",
       "      <th>site</th>\n",
       "      <th></th>\n",
       "      <th></th>\n",
       "      <th></th>\n",
       "      <th></th>\n",
       "      <th></th>\n",
       "      <th></th>\n",
       "      <th></th>\n",
       "      <th></th>\n",
       "      <th></th>\n",
       "      <th></th>\n",
       "      <th></th>\n",
       "      <th></th>\n",
       "      <th></th>\n",
       "      <th></th>\n",
       "      <th></th>\n",
       "      <th></th>\n",
       "      <th></th>\n",
       "    </tr>\n",
       "  </thead>\n",
       "  <tbody>\n",
       "    <tr>\n",
       "      <th>Periphery</th>\n",
       "      <td>1194</td>\n",
       "      <td>1080</td>\n",
       "      <td>1041</td>\n",
       "      <td>922</td>\n",
       "      <td>928</td>\n",
       "      <td>672</td>\n",
       "      <td>511</td>\n",
       "      <td>433</td>\n",
       "      <td>358</td>\n",
       "      <td>317</td>\n",
       "      <td>263</td>\n",
       "      <td>297</td>\n",
       "      <td>267</td>\n",
       "      <td>178</td>\n",
       "      <td>165</td>\n",
       "      <td>101</td>\n",
       "      <td>118</td>\n",
       "    </tr>\n",
       "    <tr>\n",
       "      <th>Thymus</th>\n",
       "      <td>199</td>\n",
       "      <td>137</td>\n",
       "      <td>65</td>\n",
       "      <td>36</td>\n",
       "      <td>19</td>\n",
       "      <td>8</td>\n",
       "      <td>33</td>\n",
       "      <td>21</td>\n",
       "      <td>66</td>\n",
       "      <td>70</td>\n",
       "      <td>77</td>\n",
       "      <td>3</td>\n",
       "      <td>25</td>\n",
       "      <td>61</td>\n",
       "      <td>61</td>\n",
       "      <td>35</td>\n",
       "      <td>9</td>\n",
       "    </tr>\n",
       "  </tbody>\n",
       "</table>\n",
       "</div>"
      ],
      "text/plain": [
       "leiden        0     1     2    3    4    5    6    7    8    9   10   11   12  \\\n",
       "site                                                                            \n",
       "Periphery  1194  1080  1041  922  928  672  511  433  358  317  263  297  267   \n",
       "Thymus      199   137    65   36   19    8   33   21   66   70   77    3   25   \n",
       "\n",
       "leiden      13   14   15   16  \n",
       "site                           \n",
       "Periphery  178  165  101  118  \n",
       "Thymus      61   61   35    9  "
      ]
     },
     "execution_count": 51,
     "metadata": {},
     "output_type": "execute_result"
    }
   ],
   "source": [
    "pd.crosstab(adata.obs['site'], adata.obs['leiden'])"
   ]
  },
  {
   "cell_type": "code",
   "execution_count": 52,
   "id": "217546e2",
   "metadata": {},
   "outputs": [
    {
     "name": "stderr",
     "output_type": "stream",
     "text": [
      "WARNING: saving figure to file scanpy/210711_merged_thymoma_MG21.22.23.03_Bcell/graph/umappanel_bcell.pdf\n"
     ]
    },
    {
     "data": {
      "text/plain": [
       "<Figure size 1545.6x960 with 18 Axes>"
      ]
     },
     "metadata": {},
     "output_type": "display_data"
    }
   ],
   "source": [
    "sc.pl.umap(adata, color=['CCR7', 'JUN', 'GPR183', 'FCRL2', 'TNFRSF13B', 'IGHM', 'SSPN', 'TXNDC5', 'sample', 'site'],\n",
    "          save='panel_bcell.pdf', ncols=4)"
   ]
  },
  {
   "cell_type": "markdown",
   "id": "bd790492",
   "metadata": {},
   "source": [
    "Antigen- activated naive B cells increase their metabolic activity17 and express\n",
    "chemoattractant receptors (CC- chemokine receptor 7 (CCR7) and EBI2(GPR183)) that direct them to the border of the T cell zone"
   ]
  },
  {
   "cell_type": "code",
   "execution_count": 53,
   "id": "e575c105",
   "metadata": {},
   "outputs": [
    {
     "name": "stderr",
     "output_type": "stream",
     "text": [
      "WARNING: saving figure to file scanpy/210711_merged_thymoma_MG21.22.23.03_Bcell/graph/umappanel_bcell.pdf\n"
     ]
    },
    {
     "data": {
      "text/plain": [
       "<Figure size 1545.6x960 with 22 Axes>"
      ]
     },
     "metadata": {},
     "output_type": "display_data"
    }
   ],
   "source": [
    "# TXNDC5 plasmablast, PC\n",
    "\n",
    "sc.pl.umap(adata[adata.obs['site']=='Thymus'], \n",
    "           color=['CCR7', 'CD38', 'JUN', 'GPR183', 'FCRL2', 'PAX5', 'BACH2', 'TNFRSF13B', 'SSPN', 'TXNDC5', 'sample', 'site'],\n",
    "          save='panel_bcell.pdf', ncols=4)"
   ]
  },
  {
   "cell_type": "code",
   "execution_count": 54,
   "id": "af069b31",
   "metadata": {},
   "outputs": [
    {
     "name": "stderr",
     "output_type": "stream",
     "text": [
      "WARNING: saving figure to file scanpy/210711_merged_thymoma_MG21.22.23.03_Bcell/graph/umappanel_bcell.pdf\n"
     ]
    },
    {
     "data": {
      "text/plain": [
       "<Figure size 1545.6x320 with 6 Axes>"
      ]
     },
     "metadata": {},
     "output_type": "display_data"
    }
   ],
   "source": [
    "sc.pl.umap(adata, color=['IGHD', 'CD27', 'sample', 'site'],\n",
    "          save='panel_bcell.pdf', ncols=4)"
   ]
  },
  {
   "cell_type": "code",
   "execution_count": 55,
   "id": "9dfb1a69",
   "metadata": {},
   "outputs": [
    {
     "name": "stderr",
     "output_type": "stream",
     "text": [
      "WARNING: saving figure to file scanpy/210711_merged_thymoma_MG21.22.23.03_Bcell/graph/umappanel_bcell.pdf\n"
     ]
    },
    {
     "data": {
      "text/plain": [
       "<Figure size 1545.6x960 with 18 Axes>"
      ]
     },
     "metadata": {},
     "output_type": "display_data"
    }
   ],
   "source": [
    "# GC related genes\n",
    "# https://immunology.sciencemag.org/content/6/56/eabe6291\n",
    "\n",
    "sc.pl.umap(adata[adata.obs['site']=='Thymus'], \n",
    "           color=['SPN', 'CD5', 'CD27', 'APEX1', 'XRCC5','BATF', 'IRF4', 'POLE3', 'sample', 'site'],\n",
    "          save='panel_bcell.pdf', ncols=4)"
   ]
  },
  {
   "cell_type": "code",
   "execution_count": 56,
   "id": "75255f16",
   "metadata": {},
   "outputs": [
    {
     "name": "stderr",
     "output_type": "stream",
     "text": [
      "WARNING: saving figure to file scanpy/210711_merged_thymoma_MG21.22.23.03_Bcell/graph/umappanel_bcell.pdf\n"
     ]
    },
    {
     "data": {
      "text/plain": [
       "<Figure size 1545.6x960 with 16 Axes>"
      ]
     },
     "metadata": {},
     "output_type": "display_data"
    }
   ],
   "source": [
    "# GC related genes\n",
    "# https://immunology.sciencemag.org/content/6/56/eabe6291\n",
    "\n",
    "sc.pl.umap(adata[adata.obs['site']=='Periphery'], \n",
    "           color=['IGHD', 'CD27', 'APEX1', 'XRCC5','BATF', 'IRF4', 'POLE3', 'sample', 'site'],\n",
    "          save='panel_bcell.pdf', ncols=4)"
   ]
  },
  {
   "cell_type": "code",
   "execution_count": 57,
   "id": "4614f6ba",
   "metadata": {},
   "outputs": [
    {
     "name": "stderr",
     "output_type": "stream",
     "text": [
      "WARNING: saving figure to file scanpy/210711_merged_thymoma_MG21.22.23.03_Bcell/graph/umappanel_bcell.pdf\n"
     ]
    },
    {
     "data": {
      "text/plain": [
       "<Figure size 1545.6x2560 with 58 Axes>"
      ]
     },
     "metadata": {},
     "output_type": "display_data"
    }
   ],
   "source": [
    "sc.pl.umap(adata, color=['CD19', 'MS4A1', 'CD3E', 'MKI67', 'CST3', 'BCL6', 'PAX5', 'CXCR5', 'TCL1A', \n",
    "                         'CD27', 'CD38', 'SDC1', 'PRDM1', 'TXNDC5',\n",
    "                         'IRF4', 'CXCR4', 'CD24', 'CR2', 'CD69',  \n",
    "                         'IGHD', 'IGHM', 'IGHA1', 'IGHA2', 'IGHG1',\n",
    "                         'IGHG2', 'IGHG3', 'IGHG4', 'IGHE', 'sample', 'site'],\n",
    "          save='panel_bcell.pdf', ncols=4)"
   ]
  },
  {
   "cell_type": "raw",
   "id": "7ed4ea58",
   "metadata": {},
   "source": [
    "sc.tl.leiden(adata, resolution=0.2, restrict_to=('leiden', ['4']))"
   ]
  },
  {
   "cell_type": "raw",
   "id": "0f982b25",
   "metadata": {},
   "source": [
    "sc.pl.umap(adata, color='leiden_R', legend_loc='on data', title='', frameon=False, save='Bcell_leidenR.pdf')"
   ]
  },
  {
   "cell_type": "raw",
   "id": "0fb8604c",
   "metadata": {},
   "source": [
    "df_cross = pd.crosstab(adata.obs['site'], adata.obs['leiden_R'])\n",
    "df_cross = (df_cross.T / df_cross.sum(axis=1)).T\n",
    "\n",
    "plt.figure(figsize=(10,3))\n",
    "sns.heatmap(df_cross, cmap='viridis')"
   ]
  },
  {
   "cell_type": "code",
   "execution_count": 58,
   "id": "06b22b35",
   "metadata": {},
   "outputs": [
    {
     "name": "stderr",
     "output_type": "stream",
     "text": [
      "WARNING: dendrogram data not found (using key=dendrogram_leiden_R). Running `sc.tl.dendrogram` with default parameters. For fine tuning it is recommended to run `sc.tl.dendrogram` independently.\n",
      "    using 'X_pca' with n_pcs = 50\n",
      "Storing dendrogram info using `.uns['dendrogram_leiden_R']`\n",
      "WARNING: saving figure to file scanpy/210711_merged_thymoma_MG21.22.23.03_Bcell/graph/dotplot_.pdf\n"
     ]
    },
    {
     "data": {
      "text/plain": [
       "<Figure size 741.6x900 with 5 Axes>"
      ]
     },
     "metadata": {},
     "output_type": "display_data"
    }
   ],
   "source": [
    "sc.pl.dotplot(adata, var_names=['CD19', 'MS4A1', 'CD3E', 'CST3', 'BCL6', 'PAX5', 'CXCR5', 'TCL1A', \n",
    "                         'CD27', 'CD38', 'SDC1', 'PRDM1', 'XBP1',\n",
    "                         'FKBP11', \n",
    "                         'IRF4', 'CXCR4', 'CD24', 'CR2', \n",
    "                         'IGHD', 'IGHM', 'IGHA1', 'IGHA2', 'IGHG1',\n",
    "                         'IGHG2', 'IGHG3', 'IGHG4', 'IGHE'], \n",
    "              groupby='leiden_R', swap_axes=True, dendrogram=True)"
   ]
  },
  {
   "cell_type": "code",
   "execution_count": 59,
   "id": "ddc37144",
   "metadata": {},
   "outputs": [
    {
     "name": "stderr",
     "output_type": "stream",
     "text": [
      "ranking genes\n",
      "    finished: added to `.uns['rank_genes_groups']`\n",
      "    'names', sorted np.recarray to be indexed by group ids\n",
      "    'scores', sorted np.recarray to be indexed by group ids\n",
      "    'logfoldchanges', sorted np.recarray to be indexed by group ids\n",
      "    'pvals', sorted np.recarray to be indexed by group ids\n",
      "    'pvals_adj', sorted np.recarray to be indexed by group ids (0:00:05)\n",
      "WARNING: saving figure to file scanpy/210711_merged_thymoma_MG21.22.23.03_Bcell/graph/rank_genes_groups_leiden_R.pdf\n"
     ]
    },
    {
     "data": {
      "text/plain": [
       "<Figure size 1280x1920 with 21 Axes>"
      ]
     },
     "metadata": {},
     "output_type": "display_data"
    }
   ],
   "source": [
    "sc.tl.rank_genes_groups(adata, 'leiden_R', method='t-test_overestim_var')\n",
    "sc.pl.rank_genes_groups(adata, n_genes=25, sharey=False)"
   ]
  },
  {
   "cell_type": "code",
   "execution_count": 60,
   "id": "71eb43dd",
   "metadata": {},
   "outputs": [
    {
     "name": "stdout",
     "output_type": "stream",
     "text": [
      "SOX4\n",
      "CD3D\n",
      "NUCB2\n",
      "MZB1\n",
      "CD3G\n",
      "TRBC1\n",
      "IGLC2\n",
      "FKBP11\n",
      "BCL11B\n",
      "XBP1\n",
      "IL7R\n",
      "MAL\n",
      "FYB1\n",
      "LEF1\n",
      "FOS\n",
      "CD3E\n",
      "HSPA1B\n",
      "CD7\n",
      "CHPF\n",
      "H1FX\n",
      "CD2\n",
      "PRDX4\n",
      "SSR4\n",
      "AIF1\n",
      "PRDM1\n",
      "YBX3\n",
      "ITM2C\n",
      "MANF\n",
      "IGLC3\n",
      "SDC1\n",
      "PTCRA\n",
      "JCHAIN\n",
      "SH2D1A\n",
      "CD38\n",
      "AQP3\n",
      "GIHCG\n",
      "FXYD2\n",
      "STMN1\n",
      "CDK6\n",
      "SELENOS\n",
      "SPAG4\n",
      "SRGN\n",
      "TXNDC5\n",
      "TFDP2\n",
      "SLAMF7\n",
      "TCF7\n",
      "HSPA1A\n",
      "ERN1\n",
      "CD8B\n",
      "TRAT1\n",
      "DERL3\n",
      "JSRP1\n",
      "TPST2\n",
      "IGHG4\n",
      "TRAC\n",
      "SSR3\n",
      "CD1E\n",
      "NT5DC2\n",
      "IGHM\n",
      "LDLRAD4\n",
      "IL32\n",
      "TNFRSF17\n",
      "FNDC3B\n",
      "MAP1A\n",
      "ITM2A\n",
      "ERLEC1\n",
      "SMIM3\n",
      "TCL1A\n",
      "SEC11C\n",
      "HNRNPH1\n",
      "DSP\n",
      "DBNDD1\n",
      "SSR1\n",
      "HERPUD1\n",
      "ID2\n",
      "SEL1L\n",
      "TMEM263\n",
      "ITGA6\n",
      "SCNN1B\n",
      "PCDH9\n",
      "TMEM258\n",
      "TRIB1\n",
      "DUSP1\n",
      "CD1B\n",
      "UGP2\n",
      "ANXA1\n",
      "SOCS2\n",
      "IGHG3\n",
      "NANS\n",
      "TRDC\n",
      "TMED4\n",
      "GZMM\n",
      "LARP1B\n",
      "FOSB\n",
      "INSR\n",
      "ABHD17B\n",
      "GADD45A\n",
      "CD9\n",
      "IL6ST\n",
      "SEC61G\n"
     ]
    }
   ],
   "source": [
    "print('\\n'.join(list(adata.uns['rank_genes_groups']['names']['15'])[:100]))"
   ]
  },
  {
   "cell_type": "code",
   "execution_count": 61,
   "id": "e96c50e0",
   "metadata": {},
   "outputs": [
    {
     "name": "stderr",
     "output_type": "stream",
     "text": [
      "WARNING: saving figure to file scanpy/210711_merged_thymoma_MG21.22.23.03_Bcell/graph/umapthymus_panel_gcbcell.pdf\n"
     ]
    },
    {
     "data": {
      "text/plain": [
       "<Figure size 1545.6x1280 with 28 Axes>"
      ]
     },
     "metadata": {},
     "output_type": "display_data"
    }
   ],
   "source": [
    "# 'PRDM1', 'XBP1', 'MZB1' : plasmablast\n",
    "# 'BCL2A1' : LZ GC\n",
    "# 'EZR' : DZ GC\n",
    "list_gc_markers = ['FCER2', 'SELL', 'BANK1', 'CD69', 'JUN', 'BHLHE40', 'BCL2A1' ,\n",
    "                   'EZR', 'PRDM1', 'XBP1', 'MZB1',\n",
    "                  'CCR1', 'ITGAX', 'MKI67']\n",
    "sc.pl.umap(adata[adata.obs['site']=='Thymus'], color=list_gc_markers,\n",
    "          save='thymus_panel_gcbcell.pdf', ncols=4)"
   ]
  },
  {
   "cell_type": "code",
   "execution_count": 62,
   "id": "436d7b86",
   "metadata": {},
   "outputs": [
    {
     "name": "stderr",
     "output_type": "stream",
     "text": [
      "WARNING: saving figure to file scanpy/210711_merged_thymoma_MG21.22.23.03_Bcell/graph/umapperi_panel_gcbcell.pdf\n"
     ]
    },
    {
     "data": {
      "text/plain": [
       "<Figure size 1545.6x1280 with 28 Axes>"
      ]
     },
     "metadata": {},
     "output_type": "display_data"
    }
   ],
   "source": [
    "sc.pl.umap(adata[adata.obs['site']=='Periphery'], color=list_gc_markers,\n",
    "          save='peri_panel_gcbcell.pdf', ncols=4)"
   ]
  },
  {
   "cell_type": "code",
   "execution_count": 63,
   "id": "556c537d",
   "metadata": {},
   "outputs": [
    {
     "name": "stderr",
     "output_type": "stream",
     "text": [
      "WARNING: saving figure to file scanpy/210711_merged_thymoma_MG21.22.23.03_Bcell/graph/umapthymus_leiden.pdf\n"
     ]
    },
    {
     "data": {
      "text/plain": [
       "<Figure size 320x320 with 1 Axes>"
      ]
     },
     "metadata": {},
     "output_type": "display_data"
    }
   ],
   "source": [
    "sc.pl.umap(adata[adata.obs['site']=='Thymus'], color=['leiden'],\n",
    "          save='thymus_leiden.pdf', ncols=4)"
   ]
  },
  {
   "cell_type": "code",
   "execution_count": 64,
   "id": "85ca49e5",
   "metadata": {},
   "outputs": [
    {
     "name": "stderr",
     "output_type": "stream",
     "text": [
      "WARNING: saving figure to file scanpy/210711_merged_thymoma_MG21.22.23.03_Bcell/graph/umapthymus_leiden.pdf\n"
     ]
    },
    {
     "data": {
      "text/plain": [
       "<Figure size 320x320 with 1 Axes>"
      ]
     },
     "metadata": {},
     "output_type": "display_data"
    }
   ],
   "source": [
    "sc.pl.umap(adata[adata.obs['site']=='Periphery'], color=['leiden'],\n",
    "          save='thymus_leiden.pdf', ncols=4)"
   ]
  },
  {
   "cell_type": "code",
   "execution_count": 65,
   "id": "6fbd2051",
   "metadata": {},
   "outputs": [
    {
     "name": "stderr",
     "output_type": "stream",
     "text": [
      "WARNING: saving figure to file scanpy/210711_merged_thymoma_MG21.22.23.03_Bcell/graph/dotplot_.pdf\n"
     ]
    },
    {
     "data": {
      "text/plain": [
       "<Figure size 623.2x472 with 4 Axes>"
      ]
     },
     "metadata": {},
     "output_type": "display_data"
    }
   ],
   "source": [
    "sc.pl.dotplot(adata, var_names=list_gc_markers, \n",
    "              groupby='leiden', swap_axes=True)"
   ]
  },
  {
   "cell_type": "code",
   "execution_count": 66,
   "id": "dc2cdc22",
   "metadata": {},
   "outputs": [
    {
     "name": "stderr",
     "output_type": "stream",
     "text": [
      "WARNING: saving figure to file scanpy/210711_merged_thymoma_MG21.22.23.03_Bcell/graph/dotplot_.pdf\n"
     ]
    },
    {
     "data": {
      "text/plain": [
       "<Figure size 623.2x472 with 4 Axes>"
      ]
     },
     "metadata": {},
     "output_type": "display_data"
    }
   ],
   "source": [
    "sc.pl.dotplot(adata[adata.obs['site']=='Thymus'], var_names=list_gc_markers, \n",
    "              groupby='leiden', swap_axes=True)"
   ]
  },
  {
   "cell_type": "code",
   "execution_count": 67,
   "id": "13368777",
   "metadata": {},
   "outputs": [
    {
     "name": "stderr",
     "output_type": "stream",
     "text": [
      "WARNING: saving figure to file scanpy/210711_merged_thymoma_MG21.22.23.03_Bcell/graph/umapthymus_panel_bcell.pdf\n"
     ]
    },
    {
     "data": {
      "text/plain": [
       "<Figure size 1545.6x2240 with 51 Axes>"
      ]
     },
     "metadata": {},
     "output_type": "display_data"
    }
   ],
   "source": [
    "sc.pl.umap(adata[adata.obs['site']=='Thymus'], color=['CD19', 'MS4A1', 'CD3E', 'CST3', 'BCL6', 'PAX5', 'CXCR5', 'TCL1A', \n",
    "                         'CD27', 'CD38', 'SDC1', 'PRDM1',\n",
    "                         'IRF4', 'CXCR4', 'CD24', 'CR2', \n",
    "                         'IGHD', 'IGHM', 'IGHA1', 'IGHA2', 'IGHG1',\n",
    "                         'IGHG2', 'IGHG3', 'IGHG4', 'IGHE', 'sample'],\n",
    "          save='thymus_panel_bcell.pdf', ncols=4)"
   ]
  },
  {
   "cell_type": "code",
   "execution_count": 68,
   "id": "734cf7cb",
   "metadata": {},
   "outputs": [
    {
     "name": "stderr",
     "output_type": "stream",
     "text": [
      "Trying to set attribute `.uns` of view, copying.\n",
      "WARNING: saving figure to file scanpy/210711_merged_thymoma_MG21.22.23.03_Bcell/graph/umapPeriphery_leiden.pdf\n"
     ]
    },
    {
     "data": {
      "text/plain": [
       "<Figure size 320x320 with 1 Axes>"
      ]
     },
     "metadata": {},
     "output_type": "display_data"
    }
   ],
   "source": [
    "sc.pl.umap(adata[adata.obs['site']=='Periphery'], color=['leiden_R'], legend_loc='on data',\n",
    "          save='Periphery_leiden.pdf', ncols=4)"
   ]
  },
  {
   "cell_type": "code",
   "execution_count": 69,
   "id": "26614a06",
   "metadata": {},
   "outputs": [
    {
     "name": "stderr",
     "output_type": "stream",
     "text": [
      "Trying to set attribute `.uns` of view, copying.\n"
     ]
    },
    {
     "data": {
      "text/plain": [
       "<Figure size 1545.6x640 with 14 Axes>"
      ]
     },
     "metadata": {},
     "output_type": "display_data"
    }
   ],
   "source": [
    "sc.pl.umap(adata[adata.obs['leiden_R'].isin(['8', '10', '15'])], color=['CD3E', 'IGHD', 'CD27','CD24', 'CD38', 'MZB1', 'leiden_R', 'site'], legend_loc='on data',\n",
    "          save=False, ncols=4)"
   ]
  },
  {
   "cell_type": "code",
   "execution_count": 70,
   "id": "909c380f",
   "metadata": {},
   "outputs": [
    {
     "name": "stderr",
     "output_type": "stream",
     "text": [
      "WARNING: saving figure to file scanpy/210711_merged_thymoma_MG21.22.23.03_Bcell/graph/dotplot_.pdf\n"
     ]
    },
    {
     "data": {
      "text/plain": [
       "<Figure size 445.6x200 with 4 Axes>"
      ]
     },
     "metadata": {},
     "output_type": "display_data"
    }
   ],
   "source": [
    "sc.pl.dotplot(adata[adata.obs['leiden_R'].isin(['8', '10', '15'])], \n",
    "              ['CD3E','MS4A1','IGHD', 'CD27','CD24', 'CD38', 'MZB1', \"IGHG1\", \"IGHG2\", 'IGHM', 'IGHD'], groupby=\"leiden_R\")"
   ]
  },
  {
   "cell_type": "raw",
   "id": "16b52f17",
   "metadata": {},
   "source": [
    "sc.pl.umap(adata[adata.obs['leiden']=='4'], color=['leiden_R'], legend_loc='on data',\n",
    "          save='Periphery_leiden.pdf', ncols=4)"
   ]
  },
  {
   "cell_type": "code",
   "execution_count": 71,
   "id": "7bfc08a7",
   "metadata": {},
   "outputs": [
    {
     "name": "stderr",
     "output_type": "stream",
     "text": [
      "WARNING: saving figure to file scanpy/210711_merged_thymoma_MG21.22.23.03_Bcell/graph/umapperi_panel_gcbcell.pdf\n"
     ]
    },
    {
     "data": {
      "text/plain": [
       "<Figure size 1545.6x1280 with 28 Axes>"
      ]
     },
     "metadata": {},
     "output_type": "display_data"
    }
   ],
   "source": [
    "sc.pl.umap(adata[adata.obs['site']=='Periphery'], color=list_gc_markers,\n",
    "          save='peri_panel_gcbcell.pdf', ncols=4)"
   ]
  },
  {
   "cell_type": "code",
   "execution_count": 72,
   "id": "61c39ceb",
   "metadata": {},
   "outputs": [
    {
     "name": "stderr",
     "output_type": "stream",
     "text": [
      "WARNING: saving figure to file scanpy/210711_merged_thymoma_MG21.22.23.03_Bcell/graph/umapperi_panel_bcell.pdf\n"
     ]
    },
    {
     "data": {
      "text/plain": [
       "<Figure size 1545.6x2240 with 51 Axes>"
      ]
     },
     "metadata": {},
     "output_type": "display_data"
    }
   ],
   "source": [
    "sc.pl.umap(adata[adata.obs['site']=='Periphery'], color=['CD19', 'MS4A1', 'CD3E', 'CST3', 'BCL6', 'PAX5', 'CXCR5', 'TCL1A', \n",
    "                         'CD27', 'CD38', 'SDC1', 'PRDM1',\n",
    "                         'IRF4', 'CXCR4', 'CD24', 'CR2', \n",
    "                         'IGHD', 'IGHM', 'IGHA1', 'IGHA2', 'IGHG1',\n",
    "                         'IGHG2', 'IGHG3', 'IGHG4', 'IGHE', 'sample'],\n",
    "          save='peri_panel_bcell.pdf', ncols=4)"
   ]
  },
  {
   "cell_type": "code",
   "execution_count": 73,
   "id": "a28e4843",
   "metadata": {},
   "outputs": [
    {
     "name": "stderr",
     "output_type": "stream",
     "text": [
      "WARNING: saving figure to file scanpy/210711_merged_thymoma_MG21.22.23.03_Bcell/graph/umapB_leiden0,0.pdf\n"
     ]
    },
    {
     "data": {
      "text/plain": [
       "<Figure size 1932x1280 with 40 Axes>"
      ]
     },
     "metadata": {},
     "output_type": "display_data"
    },
    {
     "name": "stderr",
     "output_type": "stream",
     "text": [
      "WARNING: saving figure to file scanpy/210711_merged_thymoma_MG21.22.23.03_Bcell/graph/umapB_leiden0,1.pdf\n"
     ]
    },
    {
     "data": {
      "text/plain": [
       "<Figure size 1932x1280 with 40 Axes>"
      ]
     },
     "metadata": {},
     "output_type": "display_data"
    },
    {
     "name": "stderr",
     "output_type": "stream",
     "text": [
      "WARNING: saving figure to file scanpy/210711_merged_thymoma_MG21.22.23.03_Bcell/graph/umapB_leiden0,2.pdf\n"
     ]
    },
    {
     "data": {
      "text/plain": [
       "<Figure size 1932x1280 with 40 Axes>"
      ]
     },
     "metadata": {},
     "output_type": "display_data"
    },
    {
     "name": "stderr",
     "output_type": "stream",
     "text": [
      "WARNING: saving figure to file scanpy/210711_merged_thymoma_MG21.22.23.03_Bcell/graph/umapB_leiden0,3.pdf\n"
     ]
    },
    {
     "data": {
      "text/plain": [
       "<Figure size 1932x1280 with 40 Axes>"
      ]
     },
     "metadata": {},
     "output_type": "display_data"
    },
    {
     "name": "stderr",
     "output_type": "stream",
     "text": [
      "WARNING: saving figure to file scanpy/210711_merged_thymoma_MG21.22.23.03_Bcell/graph/umapB_leiden0,4.pdf\n"
     ]
    },
    {
     "data": {
      "text/plain": [
       "<Figure size 1932x1280 with 40 Axes>"
      ]
     },
     "metadata": {},
     "output_type": "display_data"
    },
    {
     "name": "stderr",
     "output_type": "stream",
     "text": [
      "WARNING: saving figure to file scanpy/210711_merged_thymoma_MG21.22.23.03_Bcell/graph/umapB_leiden1.pdf\n"
     ]
    },
    {
     "data": {
      "text/plain": [
       "<Figure size 1932x1280 with 40 Axes>"
      ]
     },
     "metadata": {},
     "output_type": "display_data"
    },
    {
     "name": "stderr",
     "output_type": "stream",
     "text": [
      "WARNING: saving figure to file scanpy/210711_merged_thymoma_MG21.22.23.03_Bcell/graph/umapB_leiden2.pdf\n"
     ]
    },
    {
     "data": {
      "text/plain": [
       "<Figure size 1932x1280 with 40 Axes>"
      ]
     },
     "metadata": {},
     "output_type": "display_data"
    },
    {
     "name": "stderr",
     "output_type": "stream",
     "text": [
      "WARNING: saving figure to file scanpy/210711_merged_thymoma_MG21.22.23.03_Bcell/graph/umapB_leiden3.pdf\n"
     ]
    },
    {
     "data": {
      "text/plain": [
       "<Figure size 1932x1280 with 40 Axes>"
      ]
     },
     "metadata": {},
     "output_type": "display_data"
    },
    {
     "name": "stderr",
     "output_type": "stream",
     "text": [
      "WARNING: saving figure to file scanpy/210711_merged_thymoma_MG21.22.23.03_Bcell/graph/umapB_leiden4.pdf\n"
     ]
    },
    {
     "data": {
      "text/plain": [
       "<Figure size 1932x1280 with 40 Axes>"
      ]
     },
     "metadata": {},
     "output_type": "display_data"
    },
    {
     "name": "stderr",
     "output_type": "stream",
     "text": [
      "WARNING: saving figure to file scanpy/210711_merged_thymoma_MG21.22.23.03_Bcell/graph/umapB_leiden5.pdf\n"
     ]
    },
    {
     "data": {
      "text/plain": [
       "<Figure size 1932x1280 with 40 Axes>"
      ]
     },
     "metadata": {},
     "output_type": "display_data"
    },
    {
     "name": "stderr",
     "output_type": "stream",
     "text": [
      "WARNING: saving figure to file scanpy/210711_merged_thymoma_MG21.22.23.03_Bcell/graph/umapB_leiden6.pdf\n"
     ]
    },
    {
     "data": {
      "text/plain": [
       "<Figure size 1932x1280 with 40 Axes>"
      ]
     },
     "metadata": {},
     "output_type": "display_data"
    },
    {
     "name": "stderr",
     "output_type": "stream",
     "text": [
      "WARNING: saving figure to file scanpy/210711_merged_thymoma_MG21.22.23.03_Bcell/graph/umapB_leiden7.pdf\n"
     ]
    },
    {
     "data": {
      "text/plain": [
       "<Figure size 1932x1280 with 40 Axes>"
      ]
     },
     "metadata": {},
     "output_type": "display_data"
    },
    {
     "name": "stderr",
     "output_type": "stream",
     "text": [
      "WARNING: saving figure to file scanpy/210711_merged_thymoma_MG21.22.23.03_Bcell/graph/umapB_leiden8.pdf\n"
     ]
    },
    {
     "data": {
      "text/plain": [
       "<Figure size 1932x1280 with 40 Axes>"
      ]
     },
     "metadata": {},
     "output_type": "display_data"
    },
    {
     "name": "stderr",
     "output_type": "stream",
     "text": [
      "WARNING: saving figure to file scanpy/210711_merged_thymoma_MG21.22.23.03_Bcell/graph/umapB_leiden9.pdf\n"
     ]
    },
    {
     "data": {
      "text/plain": [
       "<Figure size 1932x1280 with 40 Axes>"
      ]
     },
     "metadata": {},
     "output_type": "display_data"
    },
    {
     "name": "stderr",
     "output_type": "stream",
     "text": [
      "WARNING: saving figure to file scanpy/210711_merged_thymoma_MG21.22.23.03_Bcell/graph/umapB_leiden10.pdf\n"
     ]
    },
    {
     "data": {
      "text/plain": [
       "<Figure size 1932x1280 with 40 Axes>"
      ]
     },
     "metadata": {},
     "output_type": "display_data"
    },
    {
     "name": "stderr",
     "output_type": "stream",
     "text": [
      "WARNING: saving figure to file scanpy/210711_merged_thymoma_MG21.22.23.03_Bcell/graph/umapB_leiden11.pdf\n"
     ]
    },
    {
     "data": {
      "text/plain": [
       "<Figure size 1932x1280 with 40 Axes>"
      ]
     },
     "metadata": {},
     "output_type": "display_data"
    },
    {
     "name": "stderr",
     "output_type": "stream",
     "text": [
      "WARNING: saving figure to file scanpy/210711_merged_thymoma_MG21.22.23.03_Bcell/graph/umapB_leiden12.pdf\n"
     ]
    },
    {
     "data": {
      "text/plain": [
       "<Figure size 1932x1280 with 40 Axes>"
      ]
     },
     "metadata": {},
     "output_type": "display_data"
    },
    {
     "name": "stderr",
     "output_type": "stream",
     "text": [
      "WARNING: saving figure to file scanpy/210711_merged_thymoma_MG21.22.23.03_Bcell/graph/umapB_leiden13.pdf\n"
     ]
    },
    {
     "data": {
      "text/plain": [
       "<Figure size 1932x1280 with 40 Axes>"
      ]
     },
     "metadata": {},
     "output_type": "display_data"
    },
    {
     "name": "stderr",
     "output_type": "stream",
     "text": [
      "WARNING: saving figure to file scanpy/210711_merged_thymoma_MG21.22.23.03_Bcell/graph/umapB_leiden14.pdf\n"
     ]
    },
    {
     "data": {
      "text/plain": [
       "<Figure size 1932x1280 with 40 Axes>"
      ]
     },
     "metadata": {},
     "output_type": "display_data"
    },
    {
     "name": "stderr",
     "output_type": "stream",
     "text": [
      "WARNING: saving figure to file scanpy/210711_merged_thymoma_MG21.22.23.03_Bcell/graph/umapB_leiden15.pdf\n"
     ]
    },
    {
     "data": {
      "text/plain": [
       "<Figure size 1932x1280 with 40 Axes>"
      ]
     },
     "metadata": {},
     "output_type": "display_data"
    },
    {
     "name": "stderr",
     "output_type": "stream",
     "text": [
      "WARNING: saving figure to file scanpy/210711_merged_thymoma_MG21.22.23.03_Bcell/graph/umapB_leiden16.pdf\n"
     ]
    },
    {
     "data": {
      "text/plain": [
       "<Figure size 1932x1280 with 40 Axes>"
      ]
     },
     "metadata": {},
     "output_type": "display_data"
    }
   ],
   "source": [
    "for c in adata.obs['leiden_R'].cat.categories:\n",
    "    sc.pl.umap(adata, color=list(adata.uns['rank_genes_groups']['names'][c])[:20],\n",
    "          save='B_leiden{}'.format(c), ncols=5)"
   ]
  },
  {
   "cell_type": "code",
   "execution_count": 74,
   "id": "b31f2e8e",
   "metadata": {},
   "outputs": [
    {
     "name": "stderr",
     "output_type": "stream",
     "text": [
      "WARNING: saving figure to file scanpy/210711_merged_thymoma_MG21.22.23.03_Bcell/graph/correlation_matrix.pdf\n"
     ]
    },
    {
     "data": {
      "text/plain": [
       "<Figure size 560x560 with 3 Axes>"
      ]
     },
     "metadata": {},
     "output_type": "display_data"
    }
   ],
   "source": [
    "ax = sc.pl.correlation_matrix(adata, 'leiden_R', figsize=(7,7))"
   ]
  },
  {
   "cell_type": "code",
   "execution_count": 75,
   "id": "c555a303",
   "metadata": {},
   "outputs": [
    {
     "name": "stderr",
     "output_type": "stream",
     "text": [
      "running PAGA\n",
      "    finished: added\n",
      "    'paga/connectivities', connectivities adjacency (adata.uns)\n",
      "    'paga/connectivities_tree', connectivities subtree (adata.uns) (0:00:00)\n",
      "--> added 'pos', the PAGA positions (adata.uns['paga'])\n",
      "WARNING: saving figure to file scanpy/210711_merged_thymoma_MG21.22.23.03_Bcell/graph/paga_compare.pdf\n"
     ]
    },
    {
     "data": {
      "text/plain": [
       "<Figure size 595.36x320 with 2 Axes>"
      ]
     },
     "metadata": {},
     "output_type": "display_data"
    }
   ],
   "source": [
    "sc.tl.paga(adata, groups='leiden')\n",
    "sc.pl.paga_compare(adata, threshold=0.7, basis='umap')"
   ]
  },
  {
   "cell_type": "code",
   "execution_count": 76,
   "id": "c74c7bb0",
   "metadata": {},
   "outputs": [
    {
     "name": "stderr",
     "output_type": "stream",
     "text": [
      "running PAGA\n",
      "    finished: added\n",
      "    'paga/connectivities', connectivities adjacency (adata.uns)\n",
      "    'paga/connectivities_tree', connectivities subtree (adata.uns) (0:00:00)\n",
      "--> added 'pos', the PAGA positions (adata.uns['paga'])\n",
      "WARNING: saving figure to file scanpy/210711_merged_thymoma_MG21.22.23.03_Bcell/graph/paga_compare.pdf\n"
     ]
    },
    {
     "data": {
      "text/plain": [
       "<Figure size 595.36x320 with 2 Axes>"
      ]
     },
     "metadata": {},
     "output_type": "display_data"
    }
   ],
   "source": [
    "a_t = adata[adata.obs['site']=='Thymus'].copy()\n",
    "sc.tl.paga(a_t, groups='leiden')\n",
    "sc.pl.paga_compare(a_t, threshold=0.3, basis='umap')"
   ]
  },
  {
   "cell_type": "code",
   "execution_count": 77,
   "id": "3d288fb6",
   "metadata": {},
   "outputs": [
    {
     "data": {
      "text/html": [
       "<div>\n",
       "<style scoped>\n",
       "    .dataframe tbody tr th:only-of-type {\n",
       "        vertical-align: middle;\n",
       "    }\n",
       "\n",
       "    .dataframe tbody tr th {\n",
       "        vertical-align: top;\n",
       "    }\n",
       "\n",
       "    .dataframe thead th {\n",
       "        text-align: right;\n",
       "    }\n",
       "</style>\n",
       "<table border=\"1\" class=\"dataframe\">\n",
       "  <thead>\n",
       "    <tr style=\"text-align: right;\">\n",
       "      <th></th>\n",
       "      <th>cluster</th>\n",
       "    </tr>\n",
       "    <tr>\n",
       "      <th>leiden</th>\n",
       "      <th></th>\n",
       "    </tr>\n",
       "  </thead>\n",
       "  <tbody>\n",
       "    <tr>\n",
       "      <th>0,0</th>\n",
       "      <td>Memory B cell (I)</td>\n",
       "    </tr>\n",
       "    <tr>\n",
       "      <th>0,1</th>\n",
       "      <td>Memory B cell (I)</td>\n",
       "    </tr>\n",
       "    <tr>\n",
       "      <th>0,2</th>\n",
       "      <td>Thymic memory B cell</td>\n",
       "    </tr>\n",
       "    <tr>\n",
       "      <th>0,3</th>\n",
       "      <td>Memory B cell (I)</td>\n",
       "    </tr>\n",
       "    <tr>\n",
       "      <th>0,4</th>\n",
       "      <td>Memory B cell (I)</td>\n",
       "    </tr>\n",
       "    <tr>\n",
       "      <th>1</th>\n",
       "      <td>Naive B cell</td>\n",
       "    </tr>\n",
       "    <tr>\n",
       "      <th>2</th>\n",
       "      <td>Unswitched memory B cell</td>\n",
       "    </tr>\n",
       "    <tr>\n",
       "      <th>3</th>\n",
       "      <td>Naive B cell</td>\n",
       "    </tr>\n",
       "    <tr>\n",
       "      <th>4</th>\n",
       "      <td>Naive B cell</td>\n",
       "    </tr>\n",
       "    <tr>\n",
       "      <th>5</th>\n",
       "      <td>Naive B cell</td>\n",
       "    </tr>\n",
       "    <tr>\n",
       "      <th>6</th>\n",
       "      <td>Memory B cell (II)</td>\n",
       "    </tr>\n",
       "    <tr>\n",
       "      <th>7</th>\n",
       "      <td>Naive B cell</td>\n",
       "    </tr>\n",
       "    <tr>\n",
       "      <th>8</th>\n",
       "      <td>Naive B cell</td>\n",
       "    </tr>\n",
       "    <tr>\n",
       "      <th>9</th>\n",
       "      <td>Pre GC B cell</td>\n",
       "    </tr>\n",
       "    <tr>\n",
       "      <th>10</th>\n",
       "      <td>Plasmablast</td>\n",
       "    </tr>\n",
       "    <tr>\n",
       "      <th>11</th>\n",
       "      <td>Naive B cell</td>\n",
       "    </tr>\n",
       "    <tr>\n",
       "      <th>12</th>\n",
       "      <td>Unswitched memory B cell</td>\n",
       "    </tr>\n",
       "    <tr>\n",
       "      <th>13</th>\n",
       "      <td>Unswitched memory B cell</td>\n",
       "    </tr>\n",
       "    <tr>\n",
       "      <th>14</th>\n",
       "      <td>GC B cell</td>\n",
       "    </tr>\n",
       "    <tr>\n",
       "      <th>15</th>\n",
       "      <td>Naive B cell</td>\n",
       "    </tr>\n",
       "    <tr>\n",
       "      <th>16</th>\n",
       "      <td>Naive B cell</td>\n",
       "    </tr>\n",
       "  </tbody>\n",
       "</table>\n",
       "</div>"
      ],
      "text/plain": [
       "                         cluster\n",
       "leiden                          \n",
       "0,0            Memory B cell (I)\n",
       "0,1            Memory B cell (I)\n",
       "0,2         Thymic memory B cell\n",
       "0,3            Memory B cell (I)\n",
       "0,4            Memory B cell (I)\n",
       "1                   Naive B cell\n",
       "2       Unswitched memory B cell\n",
       "3                   Naive B cell\n",
       "4                   Naive B cell\n",
       "5                   Naive B cell\n",
       "6             Memory B cell (II)\n",
       "7                   Naive B cell\n",
       "8                   Naive B cell\n",
       "9                  Pre GC B cell\n",
       "10                   Plasmablast\n",
       "11                  Naive B cell\n",
       "12      Unswitched memory B cell\n",
       "13      Unswitched memory B cell\n",
       "14                     GC B cell\n",
       "15                  Naive B cell\n",
       "16                  Naive B cell"
      ]
     },
     "execution_count": 77,
     "metadata": {},
     "output_type": "execute_result"
    }
   ],
   "source": [
    "df_clusters =  pd.read_csv('210430_clusters/Bcell_clusters.csv', index_col=0)\n",
    "df_clusters.index = df_clusters.index.astype(str)\n",
    "adata.obs['Bcell_cluster'] = [df_clusters.loc[x, 'cluster'] for x in adata.obs['leiden_R']]\n",
    "df_clusters"
   ]
  },
  {
   "cell_type": "code",
   "execution_count": 78,
   "id": "6c4ad34d",
   "metadata": {},
   "outputs": [
    {
     "name": "stderr",
     "output_type": "stream",
     "text": [
      "... storing 'Bcell_cluster' as categorical\n",
      "WARNING: saving figure to file scanpy/210711_merged_thymoma_MG21.22.23.03_Bcell/graph/umapBcell_cluster.pdf\n"
     ]
    },
    {
     "data": {
      "text/plain": [
       "<Figure size 400x400 with 1 Axes>"
      ]
     },
     "metadata": {},
     "output_type": "display_data"
    }
   ],
   "source": [
    "with plt.rc_context({\"figure.figsize\": (5,5)}):\n",
    "    sc.pl.umap(adata, color='Bcell_cluster', add_outline=True,\n",
    "           title='', frameon=False, save='Bcell_cluster.pdf') "
   ]
  },
  {
   "cell_type": "code",
   "execution_count": 79,
   "id": "fb0ab0af",
   "metadata": {},
   "outputs": [
    {
     "name": "stderr",
     "output_type": "stream",
     "text": [
      "WARNING: saving figure to file scanpy/210711_merged_thymoma_MG21.22.23.03_Bcell/graph/umapBcell_cluster_out.pdf\n"
     ]
    },
    {
     "data": {
      "text/plain": [
       "<Figure size 320x320 with 1 Axes>"
      ]
     },
     "metadata": {},
     "output_type": "display_data"
    }
   ],
   "source": [
    "sc.pl.umap(adata, color='Bcell_cluster', title='', add_outline=True, \n",
    "           frameon=False, save='Bcell_cluster_out.pdf')"
   ]
  },
  {
   "cell_type": "code",
   "execution_count": 80,
   "id": "cc6cd98b",
   "metadata": {},
   "outputs": [
    {
     "name": "stderr",
     "output_type": "stream",
     "text": [
      "ranking genes\n",
      "    finished: added to `.uns['rank_genes_groups']`\n",
      "    'names', sorted np.recarray to be indexed by group ids\n",
      "    'scores', sorted np.recarray to be indexed by group ids\n",
      "    'logfoldchanges', sorted np.recarray to be indexed by group ids\n",
      "    'pvals', sorted np.recarray to be indexed by group ids\n",
      "    'pvals_adj', sorted np.recarray to be indexed by group ids (0:00:01)\n",
      "WARNING: saving figure to file scanpy/210711_merged_thymoma_MG21.22.23.03_Bcell/graph/rank_genes_groups_Bcell_cluster.pdf\n"
     ]
    },
    {
     "data": {
      "text/plain": [
       "<Figure size 1280x640 with 8 Axes>"
      ]
     },
     "metadata": {},
     "output_type": "display_data"
    }
   ],
   "source": [
    "sc.tl.rank_genes_groups(adata, 'Bcell_cluster', method='t-test_overestim_var')\n",
    "sc.pl.rank_genes_groups(adata, n_genes=25, sharey=False)"
   ]
  },
  {
   "cell_type": "code",
   "execution_count": 81,
   "id": "93b2e96f",
   "metadata": {},
   "outputs": [
    {
     "name": "stderr",
     "output_type": "stream",
     "text": [
      "WARNING: saving figure to file scanpy/210711_merged_thymoma_MG21.22.23.03_Bcell/graph/umap.pdf\n"
     ]
    },
    {
     "data": {
      "text/plain": [
       "<Figure size 1545.6x1600 with 40 Axes>"
      ]
     },
     "metadata": {},
     "output_type": "display_data"
    }
   ],
   "source": [
    "sc.pl.umap(adata, color=list(adata.uns['rank_genes_groups']['names']['GC B cell'])[:20])"
   ]
  },
  {
   "cell_type": "code",
   "execution_count": 82,
   "id": "2fdecd64",
   "metadata": {},
   "outputs": [
    {
     "name": "stdout",
     "output_type": "stream",
     "text": [
      "LMO2\n",
      "MARCKSL1\n",
      "MEF2B\n",
      "RGS13\n",
      "BASP1\n",
      "KLHL6\n",
      "SYNE2\n",
      "LRMP\n",
      "CCDC144A\n",
      "ACTB\n",
      "TCL1A\n",
      "NEIL1\n",
      "LPP\n",
      "RFTN1\n",
      "SUGCT\n",
      "ACTG1\n",
      "DBI\n",
      "DAAM1\n",
      "HMCES\n",
      "SERF2\n",
      "MYBL1\n",
      "SERPINA9\n",
      "PAG1\n",
      "TMEM123\n",
      "GCHFR\n",
      "AC023590.1\n",
      "STAG3\n",
      "ACY3\n",
      "GCSAM\n",
      "TMSB4X\n",
      "GMDS\n",
      "CD38\n",
      "MME\n",
      "TOX\n",
      "NANS\n",
      "BCL6\n",
      "LINC00877\n",
      "FAM126A\n",
      "HOPX\n",
      "SORL1\n",
      "METAP2\n",
      "RASL11A\n",
      "NUGGC\n",
      "HLA-DMB\n",
      "ARPC2\n",
      "TNFRSF17\n",
      "SMIM14\n",
      "CD22\n",
      "GSTP1\n",
      "LCK\n",
      "CORO1A\n",
      "DHRS9\n",
      "ARPC5L\n",
      "RGS10\n",
      "A4GALT\n",
      "DTX1\n",
      "SPRED2\n",
      "PRDX6\n",
      "ATP5MG\n",
      "MIR3681HG\n",
      "ELL3\n",
      "CLTC\n",
      "HMGN1\n",
      "SOCS1\n",
      "RAPGEF5\n",
      "BIK\n",
      "IRF8\n",
      "CDCA7\n",
      "PARP1\n",
      "TKT\n",
      "ACTR3\n",
      "CD40\n",
      "CASP3\n",
      "LBR\n",
      "CCDC88A\n",
      "OGG1\n",
      "DEF8\n",
      "CAMK1\n",
      "SPATS2\n",
      "PTTG1\n",
      "ROMO1\n",
      "ARPC5\n",
      "FAM3C\n",
      "TBC1D1\n",
      "RGS16\n",
      "KTN1\n",
      "MED12L\n",
      "MEF2C\n",
      "PLEKHA2\n",
      "ATP5MC3\n",
      "PDIA6\n",
      "LIMS1\n",
      "IL4R\n",
      "POMP\n",
      "S1PR2\n",
      "BLOC1S6\n",
      "BRK1\n",
      "ADA\n",
      "MYO1E\n",
      "ANP32B\n"
     ]
    }
   ],
   "source": [
    "print('\\n'.join(list(adata.uns['rank_genes_groups']['names']['GC B cell'])[:100]))"
   ]
  },
  {
   "cell_type": "code",
   "execution_count": 83,
   "id": "16a3b9cc",
   "metadata": {},
   "outputs": [
    {
     "name": "stderr",
     "output_type": "stream",
     "text": [
      "ranking genes\n",
      "    finished: added to `.uns['rank_genes_groups']`\n",
      "    'names', sorted np.recarray to be indexed by group ids\n",
      "    'scores', sorted np.recarray to be indexed by group ids\n",
      "    'logfoldchanges', sorted np.recarray to be indexed by group ids\n",
      "    'pvals', sorted np.recarray to be indexed by group ids\n",
      "    'pvals_adj', sorted np.recarray to be indexed by group ids (0:00:00)\n",
      "WARNING: saving figure to file scanpy/210711_merged_thymoma_MG21.22.23.03_Bcell/graph/rank_genes_groups_Bcell_cluster.pdf\n"
     ]
    },
    {
     "data": {
      "text/plain": [
       "<Figure size 320x320 with 1 Axes>"
      ]
     },
     "metadata": {},
     "output_type": "display_data"
    }
   ],
   "source": [
    "sc.tl.rank_genes_groups(adata, 'Bcell_cluster', method='t-test_overestim_var', reference='Memory B cell (I)', \n",
    "                        groups=['Memory B cell (II)'])\n",
    "sc.pl.rank_genes_groups(adata, n_genes=25, sharey=False)"
   ]
  },
  {
   "cell_type": "code",
   "execution_count": 84,
   "id": "6ba70090",
   "metadata": {},
   "outputs": [
    {
     "name": "stderr",
     "output_type": "stream",
     "text": [
      "WARNING: saving figure to file scanpy/210711_merged_thymoma_MG21.22.23.03_Bcell/graph/dotplot_.pdf\n"
     ]
    },
    {
     "data": {
      "text/plain": [
       "<Figure size 1304x304 with 4 Axes>"
      ]
     },
     "metadata": {},
     "output_type": "display_data"
    }
   ],
   "source": [
    "sc.pl.dotplot(adata, list(adata.uns['rank_genes_groups']['names']['Memory B cell (II)'])[:40], groupby='Bcell_cluster')"
   ]
  },
  {
   "cell_type": "code",
   "execution_count": 85,
   "id": "7f42033c",
   "metadata": {},
   "outputs": [
    {
     "name": "stderr",
     "output_type": "stream",
     "text": [
      "ranking genes\n",
      "    finished: added to `.uns['rank_genes_groups']`\n",
      "    'names', sorted np.recarray to be indexed by group ids\n",
      "    'scores', sorted np.recarray to be indexed by group ids\n",
      "    'logfoldchanges', sorted np.recarray to be indexed by group ids\n",
      "    'pvals', sorted np.recarray to be indexed by group ids\n",
      "    'pvals_adj', sorted np.recarray to be indexed by group ids (0:00:01)\n",
      "WARNING: saving figure to file scanpy/210711_merged_thymoma_MG21.22.23.03_Bcell/graph/rank_genes_groups_Bcell_cluster.pdf\n"
     ]
    },
    {
     "data": {
      "text/plain": [
       "<Figure size 1280x640 with 8 Axes>"
      ]
     },
     "metadata": {},
     "output_type": "display_data"
    }
   ],
   "source": [
    "sc.tl.rank_genes_groups(adata, 'Bcell_cluster', method='t-test_overestim_var')\n",
    "sc.pl.rank_genes_groups(adata, n_genes=25, sharey=False)"
   ]
  },
  {
   "cell_type": "code",
   "execution_count": 86,
   "id": "86ed7aaa",
   "metadata": {},
   "outputs": [
    {
     "name": "stderr",
     "output_type": "stream",
     "text": [
      "    using 'X_pca' with n_pcs = 50\n",
      "Storing dendrogram info using `.uns['dendrogram_Bcell_cluster']`\n",
      "WARNING: saving figure to file scanpy/210711_merged_thymoma_MG21.22.23.03_Bcell/graph/dotplot_Bcell_cluster.pdf\n"
     ]
    },
    {
     "data": {
      "text/plain": [
       "<Figure size 3736x304 with 6 Axes>"
      ]
     },
     "metadata": {},
     "output_type": "display_data"
    }
   ],
   "source": [
    "sc.tl.dendrogram(adata, groupby='Bcell_cluster')\n",
    "sc.pl.rank_genes_groups_dotplot(adata, groupby='Bcell_cluster', n_genes=15, save='Bcell_cluster.pdf')"
   ]
  },
  {
   "cell_type": "code",
   "execution_count": 87,
   "id": "f090933d",
   "metadata": {},
   "outputs": [
    {
     "name": "stderr",
     "output_type": "stream",
     "text": [
      "WARNING: saving figure to file scanpy/210711_merged_thymoma_MG21.22.23.03_Bcell/graph/dotplot_.pdf\n"
     ]
    },
    {
     "data": {
      "text/plain": [
       "<Figure size 208.8x304 with 4 Axes>"
      ]
     },
     "metadata": {},
     "output_type": "display_data"
    }
   ],
   "source": [
    "sc.pl.dotplot(adata, ['PSME2', 'BHLHE40', 'PARVB'], groupby='Bcell_cluster')"
   ]
  },
  {
   "cell_type": "code",
   "execution_count": 88,
   "id": "36531099",
   "metadata": {},
   "outputs": [
    {
     "name": "stderr",
     "output_type": "stream",
     "text": [
      "WARNING: saving figure to file scanpy/210711_merged_thymoma_MG21.22.23.03_Bcell/graph/correlation_matrix.pdf\n"
     ]
    },
    {
     "data": {
      "text/plain": [
       "<Figure size 400x280 with 3 Axes>"
      ]
     },
     "metadata": {},
     "output_type": "display_data"
    }
   ],
   "source": [
    "ax = sc.pl.correlation_matrix(adata, 'Bcell_cluster', figsize=(5,3.5))"
   ]
  },
  {
   "cell_type": "code",
   "execution_count": 89,
   "id": "d01a6da0",
   "metadata": {},
   "outputs": [
    {
     "name": "stderr",
     "output_type": "stream",
     "text": [
      "running PAGA\n",
      "    finished: added\n",
      "    'paga/connectivities', connectivities adjacency (adata.uns)\n",
      "    'paga/connectivities_tree', connectivities subtree (adata.uns) (0:00:00)\n",
      "--> added 'pos', the PAGA positions (adata.uns['paga'])\n",
      "WARNING: saving figure to file scanpy/210711_merged_thymoma_MG21.22.23.03_Bcell/graph/paga_compare.pdf\n"
     ]
    },
    {
     "data": {
      "text/plain": [
       "<Figure size 595.36x320 with 2 Axes>"
      ]
     },
     "metadata": {},
     "output_type": "display_data"
    }
   ],
   "source": [
    "sc.tl.paga(adata, groups='Bcell_cluster')\n",
    "sc.pl.paga_compare(adata, threshold=0.7, basis='X_umap')"
   ]
  },
  {
   "cell_type": "code",
   "execution_count": 90,
   "id": "2a78866b",
   "metadata": {},
   "outputs": [
    {
     "name": "stderr",
     "output_type": "stream",
     "text": [
      "--> added 'pos', the PAGA positions (adata.uns['paga'])\n",
      "WARNING: saving figure to file scanpy/210711_merged_thymoma_MG21.22.23.03_Bcell/graph/paga.pdf\n"
     ]
    },
    {
     "data": {
      "text/plain": [
       "<Figure size 297.68x320 with 1 Axes>"
      ]
     },
     "metadata": {},
     "output_type": "display_data"
    }
   ],
   "source": [
    "sc.pl.paga(adata, threshold=0.5)"
   ]
  },
  {
   "cell_type": "code",
   "execution_count": 92,
   "id": "cb6139e8",
   "metadata": {},
   "outputs": [
    {
     "data": {
      "text/plain": [
       "<Figure size 772.8x320 with 2 Axes>"
      ]
     },
     "metadata": {},
     "output_type": "display_data"
    }
   ],
   "source": [
    "sc.pl.umap(adata, \n",
    "           color=['sample', 'leiden'], \n",
    "           save=False)"
   ]
  },
  {
   "cell_type": "code",
   "execution_count": 93,
   "id": "f1d591f1",
   "metadata": {},
   "outputs": [
    {
     "data": {
      "text/plain": [
       "<AxesSubplot:xlabel='Bcell_cluster', ylabel='site'>"
      ]
     },
     "execution_count": 93,
     "metadata": {},
     "output_type": "execute_result"
    },
    {
     "data": {
      "text/plain": [
       "<Figure size 800x240 with 2 Axes>"
      ]
     },
     "metadata": {},
     "output_type": "display_data"
    }
   ],
   "source": [
    "plt.figure(figsize=(10,3))\n",
    "sns.heatmap(pd.crosstab(adata.obs['site'], adata.obs['Bcell_cluster']), cmap='viridis')"
   ]
  },
  {
   "cell_type": "code",
   "execution_count": 94,
   "id": "21f80bca",
   "metadata": {},
   "outputs": [
    {
     "data": {
      "text/plain": [
       "<AxesSubplot:xlabel='Bcell_cluster', ylabel='site'>"
      ]
     },
     "execution_count": 94,
     "metadata": {},
     "output_type": "execute_result"
    },
    {
     "data": {
      "text/plain": [
       "<Figure size 800x240 with 2 Axes>"
      ]
     },
     "metadata": {},
     "output_type": "display_data"
    }
   ],
   "source": [
    "df_cross = pd.crosstab(adata.obs['site'], adata.obs['Bcell_cluster'])\n",
    "df_cross = (df_cross.T / df_cross.sum(axis=1)).T\n",
    "\n",
    "plt.figure(figsize=(10,3))\n",
    "sns.heatmap(df_cross, cmap='viridis')"
   ]
  },
  {
   "cell_type": "code",
   "execution_count": 95,
   "id": "d94ebc6d",
   "metadata": {},
   "outputs": [
    {
     "data": {
      "text/plain": [
       "<AxesSubplot:xlabel='Bcell_cluster', ylabel='site'>"
      ]
     },
     "execution_count": 95,
     "metadata": {},
     "output_type": "execute_result"
    },
    {
     "data": {
      "text/plain": [
       "<Figure size 800x240 with 2 Axes>"
      ]
     },
     "metadata": {},
     "output_type": "display_data"
    }
   ],
   "source": [
    "df_cross = pd.crosstab(adata.obs['site'], adata.obs['Bcell_cluster'])\n",
    "df_cross = (df_cross.T / df_cross.sum(axis=1)).T\n",
    "\n",
    "plt.figure(figsize=(10,3))\n",
    "sns.heatmap(df_cross, cmap='viridis', annot=True)"
   ]
  },
  {
   "cell_type": "code",
   "execution_count": 96,
   "id": "39d24ee3",
   "metadata": {},
   "outputs": [
    {
     "data": {
      "text/plain": [
       "<Figure size 320x240 with 1 Axes>"
      ]
     },
     "metadata": {},
     "output_type": "display_data"
    }
   ],
   "source": [
    "plt.figure(figsize=(4,3))\n",
    "df_cross.loc['Thymus'].plot.bar()\n",
    "plt.grid(False)"
   ]
  },
  {
   "cell_type": "code",
   "execution_count": 99,
   "id": "131b54a3",
   "metadata": {},
   "outputs": [
    {
     "name": "stderr",
     "output_type": "stream",
     "text": [
      "/home/yyasumizu/anaconda3/envs/scanpy1.7.2/lib/python3.7/site-packages/ipykernel_launcher.py:2: SettingWithCopyWarning: \n",
      "A value is trying to be set on a copy of a slice from a DataFrame.\n",
      "Try using .loc[row_indexer,col_indexer] = value instead\n",
      "\n",
      "See the caveats in the documentation: https://pandas.pydata.org/pandas-docs/stable/user_guide/indexing.html#returning-a-view-versus-a-copy\n",
      "  \n"
     ]
    }
   ],
   "source": [
    "d = adata.obs[adata.obs['site'] == 'Thymus']\n",
    "d['individual'] = d['individual'].str.split('_').str.get(0)\n",
    "d = pd.crosstab(d['individual'], d['Bcell_cluster'])\n",
    "d = d.T / d.sum(axis=1)"
   ]
  },
  {
   "cell_type": "code",
   "execution_count": 100,
   "id": "2e8e9f87",
   "metadata": {},
   "outputs": [
    {
     "data": {
      "text/plain": [
       "<AxesSubplot:xlabel='individual', ylabel='Bcell_cluster'>"
      ]
     },
     "execution_count": 100,
     "metadata": {},
     "output_type": "execute_result"
    },
    {
     "data": {
      "text/plain": [
       "<Figure size 320x320 with 2 Axes>"
      ]
     },
     "metadata": {
      "image/png": {
       "height": 357,
       "width": 614
      }
     },
     "output_type": "display_data"
    }
   ],
   "source": [
    "sns.heatmap(d, cmap='viridis', annot=True)"
   ]
  },
  {
   "cell_type": "code",
   "execution_count": 101,
   "id": "c6734ffb",
   "metadata": {},
   "outputs": [
    {
     "name": "stderr",
     "output_type": "stream",
     "text": [
      "/home/yyasumizu/anaconda3/envs/scanpy1.7.2/lib/python3.7/site-packages/ipykernel_launcher.py:2: SettingWithCopyWarning: \n",
      "A value is trying to be set on a copy of a slice from a DataFrame.\n",
      "Try using .loc[row_indexer,col_indexer] = value instead\n",
      "\n",
      "See the caveats in the documentation: https://pandas.pydata.org/pandas-docs/stable/user_guide/indexing.html#returning-a-view-versus-a-copy\n",
      "  \n"
     ]
    },
    {
     "data": {
      "text/plain": [
       "<AxesSubplot:xlabel='individual', ylabel='Bcell_cluster'>"
      ]
     },
     "execution_count": 101,
     "metadata": {},
     "output_type": "execute_result"
    },
    {
     "data": {
      "text/plain": [
       "<Figure size 320x320 with 2 Axes>"
      ]
     },
     "metadata": {
      "image/png": {
       "height": 314,
       "width": 614
      }
     },
     "output_type": "display_data"
    }
   ],
   "source": [
    "d = adata.obs[adata.obs['site'] == 'Periphery']\n",
    "d['individual'] = d['individual'].str.split('_').str.get(0)\n",
    "d = pd.crosstab(d['individual'], d['Bcell_cluster'])\n",
    "d = d.T / d.sum(axis=1)\n",
    "sns.heatmap(d, cmap='viridis', annot=True)"
   ]
  },
  {
   "cell_type": "code",
   "execution_count": 99,
   "id": "82c810b8",
   "metadata": {},
   "outputs": [
    {
     "name": "stderr",
     "output_type": "stream",
     "text": [
      "WARNING: saving figure to file scanpy/210711_merged_thymoma_MG21.22.23.03_Bcell/graph/stacked_violin_ig.pdf\n"
     ]
    },
    {
     "data": {
      "text/plain": [
       "<Figure size 386.4x304 with 11 Axes>"
      ]
     },
     "metadata": {},
     "output_type": "display_data"
    }
   ],
   "source": [
    "sc.pl.stacked_violin(adata,['IGHM', 'IGHD', 'IGHA1', 'IGHA2', 'IGHG1', 'IGHG2', 'IGHG3', 'IGHG4', 'IGHE'],\n",
    "                    groupby='Bcell_cluster', save='ig')"
   ]
  },
  {
   "cell_type": "code",
   "execution_count": 103,
   "id": "757d8d8d",
   "metadata": {},
   "outputs": [
    {
     "data": {
      "text/plain": [
       "AnnData object with n_obs × n_vars = 9770 × 823\n",
       "    obs: 'sample', 'sample_type', 'site', 'fraction', 'n_genes', 'individual', 'score_DEGs', 'score_yellow', 'score_GWAS', 'n_counts', 'n_genes_by_counts', 'total_counts', 'total_counts_mt', 'pct_counts_mt', 'leiden', 'leiden_R', 'Bcell_cluster'\n",
       "    var: 'mt', 'n_cells_by_counts', 'mean_counts', 'pct_dropout_by_counts', 'total_counts', 'mean', 'std'\n",
       "    uns: 'log1p', 'pca', 'neighbors', 'umap', 'leiden', 'leiden_colors', 'sample_colors', 'site_colors', 'dendrogram_leiden_R', 'rank_genes_groups', 'paga', 'leiden_sizes', 'Bcell_cluster_colors', 'dendrogram_Bcell_cluster', 'Bcell_cluster_sizes'\n",
       "    obsm: 'X_pca', 'X_umap'\n",
       "    varm: 'PCs'\n",
       "    obsp: 'distances', 'connectivities'"
      ]
     },
     "execution_count": 103,
     "metadata": {},
     "output_type": "execute_result"
    }
   ],
   "source": [
    "adata"
   ]
  },
  {
   "cell_type": "code",
   "execution_count": 100,
   "id": "cb07ed76",
   "metadata": {},
   "outputs": [],
   "source": [
    "adata.write(results_file_Bcell)"
   ]
  },
  {
   "cell_type": "markdown",
   "id": "380f2daa",
   "metadata": {},
   "source": [
    "## summarize clusters"
   ]
  },
  {
   "cell_type": "code",
   "execution_count": 101,
   "id": "859f8895",
   "metadata": {},
   "outputs": [],
   "source": [
    "adata_b_all = sc.read(results_file_Bcell_all)\n",
    "adata_b = sc.read(results_file_Bcell)"
   ]
  },
  {
   "cell_type": "code",
   "execution_count": 102,
   "id": "813edb94",
   "metadata": {},
   "outputs": [
    {
     "name": "stderr",
     "output_type": "stream",
     "text": [
      "/home/yyasumizu/anaconda3/envs/scanpy1.7.2/lib/python3.7/site-packages/ipykernel_launcher.py:3: SettingWithCopyWarning: \n",
      "A value is trying to be set on a copy of a slice from a DataFrame.\n",
      "Try using .loc[row_indexer,col_indexer] = value instead\n",
      "\n",
      "See the caveats in the documentation: https://pandas.pydata.org/pandas-docs/stable/user_guide/indexing.html#returning-a-view-versus-a-copy\n",
      "  This is separate from the ipykernel package so we can avoid doing imports until\n"
     ]
    },
    {
     "data": {
      "text/html": [
       "<div>\n",
       "<style scoped>\n",
       "    .dataframe tbody tr th:only-of-type {\n",
       "        vertical-align: middle;\n",
       "    }\n",
       "\n",
       "    .dataframe tbody tr th {\n",
       "        vertical-align: top;\n",
       "    }\n",
       "\n",
       "    .dataframe thead th {\n",
       "        text-align: right;\n",
       "    }\n",
       "</style>\n",
       "<table border=\"1\" class=\"dataframe\">\n",
       "  <thead>\n",
       "    <tr style=\"text-align: right;\">\n",
       "      <th></th>\n",
       "      <th>minor_cluster</th>\n",
       "    </tr>\n",
       "  </thead>\n",
       "  <tbody>\n",
       "    <tr>\n",
       "      <th>AAAGGTATCCTGCTAC</th>\n",
       "      <td>B cell</td>\n",
       "    </tr>\n",
       "    <tr>\n",
       "      <th>AAATGGAAGCGACAGT</th>\n",
       "      <td>B cell</td>\n",
       "    </tr>\n",
       "    <tr>\n",
       "      <th>AACAAGACAACTGCTA</th>\n",
       "      <td>B cell</td>\n",
       "    </tr>\n",
       "    <tr>\n",
       "      <th>AACCTGACAGGACTTT</th>\n",
       "      <td>B cell</td>\n",
       "    </tr>\n",
       "    <tr>\n",
       "      <th>AACCTGAGTGAGACCA</th>\n",
       "      <td>B cell</td>\n",
       "    </tr>\n",
       "  </tbody>\n",
       "</table>\n",
       "</div>"
      ],
      "text/plain": [
       "                 minor_cluster\n",
       "AAAGGTATCCTGCTAC        B cell\n",
       "AAATGGAAGCGACAGT        B cell\n",
       "AACAAGACAACTGCTA        B cell\n",
       "AACCTGACAGGACTTT        B cell\n",
       "AACCTGAGTGAGACCA        B cell"
      ]
     },
     "execution_count": 102,
     "metadata": {},
     "output_type": "execute_result"
    }
   ],
   "source": [
    "df_cluster = adata_b_all.obs[['Bcell_all_cluster']]\n",
    "df_cluster.columns = ['minor_cluster']\n",
    "df_cluster['minor_cluster'] = df_cluster['minor_cluster'].astype(str)\n",
    "df_cluster.head()"
   ]
  },
  {
   "cell_type": "code",
   "execution_count": 103,
   "id": "e5e65607",
   "metadata": {},
   "outputs": [
    {
     "name": "stderr",
     "output_type": "stream",
     "text": [
      "/home/yyasumizu/anaconda3/envs/scanpy1.7.2/lib/python3.7/site-packages/ipykernel_launcher.py:3: SettingWithCopyWarning: \n",
      "A value is trying to be set on a copy of a slice from a DataFrame.\n",
      "Try using .loc[row_indexer,col_indexer] = value instead\n",
      "\n",
      "See the caveats in the documentation: https://pandas.pydata.org/pandas-docs/stable/user_guide/indexing.html#returning-a-view-versus-a-copy\n",
      "  This is separate from the ipykernel package so we can avoid doing imports until\n"
     ]
    },
    {
     "data": {
      "text/html": [
       "<div>\n",
       "<style scoped>\n",
       "    .dataframe tbody tr th:only-of-type {\n",
       "        vertical-align: middle;\n",
       "    }\n",
       "\n",
       "    .dataframe tbody tr th {\n",
       "        vertical-align: top;\n",
       "    }\n",
       "\n",
       "    .dataframe thead th {\n",
       "        text-align: right;\n",
       "    }\n",
       "</style>\n",
       "<table border=\"1\" class=\"dataframe\">\n",
       "  <thead>\n",
       "    <tr style=\"text-align: right;\">\n",
       "      <th></th>\n",
       "      <th>minor_cluster</th>\n",
       "    </tr>\n",
       "  </thead>\n",
       "  <tbody>\n",
       "    <tr>\n",
       "      <th>AAAGGTATCCTGCTAC</th>\n",
       "      <td>Unswitched memory B cell</td>\n",
       "    </tr>\n",
       "    <tr>\n",
       "      <th>AAATGGAAGCGACAGT</th>\n",
       "      <td>Naive B cell</td>\n",
       "    </tr>\n",
       "    <tr>\n",
       "      <th>AACAAGACAACTGCTA</th>\n",
       "      <td>Naive B cell</td>\n",
       "    </tr>\n",
       "    <tr>\n",
       "      <th>AACCTGACAGGACTTT</th>\n",
       "      <td>Unswitched memory B cell</td>\n",
       "    </tr>\n",
       "    <tr>\n",
       "      <th>AACCTGAGTGAGACCA</th>\n",
       "      <td>Thymic memory B cell</td>\n",
       "    </tr>\n",
       "  </tbody>\n",
       "</table>\n",
       "</div>"
      ],
      "text/plain": [
       "                             minor_cluster\n",
       "AAAGGTATCCTGCTAC  Unswitched memory B cell\n",
       "AAATGGAAGCGACAGT              Naive B cell\n",
       "AACAAGACAACTGCTA              Naive B cell\n",
       "AACCTGACAGGACTTT  Unswitched memory B cell\n",
       "AACCTGAGTGAGACCA      Thymic memory B cell"
      ]
     },
     "execution_count": 103,
     "metadata": {},
     "output_type": "execute_result"
    }
   ],
   "source": [
    "df_cluster_bcell = adata_b.obs[['Bcell_cluster']]\n",
    "df_cluster_bcell.columns = ['minor_cluster']\n",
    "df_cluster_bcell['minor_cluster'] = df_cluster_bcell['minor_cluster'].astype(str)\n",
    "df_cluster_bcell.head()"
   ]
  },
  {
   "cell_type": "code",
   "execution_count": 104,
   "id": "67ca2ba1",
   "metadata": {},
   "outputs": [
    {
     "name": "stderr",
     "output_type": "stream",
     "text": [
      "/home/yyasumizu/anaconda3/envs/scanpy1.7.2/lib/python3.7/site-packages/pandas/core/indexing.py:1637: SettingWithCopyWarning: \n",
      "A value is trying to be set on a copy of a slice from a DataFrame\n",
      "\n",
      "See the caveats in the documentation: https://pandas.pydata.org/pandas-docs/stable/user_guide/indexing.html#returning-a-view-versus-a-copy\n",
      "  self._setitem_single_block(indexer, value, name)\n",
      "/home/yyasumizu/anaconda3/envs/scanpy1.7.2/lib/python3.7/site-packages/pandas/core/indexing.py:692: SettingWithCopyWarning: \n",
      "A value is trying to be set on a copy of a slice from a DataFrame\n",
      "\n",
      "See the caveats in the documentation: https://pandas.pydata.org/pandas-docs/stable/user_guide/indexing.html#returning-a-view-versus-a-copy\n",
      "  iloc._setitem_with_indexer(indexer, value, self.name)\n"
     ]
    }
   ],
   "source": [
    "df_cluster.loc[df_cluster_bcell.index, 'minor_cluster'] = list(df_cluster_bcell['minor_cluster'])\n",
    "adata_b_all.obs['minor_cluster'] = list(df_cluster['minor_cluster'])"
   ]
  },
  {
   "cell_type": "code",
   "execution_count": 105,
   "id": "dc4f7848",
   "metadata": {},
   "outputs": [],
   "source": [
    "adata_b_all = adata_b_all[adata_b_all.obs['minor_cluster'] !='B cell']"
   ]
  },
  {
   "cell_type": "code",
   "execution_count": 106,
   "id": "6be72976",
   "metadata": {},
   "outputs": [
    {
     "name": "stderr",
     "output_type": "stream",
     "text": [
      "/home/yyasumizu/anaconda3/envs/scanpy1.7.2/lib/python3.7/site-packages/anndata/_core/anndata.py:1229: ImplicitModificationWarning: Initializing view as actual.\n",
      "  \"Initializing view as actual.\", ImplicitModificationWarning\n",
      "Trying to set attribute `.obs` of view, copying.\n",
      "... storing 'minor_cluster' as categorical\n",
      "WARNING: saving figure to file scanpy/210711_merged_thymoma_MG21.22.23.03_Bcell/graph/umapminor_cluster.pdf\n"
     ]
    },
    {
     "data": {
      "text/plain": [
       "<Figure size 320x320 with 1 Axes>"
      ]
     },
     "metadata": {},
     "output_type": "display_data"
    }
   ],
   "source": [
    "sc.pl.umap(adata_b_all, \n",
    "           color=['minor_cluster'], \n",
    "           save='minor_cluster')"
   ]
  },
  {
   "cell_type": "code",
   "execution_count": 107,
   "id": "d445d5dd",
   "metadata": {},
   "outputs": [
    {
     "name": "stderr",
     "output_type": "stream",
     "text": [
      "WARNING: saving figure to file scanpy/210711_merged_thymoma_MG21.22.23.03_Bcell/graph/umapminor_cluster_out.pdf\n"
     ]
    },
    {
     "data": {
      "text/plain": [
       "<Figure size 320x320 with 1 Axes>"
      ]
     },
     "metadata": {},
     "output_type": "display_data"
    }
   ],
   "source": [
    "sc.pl.umap(adata_b_all, color='minor_cluster', title='', add_outline=True, \n",
    "           frameon=False, save='minor_cluster_out.pdf')"
   ]
  },
  {
   "cell_type": "code",
   "execution_count": 108,
   "id": "7c2127f8",
   "metadata": {},
   "outputs": [],
   "source": [
    "adata_b_all.write(results_file_Bcell_minor_cluster)"
   ]
  },
  {
   "cell_type": "code",
   "execution_count": 109,
   "id": "3f95950a",
   "metadata": {},
   "outputs": [
    {
     "name": "stderr",
     "output_type": "stream",
     "text": [
      "normalizing by total count per cell\n",
      "    finished (0:00:01): normalized adata.X and added    'n_counts', counts per cell before normalization (adata.obs)\n"
     ]
    }
   ],
   "source": [
    "adata = sc.read(results_file_Bcell_minor_cluster)\n",
    "adata_raw = sc.read(results_raw_file_master)\n",
    "\n",
    "adata_cg = adata_raw[adata.obs.index].copy()\n",
    "adata_cg.obs = adata.obs\n",
    "adata_cg.obsm = adata.obsm\n",
    "adata_cg.uns = adata.uns\n",
    "\n",
    "sc.pp.normalize_per_cell(adata_cg, counts_per_cell_after=1e4)\n",
    "sc.pp.log1p(adata_cg)\n",
    "\n",
    "adata_cg.write(results_file_cg_Bcell_minor_cluster)"
   ]
  },
  {
   "cell_type": "markdown",
   "id": "78919f03",
   "metadata": {},
   "source": [
    "## visualize"
   ]
  },
  {
   "cell_type": "code",
   "execution_count": 110,
   "id": "708b25e1",
   "metadata": {},
   "outputs": [],
   "source": [
    "adata = sc.read(results_file_Bcell)\n",
    "adata.obs['individual'] = adata.obs['individual'].str.split('_').str.get(0)"
   ]
  },
  {
   "cell_type": "code",
   "execution_count": 111,
   "id": "aa6656b7",
   "metadata": {},
   "outputs": [
    {
     "name": "stderr",
     "output_type": "stream",
     "text": [
      "... storing 'individual' as categorical\n",
      "WARNING: saving figure to file scanpy/210711_merged_thymoma_MG21.22.23.03_Bcell/graph/umapBcell_cluster.pdf\n"
     ]
    },
    {
     "data": {
      "text/plain": [
       "<Figure size 400x400 with 1 Axes>"
      ]
     },
     "metadata": {},
     "output_type": "display_data"
    }
   ],
   "source": [
    "with plt.rc_context({\"figure.figsize\": (5,5)}):\n",
    "    sc.pl.umap(adata, color='Bcell_cluster', add_outline=True,\n",
    "           title='Thymus + Periphery', frameon=False, save='Bcell_cluster.pdf') "
   ]
  },
  {
   "cell_type": "code",
   "execution_count": 112,
   "id": "a13d01a9",
   "metadata": {},
   "outputs": [
    {
     "name": "stderr",
     "output_type": "stream",
     "text": [
      "WARNING: saving figure to file scanpy/210711_merged_thymoma_MG21.22.23.03_Bcell/graph/umapBcell_cluster_thymus.pdf\n"
     ]
    },
    {
     "data": {
      "text/plain": [
       "<Figure size 400x400 with 1 Axes>"
      ]
     },
     "metadata": {},
     "output_type": "display_data"
    }
   ],
   "source": [
    "with plt.rc_context({\"figure.figsize\": (5,5)}):\n",
    "    sc.pl.umap(adata[adata.obs['site'] == 'Thymus'], color='Bcell_cluster', add_outline=True,\n",
    "           title='Thymus', frameon=False, save='Bcell_cluster_thymus.pdf') "
   ]
  },
  {
   "cell_type": "code",
   "execution_count": 113,
   "id": "13ef4e07",
   "metadata": {},
   "outputs": [
    {
     "name": "stderr",
     "output_type": "stream",
     "text": [
      "WARNING: saving figure to file scanpy/210711_merged_thymoma_MG21.22.23.03_Bcell/graph/umapBcell_cluster_peri.pdf\n"
     ]
    },
    {
     "data": {
      "text/plain": [
       "<Figure size 400x400 with 1 Axes>"
      ]
     },
     "metadata": {},
     "output_type": "display_data"
    }
   ],
   "source": [
    "with plt.rc_context({\"figure.figsize\": (5,5)}):\n",
    "    sc.pl.umap(adata[adata.obs['site'] == 'Periphery'], color='Bcell_cluster', add_outline=True,\n",
    "           title='Periphery', frameon=False, save='Bcell_cluster_peri.pdf') "
   ]
  },
  {
   "cell_type": "code",
   "execution_count": 114,
   "id": "683dd411",
   "metadata": {},
   "outputs": [
    {
     "name": "stderr",
     "output_type": "stream",
     "text": [
      "computing density on 'umap'\n",
      "--> added\n",
      "    'umap_density_site', densities (adata.obs)\n",
      "    'umap_density_site_params', parameter (adata.uns)\n"
     ]
    }
   ],
   "source": [
    "sc.tl.embedding_density(adata, groupby='site')"
   ]
  },
  {
   "cell_type": "code",
   "execution_count": 115,
   "id": "89a99ec0",
   "metadata": {},
   "outputs": [
    {
     "name": "stderr",
     "output_type": "stream",
     "text": [
      "/home/yyasumizu/anaconda3/envs/scanpy1.7.2/lib/python3.7/site-packages/scanpy/plotting/_tools/__init__.py:1186: MatplotlibDeprecationWarning: You are modifying the state of a globally registered colormap. This has been deprecated since 3.3 and in 3.6, you will not be able to modify a registered colormap in-place. To remove this warning, you can make a copy of the colormap first. cmap = mpl.cm.get_cmap(\"YlOrRd\").copy()\n",
      "  color_map.set_over('black')\n",
      "/home/yyasumizu/anaconda3/envs/scanpy1.7.2/lib/python3.7/site-packages/scanpy/plotting/_tools/__init__.py:1187: MatplotlibDeprecationWarning: You are modifying the state of a globally registered colormap. This has been deprecated since 3.3 and in 3.6, you will not be able to modify a registered colormap in-place. To remove this warning, you can make a copy of the colormap first. cmap = mpl.cm.get_cmap(\"YlOrRd\").copy()\n",
      "  color_map.set_under('lightgray')\n",
      "/home/yyasumizu/anaconda3/envs/scanpy1.7.2/lib/python3.7/site-packages/scanpy/plotting/_tools/scatterplots.py:370: MatplotlibDeprecationWarning: Passing parameters norm and vmin/vmax simultaneously is deprecated since 3.3 and will become an error two minor releases later. Please pass vmin/vmax directly to the norm when creating it.\n",
      "  **kwargs,\n",
      "WARNING: saving figure to file scanpy/210711_merged_thymoma_MG21.22.23.03_Bcell/graph/umap_density_site_site.pdf\n"
     ]
    },
    {
     "data": {
      "text/plain": [
       "<Figure size 772.8x320 with 4 Axes>"
      ]
     },
     "metadata": {},
     "output_type": "display_data"
    }
   ],
   "source": [
    "sc.pl.embedding_density(adata, groupby='site', bg_dotsize=40, fg_dotsize=50, save='site')"
   ]
  },
  {
   "cell_type": "code",
   "execution_count": 116,
   "id": "ba08e07c",
   "metadata": {},
   "outputs": [
    {
     "name": "stderr",
     "output_type": "stream",
     "text": [
      "WARNING: saving figure to file scanpy/210711_merged_thymoma_MG21.22.23.03_Bcell/graph/umap.pdf\n"
     ]
    },
    {
     "data": {
      "text/plain": [
       "<Figure size 320x320 with 1 Axes>"
      ]
     },
     "metadata": {},
     "output_type": "display_data"
    },
    {
     "name": "stderr",
     "output_type": "stream",
     "text": [
      "WARNING: saving figure to file scanpy/210711_merged_thymoma_MG21.22.23.03_Bcell/graph/umap.pdf\n"
     ]
    },
    {
     "data": {
      "text/plain": [
       "<Figure size 320x320 with 1 Axes>"
      ]
     },
     "metadata": {},
     "output_type": "display_data"
    }
   ],
   "source": [
    "for site in ['Periphery', 'Thymus']:\n",
    "    sc.pl.umap(adata, color='site', groups=[site])"
   ]
  },
  {
   "cell_type": "code",
   "execution_count": 120,
   "id": "c5f2e17a",
   "metadata": {},
   "outputs": [],
   "source": [
    "list_label = ['Naive B cell', \n",
    "              'Pre GC B cell', 'GC B cell', 'Thymic memory B cell', 'Unswitched memory B cell',\n",
    "              'Memory B cell (I)', 'Memory B cell (II)', 'Plasmablast']"
   ]
  },
  {
   "cell_type": "code",
   "execution_count": 122,
   "id": "78d59880",
   "metadata": {},
   "outputs": [
    {
     "data": {
      "text/plain": [
       "<AxesSubplot:xlabel='Bcell_cluster', ylabel='site'>"
      ]
     },
     "execution_count": 122,
     "metadata": {},
     "output_type": "execute_result"
    },
    {
     "data": {
      "text/plain": [
       "<Figure size 800x240 with 2 Axes>"
      ]
     },
     "metadata": {
      "image/png": {
       "height": 529,
       "width": 737
      }
     },
     "output_type": "display_data"
    }
   ],
   "source": [
    "df_cross = pd.crosstab(adata.obs['site'], adata.obs['Bcell_cluster'])\n",
    "df_cross = (df_cross.T / df_cross.sum(axis=1)).T\n",
    "\n",
    "plt.figure(figsize=(10,3))\n",
    "sns.heatmap(df_cross[list_label], cmap='viridis', annot=False)"
   ]
  },
  {
   "cell_type": "code",
   "execution_count": 123,
   "id": "8879d9d0",
   "metadata": {
    "tags": []
   },
   "outputs": [],
   "source": [
    "df_cross = pd.crosstab(adata.obs['site'], adata.obs['Bcell_cluster'])"
   ]
  },
  {
   "cell_type": "code",
   "execution_count": 124,
   "id": "33771285",
   "metadata": {},
   "outputs": [
    {
     "data": {
      "text/plain": [
       "(array([ True,  True,  True,  True, False,  True,  True,  True]),\n",
       " array([5.50789955e-11, 4.02771167e-07, 3.85358434e-13, 1.02410136e-61,\n",
       "        7.84085083e-01, 3.02586592e-11, 7.10768488e-03, 4.82671815e-12]))"
      ]
     },
     "execution_count": 124,
     "metadata": {},
     "output_type": "execute_result"
    }
   ],
   "source": [
    "import scipy.stats as stats\n",
    "import statsmodels.stats.multitest as multi\n",
    "\n",
    "list_pvalue = []\n",
    "for label in list_label:\n",
    "    a = df_cross.loc['Periphery', label]\n",
    "    b = df_cross.loc['Thymus', label]\n",
    "    c = df_cross.loc['Periphery', list(set(list_label) - set(label))].sum()\n",
    "    d = df_cross.loc['Thymus', list(set(list_label) - set(label))].sum()\n",
    "    \n",
    "    oddsratio, pvalue = stats.fisher_exact([[a, b],[c, d]])\n",
    "    list_pvalue.append(pvalue)\n",
    "    \n",
    "multi.fdrcorrection(list_pvalue)"
   ]
  },
  {
   "cell_type": "code",
   "execution_count": 125,
   "id": "57be5a9c",
   "metadata": {},
   "outputs": [
    {
     "data": {
      "text/plain": [
       "<Figure size 320x240 with 1 Axes>"
      ]
     },
     "metadata": {
      "image/png": {
       "height": 529,
       "width": 308
      }
     },
     "output_type": "display_data"
    }
   ],
   "source": [
    "pd.crosstab(adata.obs['site'], adata.obs['Bcell_cluster'], normalize=0).T.loc[list_label].plot.bar(figsize=(4,3))\n",
    "# plt.yscale('log')\n",
    "plt.grid(None)\n",
    "\n",
    "plt.savefig(str(sc.settings.figdir) + '/bar_site.pdf', bbox_inches='tight')"
   ]
  },
  {
   "cell_type": "code",
   "execution_count": 126,
   "id": "f6f2c46f",
   "metadata": {},
   "outputs": [
    {
     "data": {
      "text/plain": [
       "sample\n",
       "MG03_PB    8683\n",
       "MG21_TL     555\n",
       "MG21_TE     227\n",
       "MG22_PL     162\n",
       "MG23_TE      74\n",
       "MG03_TE      49\n",
       "MG22_TE      12\n",
       "MG03_TL       8\n",
       "dtype: int64"
      ]
     },
     "execution_count": 126,
     "metadata": {},
     "output_type": "execute_result"
    }
   ],
   "source": [
    "adata.obs.value_counts('sample')"
   ]
  },
  {
   "cell_type": "code",
   "execution_count": 127,
   "id": "37968540",
   "metadata": {},
   "outputs": [
    {
     "name": "stderr",
     "output_type": "stream",
     "text": [
      "/home/yyasumizu/anaconda3/envs/scanpy1.7.2/lib/python3.7/site-packages/ipykernel_launcher.py:7: SettingWithCopyWarning: \n",
      "A value is trying to be set on a copy of a slice from a DataFrame.\n",
      "Try using .loc[row_indexer,col_indexer] = value instead\n",
      "\n",
      "See the caveats in the documentation: https://pandas.pydata.org/pandas-docs/stable/user_guide/indexing.html#returning-a-view-versus-a-copy\n",
      "  import sys\n",
      "/home/yyasumizu/anaconda3/envs/scanpy1.7.2/lib/python3.7/site-packages/ipykernel_launcher.py:17: SettingWithCopyWarning: \n",
      "A value is trying to be set on a copy of a slice from a DataFrame.\n",
      "Try using .loc[row_indexer,col_indexer] = value instead\n",
      "\n",
      "See the caveats in the documentation: https://pandas.pydata.org/pandas-docs/stable/user_guide/indexing.html#returning-a-view-versus-a-copy\n"
     ]
    }
   ],
   "source": [
    "import scipy.stats as stats\n",
    "import statsmodels.stats.multitest as multi\n",
    "\n",
    "list_prop = []\n",
    "\n",
    "d = adata.obs[adata.obs['site'] == 'Thymus']\n",
    "d['individual'] = d['individual'].str.split('_').str.get(0)\n",
    "d = pd.crosstab(d['individual'], d['Bcell_cluster'])\n",
    "d = d[list_label]\n",
    "d = d.T / d.sum(axis=1)\n",
    "d = d.reset_index().melt(id_vars='Bcell_cluster')\n",
    "d['site'] = 'Thymus'\n",
    "\n",
    "list_prop.append(d)\n",
    "\n",
    "d = adata.obs[adata.obs['site'] == 'Periphery']\n",
    "d['individual'] = d['individual'].str.split('_').str.get(0)\n",
    "d = pd.crosstab(d['individual'], d['Bcell_cluster'])\n",
    "d = d[list_label]\n",
    "d = d.T / d.sum(axis=1)\n",
    "d = d.reset_index().melt(id_vars='Bcell_cluster')\n",
    "d['site'] = 'Periphery'\n",
    "list_prop.append(d)\n",
    "\n",
    "df_prop = pd.concat(list_prop)"
   ]
  },
  {
   "cell_type": "code",
   "execution_count": 128,
   "id": "97938f0b",
   "metadata": {},
   "outputs": [
    {
     "data": {
      "text/plain": [
       "(array([False, False, False, False, False, False, False, False]),\n",
       " array([0.83704014, 0.83704014, 0.89952848, 0.89952848, 0.83704014,\n",
       "        0.83704014, 0.83704014, 0.83704014]))"
      ]
     },
     "execution_count": 128,
     "metadata": {},
     "output_type": "execute_result"
    }
   ],
   "source": [
    "list_p = []\n",
    "for lab in list_label:\n",
    "    _, p = stats.ttest_ind(df_prop.loc[(df_prop['site'] == 'Thymus') & (df_prop['Bcell_cluster'] == lab), 'value'],\n",
    "                      df_prop.loc[(df_prop['site'] == 'Periphery') & (df_prop['Bcell_cluster'] == lab), 'value'])\n",
    "    list_p.append(p)\n",
    "multi.fdrcorrection(list_p)"
   ]
  },
  {
   "cell_type": "code",
   "execution_count": 129,
   "id": "88ff4ec2",
   "metadata": {},
   "outputs": [
    {
     "data": {
      "text/plain": [
       "<Figure size 480x240 with 1 Axes>"
      ]
     },
     "metadata": {
      "image/png": {
       "height": 529,
       "width": 459
      }
     },
     "output_type": "display_data"
    }
   ],
   "source": [
    "plt.figure(figsize=(6,3))\n",
    "# sns.swarmplot(data=df_prop, x='CD4T_cluster', y='value', hue='site')\n",
    "sns.stripplot(data=df_prop, x='Bcell_cluster', y='value', hue='site', order=list_label)\n",
    "plt.xticks(rotation=90)\n",
    "plt.savefig(str(sc.settings.figdir) + '/stripplot_site.pdf', bbox_inches='tight')"
   ]
  },
  {
   "cell_type": "code",
   "execution_count": 130,
   "id": "a40305d2",
   "metadata": {},
   "outputs": [
    {
     "data": {
      "text/html": [
       "<div>\n",
       "<style scoped>\n",
       "    .dataframe tbody tr th:only-of-type {\n",
       "        vertical-align: middle;\n",
       "    }\n",
       "\n",
       "    .dataframe tbody tr th {\n",
       "        vertical-align: top;\n",
       "    }\n",
       "\n",
       "    .dataframe thead th {\n",
       "        text-align: right;\n",
       "    }\n",
       "</style>\n",
       "<table border=\"1\" class=\"dataframe\">\n",
       "  <thead>\n",
       "    <tr style=\"text-align: right;\">\n",
       "      <th></th>\n",
       "      <th>Bcell_cluster</th>\n",
       "      <th>individual</th>\n",
       "      <th>value</th>\n",
       "      <th>site</th>\n",
       "    </tr>\n",
       "  </thead>\n",
       "  <tbody>\n",
       "    <tr>\n",
       "      <th>2</th>\n",
       "      <td>GC B cell</td>\n",
       "      <td>MG03</td>\n",
       "      <td>0.000000</td>\n",
       "      <td>Thymus</td>\n",
       "    </tr>\n",
       "    <tr>\n",
       "      <th>10</th>\n",
       "      <td>GC B cell</td>\n",
       "      <td>MG21</td>\n",
       "      <td>0.078005</td>\n",
       "      <td>Thymus</td>\n",
       "    </tr>\n",
       "    <tr>\n",
       "      <th>18</th>\n",
       "      <td>GC B cell</td>\n",
       "      <td>MG22</td>\n",
       "      <td>0.000000</td>\n",
       "      <td>Thymus</td>\n",
       "    </tr>\n",
       "    <tr>\n",
       "      <th>26</th>\n",
       "      <td>GC B cell</td>\n",
       "      <td>MG23</td>\n",
       "      <td>0.000000</td>\n",
       "      <td>Thymus</td>\n",
       "    </tr>\n",
       "    <tr>\n",
       "      <th>2</th>\n",
       "      <td>GC B cell</td>\n",
       "      <td>MG03</td>\n",
       "      <td>0.018772</td>\n",
       "      <td>Periphery</td>\n",
       "    </tr>\n",
       "    <tr>\n",
       "      <th>10</th>\n",
       "      <td>GC B cell</td>\n",
       "      <td>MG22</td>\n",
       "      <td>0.012346</td>\n",
       "      <td>Periphery</td>\n",
       "    </tr>\n",
       "  </tbody>\n",
       "</table>\n",
       "</div>"
      ],
      "text/plain": [
       "   Bcell_cluster individual     value       site\n",
       "2      GC B cell       MG03  0.000000     Thymus\n",
       "10     GC B cell       MG21  0.078005     Thymus\n",
       "18     GC B cell       MG22  0.000000     Thymus\n",
       "26     GC B cell       MG23  0.000000     Thymus\n",
       "2      GC B cell       MG03  0.018772  Periphery\n",
       "10     GC B cell       MG22  0.012346  Periphery"
      ]
     },
     "execution_count": 130,
     "metadata": {},
     "output_type": "execute_result"
    }
   ],
   "source": [
    "df_prop[df_prop['Bcell_cluster']=='GC B cell']"
   ]
  },
  {
   "cell_type": "code",
   "execution_count": 131,
   "id": "ccd7f033",
   "metadata": {},
   "outputs": [
    {
     "data": {
      "text/plain": [
       "MG03_PB    163\n",
       "MG21_TL     56\n",
       "MG21_TE      5\n",
       "MG22_PL      2\n",
       "Name: sample, dtype: int64"
      ]
     },
     "execution_count": 131,
     "metadata": {},
     "output_type": "execute_result"
    }
   ],
   "source": [
    "adata[adata.obs['Bcell_cluster'] == 'GC B cell'].obs['sample'].value_counts()"
   ]
  },
  {
   "cell_type": "code",
   "execution_count": 132,
   "id": "9ca6c395",
   "metadata": {},
   "outputs": [
    {
     "data": {
      "text/plain": [
       "MG03_PB    8683\n",
       "MG21_TL     555\n",
       "MG21_TE     227\n",
       "MG22_PL     162\n",
       "MG23_TE      74\n",
       "MG03_TE      49\n",
       "MG22_TE      12\n",
       "MG03_TL       8\n",
       "Name: sample, dtype: int64"
      ]
     },
     "execution_count": 132,
     "metadata": {},
     "output_type": "execute_result"
    }
   ],
   "source": [
    "adata.obs['sample'].value_counts()"
   ]
  },
  {
   "cell_type": "code",
   "execution_count": 188,
   "id": "cfb00002",
   "metadata": {},
   "outputs": [
    {
     "name": "stdout",
     "output_type": "stream",
     "text": [
      "Running on PyMC3 v3.11.2\n"
     ]
    }
   ],
   "source": [
    "import pymc3 as pm\n",
    "import arviz as az\n",
    "\n",
    "print(f\"Running on PyMC3 v{pm.__version__}\")"
   ]
  },
  {
   "cell_type": "raw",
   "id": "a7e2dc7b",
   "metadata": {},
   "source": [
    "with pm.Model() as model:\n",
    "    p_thymus = pm.Uniform(\"p_thymus\", lower=0.0, upper=1.0)\n",
    "    p_blood = pm.Uniform(\"p_blood\", lower=0.0, upper=1.0)\n",
    "    x_thymus = pm.Binomial(\"x_thymus\", p=p_thymus,\n",
    "                           observed=[61, 0, 0, 0], \n",
    "                           n=[782, 12, 74, 8])\n",
    "    x_blood= pm.Binomial(\"x_blood\", p=p_blood, observed=[163, 2], n=[8683, 162])\n",
    "    \n",
    "    p = pm.Deterministic(\"p\", p_thymus - p_blood)"
   ]
  },
  {
   "cell_type": "raw",
   "id": "3e6576ff",
   "metadata": {},
   "source": [
    "with pm.Model() as model:\n",
    "    p_thymus = pm.Beta(\"p_thymus\", alpha=1, beta=1)\n",
    "    p_blood = pm.Beta(\"p_blood\", alpha=1, beta=1)\n",
    "    x_thymus = pm.Binomial(\"x_thymus\", p=p_thymus,\n",
    "                           observed=[61, 0, 0, 0], \n",
    "                           n=[782, 12, 74, 8])\n",
    "    x_blood= pm.Binomial(\"x_blood\", p=p_blood, observed=[163, 2], n=[8683, 162])\n",
    "    \n",
    "    p = pm.Deterministic(\"p\", p_thymus - p_blood)"
   ]
  },
  {
   "cell_type": "code",
   "execution_count": 189,
   "id": "289df3c8",
   "metadata": {},
   "outputs": [],
   "source": [
    "donors = adata.obs.individual.unique()\n",
    "\n",
    "x_t = []\n",
    "x_b = []\n",
    "n_t = []\n",
    "n_b = []\n",
    "for lab in list_label:\n",
    "    _x_t = []\n",
    "    _x_b = []\n",
    "    _n_t = []\n",
    "    _n_b = []\n",
    "    for d in donors:\n",
    "        try:\n",
    "            _x_t.append(adata[(adata.obs['Bcell_cluster'] == lab) & (adata.obs['site'] == 'Thymus')\n",
    "                            ].obs['individual'].value_counts()[d])\n",
    "        except:\n",
    "            _x_t.append(0)\n",
    "            \n",
    "        try:\n",
    "            _x_b.append(adata[(adata.obs['Bcell_cluster'] == lab) & (adata.obs['site'] == 'Periphery')\n",
    "                            ].obs['individual'].value_counts()[d])\n",
    "        except:\n",
    "            _x_b.append(0)\n",
    "            \n",
    "        try:\n",
    "            _n_t.append(adata[adata.obs['site'] == 'Thymus'].obs['individual'].value_counts()[d])\n",
    "        except:\n",
    "            _n_t.append(0)\n",
    "            \n",
    "        try:\n",
    "            _n_b.append(adata[adata.obs['site'] == 'Periphery'].obs['individual'].value_counts()[d])\n",
    "        except:\n",
    "            _n_b.append(0)\n",
    "    x_t.append(_x_t)\n",
    "    x_b.append(_x_b)\n",
    "    n_t.append(_n_t)\n",
    "    n_b.append(_n_b)\n",
    "\n",
    "x_t = np.array(x_t).T\n",
    "x_b = np.array(x_b).T\n",
    "n_t = np.array(n_t).T\n",
    "n_b = np.array(n_b).T"
   ]
  },
  {
   "cell_type": "code",
   "execution_count": 190,
   "id": "07c50b53",
   "metadata": {},
   "outputs": [],
   "source": [
    "with pm.Model() as model:\n",
    "    p_thymus = pm.Uniform(\"p_thymus\", lower=0.0, upper=1.0, shape=len(list_label))\n",
    "    p_blood = pm.Uniform(\"p_blood\", lower=0.0, upper=1.0, shape=len(list_label))\n",
    "    x_thymus = pm.Binomial(\"x_thymus\", p=p_thymus, \n",
    "                           observed=x_t, \n",
    "                           n=n_t, shape=len(list_label))\n",
    "    x_blood= pm.Binomial(\"x_blood\", p=p_blood, observed=x_b, \n",
    "                         n=n_b, shape=len(list_label))\n",
    "    \n",
    "    p = pm.Deterministic(\"p\", p_thymus - p_blood)"
   ]
  },
  {
   "cell_type": "code",
   "execution_count": 191,
   "id": "dda0ee37",
   "metadata": {},
   "outputs": [
    {
     "data": {
      "text/latex": [
       "$$\n",
       "                \\begin{array}{rcl}\n",
       "                \\text{p_thymus_interval__} &\\sim & \\text{TransformedDistribution}\\\\\\text{p_blood_interval__} &\\sim & \\text{TransformedDistribution}\\\\\\text{p_thymus} &\\sim & \\text{Uniform}\\\\\\text{p_blood} &\\sim & \\text{Uniform}\\\\\\text{p} &\\sim & \\text{Deterministic}\\\\\\text{x_thymus} &\\sim & \\text{Binomial}\\\\\\text{x_blood} &\\sim & \\text{Binomial}\n",
       "                \\end{array}\n",
       "                $$"
      ],
      "text/plain": [
       "<pymc3.model.Model at 0x7fd286b74a90>"
      ]
     },
     "execution_count": 191,
     "metadata": {},
     "output_type": "execute_result"
    }
   ],
   "source": [
    "model"
   ]
  },
  {
   "cell_type": "code",
   "execution_count": 232,
   "id": "7b7a6fcf",
   "metadata": {},
   "outputs": [
    {
     "name": "stderr",
     "output_type": "stream",
     "text": [
      "Auto-assigning NUTS sampler...\n",
      "Initializing NUTS using jitter+adapt_diag...\n",
      "Multiprocess sampling (4 chains in 4 jobs)\n",
      "NUTS: [p_blood, p_thymus]\n"
     ]
    },
    {
     "data": {
      "text/html": [
       "\n",
       "    <div>\n",
       "        <style>\n",
       "            /* Turns off some styling */\n",
       "            progress {\n",
       "                /* gets rid of default border in Firefox and Opera. */\n",
       "                border: none;\n",
       "                /* Needs to be in here for Safari polyfill so background images work as expected. */\n",
       "                background-size: auto;\n",
       "            }\n",
       "            .progress-bar-interrupted, .progress-bar-interrupted::-webkit-progress-bar {\n",
       "                background: #F44336;\n",
       "            }\n",
       "        </style>\n",
       "      <progress value='104000' class='' max='104000' style='width:300px; height:20px; vertical-align: middle;'></progress>\n",
       "      100.00% [104000/104000 00:24<00:00 Sampling 4 chains, 0 divergences]\n",
       "    </div>\n",
       "    "
      ],
      "text/plain": [
       "<IPython.core.display.HTML object>"
      ]
     },
     "metadata": {},
     "output_type": "display_data"
    },
    {
     "name": "stderr",
     "output_type": "stream",
     "text": [
      "Sampling 4 chains for 1_000 tune and 25_000 draw iterations (4_000 + 100_000 draws total) took 25 seconds.\n"
     ]
    }
   ],
   "source": [
    "with model:\n",
    "    trace = pm.sample(25000, chains=4)"
   ]
  },
  {
   "cell_type": "code",
   "execution_count": 233,
   "id": "99b27f02",
   "metadata": {},
   "outputs": [
    {
     "data": {
      "text/plain": [
       "<Figure size 960x160 with 2 Axes>"
      ]
     },
     "metadata": {
      "image/png": {
       "height": 169,
       "width": 969
      }
     },
     "output_type": "display_data"
    }
   ],
   "source": [
    "pm.traceplot(trace, var_names=[\"p\"]);"
   ]
  },
  {
   "cell_type": "code",
   "execution_count": 234,
   "id": "f473143c",
   "metadata": {},
   "outputs": [
    {
     "data": {
      "text/plain": [
       "<Figure size 1472x736 with 8 Axes>"
      ]
     },
     "metadata": {
      "image/png": {
       "height": 743,
       "width": 1477
      }
     },
     "output_type": "display_data"
    }
   ],
   "source": [
    "pm.plot_posterior(\n",
    "    trace,\n",
    "    var_names=[\"p\"],\n",
    "    ref_val = 0\n",
    ");"
   ]
  },
  {
   "cell_type": "code",
   "execution_count": 235,
   "id": "7ca63a55",
   "metadata": {},
   "outputs": [
    {
     "data": {
      "text/html": [
       "<div>\n",
       "<style scoped>\n",
       "    .dataframe tbody tr th:only-of-type {\n",
       "        vertical-align: middle;\n",
       "    }\n",
       "\n",
       "    .dataframe tbody tr th {\n",
       "        vertical-align: top;\n",
       "    }\n",
       "\n",
       "    .dataframe thead th {\n",
       "        text-align: right;\n",
       "    }\n",
       "</style>\n",
       "<table border=\"1\" class=\"dataframe\">\n",
       "  <thead>\n",
       "    <tr style=\"text-align: right;\">\n",
       "      <th></th>\n",
       "      <th>mean</th>\n",
       "      <th>sd</th>\n",
       "      <th>hdi_3%</th>\n",
       "      <th>hdi_97%</th>\n",
       "      <th>mcse_mean</th>\n",
       "      <th>mcse_sd</th>\n",
       "      <th>ess_bulk</th>\n",
       "      <th>ess_tail</th>\n",
       "      <th>r_hat</th>\n",
       "    </tr>\n",
       "  </thead>\n",
       "  <tbody>\n",
       "    <tr>\n",
       "      <th>p_thymus[0]</th>\n",
       "      <td>0.361</td>\n",
       "      <td>0.016</td>\n",
       "      <td>0.332</td>\n",
       "      <td>0.391</td>\n",
       "      <td>0.0</td>\n",
       "      <td>0.0</td>\n",
       "      <td>136130.0</td>\n",
       "      <td>77697.0</td>\n",
       "      <td>1.0</td>\n",
       "    </tr>\n",
       "    <tr>\n",
       "      <th>p_thymus[1]</th>\n",
       "      <td>0.077</td>\n",
       "      <td>0.009</td>\n",
       "      <td>0.061</td>\n",
       "      <td>0.093</td>\n",
       "      <td>0.0</td>\n",
       "      <td>0.0</td>\n",
       "      <td>132623.0</td>\n",
       "      <td>77080.0</td>\n",
       "      <td>1.0</td>\n",
       "    </tr>\n",
       "    <tr>\n",
       "      <th>p_thymus[2]</th>\n",
       "      <td>0.067</td>\n",
       "      <td>0.008</td>\n",
       "      <td>0.052</td>\n",
       "      <td>0.082</td>\n",
       "      <td>0.0</td>\n",
       "      <td>0.0</td>\n",
       "      <td>141591.0</td>\n",
       "      <td>75982.0</td>\n",
       "      <td>1.0</td>\n",
       "    </tr>\n",
       "    <tr>\n",
       "      <th>p_thymus[3]</th>\n",
       "      <td>0.175</td>\n",
       "      <td>0.012</td>\n",
       "      <td>0.152</td>\n",
       "      <td>0.198</td>\n",
       "      <td>0.0</td>\n",
       "      <td>0.0</td>\n",
       "      <td>138983.0</td>\n",
       "      <td>75272.0</td>\n",
       "      <td>1.0</td>\n",
       "    </tr>\n",
       "    <tr>\n",
       "      <th>p_thymus[4]</th>\n",
       "      <td>0.164</td>\n",
       "      <td>0.012</td>\n",
       "      <td>0.141</td>\n",
       "      <td>0.187</td>\n",
       "      <td>0.0</td>\n",
       "      <td>0.0</td>\n",
       "      <td>125838.0</td>\n",
       "      <td>73620.0</td>\n",
       "      <td>1.0</td>\n",
       "    </tr>\n",
       "    <tr>\n",
       "      <th>p_thymus[5]</th>\n",
       "      <td>0.042</td>\n",
       "      <td>0.007</td>\n",
       "      <td>0.030</td>\n",
       "      <td>0.054</td>\n",
       "      <td>0.0</td>\n",
       "      <td>0.0</td>\n",
       "      <td>132841.0</td>\n",
       "      <td>74348.0</td>\n",
       "      <td>1.0</td>\n",
       "    </tr>\n",
       "    <tr>\n",
       "      <th>p_thymus[6]</th>\n",
       "      <td>0.037</td>\n",
       "      <td>0.006</td>\n",
       "      <td>0.025</td>\n",
       "      <td>0.048</td>\n",
       "      <td>0.0</td>\n",
       "      <td>0.0</td>\n",
       "      <td>130789.0</td>\n",
       "      <td>75342.0</td>\n",
       "      <td>1.0</td>\n",
       "    </tr>\n",
       "    <tr>\n",
       "      <th>p_thymus[7]</th>\n",
       "      <td>0.084</td>\n",
       "      <td>0.009</td>\n",
       "      <td>0.067</td>\n",
       "      <td>0.101</td>\n",
       "      <td>0.0</td>\n",
       "      <td>0.0</td>\n",
       "      <td>137429.0</td>\n",
       "      <td>74883.0</td>\n",
       "      <td>1.0</td>\n",
       "    </tr>\n",
       "    <tr>\n",
       "      <th>p_blood[0]</th>\n",
       "      <td>0.555</td>\n",
       "      <td>0.005</td>\n",
       "      <td>0.545</td>\n",
       "      <td>0.565</td>\n",
       "      <td>0.0</td>\n",
       "      <td>0.0</td>\n",
       "      <td>141968.0</td>\n",
       "      <td>78130.0</td>\n",
       "      <td>1.0</td>\n",
       "    </tr>\n",
       "    <tr>\n",
       "      <th>p_blood[1]</th>\n",
       "      <td>0.036</td>\n",
       "      <td>0.002</td>\n",
       "      <td>0.032</td>\n",
       "      <td>0.040</td>\n",
       "      <td>0.0</td>\n",
       "      <td>0.0</td>\n",
       "      <td>142185.0</td>\n",
       "      <td>74696.0</td>\n",
       "      <td>1.0</td>\n",
       "    </tr>\n",
       "    <tr>\n",
       "      <th>p_blood[2]</th>\n",
       "      <td>0.019</td>\n",
       "      <td>0.001</td>\n",
       "      <td>0.016</td>\n",
       "      <td>0.022</td>\n",
       "      <td>0.0</td>\n",
       "      <td>0.0</td>\n",
       "      <td>144062.0</td>\n",
       "      <td>75693.0</td>\n",
       "      <td>1.0</td>\n",
       "    </tr>\n",
       "    <tr>\n",
       "      <th>p_blood[3]</th>\n",
       "      <td>0.023</td>\n",
       "      <td>0.002</td>\n",
       "      <td>0.020</td>\n",
       "      <td>0.026</td>\n",
       "      <td>0.0</td>\n",
       "      <td>0.0</td>\n",
       "      <td>138853.0</td>\n",
       "      <td>75524.0</td>\n",
       "      <td>1.0</td>\n",
       "    </tr>\n",
       "    <tr>\n",
       "      <th>p_blood[4]</th>\n",
       "      <td>0.168</td>\n",
       "      <td>0.004</td>\n",
       "      <td>0.161</td>\n",
       "      <td>0.176</td>\n",
       "      <td>0.0</td>\n",
       "      <td>0.0</td>\n",
       "      <td>142264.0</td>\n",
       "      <td>77256.0</td>\n",
       "      <td>1.0</td>\n",
       "    </tr>\n",
       "    <tr>\n",
       "      <th>p_blood[5]</th>\n",
       "      <td>0.112</td>\n",
       "      <td>0.003</td>\n",
       "      <td>0.106</td>\n",
       "      <td>0.118</td>\n",
       "      <td>0.0</td>\n",
       "      <td>0.0</td>\n",
       "      <td>142804.0</td>\n",
       "      <td>75944.0</td>\n",
       "      <td>1.0</td>\n",
       "    </tr>\n",
       "    <tr>\n",
       "      <th>p_blood[6]</th>\n",
       "      <td>0.058</td>\n",
       "      <td>0.002</td>\n",
       "      <td>0.053</td>\n",
       "      <td>0.062</td>\n",
       "      <td>0.0</td>\n",
       "      <td>0.0</td>\n",
       "      <td>132214.0</td>\n",
       "      <td>76107.0</td>\n",
       "      <td>1.0</td>\n",
       "    </tr>\n",
       "    <tr>\n",
       "      <th>p_blood[7]</th>\n",
       "      <td>0.030</td>\n",
       "      <td>0.002</td>\n",
       "      <td>0.026</td>\n",
       "      <td>0.033</td>\n",
       "      <td>0.0</td>\n",
       "      <td>0.0</td>\n",
       "      <td>136444.0</td>\n",
       "      <td>76769.0</td>\n",
       "      <td>1.0</td>\n",
       "    </tr>\n",
       "    <tr>\n",
       "      <th>p[0]</th>\n",
       "      <td>-0.194</td>\n",
       "      <td>0.017</td>\n",
       "      <td>-0.224</td>\n",
       "      <td>-0.162</td>\n",
       "      <td>0.0</td>\n",
       "      <td>0.0</td>\n",
       "      <td>136969.0</td>\n",
       "      <td>77006.0</td>\n",
       "      <td>1.0</td>\n",
       "    </tr>\n",
       "    <tr>\n",
       "      <th>p[1]</th>\n",
       "      <td>0.041</td>\n",
       "      <td>0.009</td>\n",
       "      <td>0.024</td>\n",
       "      <td>0.057</td>\n",
       "      <td>0.0</td>\n",
       "      <td>0.0</td>\n",
       "      <td>133536.0</td>\n",
       "      <td>76828.0</td>\n",
       "      <td>1.0</td>\n",
       "    </tr>\n",
       "    <tr>\n",
       "      <th>p[2]</th>\n",
       "      <td>0.048</td>\n",
       "      <td>0.008</td>\n",
       "      <td>0.033</td>\n",
       "      <td>0.064</td>\n",
       "      <td>0.0</td>\n",
       "      <td>0.0</td>\n",
       "      <td>142242.0</td>\n",
       "      <td>77196.0</td>\n",
       "      <td>1.0</td>\n",
       "    </tr>\n",
       "    <tr>\n",
       "      <th>p[3]</th>\n",
       "      <td>0.151</td>\n",
       "      <td>0.012</td>\n",
       "      <td>0.129</td>\n",
       "      <td>0.175</td>\n",
       "      <td>0.0</td>\n",
       "      <td>0.0</td>\n",
       "      <td>139202.0</td>\n",
       "      <td>76436.0</td>\n",
       "      <td>1.0</td>\n",
       "    </tr>\n",
       "    <tr>\n",
       "      <th>p[4]</th>\n",
       "      <td>-0.004</td>\n",
       "      <td>0.013</td>\n",
       "      <td>-0.028</td>\n",
       "      <td>0.020</td>\n",
       "      <td>0.0</td>\n",
       "      <td>0.0</td>\n",
       "      <td>126514.0</td>\n",
       "      <td>74767.0</td>\n",
       "      <td>1.0</td>\n",
       "    </tr>\n",
       "    <tr>\n",
       "      <th>p[5]</th>\n",
       "      <td>-0.070</td>\n",
       "      <td>0.007</td>\n",
       "      <td>-0.084</td>\n",
       "      <td>-0.056</td>\n",
       "      <td>0.0</td>\n",
       "      <td>0.0</td>\n",
       "      <td>132767.0</td>\n",
       "      <td>76335.0</td>\n",
       "      <td>1.0</td>\n",
       "    </tr>\n",
       "    <tr>\n",
       "      <th>p[6]</th>\n",
       "      <td>-0.021</td>\n",
       "      <td>0.007</td>\n",
       "      <td>-0.033</td>\n",
       "      <td>-0.009</td>\n",
       "      <td>0.0</td>\n",
       "      <td>0.0</td>\n",
       "      <td>131672.0</td>\n",
       "      <td>73943.0</td>\n",
       "      <td>1.0</td>\n",
       "    </tr>\n",
       "    <tr>\n",
       "      <th>p[7]</th>\n",
       "      <td>0.054</td>\n",
       "      <td>0.009</td>\n",
       "      <td>0.037</td>\n",
       "      <td>0.072</td>\n",
       "      <td>0.0</td>\n",
       "      <td>0.0</td>\n",
       "      <td>137748.0</td>\n",
       "      <td>75885.0</td>\n",
       "      <td>1.0</td>\n",
       "    </tr>\n",
       "  </tbody>\n",
       "</table>\n",
       "</div>"
      ],
      "text/plain": [
       "              mean     sd  hdi_3%  hdi_97%  mcse_mean  mcse_sd  ess_bulk  \\\n",
       "p_thymus[0]  0.361  0.016   0.332    0.391        0.0      0.0  136130.0   \n",
       "p_thymus[1]  0.077  0.009   0.061    0.093        0.0      0.0  132623.0   \n",
       "p_thymus[2]  0.067  0.008   0.052    0.082        0.0      0.0  141591.0   \n",
       "p_thymus[3]  0.175  0.012   0.152    0.198        0.0      0.0  138983.0   \n",
       "p_thymus[4]  0.164  0.012   0.141    0.187        0.0      0.0  125838.0   \n",
       "p_thymus[5]  0.042  0.007   0.030    0.054        0.0      0.0  132841.0   \n",
       "p_thymus[6]  0.037  0.006   0.025    0.048        0.0      0.0  130789.0   \n",
       "p_thymus[7]  0.084  0.009   0.067    0.101        0.0      0.0  137429.0   \n",
       "p_blood[0]   0.555  0.005   0.545    0.565        0.0      0.0  141968.0   \n",
       "p_blood[1]   0.036  0.002   0.032    0.040        0.0      0.0  142185.0   \n",
       "p_blood[2]   0.019  0.001   0.016    0.022        0.0      0.0  144062.0   \n",
       "p_blood[3]   0.023  0.002   0.020    0.026        0.0      0.0  138853.0   \n",
       "p_blood[4]   0.168  0.004   0.161    0.176        0.0      0.0  142264.0   \n",
       "p_blood[5]   0.112  0.003   0.106    0.118        0.0      0.0  142804.0   \n",
       "p_blood[6]   0.058  0.002   0.053    0.062        0.0      0.0  132214.0   \n",
       "p_blood[7]   0.030  0.002   0.026    0.033        0.0      0.0  136444.0   \n",
       "p[0]        -0.194  0.017  -0.224   -0.162        0.0      0.0  136969.0   \n",
       "p[1]         0.041  0.009   0.024    0.057        0.0      0.0  133536.0   \n",
       "p[2]         0.048  0.008   0.033    0.064        0.0      0.0  142242.0   \n",
       "p[3]         0.151  0.012   0.129    0.175        0.0      0.0  139202.0   \n",
       "p[4]        -0.004  0.013  -0.028    0.020        0.0      0.0  126514.0   \n",
       "p[5]        -0.070  0.007  -0.084   -0.056        0.0      0.0  132767.0   \n",
       "p[6]        -0.021  0.007  -0.033   -0.009        0.0      0.0  131672.0   \n",
       "p[7]         0.054  0.009   0.037    0.072        0.0      0.0  137748.0   \n",
       "\n",
       "             ess_tail  r_hat  \n",
       "p_thymus[0]   77697.0    1.0  \n",
       "p_thymus[1]   77080.0    1.0  \n",
       "p_thymus[2]   75982.0    1.0  \n",
       "p_thymus[3]   75272.0    1.0  \n",
       "p_thymus[4]   73620.0    1.0  \n",
       "p_thymus[5]   74348.0    1.0  \n",
       "p_thymus[6]   75342.0    1.0  \n",
       "p_thymus[7]   74883.0    1.0  \n",
       "p_blood[0]    78130.0    1.0  \n",
       "p_blood[1]    74696.0    1.0  \n",
       "p_blood[2]    75693.0    1.0  \n",
       "p_blood[3]    75524.0    1.0  \n",
       "p_blood[4]    77256.0    1.0  \n",
       "p_blood[5]    75944.0    1.0  \n",
       "p_blood[6]    76107.0    1.0  \n",
       "p_blood[7]    76769.0    1.0  \n",
       "p[0]          77006.0    1.0  \n",
       "p[1]          76828.0    1.0  \n",
       "p[2]          77196.0    1.0  \n",
       "p[3]          76436.0    1.0  \n",
       "p[4]          74767.0    1.0  \n",
       "p[5]          76335.0    1.0  \n",
       "p[6]          73943.0    1.0  \n",
       "p[7]          75885.0    1.0  "
      ]
     },
     "execution_count": 235,
     "metadata": {},
     "output_type": "execute_result"
    }
   ],
   "source": [
    "pm.summary(trace)"
   ]
  },
  {
   "cell_type": "code",
   "execution_count": 236,
   "id": "e2010d36",
   "metadata": {},
   "outputs": [
    {
     "data": {
      "text/plain": [
       "array([<AxesSubplot:title={'center':'94.0% HDI'}>], dtype=object)"
      ]
     },
     "execution_count": 236,
     "metadata": {},
     "output_type": "execute_result"
    },
    {
     "data": {
      "text/plain": [
       "<Figure size 480x1248 with 1 Axes>"
      ]
     },
     "metadata": {
      "image/png": {
       "height": 1257,
       "width": 489
      }
     },
     "output_type": "display_data"
    }
   ],
   "source": [
    "pm.forestplot(trace)"
   ]
  },
  {
   "cell_type": "code",
   "execution_count": 237,
   "id": "d989d7e5",
   "metadata": {},
   "outputs": [
    {
     "data": {
      "text/plain": [
       "<Figure size 480x576 with 1 Axes>"
      ]
     },
     "metadata": {
      "image/png": {
       "height": 585,
       "width": 489
      }
     },
     "output_type": "display_data"
    }
   ],
   "source": [
    "ax = az.plot_forest(trace, var_names=[\"p\"])\n",
    "ax[0].set_yticklabels([list_label[-i] for i in range(len(list_label))]);"
   ]
  },
  {
   "cell_type": "code",
   "execution_count": 238,
   "id": "07ca6b77",
   "metadata": {},
   "outputs": [],
   "source": [
    "p_thymus = []\n",
    "p_blood = []\n",
    "\n",
    "for i in range(len(list_label)):\n",
    "    p_thymus.append((trace['p'][:,i] < 0).sum() / trace['p'].shape[0])\n",
    "    p_blood.append((trace['p'][:,i] > 0).sum() / trace['p'].shape[0])"
   ]
  },
  {
   "cell_type": "code",
   "execution_count": 239,
   "id": "4d6cc74f",
   "metadata": {},
   "outputs": [
    {
     "data": {
      "text/html": [
       "<div>\n",
       "<style scoped>\n",
       "    .dataframe tbody tr th:only-of-type {\n",
       "        vertical-align: middle;\n",
       "    }\n",
       "\n",
       "    .dataframe tbody tr th {\n",
       "        vertical-align: top;\n",
       "    }\n",
       "\n",
       "    .dataframe thead th {\n",
       "        text-align: right;\n",
       "    }\n",
       "</style>\n",
       "<table border=\"1\" class=\"dataframe\">\n",
       "  <thead>\n",
       "    <tr style=\"text-align: right;\">\n",
       "      <th></th>\n",
       "      <th>Thymus</th>\n",
       "      <th>Peripheral</th>\n",
       "    </tr>\n",
       "  </thead>\n",
       "  <tbody>\n",
       "    <tr>\n",
       "      <th>Naive B cell</th>\n",
       "      <td>1.00000</td>\n",
       "      <td>0.00000</td>\n",
       "    </tr>\n",
       "    <tr>\n",
       "      <th>Pre GC B cell</th>\n",
       "      <td>0.00000</td>\n",
       "      <td>1.00000</td>\n",
       "    </tr>\n",
       "    <tr>\n",
       "      <th>GC B cell</th>\n",
       "      <td>0.00000</td>\n",
       "      <td>1.00000</td>\n",
       "    </tr>\n",
       "    <tr>\n",
       "      <th>Thymic memory B cell</th>\n",
       "      <td>0.00000</td>\n",
       "      <td>1.00000</td>\n",
       "    </tr>\n",
       "    <tr>\n",
       "      <th>Unswitched memory B cell</th>\n",
       "      <td>0.63233</td>\n",
       "      <td>0.36767</td>\n",
       "    </tr>\n",
       "    <tr>\n",
       "      <th>Memory B cell (I)</th>\n",
       "      <td>1.00000</td>\n",
       "      <td>0.00000</td>\n",
       "    </tr>\n",
       "    <tr>\n",
       "      <th>Memory B cell (II)</th>\n",
       "      <td>0.99815</td>\n",
       "      <td>0.00185</td>\n",
       "    </tr>\n",
       "    <tr>\n",
       "      <th>Plasmablast</th>\n",
       "      <td>0.00000</td>\n",
       "      <td>1.00000</td>\n",
       "    </tr>\n",
       "  </tbody>\n",
       "</table>\n",
       "</div>"
      ],
      "text/plain": [
       "                           Thymus  Peripheral\n",
       "Naive B cell              1.00000     0.00000\n",
       "Pre GC B cell             0.00000     1.00000\n",
       "GC B cell                 0.00000     1.00000\n",
       "Thymic memory B cell      0.00000     1.00000\n",
       "Unswitched memory B cell  0.63233     0.36767\n",
       "Memory B cell (I)         1.00000     0.00000\n",
       "Memory B cell (II)        0.99815     0.00185\n",
       "Plasmablast               0.00000     1.00000"
      ]
     },
     "execution_count": 239,
     "metadata": {},
     "output_type": "execute_result"
    }
   ],
   "source": [
    "df_stats = pd.DataFrame([p_thymus, p_blood], index=['Thymus', 'Peripheral'], columns=list_label).T\n",
    "df_stats"
   ]
  },
  {
   "cell_type": "code",
   "execution_count": 240,
   "id": "4fd87007",
   "metadata": {},
   "outputs": [
    {
     "data": {
      "text/html": [
       "<div>\n",
       "<style scoped>\n",
       "    .dataframe tbody tr th:only-of-type {\n",
       "        vertical-align: middle;\n",
       "    }\n",
       "\n",
       "    .dataframe tbody tr th {\n",
       "        vertical-align: top;\n",
       "    }\n",
       "\n",
       "    .dataframe thead th {\n",
       "        text-align: right;\n",
       "    }\n",
       "</style>\n",
       "<table border=\"1\" class=\"dataframe\">\n",
       "  <thead>\n",
       "    <tr style=\"text-align: right;\">\n",
       "      <th></th>\n",
       "      <th>mean</th>\n",
       "      <th>sd</th>\n",
       "      <th>hdi_1%</th>\n",
       "      <th>hdi_99%</th>\n",
       "      <th>mcse_mean</th>\n",
       "      <th>mcse_sd</th>\n",
       "      <th>ess_bulk</th>\n",
       "      <th>ess_tail</th>\n",
       "      <th>r_hat</th>\n",
       "    </tr>\n",
       "  </thead>\n",
       "  <tbody>\n",
       "    <tr>\n",
       "      <th>p_thymus[0]</th>\n",
       "      <td>0.361</td>\n",
       "      <td>0.016</td>\n",
       "      <td>0.324</td>\n",
       "      <td>0.397</td>\n",
       "      <td>0.0</td>\n",
       "      <td>0.0</td>\n",
       "      <td>136130.0</td>\n",
       "      <td>77697.0</td>\n",
       "      <td>1.0</td>\n",
       "    </tr>\n",
       "    <tr>\n",
       "      <th>p_thymus[1]</th>\n",
       "      <td>0.077</td>\n",
       "      <td>0.009</td>\n",
       "      <td>0.057</td>\n",
       "      <td>0.097</td>\n",
       "      <td>0.0</td>\n",
       "      <td>0.0</td>\n",
       "      <td>132623.0</td>\n",
       "      <td>77080.0</td>\n",
       "      <td>1.0</td>\n",
       "    </tr>\n",
       "    <tr>\n",
       "      <th>p_thymus[2]</th>\n",
       "      <td>0.067</td>\n",
       "      <td>0.008</td>\n",
       "      <td>0.049</td>\n",
       "      <td>0.087</td>\n",
       "      <td>0.0</td>\n",
       "      <td>0.0</td>\n",
       "      <td>141591.0</td>\n",
       "      <td>75982.0</td>\n",
       "      <td>1.0</td>\n",
       "    </tr>\n",
       "    <tr>\n",
       "      <th>p_thymus[3]</th>\n",
       "      <td>0.175</td>\n",
       "      <td>0.012</td>\n",
       "      <td>0.146</td>\n",
       "      <td>0.204</td>\n",
       "      <td>0.0</td>\n",
       "      <td>0.0</td>\n",
       "      <td>138983.0</td>\n",
       "      <td>75272.0</td>\n",
       "      <td>1.0</td>\n",
       "    </tr>\n",
       "    <tr>\n",
       "      <th>p_thymus[4]</th>\n",
       "      <td>0.164</td>\n",
       "      <td>0.012</td>\n",
       "      <td>0.136</td>\n",
       "      <td>0.192</td>\n",
       "      <td>0.0</td>\n",
       "      <td>0.0</td>\n",
       "      <td>125838.0</td>\n",
       "      <td>73620.0</td>\n",
       "      <td>1.0</td>\n",
       "    </tr>\n",
       "    <tr>\n",
       "      <th>p_thymus[5]</th>\n",
       "      <td>0.042</td>\n",
       "      <td>0.007</td>\n",
       "      <td>0.028</td>\n",
       "      <td>0.058</td>\n",
       "      <td>0.0</td>\n",
       "      <td>0.0</td>\n",
       "      <td>132841.0</td>\n",
       "      <td>74348.0</td>\n",
       "      <td>1.0</td>\n",
       "    </tr>\n",
       "    <tr>\n",
       "      <th>p_thymus[6]</th>\n",
       "      <td>0.037</td>\n",
       "      <td>0.006</td>\n",
       "      <td>0.023</td>\n",
       "      <td>0.051</td>\n",
       "      <td>0.0</td>\n",
       "      <td>0.0</td>\n",
       "      <td>130789.0</td>\n",
       "      <td>75342.0</td>\n",
       "      <td>1.0</td>\n",
       "    </tr>\n",
       "    <tr>\n",
       "      <th>p_thymus[7]</th>\n",
       "      <td>0.084</td>\n",
       "      <td>0.009</td>\n",
       "      <td>0.064</td>\n",
       "      <td>0.106</td>\n",
       "      <td>0.0</td>\n",
       "      <td>0.0</td>\n",
       "      <td>137429.0</td>\n",
       "      <td>74883.0</td>\n",
       "      <td>1.0</td>\n",
       "    </tr>\n",
       "    <tr>\n",
       "      <th>p_blood[0]</th>\n",
       "      <td>0.555</td>\n",
       "      <td>0.005</td>\n",
       "      <td>0.543</td>\n",
       "      <td>0.567</td>\n",
       "      <td>0.0</td>\n",
       "      <td>0.0</td>\n",
       "      <td>141968.0</td>\n",
       "      <td>78130.0</td>\n",
       "      <td>1.0</td>\n",
       "    </tr>\n",
       "    <tr>\n",
       "      <th>p_blood[1]</th>\n",
       "      <td>0.036</td>\n",
       "      <td>0.002</td>\n",
       "      <td>0.031</td>\n",
       "      <td>0.040</td>\n",
       "      <td>0.0</td>\n",
       "      <td>0.0</td>\n",
       "      <td>142185.0</td>\n",
       "      <td>74696.0</td>\n",
       "      <td>1.0</td>\n",
       "    </tr>\n",
       "    <tr>\n",
       "      <th>p_blood[2]</th>\n",
       "      <td>0.019</td>\n",
       "      <td>0.001</td>\n",
       "      <td>0.016</td>\n",
       "      <td>0.022</td>\n",
       "      <td>0.0</td>\n",
       "      <td>0.0</td>\n",
       "      <td>144062.0</td>\n",
       "      <td>75693.0</td>\n",
       "      <td>1.0</td>\n",
       "    </tr>\n",
       "    <tr>\n",
       "      <th>p_blood[3]</th>\n",
       "      <td>0.023</td>\n",
       "      <td>0.002</td>\n",
       "      <td>0.020</td>\n",
       "      <td>0.027</td>\n",
       "      <td>0.0</td>\n",
       "      <td>0.0</td>\n",
       "      <td>138853.0</td>\n",
       "      <td>75524.0</td>\n",
       "      <td>1.0</td>\n",
       "    </tr>\n",
       "    <tr>\n",
       "      <th>p_blood[4]</th>\n",
       "      <td>0.168</td>\n",
       "      <td>0.004</td>\n",
       "      <td>0.159</td>\n",
       "      <td>0.177</td>\n",
       "      <td>0.0</td>\n",
       "      <td>0.0</td>\n",
       "      <td>142264.0</td>\n",
       "      <td>77256.0</td>\n",
       "      <td>1.0</td>\n",
       "    </tr>\n",
       "    <tr>\n",
       "      <th>p_blood[5]</th>\n",
       "      <td>0.112</td>\n",
       "      <td>0.003</td>\n",
       "      <td>0.104</td>\n",
       "      <td>0.120</td>\n",
       "      <td>0.0</td>\n",
       "      <td>0.0</td>\n",
       "      <td>142804.0</td>\n",
       "      <td>75944.0</td>\n",
       "      <td>1.0</td>\n",
       "    </tr>\n",
       "    <tr>\n",
       "      <th>p_blood[6]</th>\n",
       "      <td>0.058</td>\n",
       "      <td>0.002</td>\n",
       "      <td>0.052</td>\n",
       "      <td>0.064</td>\n",
       "      <td>0.0</td>\n",
       "      <td>0.0</td>\n",
       "      <td>132214.0</td>\n",
       "      <td>76107.0</td>\n",
       "      <td>1.0</td>\n",
       "    </tr>\n",
       "    <tr>\n",
       "      <th>p_blood[7]</th>\n",
       "      <td>0.030</td>\n",
       "      <td>0.002</td>\n",
       "      <td>0.026</td>\n",
       "      <td>0.034</td>\n",
       "      <td>0.0</td>\n",
       "      <td>0.0</td>\n",
       "      <td>136444.0</td>\n",
       "      <td>76769.0</td>\n",
       "      <td>1.0</td>\n",
       "    </tr>\n",
       "    <tr>\n",
       "      <th>p[0]</th>\n",
       "      <td>-0.194</td>\n",
       "      <td>0.017</td>\n",
       "      <td>-0.232</td>\n",
       "      <td>-0.155</td>\n",
       "      <td>0.0</td>\n",
       "      <td>0.0</td>\n",
       "      <td>136969.0</td>\n",
       "      <td>77006.0</td>\n",
       "      <td>1.0</td>\n",
       "    </tr>\n",
       "    <tr>\n",
       "      <th>p[1]</th>\n",
       "      <td>0.041</td>\n",
       "      <td>0.009</td>\n",
       "      <td>0.021</td>\n",
       "      <td>0.062</td>\n",
       "      <td>0.0</td>\n",
       "      <td>0.0</td>\n",
       "      <td>133536.0</td>\n",
       "      <td>76828.0</td>\n",
       "      <td>1.0</td>\n",
       "    </tr>\n",
       "    <tr>\n",
       "      <th>p[2]</th>\n",
       "      <td>0.048</td>\n",
       "      <td>0.008</td>\n",
       "      <td>0.030</td>\n",
       "      <td>0.068</td>\n",
       "      <td>0.0</td>\n",
       "      <td>0.0</td>\n",
       "      <td>142242.0</td>\n",
       "      <td>77196.0</td>\n",
       "      <td>1.0</td>\n",
       "    </tr>\n",
       "    <tr>\n",
       "      <th>p[3]</th>\n",
       "      <td>0.151</td>\n",
       "      <td>0.012</td>\n",
       "      <td>0.123</td>\n",
       "      <td>0.181</td>\n",
       "      <td>0.0</td>\n",
       "      <td>0.0</td>\n",
       "      <td>139202.0</td>\n",
       "      <td>76436.0</td>\n",
       "      <td>1.0</td>\n",
       "    </tr>\n",
       "    <tr>\n",
       "      <th>p[4]</th>\n",
       "      <td>-0.004</td>\n",
       "      <td>0.013</td>\n",
       "      <td>-0.033</td>\n",
       "      <td>0.026</td>\n",
       "      <td>0.0</td>\n",
       "      <td>0.0</td>\n",
       "      <td>126514.0</td>\n",
       "      <td>74767.0</td>\n",
       "      <td>1.0</td>\n",
       "    </tr>\n",
       "    <tr>\n",
       "      <th>p[5]</th>\n",
       "      <td>-0.070</td>\n",
       "      <td>0.007</td>\n",
       "      <td>-0.087</td>\n",
       "      <td>-0.052</td>\n",
       "      <td>0.0</td>\n",
       "      <td>0.0</td>\n",
       "      <td>132767.0</td>\n",
       "      <td>76335.0</td>\n",
       "      <td>1.0</td>\n",
       "    </tr>\n",
       "    <tr>\n",
       "      <th>p[6]</th>\n",
       "      <td>-0.021</td>\n",
       "      <td>0.007</td>\n",
       "      <td>-0.036</td>\n",
       "      <td>-0.005</td>\n",
       "      <td>0.0</td>\n",
       "      <td>0.0</td>\n",
       "      <td>131672.0</td>\n",
       "      <td>73943.0</td>\n",
       "      <td>1.0</td>\n",
       "    </tr>\n",
       "    <tr>\n",
       "      <th>p[7]</th>\n",
       "      <td>0.054</td>\n",
       "      <td>0.009</td>\n",
       "      <td>0.033</td>\n",
       "      <td>0.076</td>\n",
       "      <td>0.0</td>\n",
       "      <td>0.0</td>\n",
       "      <td>137748.0</td>\n",
       "      <td>75885.0</td>\n",
       "      <td>1.0</td>\n",
       "    </tr>\n",
       "  </tbody>\n",
       "</table>\n",
       "</div>"
      ],
      "text/plain": [
       "              mean     sd  hdi_1%  hdi_99%  mcse_mean  mcse_sd  ess_bulk  \\\n",
       "p_thymus[0]  0.361  0.016   0.324    0.397        0.0      0.0  136130.0   \n",
       "p_thymus[1]  0.077  0.009   0.057    0.097        0.0      0.0  132623.0   \n",
       "p_thymus[2]  0.067  0.008   0.049    0.087        0.0      0.0  141591.0   \n",
       "p_thymus[3]  0.175  0.012   0.146    0.204        0.0      0.0  138983.0   \n",
       "p_thymus[4]  0.164  0.012   0.136    0.192        0.0      0.0  125838.0   \n",
       "p_thymus[5]  0.042  0.007   0.028    0.058        0.0      0.0  132841.0   \n",
       "p_thymus[6]  0.037  0.006   0.023    0.051        0.0      0.0  130789.0   \n",
       "p_thymus[7]  0.084  0.009   0.064    0.106        0.0      0.0  137429.0   \n",
       "p_blood[0]   0.555  0.005   0.543    0.567        0.0      0.0  141968.0   \n",
       "p_blood[1]   0.036  0.002   0.031    0.040        0.0      0.0  142185.0   \n",
       "p_blood[2]   0.019  0.001   0.016    0.022        0.0      0.0  144062.0   \n",
       "p_blood[3]   0.023  0.002   0.020    0.027        0.0      0.0  138853.0   \n",
       "p_blood[4]   0.168  0.004   0.159    0.177        0.0      0.0  142264.0   \n",
       "p_blood[5]   0.112  0.003   0.104    0.120        0.0      0.0  142804.0   \n",
       "p_blood[6]   0.058  0.002   0.052    0.064        0.0      0.0  132214.0   \n",
       "p_blood[7]   0.030  0.002   0.026    0.034        0.0      0.0  136444.0   \n",
       "p[0]        -0.194  0.017  -0.232   -0.155        0.0      0.0  136969.0   \n",
       "p[1]         0.041  0.009   0.021    0.062        0.0      0.0  133536.0   \n",
       "p[2]         0.048  0.008   0.030    0.068        0.0      0.0  142242.0   \n",
       "p[3]         0.151  0.012   0.123    0.181        0.0      0.0  139202.0   \n",
       "p[4]        -0.004  0.013  -0.033    0.026        0.0      0.0  126514.0   \n",
       "p[5]        -0.070  0.007  -0.087   -0.052        0.0      0.0  132767.0   \n",
       "p[6]        -0.021  0.007  -0.036   -0.005        0.0      0.0  131672.0   \n",
       "p[7]         0.054  0.009   0.033    0.076        0.0      0.0  137748.0   \n",
       "\n",
       "             ess_tail  r_hat  \n",
       "p_thymus[0]   77697.0    1.0  \n",
       "p_thymus[1]   77080.0    1.0  \n",
       "p_thymus[2]   75982.0    1.0  \n",
       "p_thymus[3]   75272.0    1.0  \n",
       "p_thymus[4]   73620.0    1.0  \n",
       "p_thymus[5]   74348.0    1.0  \n",
       "p_thymus[6]   75342.0    1.0  \n",
       "p_thymus[7]   74883.0    1.0  \n",
       "p_blood[0]    78130.0    1.0  \n",
       "p_blood[1]    74696.0    1.0  \n",
       "p_blood[2]    75693.0    1.0  \n",
       "p_blood[3]    75524.0    1.0  \n",
       "p_blood[4]    77256.0    1.0  \n",
       "p_blood[5]    75944.0    1.0  \n",
       "p_blood[6]    76107.0    1.0  \n",
       "p_blood[7]    76769.0    1.0  \n",
       "p[0]          77006.0    1.0  \n",
       "p[1]          76828.0    1.0  \n",
       "p[2]          77196.0    1.0  \n",
       "p[3]          76436.0    1.0  \n",
       "p[4]          74767.0    1.0  \n",
       "p[5]          76335.0    1.0  \n",
       "p[6]          73943.0    1.0  \n",
       "p[7]          75885.0    1.0  "
      ]
     },
     "execution_count": 240,
     "metadata": {},
     "output_type": "execute_result"
    }
   ],
   "source": [
    "df_summary = pm.summary(trace, hdi_prob=0.98)\n",
    "df_summary"
   ]
  },
  {
   "cell_type": "code",
   "execution_count": 241,
   "id": "45dc348c",
   "metadata": {},
   "outputs": [],
   "source": [
    "df_summary_thymus = df_summary.loc[[x for x in df_summary.index if 'p_thymus' in x]]\n",
    "df_summary_thymus.index = list_label\n",
    "\n",
    "df_summary_blood = df_summary.loc[[x for x in df_summary.index if 'p_blood' in x]]\n",
    "df_summary_blood.index = list_label"
   ]
  },
  {
   "cell_type": "code",
   "execution_count": 242,
   "id": "e8d2083b",
   "metadata": {},
   "outputs": [
    {
     "data": {
      "text/html": [
       "<div>\n",
       "<style scoped>\n",
       "    .dataframe tbody tr th:only-of-type {\n",
       "        vertical-align: middle;\n",
       "    }\n",
       "\n",
       "    .dataframe tbody tr th {\n",
       "        vertical-align: top;\n",
       "    }\n",
       "\n",
       "    .dataframe thead th {\n",
       "        text-align: right;\n",
       "    }\n",
       "</style>\n",
       "<table border=\"1\" class=\"dataframe\">\n",
       "  <thead>\n",
       "    <tr style=\"text-align: right;\">\n",
       "      <th></th>\n",
       "      <th>mean</th>\n",
       "      <th>sd</th>\n",
       "      <th>hdi_1%</th>\n",
       "      <th>hdi_99%</th>\n",
       "      <th>mcse_mean</th>\n",
       "      <th>mcse_sd</th>\n",
       "      <th>ess_bulk</th>\n",
       "      <th>ess_tail</th>\n",
       "      <th>r_hat</th>\n",
       "    </tr>\n",
       "  </thead>\n",
       "  <tbody>\n",
       "    <tr>\n",
       "      <th>Naive B cell</th>\n",
       "      <td>0.361</td>\n",
       "      <td>0.016</td>\n",
       "      <td>0.324</td>\n",
       "      <td>0.397</td>\n",
       "      <td>0.0</td>\n",
       "      <td>0.0</td>\n",
       "      <td>136130.0</td>\n",
       "      <td>77697.0</td>\n",
       "      <td>1.0</td>\n",
       "    </tr>\n",
       "    <tr>\n",
       "      <th>Pre GC B cell</th>\n",
       "      <td>0.077</td>\n",
       "      <td>0.009</td>\n",
       "      <td>0.057</td>\n",
       "      <td>0.097</td>\n",
       "      <td>0.0</td>\n",
       "      <td>0.0</td>\n",
       "      <td>132623.0</td>\n",
       "      <td>77080.0</td>\n",
       "      <td>1.0</td>\n",
       "    </tr>\n",
       "    <tr>\n",
       "      <th>GC B cell</th>\n",
       "      <td>0.067</td>\n",
       "      <td>0.008</td>\n",
       "      <td>0.049</td>\n",
       "      <td>0.087</td>\n",
       "      <td>0.0</td>\n",
       "      <td>0.0</td>\n",
       "      <td>141591.0</td>\n",
       "      <td>75982.0</td>\n",
       "      <td>1.0</td>\n",
       "    </tr>\n",
       "    <tr>\n",
       "      <th>Thymic memory B cell</th>\n",
       "      <td>0.175</td>\n",
       "      <td>0.012</td>\n",
       "      <td>0.146</td>\n",
       "      <td>0.204</td>\n",
       "      <td>0.0</td>\n",
       "      <td>0.0</td>\n",
       "      <td>138983.0</td>\n",
       "      <td>75272.0</td>\n",
       "      <td>1.0</td>\n",
       "    </tr>\n",
       "    <tr>\n",
       "      <th>Unswitched memory B cell</th>\n",
       "      <td>0.164</td>\n",
       "      <td>0.012</td>\n",
       "      <td>0.136</td>\n",
       "      <td>0.192</td>\n",
       "      <td>0.0</td>\n",
       "      <td>0.0</td>\n",
       "      <td>125838.0</td>\n",
       "      <td>73620.0</td>\n",
       "      <td>1.0</td>\n",
       "    </tr>\n",
       "    <tr>\n",
       "      <th>Memory B cell (I)</th>\n",
       "      <td>0.042</td>\n",
       "      <td>0.007</td>\n",
       "      <td>0.028</td>\n",
       "      <td>0.058</td>\n",
       "      <td>0.0</td>\n",
       "      <td>0.0</td>\n",
       "      <td>132841.0</td>\n",
       "      <td>74348.0</td>\n",
       "      <td>1.0</td>\n",
       "    </tr>\n",
       "    <tr>\n",
       "      <th>Memory B cell (II)</th>\n",
       "      <td>0.037</td>\n",
       "      <td>0.006</td>\n",
       "      <td>0.023</td>\n",
       "      <td>0.051</td>\n",
       "      <td>0.0</td>\n",
       "      <td>0.0</td>\n",
       "      <td>130789.0</td>\n",
       "      <td>75342.0</td>\n",
       "      <td>1.0</td>\n",
       "    </tr>\n",
       "    <tr>\n",
       "      <th>Plasmablast</th>\n",
       "      <td>0.084</td>\n",
       "      <td>0.009</td>\n",
       "      <td>0.064</td>\n",
       "      <td>0.106</td>\n",
       "      <td>0.0</td>\n",
       "      <td>0.0</td>\n",
       "      <td>137429.0</td>\n",
       "      <td>74883.0</td>\n",
       "      <td>1.0</td>\n",
       "    </tr>\n",
       "  </tbody>\n",
       "</table>\n",
       "</div>"
      ],
      "text/plain": [
       "                           mean     sd  hdi_1%  hdi_99%  mcse_mean  mcse_sd  \\\n",
       "Naive B cell              0.361  0.016   0.324    0.397        0.0      0.0   \n",
       "Pre GC B cell             0.077  0.009   0.057    0.097        0.0      0.0   \n",
       "GC B cell                 0.067  0.008   0.049    0.087        0.0      0.0   \n",
       "Thymic memory B cell      0.175  0.012   0.146    0.204        0.0      0.0   \n",
       "Unswitched memory B cell  0.164  0.012   0.136    0.192        0.0      0.0   \n",
       "Memory B cell (I)         0.042  0.007   0.028    0.058        0.0      0.0   \n",
       "Memory B cell (II)        0.037  0.006   0.023    0.051        0.0      0.0   \n",
       "Plasmablast               0.084  0.009   0.064    0.106        0.0      0.0   \n",
       "\n",
       "                          ess_bulk  ess_tail  r_hat  \n",
       "Naive B cell              136130.0   77697.0    1.0  \n",
       "Pre GC B cell             132623.0   77080.0    1.0  \n",
       "GC B cell                 141591.0   75982.0    1.0  \n",
       "Thymic memory B cell      138983.0   75272.0    1.0  \n",
       "Unswitched memory B cell  125838.0   73620.0    1.0  \n",
       "Memory B cell (I)         132841.0   74348.0    1.0  \n",
       "Memory B cell (II)        130789.0   75342.0    1.0  \n",
       "Plasmablast               137429.0   74883.0    1.0  "
      ]
     },
     "execution_count": 242,
     "metadata": {},
     "output_type": "execute_result"
    }
   ],
   "source": [
    "df_summary_thymus"
   ]
  },
  {
   "cell_type": "code",
   "execution_count": 243,
   "id": "2377e62e",
   "metadata": {},
   "outputs": [
    {
     "data": {
      "text/html": [
       "<div>\n",
       "<style scoped>\n",
       "    .dataframe tbody tr th:only-of-type {\n",
       "        vertical-align: middle;\n",
       "    }\n",
       "\n",
       "    .dataframe tbody tr th {\n",
       "        vertical-align: top;\n",
       "    }\n",
       "\n",
       "    .dataframe thead th {\n",
       "        text-align: right;\n",
       "    }\n",
       "</style>\n",
       "<table border=\"1\" class=\"dataframe\">\n",
       "  <thead>\n",
       "    <tr style=\"text-align: right;\">\n",
       "      <th></th>\n",
       "      <th>mean</th>\n",
       "      <th>sd</th>\n",
       "      <th>hdi_1%</th>\n",
       "      <th>hdi_99%</th>\n",
       "      <th>mcse_mean</th>\n",
       "      <th>mcse_sd</th>\n",
       "      <th>ess_bulk</th>\n",
       "      <th>ess_tail</th>\n",
       "      <th>r_hat</th>\n",
       "    </tr>\n",
       "  </thead>\n",
       "  <tbody>\n",
       "    <tr>\n",
       "      <th>Naive B cell</th>\n",
       "      <td>0.555</td>\n",
       "      <td>0.005</td>\n",
       "      <td>0.543</td>\n",
       "      <td>0.567</td>\n",
       "      <td>0.0</td>\n",
       "      <td>0.0</td>\n",
       "      <td>141968.0</td>\n",
       "      <td>78130.0</td>\n",
       "      <td>1.0</td>\n",
       "    </tr>\n",
       "    <tr>\n",
       "      <th>Pre GC B cell</th>\n",
       "      <td>0.036</td>\n",
       "      <td>0.002</td>\n",
       "      <td>0.031</td>\n",
       "      <td>0.040</td>\n",
       "      <td>0.0</td>\n",
       "      <td>0.0</td>\n",
       "      <td>142185.0</td>\n",
       "      <td>74696.0</td>\n",
       "      <td>1.0</td>\n",
       "    </tr>\n",
       "    <tr>\n",
       "      <th>GC B cell</th>\n",
       "      <td>0.019</td>\n",
       "      <td>0.001</td>\n",
       "      <td>0.016</td>\n",
       "      <td>0.022</td>\n",
       "      <td>0.0</td>\n",
       "      <td>0.0</td>\n",
       "      <td>144062.0</td>\n",
       "      <td>75693.0</td>\n",
       "      <td>1.0</td>\n",
       "    </tr>\n",
       "    <tr>\n",
       "      <th>Thymic memory B cell</th>\n",
       "      <td>0.023</td>\n",
       "      <td>0.002</td>\n",
       "      <td>0.020</td>\n",
       "      <td>0.027</td>\n",
       "      <td>0.0</td>\n",
       "      <td>0.0</td>\n",
       "      <td>138853.0</td>\n",
       "      <td>75524.0</td>\n",
       "      <td>1.0</td>\n",
       "    </tr>\n",
       "    <tr>\n",
       "      <th>Unswitched memory B cell</th>\n",
       "      <td>0.168</td>\n",
       "      <td>0.004</td>\n",
       "      <td>0.159</td>\n",
       "      <td>0.177</td>\n",
       "      <td>0.0</td>\n",
       "      <td>0.0</td>\n",
       "      <td>142264.0</td>\n",
       "      <td>77256.0</td>\n",
       "      <td>1.0</td>\n",
       "    </tr>\n",
       "    <tr>\n",
       "      <th>Memory B cell (I)</th>\n",
       "      <td>0.112</td>\n",
       "      <td>0.003</td>\n",
       "      <td>0.104</td>\n",
       "      <td>0.120</td>\n",
       "      <td>0.0</td>\n",
       "      <td>0.0</td>\n",
       "      <td>142804.0</td>\n",
       "      <td>75944.0</td>\n",
       "      <td>1.0</td>\n",
       "    </tr>\n",
       "    <tr>\n",
       "      <th>Memory B cell (II)</th>\n",
       "      <td>0.058</td>\n",
       "      <td>0.002</td>\n",
       "      <td>0.052</td>\n",
       "      <td>0.064</td>\n",
       "      <td>0.0</td>\n",
       "      <td>0.0</td>\n",
       "      <td>132214.0</td>\n",
       "      <td>76107.0</td>\n",
       "      <td>1.0</td>\n",
       "    </tr>\n",
       "    <tr>\n",
       "      <th>Plasmablast</th>\n",
       "      <td>0.030</td>\n",
       "      <td>0.002</td>\n",
       "      <td>0.026</td>\n",
       "      <td>0.034</td>\n",
       "      <td>0.0</td>\n",
       "      <td>0.0</td>\n",
       "      <td>136444.0</td>\n",
       "      <td>76769.0</td>\n",
       "      <td>1.0</td>\n",
       "    </tr>\n",
       "  </tbody>\n",
       "</table>\n",
       "</div>"
      ],
      "text/plain": [
       "                           mean     sd  hdi_1%  hdi_99%  mcse_mean  mcse_sd  \\\n",
       "Naive B cell              0.555  0.005   0.543    0.567        0.0      0.0   \n",
       "Pre GC B cell             0.036  0.002   0.031    0.040        0.0      0.0   \n",
       "GC B cell                 0.019  0.001   0.016    0.022        0.0      0.0   \n",
       "Thymic memory B cell      0.023  0.002   0.020    0.027        0.0      0.0   \n",
       "Unswitched memory B cell  0.168  0.004   0.159    0.177        0.0      0.0   \n",
       "Memory B cell (I)         0.112  0.003   0.104    0.120        0.0      0.0   \n",
       "Memory B cell (II)        0.058  0.002   0.052    0.064        0.0      0.0   \n",
       "Plasmablast               0.030  0.002   0.026    0.034        0.0      0.0   \n",
       "\n",
       "                          ess_bulk  ess_tail  r_hat  \n",
       "Naive B cell              141968.0   78130.0    1.0  \n",
       "Pre GC B cell             142185.0   74696.0    1.0  \n",
       "GC B cell                 144062.0   75693.0    1.0  \n",
       "Thymic memory B cell      138853.0   75524.0    1.0  \n",
       "Unswitched memory B cell  142264.0   77256.0    1.0  \n",
       "Memory B cell (I)         142804.0   75944.0    1.0  \n",
       "Memory B cell (II)        132214.0   76107.0    1.0  \n",
       "Plasmablast               136444.0   76769.0    1.0  "
      ]
     },
     "execution_count": 243,
     "metadata": {},
     "output_type": "execute_result"
    }
   ],
   "source": [
    "df_summary_blood"
   ]
  },
  {
   "cell_type": "code",
   "execution_count": 245,
   "id": "b7c444f8",
   "metadata": {},
   "outputs": [
    {
     "data": {
      "text/plain": [
       "<Figure size 320x200 with 1 Axes>"
      ]
     },
     "metadata": {
      "image/png": {
       "height": 473,
       "width": 348
      }
     },
     "output_type": "display_data"
    }
   ],
   "source": [
    "plt.figure(figsize=(4,2.5))\n",
    "plt.scatter(np.array(range(len(list_label)))-0.1, df_summary_thymus['mean'], c='tab:blue', label='Thymus')\n",
    "plt.scatter(np.array(range(len(list_label)))+0.1, df_summary_blood['mean'], c='tab:orange', label='Periphery')\n",
    "\n",
    "for i,lab in enumerate(list_label):\n",
    "    plt.plot([i-0.1, i-0.1],[df_summary_thymus.loc[lab,'hdi_1%'],df_summary_thymus.loc[lab,'hdi_99%']], c='tab:blue')\n",
    "    plt.plot([i+0.1, i+0.1],[df_summary_blood.loc[lab,'hdi_1%'],df_summary_blood.loc[lab,'hdi_99%']], c='tab:orange')\n",
    "    \n",
    "plt.xticks(ticks=range(len(list_label)), labels=list_label, rotation=90)\n",
    "plt.ylabel('Cell propotion')\n",
    "plt.legend()\n",
    "plt.savefig(str(sc.settings.figdir) + '/forest_hdi1%99%.pdf', bbox_inches='tight')"
   ]
  },
  {
   "cell_type": "code",
   "execution_count": null,
   "id": "49f35776",
   "metadata": {},
   "outputs": [],
   "source": []
  },
  {
   "cell_type": "code",
   "execution_count": 147,
   "id": "ca5b7933",
   "metadata": {},
   "outputs": [
    {
     "name": "stderr",
     "output_type": "stream",
     "text": [
      "running PAGA\n",
      "    finished: added\n",
      "    'paga/connectivities', connectivities adjacency (adata.uns)\n",
      "    'paga/connectivities_tree', connectivities subtree (adata.uns) (0:00:00)\n"
     ]
    }
   ],
   "source": [
    "sc.tl.paga(adata, groups='Bcell_cluster')"
   ]
  },
  {
   "cell_type": "code",
   "execution_count": 148,
   "id": "246ac7b0",
   "metadata": {},
   "outputs": [
    {
     "name": "stderr",
     "output_type": "stream",
     "text": [
      "--> added 'pos', the PAGA positions (adata.uns['paga'])\n",
      "WARNING: saving figure to file scanpy/210430_merged_thymoma_MG21.22.23.03_Bcell/graph/pagabcell_cluster.pdf\n"
     ]
    },
    {
     "data": {
      "text/plain": [
       "<Figure size 297.68x320 with 1 Axes>"
      ]
     },
     "metadata": {
      "image/png": {
       "height": 281,
       "width": 417
      }
     },
     "output_type": "display_data"
    }
   ],
   "source": [
    "sc.pl.paga(adata, threshold=0.5, save='bcell_cluster')"
   ]
  },
  {
   "cell_type": "code",
   "execution_count": 117,
   "id": "89433fe8",
   "metadata": {},
   "outputs": [
    {
     "name": "stderr",
     "output_type": "stream",
     "text": [
      "Storing dendrogram info using `.uns['dendrogram_Bcell_cluster']`\n",
      "WARNING: saving figure to file scanpy/210711_merged_thymoma_MG21.22.23.03_Bcell/graph/matrixplot_Igclass.pdf\n"
     ]
    },
    {
     "data": {
      "text/plain": [
       "<Figure size 450.4x304 with 4 Axes>"
      ]
     },
     "metadata": {},
     "output_type": "display_data"
    }
   ],
   "source": [
    "list_ig = ['IGHM', 'IGHD', 'IGHA1', 'IGHA2', 'IGHG1', 'IGHG2', 'IGHG3', 'IGHG4', 'IGHE']\n",
    "sc.tl.dendrogram(adata, 'Bcell_cluster', var_names=list_ig)\n",
    "sc.pl.matrixplot(adata, list_ig, \n",
    "              groupby='Bcell_cluster', dendrogram=True, save='Igclass')"
   ]
  },
  {
   "cell_type": "code",
   "execution_count": 23,
   "id": "4c020c38",
   "metadata": {},
   "outputs": [],
   "source": [
    "df_marker = pd.read_csv('./210430_clusters/markergenes_manual.csv', index_col=0)\n",
    "df_marker = df_marker.loc[list_label]\n",
    "\n",
    "dict_markers = {pos:[row[0], row[1], row[2], row[3], row[4]] for pos,row in df_marker.iterrows()}"
   ]
  },
  {
   "cell_type": "code",
   "execution_count": 24,
   "id": "590e122a",
   "metadata": {},
   "outputs": [
    {
     "name": "stderr",
     "output_type": "stream",
     "text": [
      "WARNING: saving figure to file scanpy/210711_merged_thymoma_MG21.22.23.03_Bcell/graph/dotplot_minor_manual_5.pdf\n"
     ]
    },
    {
     "data": {
      "text/plain": [
       "<Figure size 1304x304 with 5 Axes>"
      ]
     },
     "metadata": {},
     "output_type": "display_data"
    }
   ],
   "source": [
    "sc.pl.dotplot(adata, dict_markers, 'Bcell_cluster', categories_order=list_label, dendrogram=False, save='minor_manual_5')"
   ]
  },
  {
   "cell_type": "code",
   "execution_count": 21,
   "id": "0ad3bed3",
   "metadata": {},
   "outputs": [],
   "source": [
    "df_marker = pd.read_csv('./210430_clusters/markergenes_manual.csv', index_col=0)\n",
    "df_marker = df_marker.loc[list_label]\n",
    "\n",
    "dict_markers = {pos:[row[0], row[1], row[2]] for pos,row in df_marker.iterrows()}"
   ]
  },
  {
   "cell_type": "code",
   "execution_count": 22,
   "id": "afcb219f",
   "metadata": {},
   "outputs": [
    {
     "name": "stderr",
     "output_type": "stream",
     "text": [
      "WARNING: saving figure to file scanpy/210711_merged_thymoma_MG21.22.23.03_Bcell/graph/dotplot_minor_manual_3_vert.pdf\n"
     ]
    },
    {
     "data": {
      "text/plain": [
       "<Figure size 356.8x752 with 5 Axes>"
      ]
     },
     "metadata": {},
     "output_type": "display_data"
    }
   ],
   "source": [
    "sc.pl.dotplot(adata, dict_markers, 'Bcell_cluster', categories_order=list_label, dendrogram=False, swap_axes=True, \n",
    "              save='minor_manual_3_vert')"
   ]
  },
  {
   "cell_type": "code",
   "execution_count": null,
   "id": "b5744d9d",
   "metadata": {},
   "outputs": [],
   "source": []
  },
  {
   "cell_type": "code",
   "execution_count": null,
   "id": "c20215e8",
   "metadata": {},
   "outputs": [],
   "source": []
  },
  {
   "cell_type": "markdown",
   "id": "2b613081",
   "metadata": {},
   "source": [
    "## plasma"
   ]
  },
  {
   "cell_type": "code",
   "execution_count": 3,
   "id": "b5abdc8f",
   "metadata": {},
   "outputs": [],
   "source": [
    "adata = sc.read(results_file_Bcell)"
   ]
  },
  {
   "cell_type": "code",
   "execution_count": 4,
   "id": "805bb674",
   "metadata": {},
   "outputs": [],
   "source": [
    "list_label = ['Naive B cell', \n",
    "              'Pre GC B cell', 'GC B cell', 'Thymic memory B cell', 'Unswitched memory B cell',\n",
    "              'Memory B cell (I)', 'Memory B cell (II)', 'Plasmablast']"
   ]
  },
  {
   "cell_type": "code",
   "execution_count": 12,
   "id": "7270fe0c",
   "metadata": {},
   "outputs": [
    {
     "data": {
      "text/plain": [
       "<Figure size 297.6x304 with 4 Axes>"
      ]
     },
     "metadata": {},
     "output_type": "display_data"
    }
   ],
   "source": [
    "sc.pl.dotplot(adata, ['CD19', 'MS4A1', 'CD38', 'SDC1', 'CXCR4', 'PRDM1'], \n",
    "              'Bcell_cluster', categories_order=list_label, dendrogram=False, save=False)"
   ]
  },
  {
   "cell_type": "code",
   "execution_count": 43,
   "id": "002f53b9",
   "metadata": {},
   "outputs": [
    {
     "data": {
      "text/plain": [
       "<Figure size 386.4x304 with 4 Axes>"
      ]
     },
     "metadata": {},
     "output_type": "display_data"
    }
   ],
   "source": [
    "sc.pl.dotplot(adata, ['CD19', 'MS4A1', 'CD38', 'SDC1', 'CXCR4', 'PAX5', 'IRF4', 'XBP1', 'PRDM1'], \n",
    "              'Bcell_cluster', categories_order=list_label, dendrogram=False, save=False)"
   ]
  },
  {
   "cell_type": "code",
   "execution_count": 44,
   "id": "9c68d89b",
   "metadata": {},
   "outputs": [
    {
     "name": "stderr",
     "output_type": "stream",
     "text": [
      "WARNING: saving figure to file scanpy/210711_merged_thymoma_MG21.22.23.03_Bcell/graph/umap.pdf\n"
     ]
    },
    {
     "data": {
      "text/plain": [
       "<Figure size 1545.6x960 with 18 Axes>"
      ]
     },
     "metadata": {},
     "output_type": "display_data"
    }
   ],
   "source": [
    "sc.pl.umap(adata, color=['CD19', 'MS4A1', 'CD38', 'SDC1', 'CXCR4', 'PAX5', 'IRF4', 'XBP1', 'PRDM1'])"
   ]
  },
  {
   "cell_type": "code",
   "execution_count": 14,
   "id": "dbfc729c",
   "metadata": {},
   "outputs": [
    {
     "name": "stderr",
     "output_type": "stream",
     "text": [
      "WARNING: saving figure to file scanpy/210711_merged_thymoma_MG21.22.23.03_Bcell/graph/umap.pdf\n"
     ]
    },
    {
     "data": {
      "text/plain": [
       "<Figure size 320x320 with 1 Axes>"
      ]
     },
     "metadata": {},
     "output_type": "display_data"
    }
   ],
   "source": [
    "sc.pl.umap(adata, color='Bcell_cluster', groups=['Plasmablast'])"
   ]
  },
  {
   "cell_type": "markdown",
   "id": "5528d7b1",
   "metadata": {},
   "source": [
    "## Thymus vs Peripheral"
   ]
  },
  {
   "cell_type": "code",
   "execution_count": 25,
   "id": "071e1db5",
   "metadata": {},
   "outputs": [],
   "source": [
    "adata = sc.read(results_file_Bcell)"
   ]
  },
  {
   "cell_type": "code",
   "execution_count": 27,
   "id": "6efa1f8c",
   "metadata": {},
   "outputs": [],
   "source": [
    "list_clu = ['GC B cell', 'Memory B cell (I)', 'Memory B cell (II)', 'Naive B cell', 'Plasmablast', \n",
    "            'Pre GC B cell', 'Thymic memory B cell', 'Unswitched memory B cell']"
   ]
  },
  {
   "cell_type": "code",
   "execution_count": 28,
   "id": "30eb9775",
   "metadata": {},
   "outputs": [
    {
     "name": "stderr",
     "output_type": "stream",
     "text": [
      "WARNING: Default of the method has been changed to 't-test' from 't-test_overestim_var'\n",
      "ranking genes\n",
      "Trying to set attribute `.uns` of view, copying.\n",
      "    finished: added to `.uns['rank_genes_groups']`\n",
      "    'names', sorted np.recarray to be indexed by group ids\n",
      "    'scores', sorted np.recarray to be indexed by group ids\n",
      "    'logfoldchanges', sorted np.recarray to be indexed by group ids\n",
      "    'pvals', sorted np.recarray to be indexed by group ids\n",
      "    'pvals_adj', sorted np.recarray to be indexed by group ids (0:00:00)\n",
      "WARNING: Default of the method has been changed to 't-test' from 't-test_overestim_var'\n",
      "ranking genes\n",
      "Trying to set attribute `.uns` of view, copying.\n",
      "    finished: added to `.uns['rank_genes_groups']`\n",
      "    'names', sorted np.recarray to be indexed by group ids\n",
      "    'scores', sorted np.recarray to be indexed by group ids\n",
      "    'logfoldchanges', sorted np.recarray to be indexed by group ids\n",
      "    'pvals', sorted np.recarray to be indexed by group ids\n",
      "    'pvals_adj', sorted np.recarray to be indexed by group ids (0:00:00)\n",
      "WARNING: Default of the method has been changed to 't-test' from 't-test_overestim_var'\n",
      "ranking genes\n",
      "Trying to set attribute `.uns` of view, copying.\n",
      "    finished: added to `.uns['rank_genes_groups']`\n",
      "    'names', sorted np.recarray to be indexed by group ids\n",
      "    'scores', sorted np.recarray to be indexed by group ids\n",
      "    'logfoldchanges', sorted np.recarray to be indexed by group ids\n",
      "    'pvals', sorted np.recarray to be indexed by group ids\n",
      "    'pvals_adj', sorted np.recarray to be indexed by group ids (0:00:00)\n",
      "WARNING: Default of the method has been changed to 't-test' from 't-test_overestim_var'\n",
      "ranking genes\n",
      "Trying to set attribute `.uns` of view, copying.\n",
      "    finished: added to `.uns['rank_genes_groups']`\n",
      "    'names', sorted np.recarray to be indexed by group ids\n",
      "    'scores', sorted np.recarray to be indexed by group ids\n",
      "    'logfoldchanges', sorted np.recarray to be indexed by group ids\n",
      "    'pvals', sorted np.recarray to be indexed by group ids\n",
      "    'pvals_adj', sorted np.recarray to be indexed by group ids (0:00:00)\n",
      "WARNING: Default of the method has been changed to 't-test' from 't-test_overestim_var'\n",
      "ranking genes\n",
      "Trying to set attribute `.uns` of view, copying.\n",
      "    finished: added to `.uns['rank_genes_groups']`\n",
      "    'names', sorted np.recarray to be indexed by group ids\n",
      "    'scores', sorted np.recarray to be indexed by group ids\n",
      "    'logfoldchanges', sorted np.recarray to be indexed by group ids\n",
      "    'pvals', sorted np.recarray to be indexed by group ids\n",
      "    'pvals_adj', sorted np.recarray to be indexed by group ids (0:00:00)\n",
      "WARNING: Default of the method has been changed to 't-test' from 't-test_overestim_var'\n",
      "ranking genes\n",
      "Trying to set attribute `.uns` of view, copying.\n",
      "    finished: added to `.uns['rank_genes_groups']`\n",
      "    'names', sorted np.recarray to be indexed by group ids\n",
      "    'scores', sorted np.recarray to be indexed by group ids\n",
      "    'logfoldchanges', sorted np.recarray to be indexed by group ids\n",
      "    'pvals', sorted np.recarray to be indexed by group ids\n",
      "    'pvals_adj', sorted np.recarray to be indexed by group ids (0:00:00)\n",
      "WARNING: Default of the method has been changed to 't-test' from 't-test_overestim_var'\n",
      "ranking genes\n",
      "Trying to set attribute `.uns` of view, copying.\n",
      "    finished: added to `.uns['rank_genes_groups']`\n",
      "    'names', sorted np.recarray to be indexed by group ids\n",
      "    'scores', sorted np.recarray to be indexed by group ids\n",
      "    'logfoldchanges', sorted np.recarray to be indexed by group ids\n",
      "    'pvals', sorted np.recarray to be indexed by group ids\n",
      "    'pvals_adj', sorted np.recarray to be indexed by group ids (0:00:00)\n",
      "WARNING: Default of the method has been changed to 't-test' from 't-test_overestim_var'\n",
      "ranking genes\n",
      "Trying to set attribute `.uns` of view, copying.\n",
      "    finished: added to `.uns['rank_genes_groups']`\n",
      "    'names', sorted np.recarray to be indexed by group ids\n",
      "    'scores', sorted np.recarray to be indexed by group ids\n",
      "    'logfoldchanges', sorted np.recarray to be indexed by group ids\n",
      "    'pvals', sorted np.recarray to be indexed by group ids\n",
      "    'pvals_adj', sorted np.recarray to be indexed by group ids (0:00:00)\n"
     ]
    }
   ],
   "source": [
    "list_thymic_genes = []\n",
    "for clu in list_clu:\n",
    "    a = adata[adata.obs['Bcell_cluster'] == clu]\n",
    "    sc.tl.rank_genes_groups(a, 'site')\n",
    "#     sc.pl.rank_genes_groups(a)\n",
    "    result = a.uns['rank_genes_groups']\n",
    "    groups = result['names'].dtype.names\n",
    "    df_res = pd.DataFrame(\n",
    "        {group + '_' + key[:1]: result[key][group]\n",
    "        for group in groups for key in ['names', 'pvals_adj', 'logfoldchanges']})\n",
    "    list_thymic_genes.append(list(df_res.loc[(df_res['Thymus_p'] < 0.05) & (df_res['Thymus_l'] > 1), 'Thymus_n']))"
   ]
  },
  {
   "cell_type": "code",
   "execution_count": 29,
   "id": "4ce4f6db",
   "metadata": {},
   "outputs": [],
   "source": [
    "import collections"
   ]
  },
  {
   "cell_type": "code",
   "execution_count": 30,
   "id": "1ed7d519",
   "metadata": {},
   "outputs": [],
   "source": [
    "c = collections.Counter([item for sublist in list_thymic_genes for item in sublist])"
   ]
  },
  {
   "cell_type": "code",
   "execution_count": 38,
   "id": "1700f67c",
   "metadata": {},
   "outputs": [
    {
     "data": {
      "text/plain": [
       "<Figure size 240x960 with 1 Axes>"
      ]
     },
     "metadata": {},
     "output_type": "display_data"
    }
   ],
   "source": [
    "plt.figure(figsize=(3,12))\n",
    "pd.Series(c).sort_values(ascending=False).head(40).sort_values().plot.barh()\n",
    "plt.xlabel('UP in thymus')\n",
    "plt.grid(None)\n",
    "plt.savefig(str(sc.settings.figdir) + '/barthymusperi.pdf', bbox_inches='tight')"
   ]
  },
  {
   "cell_type": "code",
   "execution_count": 39,
   "id": "d6934934",
   "metadata": {},
   "outputs": [],
   "source": [
    "adata.obs['cluster:site'] = adata.obs['Bcell_cluster'].astype(str) + ':' + adata.obs['site'].astype(str).str[0]"
   ]
  },
  {
   "cell_type": "code",
   "execution_count": null,
   "id": "03c13eec",
   "metadata": {},
   "outputs": [],
   "source": [
    "sc.pl.dotplot(adata[adata.obs['CD4T_cluster'].isin(list_clu)],\n",
    "              pd.Series(c).sort_values(ascending=False).head(10).index, groupby='cluster:site',\n",
    "             swap_axes=True, save='thymus_peri')"
   ]
  },
  {
   "cell_type": "markdown",
   "id": "5e1790f9",
   "metadata": {},
   "source": [
    "## Gene set analysis"
   ]
  },
  {
   "cell_type": "code",
   "execution_count": 123,
   "id": "871f3cf3",
   "metadata": {},
   "outputs": [],
   "source": [
    "adata = sc.read(results_file_Bcell)"
   ]
  },
  {
   "cell_type": "code",
   "execution_count": 124,
   "id": "78396e8f",
   "metadata": {},
   "outputs": [
    {
     "name": "stderr",
     "output_type": "stream",
     "text": [
      "ranking genes\n",
      "    finished: added to `.uns['rank_genes_groups']`\n",
      "    'names', sorted np.recarray to be indexed by group ids\n",
      "    'scores', sorted np.recarray to be indexed by group ids\n",
      "    'logfoldchanges', sorted np.recarray to be indexed by group ids\n",
      "    'pvals', sorted np.recarray to be indexed by group ids\n",
      "    'pvals_adj', sorted np.recarray to be indexed by group ids (0:00:02)\n",
      "WARNING: saving figure to file scanpy/210711_merged_thymoma_MG21.22.23.03_Bcell/graph/rank_genes_groups_Bcell_cluster.pdf\n"
     ]
    },
    {
     "data": {
      "text/plain": [
       "<Figure size 1280x640 with 8 Axes>"
      ]
     },
     "metadata": {},
     "output_type": "display_data"
    }
   ],
   "source": [
    "sc.tl.rank_genes_groups(adata, 'Bcell_cluster', method='t-test_overestim_var')\n",
    "sc.pl.rank_genes_groups(adata, n_genes=25, sharey=False)"
   ]
  },
  {
   "cell_type": "code",
   "execution_count": 125,
   "id": "8edb9ebc",
   "metadata": {},
   "outputs": [],
   "source": [
    "pd.DataFrame(adata.uns['rank_genes_groups']['names']).to_csv('scanpy/210711_merged_thymoma_MG21.22.23.03_Bcell/gene.rank')"
   ]
  },
  {
   "cell_type": "code",
   "execution_count": 126,
   "id": "14a8a93a",
   "metadata": {},
   "outputs": [],
   "source": [
    "import gseapy as gp\n",
    "from gseapy.plot import barplot, dotplot\n",
    "gp.__version__\n",
    "\n",
    "import os"
   ]
  },
  {
   "cell_type": "code",
   "execution_count": 127,
   "id": "b8528f0b",
   "metadata": {},
   "outputs": [],
   "source": [
    "result = adata.uns['rank_genes_groups']\n",
    "groups = result['names'].dtype.names\n",
    "df_res = pd.DataFrame(\n",
    "    {group + '_' + key[:1]: result[key][group]\n",
    "    for group in groups for key in ['names', 'logfoldchanges', 'pvals_adj', 'scores']})"
   ]
  },
  {
   "cell_type": "code",
   "execution_count": null,
   "id": "1182b5ff",
   "metadata": {},
   "outputs": [],
   "source": [
    "for clu in adata.obs['Bcell_cluster'].unique():\n",
    "    os.makedirs('scanpy/210711_merged_thymoma_MG21.22.23.03_Bcell/gsea_reactome/gseapy/{}'.format(clu), exist_ok=True)\n",
    "    df_res[['{}_n'.format(clu), '{}_s'.format(clu)]].to_csv('scanpy/210711_merged_thymoma_MG21.22.23.03_Bcell/gsea_reactome/{}.rnk'.format(clu), \n",
    "                                                            sep='\\t', header=None, index=None)\n",
    "    pre_res = gp.prerank(rnk='scanpy/210711_merged_thymoma_MG21.22.23.03_Bcell/gsea_reactome/{}.rnk'.format(clu), \n",
    "                         gene_sets='data/ReactomePathways.gmt',\n",
    "                     processes=10,\n",
    "                     permutation_num=1000, # reduce number to speed up testing\n",
    "                     outdir='scanpy/210711_merged_thymoma_MG21.22.23.03_Bcell/gsea_reactome/gseapy/{}'.format(clu), \n",
    "                         format='png', seed=6)"
   ]
  },
  {
   "cell_type": "code",
   "execution_count": null,
   "id": "19fe1639",
   "metadata": {},
   "outputs": [],
   "source": [
    "for clu in adata.obs['Bcell_cluster'].unique():\n",
    "    os.makedirs('scanpy/210711_merged_thymoma_MG21.22.23.03_Bcell/gsea_wp/gseapy/{}'.format(clu), exist_ok=True)\n",
    "    df_res[['{}_n'.format(clu), '{}_s'.format(clu)]].to_csv('scanpy/210711_merged_thymoma_MG21.22.23.03_Bcell/gsea_wp/{}.rnk'.format(clu), \n",
    "                                                            sep='\\t', header=None, index=None)\n",
    "    pre_res = gp.prerank(rnk='scanpy/210711_merged_thymoma_MG21.22.23.03_Bcell/gsea_reactome/{}.rnk'.format(clu), \n",
    "                         gene_sets='WikiPathways_2019_Human',\n",
    "                     processes=10,\n",
    "                     permutation_num=1000, # reduce number to speed up testing\n",
    "                     outdir='scanpy/210711_merged_thymoma_MG21.22.23.03_Bcell/gsea_wp/gseapy/{}'.format(clu), \n",
    "                         format='png', seed=6)"
   ]
  },
  {
   "cell_type": "code",
   "execution_count": null,
   "id": "1e4fdf88",
   "metadata": {},
   "outputs": [],
   "source": [
    "for clu in adata.obs['Bcell_cluster'].unique():\n",
    "    os.makedirs('scanpy/210711_merged_thymoma_MG21.22.23.03_Bcell/gsea_kegg/gseapy/{}'.format(clu), exist_ok=True)\n",
    "    df_res[['{}_n'.format(clu), '{}_s'.format(clu)]].to_csv('scanpy/210711_merged_thymoma_MG21.22.23.03_Bcell/gsea_kegg/{}.rnk'.format(clu), \n",
    "                                                            sep='\\t', header=None, index=None)\n",
    "    pre_res = gp.prerank(rnk='scanpy/210711_merged_thymoma_MG21.22.23.03_Bcell/gsea_reactome/{}.rnk'.format(clu), \n",
    "                         gene_sets='KEGG_2021_Human',\n",
    "                     processes=10,\n",
    "                     permutation_num=1000, # reduce number to speed up testing\n",
    "                     outdir='scanpy/210711_merged_thymoma_MG21.22.23.03_Bcell/gsea_kegg/gseapy/{}'.format(clu), \n",
    "                         format='png', seed=6)"
   ]
  },
  {
   "cell_type": "code",
   "execution_count": null,
   "id": "3647d3f8",
   "metadata": {},
   "outputs": [],
   "source": [
    "for clu in adata.obs['Bcell_cluster'].unique():\n",
    "    os.makedirs('scanpy/210711_merged_thymoma_MG21.22.23.03_Bcell/gsea_gobp/gseapy/{}'.format(clu), exist_ok=True)\n",
    "    df_res[['{}_n'.format(clu), '{}_s'.format(clu)]].to_csv('scanpy/210711_merged_thymoma_MG21.22.23.03_Bcell/gsea_gobp/{}.rnk'.format(clu), \n",
    "                                                            sep='\\t', header=None, index=None)\n",
    "    pre_res = gp.prerank(rnk='scanpy/210711_merged_thymoma_MG21.22.23.03_Bcell/gsea_reactome/{}.rnk'.format(clu), \n",
    "                         gene_sets='GO_Biological_Process_2018',\n",
    "                     processes=10,\n",
    "                     permutation_num=1000, # reduce number to speed up testing\n",
    "                     outdir='scanpy/210711_merged_thymoma_MG21.22.23.03_Bcell/gsea_gobp/gseapy/{}'.format(clu), \n",
    "                         format='png', seed=6)"
   ]
  },
  {
   "cell_type": "code",
   "execution_count": null,
   "id": "55edc305",
   "metadata": {},
   "outputs": [],
   "source": [
    "with open('./data/ReactomePathways.gmt', 'r') as f:\n",
    "    txt = f.read()\n",
    "    \n",
    "df_reactome = pd.DataFrame([[x.split('\\t')[0], x.split('\\t')[1], x.split('\\t')[2:]] for x in txt.split('\\n') if len(x.split('\\t')) > 10],\n",
    "            columns=['geneset', 'id', 'genes'])\n",
    "df_reactome.index = df_reactome['id']\n",
    "df_reactome.head()"
   ]
  },
  {
   "cell_type": "code",
   "execution_count": null,
   "id": "9f588423",
   "metadata": {},
   "outputs": [],
   "source": [
    "id_gs = 'R-HSA-2132295'\n",
    "\n",
    "sc.tl.score_genes(adata, df_reactome.loc[id_gs, 'genes'], score_name='score_{}'.format(id_gs))\n",
    "sc.pl.violin(adata, ['score_{}'.format(id_gs)], groupby='Bcell_cluster', log=False,\n",
    "             rotation=90, save='reactome/{}.pdf'.format(id_gs))"
   ]
  },
  {
   "cell_type": "code",
   "execution_count": null,
   "id": "27c26f03",
   "metadata": {},
   "outputs": [],
   "source": [
    "sc.pl.dotplot(adata, ['HLA-DQB1', 'HLA-DRB1', 'STAT1', 'IRF1', 'CIITA'], groupby='Bcell_cluster', title='HLA class II signaling',\n",
    "             save='hlaclassII.pdf')"
   ]
  },
  {
   "cell_type": "code",
   "execution_count": null,
   "id": "ac7b61e4",
   "metadata": {},
   "outputs": [],
   "source": []
  },
  {
   "cell_type": "code",
   "execution_count": null,
   "id": "a01635f7",
   "metadata": {},
   "outputs": [],
   "source": []
  },
  {
   "cell_type": "markdown",
   "id": "8afb7ab9",
   "metadata": {},
   "source": [
    "## Velocyto"
   ]
  },
  {
   "cell_type": "code",
   "execution_count": 152,
   "id": "09c716c5",
   "metadata": {},
   "outputs": [],
   "source": [
    "import scvelo as scv\n",
    "mpl.rcParams['axes.grid'] = False"
   ]
  },
  {
   "cell_type": "code",
   "execution_count": 153,
   "id": "b3bd4276",
   "metadata": {},
   "outputs": [
    {
     "name": "stderr",
     "output_type": "stream",
     "text": [
      "WARNING: Your filename has more than two extensions: ['.210430', '.merged', '.loom'].\n",
      "Only considering the two last: ['.merged', '.loom'].\n",
      "WARNING: Your filename has more than two extensions: ['.210430', '.merged', '.loom'].\n",
      "Only considering the two last: ['.merged', '.loom'].\n",
      "--> This might be very slow. Consider passing `cache=True`, which enables much faster reading from a cache file.\n",
      "Variable names are not unique. To make them unique, call `.var_names_make_unique`.\n"
     ]
    }
   ],
   "source": [
    "adata = sc.read('./data/velocyto.210430.merged.loom')\n",
    "adata.var_names_make_unique()\n",
    "adata.obs.index = [x.split(':')[1][:-1] for x in adata.obs.index]\n",
    "adata.obs_names_make_unique()"
   ]
  },
  {
   "cell_type": "code",
   "execution_count": 154,
   "id": "992c2305",
   "metadata": {},
   "outputs": [],
   "source": [
    "mdata = sc.read(results_file_Bcell)"
   ]
  },
  {
   "cell_type": "code",
   "execution_count": 155,
   "id": "bd4eb551",
   "metadata": {},
   "outputs": [
    {
     "name": "stderr",
     "output_type": "stream",
     "text": [
      "Trying to set attribute `.obs` of view, copying.\n"
     ]
    }
   ],
   "source": [
    "mdata = mdata[mdata.obs['site'] == 'Thymus']\n",
    "list_overlap_cells = list(set(adata.obs.index) & set(mdata.obs.index))\n",
    "adata = adata[list_overlap_cells,:]\n",
    "mdata = mdata[list_overlap_cells,:]\n",
    "adata.obs['Bcell_cluster'] = mdata.obs['Bcell_cluster']\n",
    "adata.uns['Bcell_cluster_colors'] = mdata.uns['Bcell_cluster_colors']\n",
    "adata.obsm['X_umap'] = mdata.obsm['X_umap']"
   ]
  },
  {
   "cell_type": "code",
   "execution_count": 156,
   "id": "b12f1c45",
   "metadata": {},
   "outputs": [
    {
     "data": {
      "text/plain": [
       "<Figure size 1000x200 with 2 Axes>"
      ]
     },
     "metadata": {
      "image/png": {
       "height": 237,
       "width": 707
      }
     },
     "output_type": "display_data"
    }
   ],
   "source": [
    "scv.pl.proportions(adata, groupby=\"Bcell_cluster\")\n",
    "# plt.grid(False)"
   ]
  },
  {
   "cell_type": "code",
   "execution_count": 157,
   "id": "f305465f",
   "metadata": {},
   "outputs": [
    {
     "data": {
      "text/plain": [
       "<Figure size 1000x200 with 1 Axes>"
      ]
     },
     "metadata": {
      "image/png": {
       "height": 197,
       "width": 172
      }
     },
     "output_type": "display_data"
    }
   ],
   "source": [
    "scv.pl.proportions(adata, groupby=\"sample\")\n",
    "# plt.grid(False)"
   ]
  },
  {
   "cell_type": "code",
   "execution_count": 158,
   "id": "01564a07",
   "metadata": {},
   "outputs": [
    {
     "name": "stderr",
     "output_type": "stream",
     "text": [
      "computing PCA\n",
      "    on highly variable genes\n",
      "    with n_comps=30\n"
     ]
    },
    {
     "name": "stdout",
     "output_type": "stream",
     "text": [
      "Filtered out 32491 genes that are detected 20 counts (shared).\n",
      "Normalized count data: X, spliced, unspliced.\n",
      "Extracted 2000 highly variable genes.\n",
      "Logarithmized X.\n"
     ]
    },
    {
     "name": "stderr",
     "output_type": "stream",
     "text": [
      "    finished (0:00:00)\n"
     ]
    },
    {
     "name": "stdout",
     "output_type": "stream",
     "text": [
      "computing neighbors\n",
      "    finished (0:00:00) --> added \n",
      "    'distances' and 'connectivities', weighted adjacency matrices (adata.obsp)\n",
      "computing moments based on connectivities\n",
      "    finished (0:00:00) --> added \n",
      "    'Ms' and 'Mu', moments of un/spliced abundances (adata.layers)\n"
     ]
    }
   ],
   "source": [
    "scv.pp.filter_and_normalize(adata, min_shared_counts=20, n_top_genes=2000)\n",
    "scv.pp.moments(adata, n_pcs=30, n_neighbors=30)"
   ]
  },
  {
   "cell_type": "code",
   "execution_count": 159,
   "id": "272d3b02",
   "metadata": {},
   "outputs": [
    {
     "name": "stdout",
     "output_type": "stream",
     "text": [
      "recovering dynamics (using 1/16 cores)\n"
     ]
    },
    {
     "data": {
      "application/vnd.jupyter.widget-view+json": {
       "model_id": "d0ef33f0399f40fc9502f51cb146c51d",
       "version_major": 2,
       "version_minor": 0
      },
      "text/plain": [
       "  0%|          | 0/587 [00:00<?, ?gene/s]"
      ]
     },
     "metadata": {},
     "output_type": "display_data"
    },
    {
     "name": "stdout",
     "output_type": "stream",
     "text": [
      "    finished (0:01:08) --> added \n",
      "    'fit_pars', fitted parameters for splicing dynamics (adata.var)\n"
     ]
    }
   ],
   "source": [
    "scv.tl.recover_dynamics(adata)"
   ]
  },
  {
   "cell_type": "code",
   "execution_count": 160,
   "id": "a24e5437",
   "metadata": {},
   "outputs": [
    {
     "name": "stdout",
     "output_type": "stream",
     "text": [
      "computing velocities\n",
      "    finished (0:00:00) --> added \n",
      "    'velocity', velocity vectors for each individual cell (adata.layers)\n",
      "computing velocity graph\n",
      "    finished (0:00:00) --> added \n",
      "    'velocity_graph', sparse matrix with cosine correlations (adata.uns)\n"
     ]
    }
   ],
   "source": [
    "scv.tl.velocity(adata)#, mode='stochastic', filter_genes=True)\n",
    "scv.tl.velocity_graph(adata)#, n_recurse_neighbors=5)"
   ]
  },
  {
   "cell_type": "code",
   "execution_count": 161,
   "id": "265461fb",
   "metadata": {},
   "outputs": [
    {
     "name": "stdout",
     "output_type": "stream",
     "text": [
      "computing velocity embedding\n",
      "    finished (0:00:00) --> added\n",
      "    'velocity_umap', embedded velocity vectors (adata.obsm)\n"
     ]
    }
   ],
   "source": [
    "scv.tl.velocity_embedding(adata, basis='umap', direct_pca_projection=False)\n",
    "# scv.tl.velocity_embedding(adata, basis='draw_graph_fr')"
   ]
  },
  {
   "cell_type": "code",
   "execution_count": 162,
   "id": "843fd07f",
   "metadata": {},
   "outputs": [
    {
     "data": {
      "text/plain": [
       "<Figure size 800x800 with 1 Axes>"
      ]
     },
     "metadata": {
      "image/png": {
       "height": 647,
       "width": 664
      }
     },
     "output_type": "display_data"
    }
   ],
   "source": [
    "scv.pl.velocity_embedding(adata, basis='umap', color='Bcell_cluster', \n",
    "                          legend_loc='on data', scale=.5, figsize=(10,10))\n",
    "# scv.pl.velocity_embedding(adata, basis='draw_graph_fr', color='louvain', scale=3, legend_loc='on data')"
   ]
  },
  {
   "cell_type": "code",
   "execution_count": 163,
   "id": "2619629e",
   "metadata": {},
   "outputs": [
    {
     "data": {
      "text/plain": [
       "<Figure size 400x400 with 1 Axes>"
      ]
     },
     "metadata": {
      "image/png": {
       "height": 343,
       "width": 406
      }
     },
     "output_type": "display_data"
    }
   ],
   "source": [
    "scv.pl.velocity_embedding_grid(adata, basis='umap', color='Bcell_cluster', \n",
    "                          legend_loc='on data', scale=0.2, figsize=(5,5))"
   ]
  },
  {
   "cell_type": "code",
   "execution_count": 164,
   "id": "44c486bc",
   "metadata": {},
   "outputs": [
    {
     "name": "stdout",
     "output_type": "stream",
     "text": [
      "figure cannot be saved as pdf, using png instead.\n",
      "saving figure to file ./figures/scvelo_thymus_bcell_stream.png\n"
     ]
    },
    {
     "data": {
      "text/plain": [
       "<Figure size 400x400 with 1 Axes>"
      ]
     },
     "metadata": {
      "image/png": {
       "height": 343,
       "width": 645
      }
     },
     "output_type": "display_data"
    }
   ],
   "source": [
    "scv.pl.velocity_embedding_stream(adata, basis='umap', color='Bcell_cluster', \n",
    "                                 legend_loc='right mergin', figsize=(5,5), save='thymus_bcell_stream.pdf')"
   ]
  },
  {
   "cell_type": "code",
   "execution_count": 165,
   "id": "0d62eac4",
   "metadata": {},
   "outputs": [
    {
     "name": "stdout",
     "output_type": "stream",
     "text": [
      "computing terminal states\n",
      "WARNING: Uncertain or fuzzy root cell identification. Please verify.\n",
      "    identified 3 regions of root cells and 1 region of end points .\n",
      "    finished (0:00:00) --> added\n",
      "    'root_cells', root cells of Markov diffusion process (adata.obs)\n",
      "    'end_points', end points of Markov diffusion process (adata.obs)\n"
     ]
    },
    {
     "data": {
      "text/plain": [
       "<Figure size 640x320 with 4 Axes>"
      ]
     },
     "metadata": {
      "image/png": {
       "height": 295,
       "width": 537
      }
     },
     "output_type": "display_data"
    }
   ],
   "source": [
    "scv.tl.terminal_states(adata)\n",
    "scv.pl.scatter(adata, color=['root_cells', 'end_points'])"
   ]
  },
  {
   "cell_type": "code",
   "execution_count": 166,
   "id": "528a32e0",
   "metadata": {},
   "outputs": [
    {
     "name": "stdout",
     "output_type": "stream",
     "text": [
      "--> added 'velocity_length' (adata.obs)\n",
      "--> added 'velocity_confidence' (adata.obs)\n",
      "--> added 'velocity_confidence_transition' (adata.obs)\n"
     ]
    },
    {
     "data": {
      "text/plain": [
       "<Figure size 320x320 with 2 Axes>"
      ]
     },
     "metadata": {
      "image/png": {
       "height": 282,
       "width": 308
      }
     },
     "output_type": "display_data"
    }
   ],
   "source": [
    "scv.tl.velocity_confidence(adata)\n",
    "scv.pl.scatter(adata, color='velocity_confidence', perc=[2,98])"
   ]
  },
  {
   "cell_type": "code",
   "execution_count": 167,
   "id": "6a6cc9d0",
   "metadata": {},
   "outputs": [
    {
     "name": "stdout",
     "output_type": "stream",
     "text": [
      "computing latent time using root_cells as prior\n",
      "    finished (0:00:00) --> added \n",
      "    'latent_time', shared time (adata.obs)\n"
     ]
    },
    {
     "data": {
      "text/plain": [
       "<Figure size 320x320 with 2 Axes>"
      ]
     },
     "metadata": {
      "image/png": {
       "height": 295,
       "width": 287
      }
     },
     "output_type": "display_data"
    }
   ],
   "source": [
    "scv.tl.latent_time(adata, root_key=\"Naive B cell\")\n",
    "scv.pl.scatter(adata, color='latent_time', color_map='gnuplot', size=80)"
   ]
  },
  {
   "cell_type": "code",
   "execution_count": 168,
   "id": "4c91ff71",
   "metadata": {},
   "outputs": [
    {
     "name": "stdout",
     "output_type": "stream",
     "text": [
      "ranking velocity genes\n",
      "    finished (0:00:00) --> added \n",
      "    'rank_velocity_genes', sorted scores by group ids (adata.uns) \n",
      "    'spearmans_score', spearmans correlation scores (adata.var)\n"
     ]
    },
    {
     "data": {
      "text/html": [
       "<div>\n",
       "<style scoped>\n",
       "    .dataframe tbody tr th:only-of-type {\n",
       "        vertical-align: middle;\n",
       "    }\n",
       "\n",
       "    .dataframe tbody tr th {\n",
       "        vertical-align: top;\n",
       "    }\n",
       "\n",
       "    .dataframe thead th {\n",
       "        text-align: right;\n",
       "    }\n",
       "</style>\n",
       "<table border=\"1\" class=\"dataframe\">\n",
       "  <thead>\n",
       "    <tr style=\"text-align: right;\">\n",
       "      <th></th>\n",
       "      <th>GC B cell</th>\n",
       "      <th>Memory B cell (I)</th>\n",
       "      <th>Memory B cell (II)</th>\n",
       "      <th>Naive B cell</th>\n",
       "      <th>Plasmablast</th>\n",
       "      <th>Pre GC B cell</th>\n",
       "      <th>Thymic memory B cell</th>\n",
       "      <th>Unswitched memory B cell</th>\n",
       "    </tr>\n",
       "  </thead>\n",
       "  <tbody>\n",
       "    <tr>\n",
       "      <th>0</th>\n",
       "      <td>AFF2</td>\n",
       "      <td>TBXAS1</td>\n",
       "      <td>SYT1</td>\n",
       "      <td>GAB1</td>\n",
       "      <td>SPCS2</td>\n",
       "      <td>DEK</td>\n",
       "      <td>PIP4K2A</td>\n",
       "      <td>CD83</td>\n",
       "    </tr>\n",
       "    <tr>\n",
       "      <th>1</th>\n",
       "      <td>AC104170.1</td>\n",
       "      <td>IFT57</td>\n",
       "      <td>PIP4K2A</td>\n",
       "      <td>ZBTB16</td>\n",
       "      <td>IGHGP</td>\n",
       "      <td>SYNE2</td>\n",
       "      <td>TBXAS1</td>\n",
       "      <td>IFI44L</td>\n",
       "    </tr>\n",
       "    <tr>\n",
       "      <th>2</th>\n",
       "      <td>NUGGC</td>\n",
       "      <td>PARP14</td>\n",
       "      <td>ARL6IP5</td>\n",
       "      <td>FOXP1</td>\n",
       "      <td>PTMA</td>\n",
       "      <td>BCL7A</td>\n",
       "      <td>SYT1</td>\n",
       "      <td>ARL6IP5</td>\n",
       "    </tr>\n",
       "    <tr>\n",
       "      <th>3</th>\n",
       "      <td>PAG1</td>\n",
       "      <td>SYT1</td>\n",
       "      <td>TOX</td>\n",
       "      <td>ZNF318</td>\n",
       "      <td>HMCES</td>\n",
       "      <td>SMC4</td>\n",
       "      <td>HIPK2</td>\n",
       "      <td>SERPINB9</td>\n",
       "    </tr>\n",
       "    <tr>\n",
       "      <th>4</th>\n",
       "      <td>NEDD4L</td>\n",
       "      <td>CD86</td>\n",
       "      <td>ADAM28</td>\n",
       "      <td>COL19A1</td>\n",
       "      <td>LIME1</td>\n",
       "      <td>SMC1A</td>\n",
       "      <td>BLK</td>\n",
       "      <td>REL</td>\n",
       "    </tr>\n",
       "  </tbody>\n",
       "</table>\n",
       "</div>"
      ],
      "text/plain": [
       "    GC B cell Memory B cell (I) Memory B cell (II) Naive B cell Plasmablast  \\\n",
       "0        AFF2            TBXAS1               SYT1         GAB1       SPCS2   \n",
       "1  AC104170.1             IFT57            PIP4K2A       ZBTB16       IGHGP   \n",
       "2       NUGGC            PARP14            ARL6IP5        FOXP1        PTMA   \n",
       "3        PAG1              SYT1                TOX       ZNF318       HMCES   \n",
       "4      NEDD4L              CD86             ADAM28      COL19A1       LIME1   \n",
       "\n",
       "  Pre GC B cell Thymic memory B cell Unswitched memory B cell  \n",
       "0           DEK              PIP4K2A                     CD83  \n",
       "1         SYNE2               TBXAS1                   IFI44L  \n",
       "2         BCL7A                 SYT1                  ARL6IP5  \n",
       "3          SMC4                HIPK2                 SERPINB9  \n",
       "4         SMC1A                  BLK                      REL  "
      ]
     },
     "execution_count": 168,
     "metadata": {},
     "output_type": "execute_result"
    }
   ],
   "source": [
    "scv.tl.rank_velocity_genes(adata, groupby='Bcell_cluster', min_corr=.3)\n",
    "\n",
    "df = scv.DataFrame(adata.uns['rank_velocity_genes']['names'])\n",
    "df.head()"
   ]
  },
  {
   "cell_type": "code",
   "execution_count": 169,
   "id": "40cc2b80",
   "metadata": {},
   "outputs": [
    {
     "data": {
      "text/plain": [
       "<Figure size 1200x2000 with 25 Axes>"
      ]
     },
     "metadata": {
      "image/png": {
       "height": 1598,
       "width": 1048
      }
     },
     "output_type": "display_data"
    }
   ],
   "source": [
    "scv.pl.velocity(adata, var_names=df.head(5)['GC B cell'],\n",
    "                color='Bcell_cluster', basis='umap', figsize=(10,10))"
   ]
  },
  {
   "cell_type": "code",
   "execution_count": 170,
   "id": "5fda20bf",
   "metadata": {},
   "outputs": [
    {
     "data": {
      "text/plain": [
       "<Figure size 640x320 with 4 Axes>"
      ]
     },
     "metadata": {
      "image/png": {
       "height": 288,
       "width": 607
      }
     },
     "output_type": "display_data"
    }
   ],
   "source": [
    "top_genes = adata.var['fit_likelihood'].sort_values(ascending=False).index[:300]\n",
    "scv.pl.heatmap(adata, var_names=top_genes, sortby='latent_time', \n",
    "               col_color='Bcell_cluster', \n",
    "               n_convolve=100)"
   ]
  },
  {
   "cell_type": "markdown",
   "id": "6e7ef19a",
   "metadata": {},
   "source": [
    "## BCR"
   ]
  },
  {
   "cell_type": "code",
   "execution_count": 171,
   "id": "13a8b0ee",
   "metadata": {},
   "outputs": [],
   "source": [
    "import scirpy as ir"
   ]
  },
  {
   "cell_type": "code",
   "execution_count": 172,
   "id": "de92350f",
   "metadata": {},
   "outputs": [],
   "source": [
    "adata = sc.read(results_file_Bcell_minor_cluster)\n",
    "adata = adata[adata.obs['sample'].isin(['MG03_PB', 'MG03_TL'])]"
   ]
  },
  {
   "cell_type": "code",
   "execution_count": 173,
   "id": "de81794c",
   "metadata": {},
   "outputs": [],
   "source": [
    "df_ir = pd.concat([pd.read_csv('data/cellranger/MG03_PB_BCR/filtered_contig_annotations.csv'),\n",
    "pd.read_csv('data/cellranger/MG03_TL_BCR/filtered_contig_annotations.csv')])\n",
    "df_ir['barcode'] = df_ir['barcode'].str.split('-').str.get(0)\n",
    "df_ir.to_csv('data/cellranger/MG03_BCR.csv', index=None)"
   ]
  },
  {
   "cell_type": "raw",
   "id": "2e655bbf",
   "metadata": {},
   "source": [
    "mg03_pl = ir.io.read_10x_vdj('data/cellranger/MG03_PB_BCR/filtered_contig_annotations.csv')\n",
    "mg03_tl = ir.io.read_10x_vdj('data/cellranger/MG03_TL_BCR/filtered_contig_annotations.csv')"
   ]
  },
  {
   "cell_type": "code",
   "execution_count": 174,
   "id": "276a4604",
   "metadata": {},
   "outputs": [],
   "source": [
    "mg03_ir = ir.io.read_10x_vdj('data/cellranger/MG03_BCR.csv')\n",
    "ir.pp.merge_with_ir(adata, mg03_ir)"
   ]
  },
  {
   "cell_type": "code",
   "execution_count": 175,
   "id": "89629f9e",
   "metadata": {},
   "outputs": [
    {
     "data": {
      "text/plain": [
       "MG03_PB    8186\n",
       "MG03_TL       9\n",
       "Name: sample, dtype: int64"
      ]
     },
     "execution_count": 175,
     "metadata": {},
     "output_type": "execute_result"
    }
   ],
   "source": [
    "adata[adata.obs['has_ir'] == 'True'].obs['sample'].value_counts()"
   ]
  },
  {
   "cell_type": "code",
   "execution_count": 176,
   "id": "3e870e9a",
   "metadata": {},
   "outputs": [
    {
     "data": {
      "text/html": [
       "<div>\n",
       "<style scoped>\n",
       "    .dataframe tbody tr th:only-of-type {\n",
       "        vertical-align: middle;\n",
       "    }\n",
       "\n",
       "    .dataframe tbody tr th {\n",
       "        vertical-align: top;\n",
       "    }\n",
       "\n",
       "    .dataframe thead th {\n",
       "        text-align: right;\n",
       "    }\n",
       "</style>\n",
       "<table border=\"1\" class=\"dataframe\">\n",
       "  <thead>\n",
       "    <tr style=\"text-align: right;\">\n",
       "      <th></th>\n",
       "      <th>multi_chain</th>\n",
       "      <th>extra_chains</th>\n",
       "      <th>is_cell</th>\n",
       "      <th>high_confidence</th>\n",
       "      <th>IR_VJ_1_c_call</th>\n",
       "      <th>IR_VJ_2_c_call</th>\n",
       "      <th>IR_VDJ_1_c_call</th>\n",
       "      <th>IR_VDJ_2_c_call</th>\n",
       "      <th>IR_VJ_1_consensus_count</th>\n",
       "      <th>IR_VJ_2_consensus_count</th>\n",
       "      <th>...</th>\n",
       "      <th>IR_VDJ_2_sequence_id</th>\n",
       "      <th>IR_VJ_1_v_call</th>\n",
       "      <th>IR_VJ_2_v_call</th>\n",
       "      <th>IR_VDJ_1_v_call</th>\n",
       "      <th>IR_VDJ_2_v_call</th>\n",
       "      <th>IR_VJ_1_v_cigar</th>\n",
       "      <th>IR_VJ_2_v_cigar</th>\n",
       "      <th>IR_VDJ_1_v_cigar</th>\n",
       "      <th>IR_VDJ_2_v_cigar</th>\n",
       "      <th>has_ir</th>\n",
       "    </tr>\n",
       "    <tr>\n",
       "      <th>obs_names</th>\n",
       "      <th></th>\n",
       "      <th></th>\n",
       "      <th></th>\n",
       "      <th></th>\n",
       "      <th></th>\n",
       "      <th></th>\n",
       "      <th></th>\n",
       "      <th></th>\n",
       "      <th></th>\n",
       "      <th></th>\n",
       "      <th></th>\n",
       "      <th></th>\n",
       "      <th></th>\n",
       "      <th></th>\n",
       "      <th></th>\n",
       "      <th></th>\n",
       "      <th></th>\n",
       "      <th></th>\n",
       "      <th></th>\n",
       "      <th></th>\n",
       "      <th></th>\n",
       "    </tr>\n",
       "  </thead>\n",
       "  <tbody>\n",
       "    <tr>\n",
       "      <th>AAACCTGAGACACTAA</th>\n",
       "      <td>False</td>\n",
       "      <td>[]</td>\n",
       "      <td>True</td>\n",
       "      <td>True</td>\n",
       "      <td>IGLC2</td>\n",
       "      <td>NaN</td>\n",
       "      <td>IGHM</td>\n",
       "      <td>NaN</td>\n",
       "      <td>4867.0</td>\n",
       "      <td>NaN</td>\n",
       "      <td>...</td>\n",
       "      <td>NaN</td>\n",
       "      <td>IGLV1-40</td>\n",
       "      <td>NaN</td>\n",
       "      <td>IGHV4-30-2</td>\n",
       "      <td>NaN</td>\n",
       "      <td>NaN</td>\n",
       "      <td>NaN</td>\n",
       "      <td>NaN</td>\n",
       "      <td>NaN</td>\n",
       "      <td>True</td>\n",
       "    </tr>\n",
       "    <tr>\n",
       "      <th>AAACCTGAGCGATAGC</th>\n",
       "      <td>False</td>\n",
       "      <td>[]</td>\n",
       "      <td>True</td>\n",
       "      <td>True</td>\n",
       "      <td>IGLC3</td>\n",
       "      <td>NaN</td>\n",
       "      <td>IGHM</td>\n",
       "      <td>NaN</td>\n",
       "      <td>1660.0</td>\n",
       "      <td>NaN</td>\n",
       "      <td>...</td>\n",
       "      <td>NaN</td>\n",
       "      <td>IGLV3-25</td>\n",
       "      <td>NaN</td>\n",
       "      <td>IGHV3-30</td>\n",
       "      <td>NaN</td>\n",
       "      <td>NaN</td>\n",
       "      <td>NaN</td>\n",
       "      <td>NaN</td>\n",
       "      <td>NaN</td>\n",
       "      <td>True</td>\n",
       "    </tr>\n",
       "    <tr>\n",
       "      <th>AAACCTGAGCGCTCCA</th>\n",
       "      <td>False</td>\n",
       "      <td>[]</td>\n",
       "      <td>True</td>\n",
       "      <td>True</td>\n",
       "      <td>IGKC</td>\n",
       "      <td>NaN</td>\n",
       "      <td>IGHA1</td>\n",
       "      <td>NaN</td>\n",
       "      <td>7328.0</td>\n",
       "      <td>NaN</td>\n",
       "      <td>...</td>\n",
       "      <td>NaN</td>\n",
       "      <td>IGKV1D-39</td>\n",
       "      <td>NaN</td>\n",
       "      <td>IGHV3-7</td>\n",
       "      <td>NaN</td>\n",
       "      <td>NaN</td>\n",
       "      <td>NaN</td>\n",
       "      <td>NaN</td>\n",
       "      <td>NaN</td>\n",
       "      <td>True</td>\n",
       "    </tr>\n",
       "    <tr>\n",
       "      <th>AAACCTGAGGCAGTCA</th>\n",
       "      <td>False</td>\n",
       "      <td>[]</td>\n",
       "      <td>True</td>\n",
       "      <td>True</td>\n",
       "      <td>IGKC</td>\n",
       "      <td>NaN</td>\n",
       "      <td>IGHM</td>\n",
       "      <td>NaN</td>\n",
       "      <td>7198.0</td>\n",
       "      <td>NaN</td>\n",
       "      <td>...</td>\n",
       "      <td>NaN</td>\n",
       "      <td>IGKV3-20</td>\n",
       "      <td>NaN</td>\n",
       "      <td>IGHV4-61</td>\n",
       "      <td>NaN</td>\n",
       "      <td>NaN</td>\n",
       "      <td>NaN</td>\n",
       "      <td>NaN</td>\n",
       "      <td>NaN</td>\n",
       "      <td>True</td>\n",
       "    </tr>\n",
       "    <tr>\n",
       "      <th>AAACCTGAGTGCAAGC</th>\n",
       "      <td>False</td>\n",
       "      <td>[]</td>\n",
       "      <td>True</td>\n",
       "      <td>True</td>\n",
       "      <td>IGLC3</td>\n",
       "      <td>NaN</td>\n",
       "      <td>IGHG3</td>\n",
       "      <td>NaN</td>\n",
       "      <td>4793.0</td>\n",
       "      <td>NaN</td>\n",
       "      <td>...</td>\n",
       "      <td>NaN</td>\n",
       "      <td>IGLV3-21</td>\n",
       "      <td>NaN</td>\n",
       "      <td>IGHV3-33</td>\n",
       "      <td>NaN</td>\n",
       "      <td>NaN</td>\n",
       "      <td>NaN</td>\n",
       "      <td>NaN</td>\n",
       "      <td>NaN</td>\n",
       "      <td>True</td>\n",
       "    </tr>\n",
       "    <tr>\n",
       "      <th>...</th>\n",
       "      <td>...</td>\n",
       "      <td>...</td>\n",
       "      <td>...</td>\n",
       "      <td>...</td>\n",
       "      <td>...</td>\n",
       "      <td>...</td>\n",
       "      <td>...</td>\n",
       "      <td>...</td>\n",
       "      <td>...</td>\n",
       "      <td>...</td>\n",
       "      <td>...</td>\n",
       "      <td>...</td>\n",
       "      <td>...</td>\n",
       "      <td>...</td>\n",
       "      <td>...</td>\n",
       "      <td>...</td>\n",
       "      <td>...</td>\n",
       "      <td>...</td>\n",
       "      <td>...</td>\n",
       "      <td>...</td>\n",
       "      <td>...</td>\n",
       "    </tr>\n",
       "    <tr>\n",
       "      <th>TTTGTCATCATGCTCC</th>\n",
       "      <td>False</td>\n",
       "      <td>[]</td>\n",
       "      <td>True</td>\n",
       "      <td>True</td>\n",
       "      <td>IGKC</td>\n",
       "      <td>NaN</td>\n",
       "      <td>IGHM</td>\n",
       "      <td>NaN</td>\n",
       "      <td>7672.0</td>\n",
       "      <td>NaN</td>\n",
       "      <td>...</td>\n",
       "      <td>NaN</td>\n",
       "      <td>IGKV3-11</td>\n",
       "      <td>NaN</td>\n",
       "      <td>IGHV4-34</td>\n",
       "      <td>NaN</td>\n",
       "      <td>NaN</td>\n",
       "      <td>NaN</td>\n",
       "      <td>NaN</td>\n",
       "      <td>NaN</td>\n",
       "      <td>True</td>\n",
       "    </tr>\n",
       "    <tr>\n",
       "      <th>TTTGTCATCGAGAACG</th>\n",
       "      <td>False</td>\n",
       "      <td>[]</td>\n",
       "      <td>True</td>\n",
       "      <td>True</td>\n",
       "      <td>IGKC</td>\n",
       "      <td>IGKC</td>\n",
       "      <td>IGHM</td>\n",
       "      <td>IGHM</td>\n",
       "      <td>11569.0</td>\n",
       "      <td>4657.0</td>\n",
       "      <td>...</td>\n",
       "      <td>NaN</td>\n",
       "      <td>IGKV3-11</td>\n",
       "      <td>IGKV1-12</td>\n",
       "      <td>IGHV4-34</td>\n",
       "      <td>IGHV1-46</td>\n",
       "      <td>NaN</td>\n",
       "      <td>NaN</td>\n",
       "      <td>NaN</td>\n",
       "      <td>NaN</td>\n",
       "      <td>True</td>\n",
       "    </tr>\n",
       "    <tr>\n",
       "      <th>TTTGTCATCGTCTGCT</th>\n",
       "      <td>False</td>\n",
       "      <td>[]</td>\n",
       "      <td>True</td>\n",
       "      <td>True</td>\n",
       "      <td>IGKC</td>\n",
       "      <td>NaN</td>\n",
       "      <td>IGHA1</td>\n",
       "      <td>NaN</td>\n",
       "      <td>8443.0</td>\n",
       "      <td>NaN</td>\n",
       "      <td>...</td>\n",
       "      <td>NaN</td>\n",
       "      <td>IGKV1D-39</td>\n",
       "      <td>NaN</td>\n",
       "      <td>IGHV3-23</td>\n",
       "      <td>NaN</td>\n",
       "      <td>NaN</td>\n",
       "      <td>NaN</td>\n",
       "      <td>NaN</td>\n",
       "      <td>NaN</td>\n",
       "      <td>True</td>\n",
       "    </tr>\n",
       "    <tr>\n",
       "      <th>TTTGTCATCTGATTCT</th>\n",
       "      <td>False</td>\n",
       "      <td>[]</td>\n",
       "      <td>True</td>\n",
       "      <td>True</td>\n",
       "      <td>IGLC1</td>\n",
       "      <td>NaN</td>\n",
       "      <td>IGHM</td>\n",
       "      <td>NaN</td>\n",
       "      <td>2053.0</td>\n",
       "      <td>NaN</td>\n",
       "      <td>...</td>\n",
       "      <td>NaN</td>\n",
       "      <td>IGLV3-21</td>\n",
       "      <td>NaN</td>\n",
       "      <td>IGHV3-21</td>\n",
       "      <td>NaN</td>\n",
       "      <td>NaN</td>\n",
       "      <td>NaN</td>\n",
       "      <td>NaN</td>\n",
       "      <td>NaN</td>\n",
       "      <td>True</td>\n",
       "    </tr>\n",
       "    <tr>\n",
       "      <th>TTTGTCATCTGGCGTG</th>\n",
       "      <td>False</td>\n",
       "      <td>[]</td>\n",
       "      <td>True</td>\n",
       "      <td>True</td>\n",
       "      <td>IGKC</td>\n",
       "      <td>NaN</td>\n",
       "      <td>IGHM</td>\n",
       "      <td>NaN</td>\n",
       "      <td>9572.0</td>\n",
       "      <td>NaN</td>\n",
       "      <td>...</td>\n",
       "      <td>NaN</td>\n",
       "      <td>IGKV1-33</td>\n",
       "      <td>NaN</td>\n",
       "      <td>IGHV1-18</td>\n",
       "      <td>NaN</td>\n",
       "      <td>NaN</td>\n",
       "      <td>NaN</td>\n",
       "      <td>NaN</td>\n",
       "      <td>NaN</td>\n",
       "      <td>True</td>\n",
       "    </tr>\n",
       "  </tbody>\n",
       "</table>\n",
       "<p>8533 rows × 77 columns</p>\n",
       "</div>"
      ],
      "text/plain": [
       "                 multi_chain extra_chains is_cell high_confidence  \\\n",
       "obs_names                                                           \n",
       "AAACCTGAGACACTAA       False           []    True            True   \n",
       "AAACCTGAGCGATAGC       False           []    True            True   \n",
       "AAACCTGAGCGCTCCA       False           []    True            True   \n",
       "AAACCTGAGGCAGTCA       False           []    True            True   \n",
       "AAACCTGAGTGCAAGC       False           []    True            True   \n",
       "...                      ...          ...     ...             ...   \n",
       "TTTGTCATCATGCTCC       False           []    True            True   \n",
       "TTTGTCATCGAGAACG       False           []    True            True   \n",
       "TTTGTCATCGTCTGCT       False           []    True            True   \n",
       "TTTGTCATCTGATTCT       False           []    True            True   \n",
       "TTTGTCATCTGGCGTG       False           []    True            True   \n",
       "\n",
       "                 IR_VJ_1_c_call IR_VJ_2_c_call IR_VDJ_1_c_call  \\\n",
       "obs_names                                                        \n",
       "AAACCTGAGACACTAA          IGLC2            NaN            IGHM   \n",
       "AAACCTGAGCGATAGC          IGLC3            NaN            IGHM   \n",
       "AAACCTGAGCGCTCCA           IGKC            NaN           IGHA1   \n",
       "AAACCTGAGGCAGTCA           IGKC            NaN            IGHM   \n",
       "AAACCTGAGTGCAAGC          IGLC3            NaN           IGHG3   \n",
       "...                         ...            ...             ...   \n",
       "TTTGTCATCATGCTCC           IGKC            NaN            IGHM   \n",
       "TTTGTCATCGAGAACG           IGKC           IGKC            IGHM   \n",
       "TTTGTCATCGTCTGCT           IGKC            NaN           IGHA1   \n",
       "TTTGTCATCTGATTCT          IGLC1            NaN            IGHM   \n",
       "TTTGTCATCTGGCGTG           IGKC            NaN            IGHM   \n",
       "\n",
       "                 IR_VDJ_2_c_call  IR_VJ_1_consensus_count  \\\n",
       "obs_names                                                   \n",
       "AAACCTGAGACACTAA             NaN                   4867.0   \n",
       "AAACCTGAGCGATAGC             NaN                   1660.0   \n",
       "AAACCTGAGCGCTCCA             NaN                   7328.0   \n",
       "AAACCTGAGGCAGTCA             NaN                   7198.0   \n",
       "AAACCTGAGTGCAAGC             NaN                   4793.0   \n",
       "...                          ...                      ...   \n",
       "TTTGTCATCATGCTCC             NaN                   7672.0   \n",
       "TTTGTCATCGAGAACG            IGHM                  11569.0   \n",
       "TTTGTCATCGTCTGCT             NaN                   8443.0   \n",
       "TTTGTCATCTGATTCT             NaN                   2053.0   \n",
       "TTTGTCATCTGGCGTG             NaN                   9572.0   \n",
       "\n",
       "                  IR_VJ_2_consensus_count  ...  IR_VDJ_2_sequence_id  \\\n",
       "obs_names                                  ...                         \n",
       "AAACCTGAGACACTAA                      NaN  ...                   NaN   \n",
       "AAACCTGAGCGATAGC                      NaN  ...                   NaN   \n",
       "AAACCTGAGCGCTCCA                      NaN  ...                   NaN   \n",
       "AAACCTGAGGCAGTCA                      NaN  ...                   NaN   \n",
       "AAACCTGAGTGCAAGC                      NaN  ...                   NaN   \n",
       "...                                   ...  ...                   ...   \n",
       "TTTGTCATCATGCTCC                      NaN  ...                   NaN   \n",
       "TTTGTCATCGAGAACG                   4657.0  ...                   NaN   \n",
       "TTTGTCATCGTCTGCT                      NaN  ...                   NaN   \n",
       "TTTGTCATCTGATTCT                      NaN  ...                   NaN   \n",
       "TTTGTCATCTGGCGTG                      NaN  ...                   NaN   \n",
       "\n",
       "                  IR_VJ_1_v_call IR_VJ_2_v_call IR_VDJ_1_v_call  \\\n",
       "obs_names                                                         \n",
       "AAACCTGAGACACTAA        IGLV1-40            NaN      IGHV4-30-2   \n",
       "AAACCTGAGCGATAGC        IGLV3-25            NaN        IGHV3-30   \n",
       "AAACCTGAGCGCTCCA       IGKV1D-39            NaN         IGHV3-7   \n",
       "AAACCTGAGGCAGTCA        IGKV3-20            NaN        IGHV4-61   \n",
       "AAACCTGAGTGCAAGC        IGLV3-21            NaN        IGHV3-33   \n",
       "...                          ...            ...             ...   \n",
       "TTTGTCATCATGCTCC        IGKV3-11            NaN        IGHV4-34   \n",
       "TTTGTCATCGAGAACG        IGKV3-11       IGKV1-12        IGHV4-34   \n",
       "TTTGTCATCGTCTGCT       IGKV1D-39            NaN        IGHV3-23   \n",
       "TTTGTCATCTGATTCT        IGLV3-21            NaN        IGHV3-21   \n",
       "TTTGTCATCTGGCGTG        IGKV1-33            NaN        IGHV1-18   \n",
       "\n",
       "                 IR_VDJ_2_v_call IR_VJ_1_v_cigar IR_VJ_2_v_cigar  \\\n",
       "obs_names                                                          \n",
       "AAACCTGAGACACTAA             NaN             NaN             NaN   \n",
       "AAACCTGAGCGATAGC             NaN             NaN             NaN   \n",
       "AAACCTGAGCGCTCCA             NaN             NaN             NaN   \n",
       "AAACCTGAGGCAGTCA             NaN             NaN             NaN   \n",
       "AAACCTGAGTGCAAGC             NaN             NaN             NaN   \n",
       "...                          ...             ...             ...   \n",
       "TTTGTCATCATGCTCC             NaN             NaN             NaN   \n",
       "TTTGTCATCGAGAACG        IGHV1-46             NaN             NaN   \n",
       "TTTGTCATCGTCTGCT             NaN             NaN             NaN   \n",
       "TTTGTCATCTGATTCT             NaN             NaN             NaN   \n",
       "TTTGTCATCTGGCGTG             NaN             NaN             NaN   \n",
       "\n",
       "                 IR_VDJ_1_v_cigar IR_VDJ_2_v_cigar has_ir  \n",
       "obs_names                                                  \n",
       "AAACCTGAGACACTAA              NaN              NaN   True  \n",
       "AAACCTGAGCGATAGC              NaN              NaN   True  \n",
       "AAACCTGAGCGCTCCA              NaN              NaN   True  \n",
       "AAACCTGAGGCAGTCA              NaN              NaN   True  \n",
       "AAACCTGAGTGCAAGC              NaN              NaN   True  \n",
       "...                           ...              ...    ...  \n",
       "TTTGTCATCATGCTCC              NaN              NaN   True  \n",
       "TTTGTCATCGAGAACG              NaN              NaN   True  \n",
       "TTTGTCATCGTCTGCT              NaN              NaN   True  \n",
       "TTTGTCATCTGATTCT              NaN              NaN   True  \n",
       "TTTGTCATCTGGCGTG              NaN              NaN   True  \n",
       "\n",
       "[8533 rows x 77 columns]"
      ]
     },
     "execution_count": 176,
     "metadata": {},
     "output_type": "execute_result"
    }
   ],
   "source": [
    "mg03_ir.obs"
   ]
  },
  {
   "cell_type": "code",
   "execution_count": 177,
   "id": "fa14359e",
   "metadata": {},
   "outputs": [
    {
     "data": {
      "text/plain": [
       "Naive B cell                4589\n",
       "Unswitched memory B cell    1347\n",
       "Memory B cell (I)            927\n",
       "Memory B cell (II)           465\n",
       "Pre GC B cell                286\n",
       "Plasmablast                  244\n",
       "Thymic memory B cell         182\n",
       "GC B cell                    151\n",
       "Doublet                        4\n",
       "Name: minor_cluster, dtype: int64"
      ]
     },
     "execution_count": 177,
     "metadata": {},
     "output_type": "execute_result"
    }
   ],
   "source": [
    "adata[adata.obs['has_ir'] == 'True'].obs['minor_cluster'].value_counts()"
   ]
  },
  {
   "cell_type": "code",
   "execution_count": 178,
   "id": "7a880a16",
   "metadata": {},
   "outputs": [],
   "source": [
    "ir.tl.chain_qc(adata)"
   ]
  },
  {
   "cell_type": "code",
   "execution_count": 179,
   "id": "7b7a8d56",
   "metadata": {},
   "outputs": [
    {
     "name": "stderr",
     "output_type": "stream",
     "text": [
      "... storing 'receptor_type' as categorical\n",
      "... storing 'receptor_subtype' as categorical\n",
      "... storing 'chain_pairing' as categorical\n"
     ]
    },
    {
     "data": {
      "text/plain": [
       "<Figure size 412.8x309.6 with 1 Axes>"
      ]
     },
     "metadata": {
      "image/png": {
       "height": 290,
       "width": 529
      }
     },
     "output_type": "display_data"
    }
   ],
   "source": [
    "ax = ir.pl.group_abundance(adata, groupby=\"receptor_subtype\", target_col=\"sample\")"
   ]
  },
  {
   "cell_type": "code",
   "execution_count": 180,
   "id": "7d093db4",
   "metadata": {},
   "outputs": [
    {
     "name": "stderr",
     "output_type": "stream",
     "text": [
      "Computing sequence x sequence distance matrix for VJ sequences.\n"
     ]
    },
    {
     "data": {
      "application/vnd.jupyter.widget-view+json": {
       "model_id": "7ea1be17ff22441a802d04ba00340662",
       "version_major": 2,
       "version_minor": 0
      },
      "text/plain": [
       "  0%|          | 0/2850 [00:00<?, ?it/s]"
      ]
     },
     "metadata": {},
     "output_type": "display_data"
    },
    {
     "name": "stderr",
     "output_type": "stream",
     "text": [
      "Computing sequence x sequence distance matrix for VDJ sequences.\n"
     ]
    },
    {
     "data": {
      "application/vnd.jupyter.widget-view+json": {
       "model_id": "7ecb0f604aa540d6b168345a8943a210",
       "version_major": 2,
       "version_minor": 0
      },
      "text/plain": [
       "  0%|          | 0/14028 [00:00<?, ?it/s]"
      ]
     },
     "metadata": {},
     "output_type": "display_data"
    }
   ],
   "source": [
    "ir.pp.ir_dist(\n",
    "    adata,\n",
    "    metric=\"alignment\",\n",
    "    sequence=\"aa\",\n",
    "    cutoff=15,\n",
    ")"
   ]
  },
  {
   "cell_type": "code",
   "execution_count": 181,
   "id": "29038ab0",
   "metadata": {},
   "outputs": [
    {
     "name": "stderr",
     "output_type": "stream",
     "text": [
      "Initializing lookup tables. \n",
      "--> Done initializing lookup tables. (0:00:00)\n",
      "Computing clonotype x clonotype distances.\n",
      "NB: Computation happens in chunks. The progressbar only advances when a chunk has finished. \n"
     ]
    },
    {
     "data": {
      "application/vnd.jupyter.widget-view+json": {
       "model_id": "9e982717af214d249727ce8a2ebb13eb",
       "version_major": 2,
       "version_minor": 0
      },
      "text/plain": [
       "  0%|          | 0/8068 [00:00<?, ?it/s]"
      ]
     },
     "metadata": {},
     "output_type": "display_data"
    },
    {
     "name": "stderr",
     "output_type": "stream",
     "text": [
      "--> Done computing clonotype x clonotype distances.  (0:00:26)\n",
      "Stored clonal assignments in `adata.obs[\"cc_aa_alignment\"]`.\n"
     ]
    }
   ],
   "source": [
    "ir.tl.define_clonotype_clusters(\n",
    "    adata, sequence=\"aa\", metric=\"alignment\", receptor_arms=\"all\", dual_ir=\"any\"\n",
    ")"
   ]
  },
  {
   "cell_type": "code",
   "execution_count": 182,
   "id": "d17d5eb7",
   "metadata": {},
   "outputs": [],
   "source": [
    "ir.tl.clonotype_network(adata, min_cells=3, sequence=\"aa\", metric=\"alignment\")"
   ]
  },
  {
   "cell_type": "code",
   "execution_count": 183,
   "id": "644b451e",
   "metadata": {},
   "outputs": [
    {
     "name": "stderr",
     "output_type": "stream",
     "text": [
      "... storing 'cc_aa_alignment' as categorical\n"
     ]
    },
    {
     "data": {
      "text/plain": [
       "<AxesSubplot:>"
      ]
     },
     "execution_count": 183,
     "metadata": {},
     "output_type": "execute_result"
    },
    {
     "data": {
      "text/plain": [
       "<Figure size 760x560 with 4 Axes>"
      ]
     },
     "metadata": {
      "image/png": {
       "height": 494,
       "width": 857
      }
     },
     "output_type": "display_data"
    }
   ],
   "source": [
    "ir.pl.clonotype_network(\n",
    "    adata, color=\"minor_cluster\", label_fontsize=9, panel_size=(7, 7), base_size=20\n",
    ")"
   ]
  },
  {
   "cell_type": "code",
   "execution_count": 184,
   "id": "e4eb361e",
   "metadata": {},
   "outputs": [
    {
     "name": "stderr",
     "output_type": "stream",
     "text": [
      "ir_dist for sequence='nt' and metric='identity' not found. Computing with default parameters.\n",
      "Computing sequence x sequence distance matrix for VJ sequences.\n",
      "Computing sequence x sequence distance matrix for VDJ sequences.\n",
      "Initializing lookup tables. \n",
      "--> Done initializing lookup tables. (0:00:00)\n",
      "Computing clonotype x clonotype distances.\n",
      "NB: Computation happens in chunks. The progressbar only advances when a chunk has finished. \n"
     ]
    },
    {
     "data": {
      "application/vnd.jupyter.widget-view+json": {
       "model_id": "b923e29991984d2fa32191e3f4883e45",
       "version_major": 2,
       "version_minor": 0
      },
      "text/plain": [
       "  0%|          | 0/8075 [00:00<?, ?it/s]"
      ]
     },
     "metadata": {},
     "output_type": "display_data"
    },
    {
     "name": "stderr",
     "output_type": "stream",
     "text": [
      "--> Done computing clonotype x clonotype distances.  (0:00:09)\n",
      "Stored clonal assignments in `adata.obs[\"clone_id\"]`.\n",
      "... storing 'clone_id' as categorical\n",
      "... storing 'clonal_expansion' as categorical\n",
      "WARNING: saving figure to file scanpy/210430_merged_thymoma_MG21.22.23.03_Bcell/graph/umap.pdf\n"
     ]
    },
    {
     "data": {
      "text/plain": [
       "<Figure size 320x320 with 1 Axes>"
      ]
     },
     "metadata": {
      "image/png": {
       "height": 282,
       "width": 364
      }
     },
     "output_type": "display_data"
    }
   ],
   "source": [
    "ir.tl.define_clonotypes(adata)\n",
    "ir.tl.clonal_expansion(adata)\n",
    "sc.pl.umap(adata, color=[\"clonal_expansion\"])"
   ]
  },
  {
   "cell_type": "code",
   "execution_count": 185,
   "id": "0c7bd3cf",
   "metadata": {},
   "outputs": [
    {
     "data": {
      "text/plain": [
       "<AxesSubplot:>"
      ]
     },
     "execution_count": 185,
     "metadata": {},
     "output_type": "execute_result"
    },
    {
     "data": {
      "text/plain": [
       "<Figure size 1200x360 with 1 Axes>"
      ]
     },
     "metadata": {
      "image/png": {
       "height": 331,
       "width": 985
      }
     },
     "output_type": "display_data"
    }
   ],
   "source": [
    "ir.pl.clonal_expansion(adata, \"minor_cluster\",figsize=(10,3))"
   ]
  },
  {
   "cell_type": "code",
   "execution_count": 186,
   "id": "d27a8422",
   "metadata": {},
   "outputs": [
    {
     "name": "stderr",
     "output_type": "stream",
     "text": [
      "Trying to set attribute `.uns` of view, copying.\n"
     ]
    },
    {
     "data": {
      "text/plain": [
       "<seaborn.matrix.ClusterGrid at 0x7fd399fca150>"
      ]
     },
     "execution_count": 186,
     "metadata": {},
     "output_type": "execute_result"
    },
    {
     "data": {
      "text/plain": [
       "<Figure size 800x800 with 4 Axes>"
      ]
     },
     "metadata": {
      "image/png": {
       "height": 775,
       "width": 775
      }
     },
     "output_type": "display_data"
    }
   ],
   "source": [
    "adata = adata[~adata.obs['clone_id'].isna()]\n",
    "ir.tl.repertoire_overlap(adata, \"minor_cluster\", inplace=True)\n",
    "ir.pl.repertoire_overlap(adata, \"minor_cluster\")"
   ]
  },
  {
   "cell_type": "code",
   "execution_count": null,
   "id": "47db2cc1",
   "metadata": {},
   "outputs": [],
   "source": []
  },
  {
   "cell_type": "code",
   "execution_count": null,
   "id": "3f0f69e9",
   "metadata": {},
   "outputs": [],
   "source": []
  }
 ],
 "metadata": {
  "kernelspec": {
   "display_name": "scanpy1.7.2",
   "language": "python",
   "name": "scanpy1.7.2"
  },
  "language_info": {
   "codemirror_mode": {
    "name": "ipython",
    "version": 3
   },
   "file_extension": ".py",
   "mimetype": "text/x-python",
   "name": "python",
   "nbconvert_exporter": "python",
   "pygments_lexer": "ipython3",
   "version": "3.7.10"
  }
 },
 "nbformat": 4,
 "nbformat_minor": 5
}
